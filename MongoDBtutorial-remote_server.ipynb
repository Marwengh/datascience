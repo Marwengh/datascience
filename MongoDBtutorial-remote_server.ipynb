{
 "cells": [
  {
   "cell_type": "markdown",
   "metadata": {},
   "source": [
    "# MongoDB with pymongo -- primer"
   ]
  },
  {
   "cell_type": "markdown",
   "metadata": {},
   "source": [
    "The following introduction in several basic commands are highly influenced by the guide found on the official documentary webpage https://docs.mongodb.com/getting-started/python/introduction/"
   ]
  },
  {
   "cell_type": "markdown",
   "metadata": {},
   "source": [
    "After loading the module we connect to a client. Here we use the default local one, localhost:27017. Of course it could be a remote server as well."
   ]
  },
  {
   "cell_type": "code",
   "execution_count": 1,
   "metadata": {
    "collapsed": false
   },
   "outputs": [
    {
     "name": "stdout",
     "output_type": "stream",
     "text": [
      "MongoClient(host=['ds257245.mlab.com:57245'], document_class=dict, tz_aware=False, connect=True)\n"
     ]
    }
   ],
   "source": [
    "from pymongo import MongoClient\n",
    "import urllib, json\n",
    "client = MongoClient('ds257245.mlab.com',57245)\n",
    "\n",
    "print(client)"
   ]
  },
  {
   "cell_type": "markdown",
   "metadata": {},
   "source": [
    "Next we use pymongo to assign a database (groups of collections) called 'tutorial'."
   ]
  },
  {
   "cell_type": "code",
   "execution_count": 2,
   "metadata": {
    "collapsed": false
   },
   "outputs": [
    {
     "name": "stdout",
     "output_type": "stream",
     "text": [
      "Database(MongoClient(host=['ds257245.mlab.com:57245'], document_class=dict, tz_aware=False, connect=True), 'test3')\n"
     ]
    }
   ],
   "source": [
    "#db = client.test # attribute style\n",
    "db = client ['']\n",
    "db.authenticate('', '')\n",
    "print(db)"
   ]
  },
  {
   "cell_type": "markdown",
   "metadata": {},
   "source": [
    "Next we construct a collection (which corresponds to tables in relational databases, groups of documents) in the database."
   ]
  },
  {
   "cell_type": "code",
   "execution_count": 4,
   "metadata": {
    "collapsed": false
   },
   "outputs": [
    {
     "name": "stdout",
     "output_type": "stream",
     "text": [
      "Collection(Database(MongoClient(host=['ds257245.mlab.com:57245'], document_class=dict, tz_aware=False, connect=True), 'test3'), 'test3')\n"
     ]
    }
   ],
   "source": [
    "#coll = db.dataset # attribute style\n",
    "coll = db['test3'] # dictionary style\n",
    "print(coll)"
   ]
  },
  {
   "cell_type": "markdown",
   "metadata": {},
   "source": [
    "Remark: if the database doesn't exist already, MongoDB creates it automatically."
   ]
  },
  {
   "cell_type": "markdown",
   "metadata": {},
   "source": [
    "# Queries"
   ]
  },
  {
   "cell_type": "markdown",
   "metadata": {},
   "source": [
    "Now we have the collection with specifier restaurants in our database. We can send some queries using pymongo and the method find(). It returns results in a cursor. find() without arguments returns all documents in the collection. We can specify some argument if we are interested in just particular documents/restaurants. Let's say we want to have all steak houses in NYC"
   ]
  },
  {
   "cell_type": "code",
   "execution_count": 5,
   "metadata": {
    "collapsed": false
   },
   "outputs": [
    {
     "name": "stdout",
     "output_type": "stream",
     "text": [
      "{'cuisine': 'Steak', '_id': ObjectId('5a04e8af81318b19b44f0e03')}\n",
      "{'cuisine': 'Steak', '_id': ObjectId('5a04e8b981318b19b44f0e04')}\n",
      "{'borough': 'Brooklyn', 'address': {'building': '178', 'street': 'Broadway', 'coord': [-73.96252129999999, 40.7098035], 'zipcode': '11211'}, 'grades': [{'grade': 'A', 'date': datetime.datetime(2014, 3, 8, 0, 0), 'score': 12}, {'grade': 'A', 'date': datetime.datetime(2013, 9, 28, 0, 0), 'score': 10}, {'grade': 'A', 'date': datetime.datetime(2013, 3, 26, 0, 0), 'score': 3}, {'grade': 'A', 'date': datetime.datetime(2012, 9, 10, 0, 0), 'score': 12}, {'grade': 'A', 'date': datetime.datetime(2011, 8, 15, 0, 0), 'score': 13}], '_id': ObjectId('5a04ecc32a4a84fb56330d10'), 'cuisine': 'Steak', 'name': 'Peter Luger Steakhouse', 'restaurant_id': '40364335'}\n",
      "{'borough': 'Manhattan', 'address': {'building': '845', 'street': 'Lexington Avenue', 'coord': [-73.965531, 40.765431], 'zipcode': '10065'}, 'grades': [{'grade': 'A', 'date': datetime.datetime(2014, 3, 26, 0, 0), 'score': 12}, {'grade': 'A', 'date': datetime.datetime(2013, 3, 21, 0, 0), 'score': 8}, {'grade': 'A', 'date': datetime.datetime(2012, 10, 18, 0, 0), 'score': 9}, {'grade': 'A', 'date': datetime.datetime(2012, 5, 7, 0, 0), 'score': 3}, {'grade': 'A', 'date': datetime.datetime(2011, 5, 17, 0, 0), 'score': 5}], '_id': ObjectId('5a04ecc32a4a84fb56330d1e'), 'cuisine': 'Steak', 'name': \"Donohue'S Steak House\", 'restaurant_id': '40364572'}\n",
      "{'borough': 'Manhattan', 'address': {'building': '155157', 'street': 'Christie St.', 'coord': [153.1628795, -28.0168595], 'zipcode': '10002'}, 'grades': [{'grade': 'A', 'date': datetime.datetime(2014, 11, 12, 0, 0), 'score': 12}, {'grade': 'A', 'date': datetime.datetime(2013, 9, 24, 0, 0), 'score': 7}, {'grade': 'B', 'date': datetime.datetime(2013, 4, 12, 0, 0), 'score': 26}, {'grade': 'A', 'date': datetime.datetime(2012, 9, 21, 0, 0), 'score': 5}, {'grade': 'A', 'date': datetime.datetime(2012, 4, 10, 0, 0), 'score': 2}], '_id': ObjectId('5a04ecc32a4a84fb56330dc9'), 'cuisine': 'Steak', 'name': \"Sammy'S Steakhouse\", 'restaurant_id': '40368552'}\n",
      "{'borough': 'Manhattan', 'address': {'building': '210', 'street': 'East   46 Street', 'coord': [-73.97212999999999, 40.7528838], 'zipcode': '10017'}, 'grades': [{'grade': 'A', 'date': datetime.datetime(2014, 3, 17, 0, 0), 'score': 9}, {'grade': 'A', 'date': datetime.datetime(2013, 9, 26, 0, 0), 'score': 12}, {'grade': 'A', 'date': datetime.datetime(2013, 4, 1, 0, 0), 'score': 12}, {'grade': 'A', 'date': datetime.datetime(2011, 12, 29, 0, 0), 'score': 10}], '_id': ObjectId('5a04ecc32a4a84fb56330dfa'), 'cuisine': 'Steak', 'name': 'Sparks Steak House', 'restaurant_id': '40369958'}\n",
      "{'borough': 'Manhattan', 'address': {'building': '72', 'street': 'West   36 Street', 'coord': [-73.98646339999999, 40.7507174], 'zipcode': '10018'}, 'grades': [{'grade': 'Z', 'date': datetime.datetime(2015, 1, 15, 0, 0), 'score': 19}, {'grade': 'A', 'date': datetime.datetime(2014, 7, 31, 0, 0), 'score': 10}, {'grade': 'A', 'date': datetime.datetime(2013, 6, 10, 0, 0), 'score': 12}, {'grade': 'A', 'date': datetime.datetime(2012, 6, 21, 0, 0), 'score': 13}], '_id': ObjectId('5a04ecc32a4a84fb56330e4a'), 'cuisine': 'Steak', 'name': 'Keens Steakhouse', 'restaurant_id': '40373656'}\n",
      "{'borough': 'Manhattan', 'address': {'building': '269', 'street': 'West 45 Street', 'coord': [-73.9880305, 40.7591348], 'zipcode': '10036'}, 'grades': [{'grade': 'A', 'date': datetime.datetime(2014, 6, 28, 0, 0), 'score': 12}, {'grade': 'A', 'date': datetime.datetime(2014, 1, 11, 0, 0), 'score': 10}, {'grade': 'A', 'date': datetime.datetime(2013, 6, 8, 0, 0), 'score': 8}, {'grade': 'A', 'date': datetime.datetime(2012, 4, 3, 0, 0), 'score': 9}, {'grade': 'A', 'date': datetime.datetime(2011, 9, 29, 0, 0), 'score': 12}], '_id': ObjectId('5a04ecc32a4a84fb56330f18'), 'cuisine': 'Steak', 'name': 'Frankie & Johnnies Steakhouse', 'restaurant_id': '40384421'}\n",
      "{'borough': 'Brooklyn', 'address': {'building': '9404', 'street': 'Fourth Avenue', 'coord': [-74.031194, 40.616655], 'zipcode': '11209'}, 'grades': [{'grade': 'A', 'date': datetime.datetime(2014, 11, 6, 0, 0), 'score': 11}, {'grade': 'A', 'date': datetime.datetime(2014, 4, 16, 0, 0), 'score': 7}, {'grade': 'A', 'date': datetime.datetime(2013, 8, 22, 0, 0), 'score': 9}, {'grade': 'A', 'date': datetime.datetime(2013, 2, 12, 0, 0), 'score': 13}, {'grade': 'A', 'date': datetime.datetime(2012, 6, 29, 0, 0), 'score': 9}, {'grade': 'A', 'date': datetime.datetime(2012, 1, 10, 0, 0), 'score': 10}], '_id': ObjectId('5a04ecc32a4a84fb56330f4c'), 'cuisine': 'Steak', 'name': \"Hunter'S Steak & Ale House\", 'restaurant_id': '40385885'}\n",
      "{'borough': 'Queens', 'address': {'building': '47-02', 'street': 'Greenpoint Avenue', 'coord': [-73.9177601, 40.7423593], 'zipcode': '11104'}, 'grades': [{'grade': 'A', 'date': datetime.datetime(2014, 8, 27, 0, 0), 'score': 12}, {'grade': 'A', 'date': datetime.datetime(2013, 12, 14, 0, 0), 'score': 12}, {'grade': 'A', 'date': datetime.datetime(2013, 5, 15, 0, 0), 'score': 12}, {'grade': 'A', 'date': datetime.datetime(2012, 4, 10, 0, 0), 'score': 11}, {'grade': 'A', 'date': datetime.datetime(2011, 11, 30, 0, 0), 'score': 10}], '_id': ObjectId('5a04ecc32a4a84fb56330fb6'), 'cuisine': 'Steak', 'name': 'Bliss Street Station Restaurant', 'restaurant_id': '40389601'}\n",
      "{'borough': 'Brooklyn', 'address': {'building': '8812', 'street': '4 Avenue', 'coord': [-74.029381, 40.621086], 'zipcode': '11209'}, 'grades': [{'grade': 'A', 'date': datetime.datetime(2014, 4, 23, 0, 0), 'score': 12}, {'grade': 'A', 'date': datetime.datetime(2013, 9, 6, 0, 0), 'score': 12}, {'grade': 'C', 'date': datetime.datetime(2013, 4, 11, 0, 0), 'score': 4}, {'grade': 'A', 'date': datetime.datetime(2011, 10, 27, 0, 0), 'score': 7}, {'grade': 'A', 'date': datetime.datetime(2011, 5, 6, 0, 0), 'score': 7}], '_id': ObjectId('5a04ecc42a4a84fb563310f4'), 'cuisine': 'Steak', 'name': 'Arirang Hibachi Steakhouse', 'restaurant_id': '40397335'}\n",
      "{'borough': 'Manhattan', 'address': {'building': '1278', 'street': '3 Avenue', 'coord': [-73.9600923, 40.7707731], 'zipcode': '10021'}, 'grades': [{'grade': 'A', 'date': datetime.datetime(2014, 5, 21, 0, 0), 'score': 12}, {'grade': 'A', 'date': datetime.datetime(2013, 12, 10, 0, 0), 'score': 8}, {'grade': 'A', 'date': datetime.datetime(2013, 5, 16, 0, 0), 'score': 9}, {'grade': 'A', 'date': datetime.datetime(2012, 8, 16, 0, 0), 'score': 12}, {'grade': 'A', 'date': datetime.datetime(2012, 1, 26, 0, 0), 'score': 5}, {'grade': 'A', 'date': datetime.datetime(2011, 8, 30, 0, 0), 'score': 9}], '_id': ObjectId('5a04ecc42a4a84fb56331199'), 'cuisine': 'Steak', 'name': 'T-Bar Steak & Lounge', 'restaurant_id': '40400657'}\n",
      "{'borough': 'Manhattan', 'address': {'building': '230', 'street': 'Park Avenue', 'coord': [-73.9758568, 40.7544956], 'zipcode': '10017'}, 'grades': [{'grade': 'A', 'date': datetime.datetime(2015, 1, 6, 0, 0), 'score': 8}, {'grade': 'A', 'date': datetime.datetime(2014, 7, 28, 0, 0), 'score': 9}, {'grade': 'A', 'date': datetime.datetime(2013, 7, 1, 0, 0), 'score': 9}, {'grade': 'A', 'date': datetime.datetime(2012, 7, 17, 0, 0), 'score': 3}, {'grade': 'A', 'date': datetime.datetime(2012, 3, 12, 0, 0), 'score': 5}], '_id': ObjectId('5a04ecc42a4a84fb56331309'), 'cuisine': 'Steak', 'name': \"Bobby Van'S\", 'restaurant_id': '40528180'}\n",
      "{'borough': 'Manhattan', 'address': {'building': '57', 'street': 'West   58 Street', 'coord': [-73.9761815, 40.7649625], 'zipcode': '10019'}, 'grades': [{'grade': 'A', 'date': datetime.datetime(2014, 7, 22, 0, 0), 'score': 13}, {'grade': 'A', 'date': datetime.datetime(2014, 2, 19, 0, 0), 'score': 4}, {'grade': 'A', 'date': datetime.datetime(2013, 8, 19, 0, 0), 'score': 6}, {'grade': 'A', 'date': datetime.datetime(2012, 7, 17, 0, 0), 'score': 8}, {'grade': 'A', 'date': datetime.datetime(2011, 8, 9, 0, 0), 'score': 13}], '_id': ObjectId('5a04ecc42a4a84fb563313e7'), 'cuisine': 'Steak', 'name': 'Quality Meats', 'restaurant_id': '40559892'}\n",
      "{'borough': 'Manhattan', 'address': {'building': '23', 'street': 'Vanderbilt Avenue', 'coord': [-73.9778412, 40.7531292], 'zipcode': '10017'}, 'grades': [{'grade': 'A', 'date': datetime.datetime(2014, 6, 2, 0, 0), 'score': 11}, {'grade': 'A', 'date': datetime.datetime(2013, 6, 3, 0, 0), 'score': 12}, {'grade': 'A', 'date': datetime.datetime(2012, 10, 24, 0, 0), 'score': 13}, {'grade': 'A', 'date': datetime.datetime(2012, 4, 12, 0, 0), 'score': 8}], '_id': ObjectId('5a04ecc42a4a84fb56331590'), 'cuisine': 'Steak', 'name': \"Michael Jordan'S Steak House - In Grand Central\", 'restaurant_id': '40610326'}\n",
      "{'borough': 'Bronx', 'address': {'building': '5700', 'street': 'Riverdale Avenue', 'coord': [-73.9038784, 40.9067255], 'zipcode': '10471'}, 'grades': [{'grade': 'A', 'date': datetime.datetime(2014, 4, 15, 0, 0), 'score': 10}, {'grade': 'B', 'date': datetime.datetime(2013, 8, 22, 0, 0), 'score': 15}, {'grade': 'A', 'date': datetime.datetime(2012, 8, 8, 0, 0), 'score': 13}, {'grade': 'A', 'date': datetime.datetime(2012, 3, 29, 0, 0), 'score': 10}, {'grade': 'A', 'date': datetime.datetime(2011, 11, 9, 0, 0), 'score': 12}, {'grade': 'B', 'date': datetime.datetime(2011, 7, 2, 0, 0), 'score': 22}], '_id': ObjectId('5a04ecc42a4a84fb56331641'), 'cuisine': 'Steak', 'name': 'Riverdale Steak House', 'restaurant_id': '40656594'}\n",
      "{'borough': 'Queens', 'address': {'building': '89-08', 'street': 'Queens Boulevard', 'coord': [-73.8746279, 40.7343944], 'zipcode': '11373'}, 'grades': [{'grade': 'A', 'date': datetime.datetime(2014, 12, 10, 0, 0), 'score': 13}, {'grade': 'A', 'date': datetime.datetime(2014, 6, 15, 0, 0), 'score': 12}, {'grade': 'A', 'date': datetime.datetime(2013, 12, 23, 0, 0), 'score': 10}, {'grade': 'A', 'date': datetime.datetime(2013, 6, 27, 0, 0), 'score': 12}, {'grade': 'B', 'date': datetime.datetime(2012, 8, 29, 0, 0), 'score': 16}], '_id': ObjectId('5a04ecc42a4a84fb5633167c'), 'cuisine': 'Steak', 'name': \"My Uncle'S Steak Restaurant\", 'restaurant_id': '40666626'}\n",
      "{'borough': 'Manhattan', 'address': {'building': '10', 'street': 'East   48 Street', 'coord': [-73.9773755, 40.7568284], 'zipcode': '10017'}, 'grades': [{'grade': 'A', 'date': datetime.datetime(2014, 12, 16, 0, 0), 'score': 12}, {'grade': 'B', 'date': datetime.datetime(2014, 6, 16, 0, 0), 'score': 18}, {'grade': 'A', 'date': datetime.datetime(2013, 10, 8, 0, 0), 'score': 13}, {'grade': 'A', 'date': datetime.datetime(2013, 2, 20, 0, 0), 'score': 11}, {'grade': 'A', 'date': datetime.datetime(2012, 4, 30, 0, 0), 'score': 12}], '_id': ObjectId('5a04ecc42a4a84fb56331685'), 'cuisine': 'Steak', 'name': 'Wolf And Lamb', 'restaurant_id': '40668380'}\n",
      "{'borough': 'Manhattan', 'address': {'building': '1221', 'street': 'Avenue Of The Americas', 'coord': [-73.98173, 40.7592574], 'zipcode': '10020'}, 'grades': [{'grade': 'A', 'date': datetime.datetime(2014, 2, 7, 0, 0), 'score': 12}, {'grade': 'A', 'date': datetime.datetime(2013, 6, 17, 0, 0), 'score': 2}, {'grade': 'A', 'date': datetime.datetime(2012, 11, 29, 0, 0), 'score': 11}, {'grade': 'A', 'date': datetime.datetime(2012, 4, 25, 0, 0), 'score': 2}, {'grade': 'A', 'date': datetime.datetime(2011, 11, 28, 0, 0), 'score': 7}], '_id': ObjectId('5a04ecc42a4a84fb563316cf'), 'cuisine': 'Steak', 'name': \"Del Frisco'S\", 'restaurant_id': '40685858'}\n",
      "{'borough': 'Manhattan', 'address': {'building': '250', 'street': 'West   50 Street', 'coord': [-73.985676, 40.7619857], 'zipcode': '10019'}, 'grades': [{'grade': 'A', 'date': datetime.datetime(2014, 6, 4, 0, 0), 'score': 9}, {'grade': 'A', 'date': datetime.datetime(2013, 6, 6, 0, 0), 'score': 12}, {'grade': 'A', 'date': datetime.datetime(2013, 1, 9, 0, 0), 'score': 7}, {'grade': 'A', 'date': datetime.datetime(2012, 6, 18, 0, 0), 'score': 8}, {'grade': 'A', 'date': datetime.datetime(2012, 1, 26, 0, 0), 'score': 9}], '_id': ObjectId('5a04ecc42a4a84fb56331725'), 'cuisine': 'Steak', 'name': 'Palm Restaurant', 'restaurant_id': '40703714'}\n",
      "{'borough': 'Manhattan', 'address': {'building': '378', 'street': 'Park Avenue South', 'coord': [-73.9848365, 40.742659], 'zipcode': '10010'}, 'grades': [{'grade': 'A', 'date': datetime.datetime(2014, 1, 21, 0, 0), 'score': 7}, {'grade': 'A', 'date': datetime.datetime(2013, 7, 8, 0, 0), 'score': 13}, {'grade': 'A', 'date': datetime.datetime(2012, 5, 7, 0, 0), 'score': 12}, {'grade': 'A', 'date': datetime.datetime(2011, 12, 21, 0, 0), 'score': 9}], '_id': ObjectId('5a04ecc42a4a84fb563317c6'), 'cuisine': 'Steak', 'name': 'Hillstone Manhattan', 'restaurant_id': '40726517'}\n",
      "{'borough': 'Bronx', 'address': {'building': '6031', 'street': 'Broadway', 'coord': [-73.8976916, 40.8916991], 'zipcode': '10471'}, 'grades': [{'grade': 'A', 'date': datetime.datetime(2014, 12, 16, 0, 0), 'score': 11}, {'grade': 'A', 'date': datetime.datetime(2013, 10, 24, 0, 0), 'score': 12}, {'grade': 'A', 'date': datetime.datetime(2013, 5, 29, 0, 0), 'score': 12}, {'grade': 'A', 'date': datetime.datetime(2012, 10, 16, 0, 0), 'score': 10}], '_id': ObjectId('5a04ecc52a4a84fb563319bd'), 'cuisine': 'Steak', 'name': \"Jake'S Steakhouse\", 'restaurant_id': '40819558'}\n",
      "{'borough': 'Manhattan', 'address': {'building': '148', 'street': 'West   51 Street', 'coord': [-73.9822418, 40.7612824], 'zipcode': '10019'}, 'grades': [{'grade': 'A', 'date': datetime.datetime(2014, 11, 26, 0, 0), 'score': 5}, {'grade': 'A', 'date': datetime.datetime(2013, 11, 18, 0, 0), 'score': 5}, {'grade': 'A', 'date': datetime.datetime(2013, 6, 5, 0, 0), 'score': 2}, {'grade': 'A', 'date': datetime.datetime(2012, 4, 5, 0, 0), 'score': 12}], '_id': ObjectId('5a04ecc52a4a84fb56331b82'), 'cuisine': 'Steak', 'name': \"Ruth'S Chris Steak House\", 'restaurant_id': '40894838'}\n",
      "{'borough': 'Manhattan', 'address': {'building': '32', 'street': 'West   37 Street', 'coord': [-73.984917, 40.7508297], 'zipcode': '10018'}, 'grades': [{'grade': 'A', 'date': datetime.datetime(2014, 11, 20, 0, 0), 'score': 9}, {'grade': 'A', 'date': datetime.datetime(2013, 11, 26, 0, 0), 'score': 5}, {'grade': 'A', 'date': datetime.datetime(2012, 11, 15, 0, 0), 'score': 6}, {'grade': 'A', 'date': datetime.datetime(2012, 3, 12, 0, 0), 'score': 9}], '_id': ObjectId('5a04ecc52a4a84fb56331c63'), 'cuisine': 'Steak', 'name': \"Frankie & Johnnie'S Steakhouse\", 'restaurant_id': '40931929'}\n",
      "{'borough': 'Manhattan', 'address': {'building': '9', 'street': 'Penn Plaza', 'coord': [-73.9932303, 40.75105970000001], 'zipcode': '10001'}, 'grades': [{'grade': 'A', 'date': datetime.datetime(2014, 5, 13, 0, 0), 'score': 9}, {'grade': 'A', 'date': datetime.datetime(2013, 5, 6, 0, 0), 'score': 11}, {'grade': 'A', 'date': datetime.datetime(2011, 11, 7, 0, 0), 'score': 9}], '_id': ObjectId('5a04ecc52a4a84fb56331cef'), 'cuisine': 'Steak', 'name': \"Nick & Stef'S Steakhouse\", 'restaurant_id': '40946369'}\n",
      "{'borough': 'Manhattan', 'address': {'building': '131', 'street': 'East 54 Street', 'coord': [-73.97094899999999, 40.759345], 'zipcode': '10022'}, 'grades': [{'grade': 'A', 'date': datetime.datetime(2014, 8, 6, 0, 0), 'score': 12}, {'grade': 'C', 'date': datetime.datetime(2013, 11, 12, 0, 0), 'score': 49}, {'grade': 'A', 'date': datetime.datetime(2012, 10, 22, 0, 0), 'score': 12}], '_id': ObjectId('5a04ecc52a4a84fb56331dd7'), 'cuisine': 'Steak', 'name': \"Bobby Van'S Steakhouse\", 'restaurant_id': '40977865'}\n",
      "{'borough': 'Manhattan', 'address': {'building': '668', 'street': 'Amsterdam Avenue', 'coord': [-73.9721594, 40.7920758], 'zipcode': '10025'}, 'grades': [{'grade': 'A', 'date': datetime.datetime(2014, 11, 26, 0, 0), 'score': 12}, {'grade': 'A', 'date': datetime.datetime(2014, 4, 9, 0, 0), 'score': 8}, {'grade': 'B', 'date': datetime.datetime(2013, 6, 11, 0, 0), 'score': 16}, {'grade': 'A', 'date': datetime.datetime(2012, 5, 14, 0, 0), 'score': 10}, {'grade': 'A', 'date': datetime.datetime(2011, 12, 8, 0, 0), 'score': 9}], '_id': ObjectId('5a04ecc52a4a84fb56331dda'), 'cuisine': 'Steak', 'name': \"Talia'S Steakhouse\", 'restaurant_id': '40978252'}\n",
      "{'borough': 'Manhattan', 'address': {'building': '440', 'street': '9 Avenue', 'coord': [-73.99548290000001, 40.753666], 'zipcode': '10001'}, 'grades': [{'grade': 'A', 'date': datetime.datetime(2014, 7, 22, 0, 0), 'score': 11}, {'grade': 'A', 'date': datetime.datetime(2013, 7, 30, 0, 0), 'score': 13}, {'grade': 'A', 'date': datetime.datetime(2013, 2, 13, 0, 0), 'score': 2}, {'grade': 'A', 'date': datetime.datetime(2011, 12, 12, 0, 0), 'score': 8}], '_id': ObjectId('5a04ecc52a4a84fb56331e44'), 'cuisine': 'Steak', 'name': \"Uncle Jack'S Steakhouse\", 'restaurant_id': '40991835'}\n",
      "{'borough': 'Manhattan', 'address': {'building': '4', 'street': 'Park Avenue', 'coord': [-73.9820939, 40.7467444], 'zipcode': '10016'}, 'grades': [{'grade': 'A', 'date': datetime.datetime(2014, 6, 5, 0, 0), 'score': 7}, {'grade': 'A', 'date': datetime.datetime(2013, 6, 10, 0, 0), 'score': 2}, {'grade': 'A', 'date': datetime.datetime(2012, 6, 27, 0, 0), 'score': 9}, {'grade': 'A', 'date': datetime.datetime(2012, 2, 8, 0, 0), 'score': 10}, {'grade': 'B', 'date': datetime.datetime(2011, 6, 16, 0, 0), 'score': 16}], '_id': ObjectId('5a04ecc52a4a84fb56331ea2'), 'cuisine': 'Steak', 'name': \"Wolfgang'S Steak House\", 'restaurant_id': '41001087'}\n",
      "{'borough': 'Manhattan', 'address': {'building': '1285', 'street': 'Avenue Of The Americas', 'coord': [-73.9802208, 40.760996], 'zipcode': '10019'}, 'grades': [{'grade': 'A', 'date': datetime.datetime(2015, 1, 16, 0, 0), 'score': 11}, {'grade': 'A', 'date': datetime.datetime(2014, 1, 14, 0, 0), 'score': 13}, {'grade': 'A', 'date': datetime.datetime(2013, 6, 11, 0, 0), 'score': 10}, {'grade': 'B', 'date': datetime.datetime(2012, 10, 2, 0, 0), 'score': 23}, {'grade': 'A', 'date': datetime.datetime(2012, 3, 9, 0, 0), 'score': 12}], '_id': ObjectId('5a04ecc52a4a84fb56331f94'), 'cuisine': 'Steak', 'name': \"Mastro'S Steakhouse\", 'restaurant_id': '41022144'}\n",
      "{'borough': 'Manhattan', 'address': {'building': '2145', 'street': '2 Avenue', 'coord': [-73.940676, 40.793522], 'zipcode': '10029'}, 'grades': [{'grade': 'A', 'date': datetime.datetime(2014, 9, 9, 0, 0), 'score': 10}, {'grade': 'A', 'date': datetime.datetime(2014, 3, 12, 0, 0), 'score': 11}, {'grade': 'A', 'date': datetime.datetime(2013, 8, 2, 0, 0), 'score': 12}, {'grade': 'P', 'date': datetime.datetime(2013, 6, 21, 0, 0), 'score': 2}, {'grade': 'A', 'date': datetime.datetime(2013, 1, 3, 0, 0), 'score': 12}, {'grade': 'A', 'date': datetime.datetime(2012, 2, 28, 0, 0), 'score': 12}], '_id': ObjectId('5a04ecc52a4a84fb56331fbe'), 'cuisine': 'Steak', 'name': 'Ricardo Steak House', 'restaurant_id': '41026458'}\n",
      "{'borough': 'Manhattan', 'address': {'building': '155', 'street': 'East   42 Street', 'coord': [-73.9747229, 40.751244], 'zipcode': '10017'}, 'grades': [{'grade': 'A', 'date': datetime.datetime(2014, 4, 21, 0, 0), 'score': 6}, {'grade': 'A', 'date': datetime.datetime(2013, 9, 5, 0, 0), 'score': 11}, {'grade': 'A', 'date': datetime.datetime(2013, 1, 29, 0, 0), 'score': 10}, {'grade': 'A', 'date': datetime.datetime(2012, 6, 25, 0, 0), 'score': 4}, {'grade': 'A', 'date': datetime.datetime(2011, 10, 20, 0, 0), 'score': 11}], '_id': ObjectId('5a04ecc62a4a84fb56332068'), 'cuisine': 'Steak', 'name': 'Capital Grille', 'restaurant_id': '41046726'}\n",
      "{'borough': 'Queens', 'address': {'building': '268', 'street': 'Beach  116 Street', 'coord': [-73.8376928, 40.581304], 'zipcode': '11694'}, 'grades': [{'grade': 'A', 'date': datetime.datetime(2014, 8, 26, 0, 0), 'score': 12}, {'grade': 'A', 'date': datetime.datetime(2014, 1, 21, 0, 0), 'score': 13}, {'grade': 'A', 'date': datetime.datetime(2013, 5, 16, 0, 0), 'score': 7}, {'grade': 'A', 'date': datetime.datetime(2012, 3, 17, 0, 0), 'score': 9}, {'grade': 'A', 'date': datetime.datetime(2011, 11, 9, 0, 0), 'score': 9}], '_id': ObjectId('5a04ecc62a4a84fb56332075'), 'cuisine': 'Steak', 'name': 'Belle Harbor Steakhouse', 'restaurant_id': '41049500'}\n",
      "{'borough': 'Manhattan', 'address': {'building': '154', 'street': 'West   45 Street', 'coord': [-73.9847446, 40.7575195], 'zipcode': '10036'}, 'grades': [{'grade': 'A', 'date': datetime.datetime(2014, 11, 21, 0, 0), 'score': 5}, {'grade': 'A', 'date': datetime.datetime(2013, 10, 17, 0, 0), 'score': 6}, {'grade': 'A', 'date': datetime.datetime(2013, 5, 24, 0, 0), 'score': 5}, {'grade': 'A', 'date': datetime.datetime(2012, 5, 16, 0, 0), 'score': 12}, {'grade': 'A', 'date': datetime.datetime(2012, 1, 10, 0, 0), 'score': 7}], '_id': ObjectId('5a04ecc62a4a84fb56332090'), 'cuisine': 'Steak', 'name': 'Bond 45 Italian Kitchen Steak & Seafood', 'restaurant_id': '41053879'}\n",
      "{'borough': 'Manhattan', 'address': {'building': '15', 'street': 'Stone Street', 'coord': [-74.01209399999999, 40.704208], 'zipcode': '10004'}, 'grades': [{'grade': 'A', 'date': datetime.datetime(2014, 6, 11, 0, 0), 'score': 11}, {'grade': 'A', 'date': datetime.datetime(2013, 11, 21, 0, 0), 'score': 7}, {'grade': 'A', 'date': datetime.datetime(2013, 4, 25, 0, 0), 'score': 12}, {'grade': 'A', 'date': datetime.datetime(2012, 10, 25, 0, 0), 'score': 10}, {'grade': 'B', 'date': datetime.datetime(2012, 3, 7, 0, 0), 'score': 19}, {'grade': 'A', 'date': datetime.datetime(2011, 8, 10, 0, 0), 'score': 0}, {'grade': 'P', 'date': datetime.datetime(2011, 6, 17, 0, 0), 'score': 5}], '_id': ObjectId('5a04ecc62a4a84fb56332322'), 'cuisine': 'Steak', 'name': 'Nebraska Steakhouse', 'restaurant_id': '41124964'}\n",
      "{'borough': 'Manhattan', 'address': {'building': '25', 'street': 'Broad Street', 'coord': [-74.0111372, 40.7060887], 'zipcode': '10004'}, 'grades': [{'grade': 'A', 'date': datetime.datetime(2014, 8, 18, 0, 0), 'score': 12}, {'grade': 'B', 'date': datetime.datetime(2014, 3, 21, 0, 0), 'score': 22}, {'grade': 'B', 'date': datetime.datetime(2013, 8, 5, 0, 0), 'score': 17}, {'grade': 'A', 'date': datetime.datetime(2012, 6, 5, 0, 0), 'score': 12}, {'grade': 'A', 'date': datetime.datetime(2011, 11, 21, 0, 0), 'score': 9}], '_id': ObjectId('5a04ecc62a4a84fb563323c5'), 'cuisine': 'Steak', 'name': \"Bobby Van'S Steakhouse\", 'restaurant_id': '41143605'}\n",
      "{'borough': 'Manhattan', 'address': {'building': '104', 'street': 'East   57 Street', 'coord': [-73.9706034, 40.7613519], 'zipcode': '10022'}, 'grades': [{'grade': 'A', 'date': datetime.datetime(2014, 11, 22, 0, 0), 'score': 11}, {'grade': 'A', 'date': datetime.datetime(2014, 6, 17, 0, 0), 'score': 7}, {'grade': 'A', 'date': datetime.datetime(2013, 9, 12, 0, 0), 'score': 4}, {'grade': 'A', 'date': datetime.datetime(2012, 8, 7, 0, 0), 'score': 11}], '_id': ObjectId('5a04ecc72a4a84fb563324d4'), 'cuisine': 'Steak', 'name': 'Blt Steak', 'restaurant_id': '41165361'}\n",
      "{'borough': 'Manhattan', 'address': {'building': '409', 'street': 'Greenwich Street', 'coord': [-74.0096645, 40.72125190000001], 'zipcode': '10013'}, 'grades': [{'grade': 'A', 'date': datetime.datetime(2014, 6, 11, 0, 0), 'score': 2}, {'grade': 'A', 'date': datetime.datetime(2013, 12, 18, 0, 0), 'score': 13}, {'grade': 'A', 'date': datetime.datetime(2013, 5, 29, 0, 0), 'score': 13}, {'grade': 'A', 'date': datetime.datetime(2011, 12, 27, 0, 0), 'score': 7}, {'grade': 'A', 'date': datetime.datetime(2011, 9, 19, 0, 0), 'score': 2}], '_id': ObjectId('5a04ecc72a4a84fb5633258c'), 'cuisine': 'Steak', 'name': \"Wolfgang'S Steakhouse\", 'restaurant_id': '41180080'}\n",
      "{'borough': 'Manhattan', 'address': {'building': '315', 'street': 'West 36 Street', 'coord': [-73.9934102, 40.75405809999999], 'zipcode': '10018'}, 'grades': [{'grade': 'A', 'date': datetime.datetime(2014, 3, 15, 0, 0), 'score': 9}, {'grade': 'A', 'date': datetime.datetime(2013, 9, 23, 0, 0), 'score': 5}, {'grade': 'A', 'date': datetime.datetime(2013, 3, 11, 0, 0), 'score': 7}, {'grade': 'A', 'date': datetime.datetime(2012, 1, 17, 0, 0), 'score': 7}], '_id': ObjectId('5a04ecc72a4a84fb563325e1'), 'cuisine': 'Steak', 'name': 'Staghorn Steakhouse', 'restaurant_id': '41187546'}\n",
      "{'borough': 'Brooklyn', 'address': {'building': '2402', 'street': '86 Street', 'coord': [-73.9892847, 40.5988445], 'zipcode': '11214'}, 'grades': [{'grade': 'A', 'date': datetime.datetime(2014, 10, 20, 0, 0), 'score': 7}, {'grade': 'B', 'date': datetime.datetime(2014, 3, 26, 0, 0), 'score': 15}, {'grade': 'A', 'date': datetime.datetime(2013, 9, 26, 0, 0), 'score': 10}, {'grade': 'A', 'date': datetime.datetime(2013, 3, 29, 0, 0), 'score': 5}, {'grade': 'A', 'date': datetime.datetime(2012, 4, 9, 0, 0), 'score': 13}, {'grade': 'B', 'date': datetime.datetime(2011, 11, 1, 0, 0), 'score': 25}], '_id': ObjectId('5a04ecc72a4a84fb56332686'), 'cuisine': 'Steak', 'name': 'The Living Room Steak House', 'restaurant_id': '41204684'}\n",
      "{'borough': 'Queens', 'address': {'building': '3940', 'street': 'Bell Boulevard', 'coord': [-73.77159999999999, 40.764184], 'zipcode': '11361'}, 'grades': [{'grade': 'A', 'date': datetime.datetime(2014, 5, 30, 0, 0), 'score': 12}, {'grade': 'A', 'date': datetime.datetime(2013, 12, 2, 0, 0), 'score': 11}, {'grade': 'A', 'date': datetime.datetime(2012, 9, 13, 0, 0), 'score': 9}, {'grade': 'A', 'date': datetime.datetime(2011, 10, 4, 0, 0), 'score': 12}], '_id': ObjectId('5a04ecc72a4a84fb5633275b'), 'cuisine': 'Steak', 'name': 'Uncle Jacks Steakhouse', 'restaurant_id': '41223838'}\n",
      "{'borough': 'Manhattan', 'address': {'building': '52', 'street': 'East   41 Street', 'coord': [-73.9790474, 40.7517244], 'zipcode': '10017'}, 'grades': [{'grade': 'A', 'date': datetime.datetime(2014, 12, 24, 0, 0), 'score': 9}, {'grade': 'A', 'date': datetime.datetime(2014, 8, 21, 0, 0), 'score': 5}, {'grade': 'A', 'date': datetime.datetime(2014, 2, 10, 0, 0), 'score': 13}, {'grade': 'A', 'date': datetime.datetime(2013, 5, 3, 0, 0), 'score': 5}, {'grade': 'A', 'date': datetime.datetime(2012, 11, 26, 0, 0), 'score': 12}], '_id': ObjectId('5a04ecc72a4a84fb56332772'), 'cuisine': 'Steak', 'name': 'Benjamin Steak House', 'restaurant_id': '41224985'}\n",
      "{'borough': 'Manhattan', 'address': {'building': '135', 'street': 'West   50 Street', 'coord': [-73.9823413, 40.761032], 'zipcode': '10020'}, 'grades': [{'grade': 'A', 'date': datetime.datetime(2014, 11, 6, 0, 0), 'score': 2}, {'grade': 'A', 'date': datetime.datetime(2013, 8, 20, 0, 0), 'score': 13}, {'grade': 'A', 'date': datetime.datetime(2013, 3, 21, 0, 0), 'score': 9}, {'grade': 'A', 'date': datetime.datetime(2012, 8, 28, 0, 0), 'score': 4}, {'grade': 'B', 'date': datetime.datetime(2012, 1, 23, 0, 0), 'score': 26}], '_id': ObjectId('5a04ecc72a4a84fb56332829'), 'cuisine': 'Steak', 'name': \"Bobby Van'S Grill\", 'restaurant_id': '41236763'}\n",
      "{'borough': 'Brooklyn', 'address': {'building': '89', 'street': 'Conselyea St', 'coord': [-73.9476379, 40.7150599], 'zipcode': '11211'}, 'grades': [{'grade': 'A', 'date': datetime.datetime(2014, 5, 30, 0, 0), 'score': 8}, {'grade': 'A', 'date': datetime.datetime(2013, 6, 5, 0, 0), 'score': 4}, {'grade': 'A', 'date': datetime.datetime(2012, 6, 2, 0, 0), 'score': 8}, {'grade': 'A', 'date': datetime.datetime(2011, 6, 9, 0, 0), 'score': 12}], '_id': ObjectId('5a04ecc72a4a84fb563328d1'), 'cuisine': 'Steak', 'name': \"Destefano'S Steakhouse\", 'restaurant_id': '41246958'}\n",
      "{'borough': 'Manhattan', 'address': {'building': '44', 'street': 'West   56 Street', 'coord': [-73.97669499999999, 40.762982], 'zipcode': '10019'}, 'grades': [{'grade': 'A', 'date': datetime.datetime(2014, 1, 28, 0, 0), 'score': 11}, {'grade': 'C', 'date': datetime.datetime(2013, 10, 2, 0, 0), 'score': 32}, {'grade': 'A', 'date': datetime.datetime(2012, 12, 27, 0, 0), 'score': 9}, {'grade': 'A', 'date': datetime.datetime(2012, 4, 12, 0, 0), 'score': 10}, {'grade': 'A', 'date': datetime.datetime(2011, 10, 26, 0, 0), 'score': 11}], '_id': ObjectId('5a04ecc72a4a84fb56332b7f'), 'cuisine': 'Steak', 'name': \"Uncle Jack'S Steakhouse\", 'restaurant_id': '41294786'}\n",
      "{'borough': 'Manhattan', 'address': {'building': '1600', 'street': '3 Avenue', 'coord': [-73.9524536, 40.7813671], 'zipcode': '10128'}, 'grades': [{'grade': 'A', 'date': datetime.datetime(2014, 3, 6, 0, 0), 'score': 10}, {'grade': 'A', 'date': datetime.datetime(2013, 1, 24, 0, 0), 'score': 8}, {'grade': 'A', 'date': datetime.datetime(2012, 8, 20, 0, 0), 'score': 9}, {'grade': 'A', 'date': datetime.datetime(2012, 2, 2, 0, 0), 'score': 12}], '_id': ObjectId('5a04ecc82a4a84fb56332da2'), 'cuisine': 'Steak', 'name': 'Parlor Steakhouse', 'restaurant_id': '41326866'}\n",
      "{'borough': 'Manhattan', 'address': {'building': '240', 'street': 'East 58 Street', 'coord': [-73.96557299999999, 40.760051], 'zipcode': '10022'}, 'grades': [{'grade': 'A', 'date': datetime.datetime(2014, 11, 25, 0, 0), 'score': 12}, {'grade': 'B', 'date': datetime.datetime(2014, 4, 10, 0, 0), 'score': 17}, {'grade': 'C', 'date': datetime.datetime(2013, 7, 10, 0, 0), 'score': 32}, {'grade': 'A', 'date': datetime.datetime(2012, 10, 23, 0, 0), 'score': 13}, {'grade': 'A', 'date': datetime.datetime(2012, 4, 26, 0, 0), 'score': 9}], '_id': ObjectId('5a04ecc82a4a84fb56332efe'), 'cuisine': 'Steak', 'name': 'Club A Steakhouse', 'restaurant_id': '41351524'}\n",
      "{'borough': 'Queens', 'address': {'building': '0', 'street': 'John F. Kennedy Intl Air', 'coord': [-73.7889689, 40.6433507], 'zipcode': '11430'}, 'grades': [{'grade': 'A', 'date': datetime.datetime(2014, 8, 13, 0, 0), 'score': 13}, {'grade': 'A', 'date': datetime.datetime(2013, 8, 29, 0, 0), 'score': 11}, {'grade': 'A', 'date': datetime.datetime(2013, 4, 11, 0, 0), 'score': 0}, {'grade': 'A', 'date': datetime.datetime(2012, 3, 14, 0, 0), 'score': 12}], '_id': ObjectId('5a04ecc82a4a84fb56332f9d'), 'cuisine': 'Steak', 'name': '5Ive Steak', 'restaurant_id': '41362513'}\n",
      "{'borough': 'Manhattan', 'address': {'building': '200', 'street': 'Chambers Street', 'coord': [-74.0122865, 40.7166708], 'zipcode': '10007'}, 'grades': [{'grade': 'A', 'date': datetime.datetime(2014, 5, 6, 0, 0), 'score': 11}, {'grade': 'A', 'date': datetime.datetime(2013, 5, 6, 0, 0), 'score': 9}, {'grade': 'A', 'date': datetime.datetime(2012, 12, 6, 0, 0), 'score': 11}, {'grade': 'B', 'date': datetime.datetime(2012, 6, 4, 0, 0), 'score': 18}, {'grade': 'A', 'date': datetime.datetime(2011, 12, 19, 0, 0), 'score': 11}], '_id': ObjectId('5a04ecc82a4a84fb5633304e'), 'cuisine': 'Steak', 'name': 'Palm Restaurant', 'restaurant_id': '41372589'}\n",
      "{'borough': 'Manhattan', 'address': {'building': '255', 'street': '5 Avenue', 'coord': [-73.9817071, 40.6746579], 'zipcode': '11215'}, 'grades': [{'grade': 'A', 'date': datetime.datetime(2014, 2, 11, 0, 0), 'score': 12}, {'grade': 'B', 'date': datetime.datetime(2013, 7, 11, 0, 0), 'score': 23}, {'grade': 'C', 'date': datetime.datetime(2012, 12, 27, 0, 0), 'score': 33}, {'grade': 'B', 'date': datetime.datetime(2012, 5, 24, 0, 0), 'score': 20}, {'grade': 'A', 'date': datetime.datetime(2011, 12, 23, 0, 0), 'score': 11}, {'grade': 'A', 'date': datetime.datetime(2011, 6, 28, 0, 0), 'score': 12}], '_id': ObjectId('5a04ecc82a4a84fb563331e9'), 'cuisine': 'Steak', 'name': 'Ben & Jacks Steakhouse', 'restaurant_id': '41390370'}\n",
      "{'borough': 'Bronx', 'address': {'building': '0', 'street': '161 Street & River Avenue', 'coord': [-73.9259201, 40.8278293], 'zipcode': '10451'}, 'grades': [{'grade': 'A', 'date': datetime.datetime(2014, 4, 10, 0, 0), 'score': 7}, {'grade': 'A', 'date': datetime.datetime(2013, 5, 15, 0, 0), 'score': 2}, {'grade': 'A', 'date': datetime.datetime(2012, 5, 21, 0, 0), 'score': 12}, {'grade': 'A', 'date': datetime.datetime(2011, 5, 20, 0, 0), 'score': 9}], '_id': ObjectId('5a04ecc82a4a84fb56333207'), 'cuisine': 'Steak', 'name': 'Nyy Steak', 'restaurant_id': '41391840'}\n",
      "{'borough': 'Manhattan', 'address': {'building': '142', 'street': 'West   46 Street', 'coord': [-73.984122, 40.757922], 'zipcode': '10036'}, 'grades': [{'grade': 'A', 'date': datetime.datetime(2014, 7, 2, 0, 0), 'score': 7}, {'grade': 'A', 'date': datetime.datetime(2013, 5, 14, 0, 0), 'score': 12}, {'grade': 'A', 'date': datetime.datetime(2012, 11, 27, 0, 0), 'score': 13}, {'grade': 'A', 'date': datetime.datetime(2012, 6, 18, 0, 0), 'score': 5}, {'grade': 'A', 'date': datetime.datetime(2011, 10, 17, 0, 0), 'score': 13}], '_id': ObjectId('5a04ecc82a4a84fb56333282'), 'cuisine': 'Steak', 'name': 'St. Andrews Restaurant', 'restaurant_id': '41395775'}\n",
      "{'borough': 'Queens', 'address': {'building': '210-35', 'street': '26 Avenue', 'coord': [-73.7796956, 40.77767], 'zipcode': '11360'}, 'grades': [{'grade': 'A', 'date': datetime.datetime(2014, 12, 16, 0, 0), 'score': 10}, {'grade': 'A', 'date': datetime.datetime(2014, 6, 26, 0, 0), 'score': 9}, {'grade': 'A', 'date': datetime.datetime(2013, 6, 12, 0, 0), 'score': 7}, {'grade': 'A', 'date': datetime.datetime(2013, 2, 8, 0, 0), 'score': 5}], '_id': ObjectId('5a04ecc82a4a84fb56333353'), 'cuisine': 'Steak', 'name': \"Tony Roma'S\", 'restaurant_id': '41405150'}\n",
      "{'borough': 'Manhattan', 'address': {'building': '200', 'street': 'East   54 Street', 'coord': [-73.9685741, 40.7579569], 'zipcode': '10022'}, 'grades': [{'grade': 'A', 'date': datetime.datetime(2014, 12, 10, 0, 0), 'score': 11}, {'grade': 'A', 'date': datetime.datetime(2014, 6, 30, 0, 0), 'score': 13}, {'grade': 'C', 'date': datetime.datetime(2014, 1, 15, 0, 0), 'score': 40}, {'grade': 'A', 'date': datetime.datetime(2013, 5, 23, 0, 0), 'score': 13}, {'grade': 'A', 'date': datetime.datetime(2012, 4, 19, 0, 0), 'score': 13}], '_id': ObjectId('5a04ecc92a4a84fb563337f9'), 'cuisine': 'Steak', 'name': \"Wolfgang'S Steakhouse\", 'restaurant_id': '41466358'}\n",
      "{'borough': 'Manhattan', 'address': {'building': '152', 'street': 'West   26 Street', 'coord': [-73.993724, 40.7455179], 'zipcode': '10001'}, 'grades': [{'grade': 'A', 'date': datetime.datetime(2014, 3, 31, 0, 0), 'score': 8}, {'grade': 'A', 'date': datetime.datetime(2013, 3, 25, 0, 0), 'score': 8}, {'grade': 'A', 'date': datetime.datetime(2012, 9, 27, 0, 0), 'score': 9}, {'grade': 'A', 'date': datetime.datetime(2011, 9, 19, 0, 0), 'score': 12}, {'grade': 'B', 'date': datetime.datetime(2011, 6, 14, 0, 0), 'score': 21}], '_id': ObjectId('5a04ecc92a4a84fb56333918'), 'cuisine': 'Steak', 'name': 'Rare Bar  And  Grill', 'restaurant_id': '41477944'}\n",
      "{'borough': 'Manhattan', 'address': {'building': '3379', 'street': 'Broadway', 'coord': [-73.9544847, 40.8214312], 'zipcode': '10031'}, 'grades': [{'grade': 'A', 'date': datetime.datetime(2014, 9, 30, 0, 0), 'score': 11}, {'grade': 'A', 'date': datetime.datetime(2014, 4, 3, 0, 0), 'score': 12}, {'grade': 'A', 'date': datetime.datetime(2013, 1, 25, 0, 0), 'score': 2}, {'grade': 'C', 'date': datetime.datetime(2012, 9, 11, 0, 0), 'score': 0}], '_id': ObjectId('5a04ecc92a4a84fb56333926'), 'cuisine': 'Steak', 'name': '137 Bar & Grill', 'restaurant_id': '41478576'}\n",
      "{'borough': 'Queens', 'address': {'building': '23-48', 'street': 'Bell Boulevard', 'coord': [-73.7757357, 40.7812788], 'zipcode': '11360'}, 'grades': [{'grade': 'A', 'date': datetime.datetime(2015, 1, 5, 0, 0), 'score': 12}, {'grade': 'A', 'date': datetime.datetime(2014, 6, 28, 0, 0), 'score': 12}, {'grade': 'A', 'date': datetime.datetime(2013, 12, 11, 0, 0), 'score': 12}, {'grade': 'A', 'date': datetime.datetime(2013, 7, 3, 0, 0), 'score': 6}, {'grade': 'A', 'date': datetime.datetime(2012, 4, 12, 0, 0), 'score': 2}], '_id': ObjectId('5a04ecc92a4a84fb563339b8'), 'cuisine': 'Steak', 'name': 'Outback Steakhouse 3330', 'restaurant_id': '41485123'}\n",
      "{'borough': 'Queens', 'address': {'building': '88-01', 'street': 'Queens Boulevard', 'coord': [-73.8747611, 40.7353074], 'zipcode': '11373'}, 'grades': [{'grade': 'A', 'date': datetime.datetime(2014, 5, 7, 0, 0), 'score': 9}, {'grade': 'A', 'date': datetime.datetime(2013, 5, 8, 0, 0), 'score': 7}, {'grade': 'C', 'date': datetime.datetime(2012, 12, 15, 0, 0), 'score': 29}, {'grade': 'A', 'date': datetime.datetime(2011, 12, 19, 0, 0), 'score': 7}, {'grade': 'A', 'date': datetime.datetime(2011, 8, 9, 0, 0), 'score': 8}], '_id': ObjectId('5a04ecc92a4a84fb563339b9'), 'cuisine': 'Steak', 'name': 'Outback Steakhouse 3332', 'restaurant_id': '41485145'}\n",
      "{'borough': 'Staten Island', 'address': {'building': '280', 'street': 'Marsh Avenue', 'coord': [-74.16403500000001, 40.5781824], 'zipcode': '10314'}, 'grades': [{'grade': 'B', 'date': datetime.datetime(2014, 6, 16, 0, 0), 'score': 22}, {'grade': 'A', 'date': datetime.datetime(2013, 10, 16, 0, 0), 'score': 11}, {'grade': 'A', 'date': datetime.datetime(2013, 2, 25, 0, 0), 'score': 13}, {'grade': 'A', 'date': datetime.datetime(2012, 6, 16, 0, 0), 'score': 11}, {'grade': 'A', 'date': datetime.datetime(2011, 10, 20, 0, 0), 'score': 10}], '_id': ObjectId('5a04ecc92a4a84fb563339c4'), 'cuisine': 'Steak', 'name': 'Outback Steakhouse', 'restaurant_id': '41485154'}\n",
      "{'borough': 'Brooklyn', 'address': {'building': '119', 'street': 'Nassau Avenue', 'coord': [-73.9490979, 40.7245344], 'zipcode': '11222'}, 'grades': [{'grade': 'A', 'date': datetime.datetime(2014, 3, 19, 0, 0), 'score': 9}, {'grade': 'B', 'date': datetime.datetime(2013, 10, 8, 0, 0), 'score': 17}, {'grade': 'A', 'date': datetime.datetime(2013, 4, 24, 0, 0), 'score': 5}, {'grade': 'A', 'date': datetime.datetime(2012, 3, 21, 0, 0), 'score': 8}], '_id': ObjectId('5a04ecc92a4a84fb563339ce'), 'cuisine': 'Steak', 'name': 'Amber Steak House', 'restaurant_id': '41486145'}\n",
      "{'borough': 'Manhattan', 'address': {'building': '597', 'street': '10 Avenue', 'coord': [-73.9951153, 40.7606442], 'zipcode': '10036'}, 'grades': [{'grade': 'A', 'date': datetime.datetime(2014, 12, 31, 0, 0), 'score': 11}, {'grade': 'A', 'date': datetime.datetime(2013, 12, 5, 0, 0), 'score': 8}, {'grade': 'A', 'date': datetime.datetime(2012, 10, 18, 0, 0), 'score': 9}], '_id': ObjectId('5a04ecc92a4a84fb56333a4c'), 'cuisine': 'Steak', 'name': 'West Side Steakhouse', 'restaurant_id': '41491955'}\n",
      "{'borough': 'Manhattan', 'address': {'building': '120', 'street': 'West   45 Street', 'coord': [-73.983873, 40.7570432], 'zipcode': '10036'}, 'grades': [{'grade': 'A', 'date': datetime.datetime(2014, 12, 22, 0, 0), 'score': 11}, {'grade': 'B', 'date': datetime.datetime(2014, 6, 26, 0, 0), 'score': 26}, {'grade': 'A', 'date': datetime.datetime(2013, 4, 23, 0, 0), 'score': 10}, {'grade': 'A', 'date': datetime.datetime(2012, 4, 19, 0, 0), 'score': 4}], '_id': ObjectId('5a04ecc92a4a84fb56333b44'), 'cuisine': 'Steak', 'name': \"Bobby Van'S Grill\", 'restaurant_id': '41505885'}\n",
      "{'borough': 'Manhattan', 'address': {'building': '60', 'street': 'West   23 Street', 'coord': [-73.99256439999999, 40.7425062], 'zipcode': '10010'}, 'grades': [{'grade': 'A', 'date': datetime.datetime(2014, 5, 17, 0, 0), 'score': 12}, {'grade': 'A', 'date': datetime.datetime(2013, 4, 5, 0, 0), 'score': 13}, {'grade': 'A', 'date': datetime.datetime(2012, 9, 13, 0, 0), 'score': 13}, {'grade': 'A', 'date': datetime.datetime(2011, 9, 6, 0, 0), 'score': 9}], '_id': ObjectId('5a04ecc92a4a84fb56333b8f'), 'cuisine': 'Steak', 'name': 'Outback Steakhouse', 'restaurant_id': '41510816'}\n",
      "{'borough': 'Bronx', 'address': {'building': '43', 'street': 'Bruckner Boulevard', 'coord': [-73.92699499999999, 40.806903], 'zipcode': '10454'}, 'grades': [{'grade': 'A', 'date': datetime.datetime(2014, 11, 17, 0, 0), 'score': 7}, {'grade': 'A', 'date': datetime.datetime(2013, 9, 18, 0, 0), 'score': 5}, {'grade': 'A', 'date': datetime.datetime(2012, 10, 1, 0, 0), 'score': 12}, {'grade': 'A', 'date': datetime.datetime(2012, 5, 2, 0, 0), 'score': 13}], '_id': ObjectId('5a04ecca2a4a84fb56333be7'), 'cuisine': 'Steak', 'name': 'El Pancho Steak House', 'restaurant_id': '41514880'}\n",
      "{'borough': 'Manhattan', 'address': {'building': '36', 'street': 'West   52 Street', 'coord': [-73.977887, 40.7602918], 'zipcode': '10019'}, 'grades': [{'grade': 'A', 'date': datetime.datetime(2014, 6, 19, 0, 0), 'score': 10}, {'grade': 'A', 'date': datetime.datetime(2013, 4, 29, 0, 0), 'score': 13}, {'grade': 'A', 'date': datetime.datetime(2012, 10, 15, 0, 0), 'score': 9}, {'grade': 'B', 'date': datetime.datetime(2012, 3, 5, 0, 0), 'score': 19}, {'grade': 'A', 'date': datetime.datetime(2011, 8, 29, 0, 0), 'score': 12}], '_id': ObjectId('5a04ecca2a4a84fb56333cd9'), 'cuisine': 'Steak', 'name': 'Empire Steak House', 'restaurant_id': '41530711'}\n",
      "{'borough': 'Manhattan', 'address': {'building': '2006', 'street': '3 Avenue', 'coord': [-73.94293979999999, 40.7943967], 'zipcode': '10029'}, 'grades': [{'grade': 'A', 'date': datetime.datetime(2014, 10, 15, 0, 0), 'score': 10}, {'grade': 'A', 'date': datetime.datetime(2013, 9, 18, 0, 0), 'score': 9}, {'grade': 'A', 'date': datetime.datetime(2012, 9, 25, 0, 0), 'score': 10}, {'grade': 'A', 'date': datetime.datetime(2012, 3, 12, 0, 0), 'score': 13}], '_id': ObjectId('5a04ecca2a4a84fb56333d6e'), 'cuisine': 'Steak', 'name': 'Pee Dee Steak', 'restaurant_id': '41538850'}\n",
      "{'borough': 'Queens', 'address': {'building': '110-00', 'street': 'Rockaway Boulevard', 'coord': [-73.8328389, 40.6729864], 'zipcode': '11420'}, 'grades': [{'grade': 'A', 'date': datetime.datetime(2015, 1, 14, 0, 0), 'score': 9}, {'grade': 'A', 'date': datetime.datetime(2013, 11, 15, 0, 0), 'score': 10}, {'grade': 'A', 'date': datetime.datetime(2013, 5, 24, 0, 0), 'score': 11}, {'grade': 'A', 'date': datetime.datetime(2012, 5, 12, 0, 0), 'score': 9}], '_id': ObjectId('5a04eccb2a4a84fb5633429a'), 'cuisine': 'Steak', 'name': 'Rw Prime', 'restaurant_id': '41591264'}\n",
      "{'borough': 'Manhattan', 'address': {'building': '1114', 'street': 'Avenue Of The Americas', 'coord': [-73.9830621, 40.7547222], 'zipcode': '10036'}, 'grades': [{'grade': 'A', 'date': datetime.datetime(2014, 5, 15, 0, 0), 'score': 9}, {'grade': 'A', 'date': datetime.datetime(2013, 11, 25, 0, 0), 'score': 3}, {'grade': 'B', 'date': datetime.datetime(2013, 3, 26, 0, 0), 'score': 21}, {'grade': 'A', 'date': datetime.datetime(2012, 9, 5, 0, 0), 'score': 10}, {'grade': 'B', 'date': datetime.datetime(2012, 2, 9, 0, 0), 'score': 26}], '_id': ObjectId('5a04eccb2a4a84fb56334697'), 'cuisine': 'Steak', 'name': 'Stk', 'restaurant_id': '41626556'}\n",
      "{'borough': 'Manhattan', 'address': {'building': '13', 'street': 'East   12 Street', 'coord': [-73.9933511, 40.7344577], 'zipcode': '10003'}, 'grades': [{'grade': 'A', 'date': datetime.datetime(2014, 8, 19, 0, 0), 'score': 10}, {'grade': 'A', 'date': datetime.datetime(2013, 7, 23, 0, 0), 'score': 13}, {'grade': 'A', 'date': datetime.datetime(2012, 8, 14, 0, 0), 'score': 2}, {'grade': 'A', 'date': datetime.datetime(2012, 2, 14, 0, 0), 'score': 5}], '_id': ObjectId('5a04eccb2a4a84fb56334720'), 'cuisine': 'Steak', 'name': 'Strip House', 'restaurant_id': '41629811'}\n",
      "{'borough': 'Queens', 'address': {'building': '81-08', 'street': 'Queens Boulevard', 'coord': [-73.88209069999999, 40.7372978], 'zipcode': '11373'}, 'grades': [{'grade': 'A', 'date': datetime.datetime(2014, 12, 18, 0, 0), 'score': 5}, {'grade': 'A', 'date': datetime.datetime(2014, 7, 23, 0, 0), 'score': 5}, {'grade': 'A', 'date': datetime.datetime(2013, 11, 25, 0, 0), 'score': 8}, {'grade': 'A', 'date': datetime.datetime(2013, 4, 13, 0, 0), 'score': 13}, {'grade': 'A', 'date': datetime.datetime(2012, 8, 29, 0, 0), 'score': 7}, {'grade': 'A', 'date': datetime.datetime(2012, 1, 17, 0, 0), 'score': 10}], '_id': ObjectId('5a04eccc2a4a84fb5633478f'), 'cuisine': 'Steak', 'name': 'Boca Juniors Steakhouse', 'restaurant_id': '41632272'}\n",
      "{'borough': 'Manhattan', 'address': {'building': '1032', 'street': 'Lexington Avenue', 'coord': [-73.9617109, 40.771567], 'zipcode': '10021'}, 'grades': [{'grade': 'A', 'date': datetime.datetime(2014, 6, 24, 0, 0), 'score': 10}, {'grade': 'A', 'date': datetime.datetime(2013, 4, 2, 0, 0), 'score': 9}], '_id': ObjectId('5a04eccc2a4a84fb56334d24'), 'cuisine': 'Steak', 'name': 'Arlington Club', 'restaurant_id': '41675034'}\n",
      "{'borough': 'Brooklyn', 'address': {'building': '620', 'street': 'Atlantic Avenue', 'coord': [-73.97523029999999, 40.6831182], 'zipcode': '11217'}, 'grades': [{'grade': 'A', 'date': datetime.datetime(2014, 1, 10, 0, 0), 'score': 10}, {'grade': 'A', 'date': datetime.datetime(2013, 1, 30, 0, 0), 'score': 2}], '_id': ObjectId('5a04eccc2a4a84fb56334ec9'), 'cuisine': 'Steak', 'name': \"Paisano'S Butcher Shop\", 'restaurant_id': '41688146'}\n",
      "{'borough': 'Manhattan', 'address': {'building': '15', 'street': 'West 44 Street', 'coord': [-73.98073169999999, 40.7552417], 'zipcode': '10036'}, 'grades': [{'grade': 'A', 'date': datetime.datetime(2014, 9, 17, 0, 0), 'score': 10}, {'grade': 'A', 'date': datetime.datetime(2014, 3, 13, 0, 0), 'score': 7}, {'grade': 'A', 'date': datetime.datetime(2012, 12, 28, 0, 0), 'score': 7}], '_id': ObjectId('5a04eccd2a4a84fb56334f76'), 'cuisine': 'Steak', 'name': 'Strip House', 'restaurant_id': '41692902'}\n",
      "{'borough': 'Manhattan', 'address': {'building': '4311', 'street': 'Broadway', 'coord': [-73.9351848, 40.8520738], 'zipcode': '10033'}, 'grades': [{'grade': 'A', 'date': datetime.datetime(2014, 9, 20, 0, 0), 'score': 13}, {'grade': 'A', 'date': datetime.datetime(2014, 4, 9, 0, 0), 'score': 12}, {'grade': 'A', 'date': datetime.datetime(2013, 9, 23, 0, 0), 'score': 8}, {'grade': 'A', 'date': datetime.datetime(2013, 1, 24, 0, 0), 'score': 11}], '_id': ObjectId('5a04eccd2a4a84fb563352a7'), 'cuisine': 'Steak', 'name': 'Alex Steak House Bar & Cafe', 'restaurant_id': '41707486'}\n",
      "{'borough': 'Manhattan', 'address': {'building': '136', 'street': 'Washington Street', 'coord': [-74.0139508, 40.7097089], 'zipcode': '10006'}, 'grades': [{'grade': 'A', 'date': datetime.datetime(2014, 4, 7, 0, 0), 'score': 12}, {'grade': 'A', 'date': datetime.datetime(2013, 8, 29, 0, 0), 'score': 12}], '_id': ObjectId('5a04eccd2a4a84fb563353ff'), 'cuisine': 'Steak', 'name': \"Morton'S The Steakhouse\", 'restaurant_id': '41714424'}\n",
      "{'borough': 'Manhattan', 'address': {'building': '261', 'street': 'Water Street', 'coord': [-74.0015335, 40.7083453], 'zipcode': '10038'}, 'grades': [{'grade': 'A', 'date': datetime.datetime(2014, 7, 7, 0, 0), 'score': 10}, {'grade': 'A', 'date': datetime.datetime(2013, 12, 31, 0, 0), 'score': 4}, {'grade': 'A', 'date': datetime.datetime(2013, 4, 30, 0, 0), 'score': 9}], '_id': ObjectId('5a04eccd2a4a84fb5633543e'), 'cuisine': 'Steak', 'name': 'Mark Joseph Steakhouse', 'restaurant_id': '41716286'}\n",
      "{'borough': 'Manhattan', 'address': {'building': '2257', 'street': 'First Avenue', 'coord': [-73.93578099999999, 40.795966], 'zipcode': '10029'}, 'grades': [{'grade': 'A', 'date': datetime.datetime(2014, 6, 19, 0, 0), 'score': 12}, {'grade': 'A', 'date': datetime.datetime(2013, 8, 21, 0, 0), 'score': 10}], '_id': ObjectId('5a04eccd2a4a84fb56335558'), 'cuisine': 'Steak', 'name': 'Prime One 16', 'restaurant_id': '41721716'}\n",
      "{'borough': 'Manhattan', 'address': {'building': '206', 'street': 'Spring Street', 'coord': [-74.0037766, 40.7252214], 'zipcode': '10012'}, 'grades': [{'grade': 'A', 'date': datetime.datetime(2014, 6, 6, 0, 0), 'score': 5}, {'grade': 'A', 'date': datetime.datetime(2013, 10, 22, 0, 0), 'score': 8}], '_id': ObjectId('5a04eccd2a4a84fb56335572'), 'cuisine': 'Steak', 'name': 'Costata', 'restaurant_id': '41722204'}\n",
      "{'borough': 'Manhattan', 'address': {'building': '363', 'street': 'Greenwich Street', 'coord': [-74.0099017, 40.7191049], 'zipcode': '10013'}, 'grades': [{'grade': 'A', 'date': datetime.datetime(2013, 10, 11, 0, 0), 'score': 12}], '_id': ObjectId('5a04eccd2a4a84fb56335707'), 'cuisine': 'Steak', 'name': 'American Cut', 'restaurant_id': '50000641'}\n",
      "{'borough': 'Queens', 'address': {'building': '35-15', 'street': '36 Street', 'coord': [-73.9246641, 40.7557546], 'zipcode': '11106'}, 'grades': [{'grade': 'A', 'date': datetime.datetime(2014, 10, 3, 0, 0), 'score': 10}, {'grade': 'A', 'date': datetime.datetime(2013, 8, 21, 0, 0), 'score': 13}], '_id': ObjectId('5a04ecce2a4a84fb56335875'), 'cuisine': 'Steak', 'name': 'S Prime', 'restaurant_id': '50001268'}\n",
      "{'borough': 'Manhattan', 'address': {'building': '25', 'street': 'West 56 Street', 'coord': [-73.975807, 40.7631166], 'zipcode': '10019'}, 'grades': [{'grade': 'A', 'date': datetime.datetime(2014, 9, 17, 0, 0), 'score': 10}, {'grade': 'A', 'date': datetime.datetime(2014, 2, 26, 0, 0), 'score': 9}], '_id': ObjectId('5a04ecce2a4a84fb5633588a'), 'cuisine': 'Steak', 'name': 'The Prime Grill', 'restaurant_id': '50001289'}\n",
      "{'borough': 'Manhattan', 'address': {'building': '420', 'street': 'West  203 Street', 'coord': [-73.91957529999999, 40.86144850000001], 'zipcode': '10034'}, 'grades': [{'grade': 'A', 'date': datetime.datetime(2014, 6, 20, 0, 0), 'score': 9}, {'grade': 'B', 'date': datetime.datetime(2013, 12, 4, 0, 0), 'score': 23}], '_id': ObjectId('5a04ecce2a4a84fb56335a41'), 'cuisine': 'Steak', 'name': 'Vacca Grill & Lounge', 'restaurant_id': '50002065'}\n",
      "{'borough': 'Manhattan', 'address': {'building': '237', 'street': 'West   54 Street', 'coord': [-73.9830465, 40.7645155], 'zipcode': '10019'}, 'grades': [{'grade': 'A', 'date': datetime.datetime(2014, 3, 24, 0, 0), 'score': 7}], '_id': ObjectId('5a04ecce2a4a84fb56335ee0'), 'cuisine': 'Steak', 'name': 'Empire Steakhouse', 'restaurant_id': '50005142'}\n",
      "{'borough': 'Queens', 'address': {'building': '13-46', 'street': '127 Street', 'coord': [-73.841449, 40.785407], 'zipcode': '11356'}, 'grades': [{'grade': 'A', 'date': datetime.datetime(2014, 8, 29, 0, 0), 'score': 13}], '_id': ObjectId('5a04eccf2a4a84fb563362d7'), 'cuisine': 'Steak', 'name': \"Danny'S Steakhouse\", 'restaurant_id': '50008517'}\n",
      "{'borough': 'Manhattan', 'address': {'building': '316', 'street': 'East   53 Street', 'coord': [-73.9665309, 40.7562752], 'zipcode': '10022'}, 'grades': [{'grade': 'A', 'date': datetime.datetime(2014, 8, 22, 0, 0), 'score': 12}], '_id': ObjectId('5a04eccf2a4a84fb5633652b'), 'cuisine': 'Steak', 'name': '212 Steakhouse', 'restaurant_id': '50010711'}\n",
      "{'borough': 'Manhattan', 'address': {'building': '919', 'street': '3 Avenue', 'coord': [-73.967623, 40.75892289999999], 'zipcode': '10022'}, 'grades': [{'grade': 'A', 'date': datetime.datetime(2014, 10, 7, 0, 0), 'score': 8}], '_id': ObjectId('5a04eccf2a4a84fb5633695d'), 'cuisine': 'Steak', 'name': \"Bv'S Grill\", 'restaurant_id': '50014598'}\n",
      "{'borough': 'Queens', 'address': {'building': '9230', 'street': '59Th Ave', 'coord': [-73.86930509999999, 40.7340782], 'zipcode': '11373'}, 'grades': [{'grade': 'A', 'date': datetime.datetime(2014, 11, 18, 0, 0), 'score': 13}], '_id': ObjectId('5a04eccf2a4a84fb56336977'), 'cuisine': 'Steak', 'name': 'Longhorn Steakhouse #5453', 'restaurant_id': '50014682'}\n",
      "{'borough': 'Manhattan', 'address': {'building': '212', 'street': 'East 45 Street', 'coord': [-73.9723831, 40.7522366], 'zipcode': '10017'}, 'grades': [{'grade': 'A', 'date': datetime.datetime(2014, 11, 25, 0, 0), 'score': 13}], '_id': ObjectId('5a04ecd02a4a84fb56336afc'), 'cuisine': 'Steak', 'name': '99 Miles To Philly', 'restaurant_id': '50015844'}\n"
     ]
    }
   ],
   "source": [
    "\n",
    "\n",
    "cursor = db.restaurants.find({'cuisine': 'Steak'})\n",
    "for documents in cursor:\n",
    "    print(documents)"
   ]
  },
  {
   "cell_type": "markdown",
   "metadata": {},
   "source": [
    "That is probably a little bit two much though. So let's search for steak houses in the Lexington Avenue only (logically AND). Note the dot notation for the embedded property street."
   ]
  },
  {
   "cell_type": "code",
   "execution_count": null,
   "metadata": {
    "collapsed": false
   },
   "outputs": [],
   "source": [
    "cursor = db.restaurants.find({'cuisine': 'Steak', 'address.street': 'Lexington Avenue'})\n",
    "for documents in cursor:\n",
    "    print(documents)"
   ]
  },
  {
   "cell_type": "markdown",
   "metadata": {},
   "source": [
    "We can use a comparison operator in queries as well, here we want one pizza place with a score > 30"
   ]
  },
  {
   "cell_type": "code",
   "execution_count": null,
   "metadata": {
    "collapsed": false
   },
   "outputs": [],
   "source": [
    "cursor = db.restaurants.find_one({'grades.score': {'$gt': 30}, 'cuisine': 'Pizza'})\n",
    "print(cursor)"
   ]
  },
  {
   "cell_type": "markdown",
   "metadata": {},
   "source": [
    "Exercise: search for crappy (with a score less than 5) italian or french restaurants in Queens."
   ]
  },
  {
   "cell_type": "code",
   "execution_count": null,
   "metadata": {
    "collapsed": false
   },
   "outputs": [],
   "source": [
    "cursor = db.restaurants.find({'$and':[{'$or': [{'cuisine': 'Italian'}, {'cuisine': 'French'}]} \\\n",
    "                                      ,{'borough': 'Queens'}, {'grades.score': {'$lt': 5}}]})\n",
    "for documents in cursor:\n",
    "    print(documents)"
   ]
  },
  {
   "cell_type": "markdown",
   "metadata": {},
   "source": [
    "We can sort the output using the following pymongo routines"
   ]
  },
  {
   "cell_type": "code",
   "execution_count": 32,
   "metadata": {
    "collapsed": false
   },
   "outputs": [
    {
     "name": "stdout",
     "output_type": "stream",
     "text": [
      "{u'cuisine': u'Irish', u'borough': u'Manhattan', u'name': u'Blarney Rock', u'restaurant_id': u'40366379', u'grades': [{u'date': datetime.datetime(2014, 8, 15, 0, 0), u'grade': u'A', u'score': 12}, {u'date': datetime.datetime(2014, 1, 21, 0, 0), u'grade': u'A', u'score': 5}, {u'date': datetime.datetime(2013, 7, 24, 0, 0), u'grade': u'A', u'score': 9}, {u'date': datetime.datetime(2012, 5, 31, 0, 0), u'grade': u'A', u'score': 8}, {u'date': datetime.datetime(2012, 1, 26, 0, 0), u'grade': u'A', u'score': 13}, {u'date': datetime.datetime(2011, 10, 11, 0, 0), u'grade': u'A', u'score': 5}], u'address': {u'building': u'137', u'street': u'West   33 Street', u'zipcode': u'10001', u'coord': [-73.98926, 40.7509054]}, u'_id': ObjectId('5a04ecc32a4a84fb56330d68')}\n",
      "{u'cuisine': u'Irish', u'borough': u'Manhattan', u'name': u'Twins Pub', u'restaurant_id': u'40367179', u'grades': [{u'date': datetime.datetime(2014, 7, 1, 0, 0), u'grade': u'A', u'score': 10}, {u'date': datetime.datetime(2014, 1, 28, 0, 0), u'grade': u'A', u'score': 8}, {u'date': datetime.datetime(2012, 12, 12, 0, 0), u'grade': u'A', u'score': 12}, {u'date': datetime.datetime(2011, 12, 28, 0, 0), u'grade': u'A', u'score': 12}, {u'date': datetime.datetime(2011, 9, 2, 0, 0), u'grade': u'A', u'score': 12}], u'address': {u'building': u'421', u'street': u'9 Avenue', u'zipcode': u'10001', u'coord': [-73.99682299999999, 40.753182]}, u'_id': ObjectId('5a04ecc32a4a84fb56330d89')}\n",
      "{u'cuisine': u'Irish', u'borough': u'Manhattan', u'name': u'Molly Wee Pub', u'restaurant_id': u'40374277', u'grades': [{u'date': datetime.datetime(2014, 12, 30, 0, 0), u'grade': u'Z', u'score': 17}, {u'date': datetime.datetime(2014, 7, 14, 0, 0), u'grade': u'A', u'score': 10}, {u'date': datetime.datetime(2014, 1, 24, 0, 0), u'grade': u'A', u'score': 3}, {u'date': datetime.datetime(2013, 8, 20, 0, 0), u'grade': u'A', u'score': 13}, {u'date': datetime.datetime(2013, 2, 4, 0, 0), u'grade': u'A', u'score': 9}, {u'date': datetime.datetime(2012, 1, 5, 0, 0), u'grade': u'A', u'score': 13}], u'address': {u'building': u'402', u'street': u'8 Avenue', u'zipcode': u'10001', u'coord': [-73.9949622, 40.7496446]}, u'_id': ObjectId('5a04ecc32a4a84fb56330e5d')}\n",
      "{u'cuisine': u'Irish', u'borough': u'Manhattan', u'name': u\"Foley'S N.Y. Pub And Restaurant\", u'restaurant_id': u'40399523', u'grades': [{u'date': datetime.datetime(2014, 12, 9, 0, 0), u'grade': u'A', u'score': 13}, {u'date': datetime.datetime(2013, 12, 6, 0, 0), u'grade': u'A', u'score': 12}, {u'date': datetime.datetime(2012, 12, 11, 0, 0), u'grade': u'A', u'score': 10}, {u'date': datetime.datetime(2012, 6, 26, 0, 0), u'grade': u'A', u'score': 11}, {u'date': datetime.datetime(2012, 1, 30, 0, 0), u'grade': u'A', u'score': 12}], u'address': {u'building': u'18', u'street': u'West   33 Street', u'zipcode': u'10001', u'coord': [-73.9862593, 40.7481711]}, u'_id': ObjectId('5a04ecc42a4a84fb56331151')}\n",
      "{u'cuisine': u'Irish', u'borough': u'Manhattan', u'name': u'The Triple Crown', u'restaurant_id': u'40402231', u'grades': [{u'date': datetime.datetime(2014, 9, 3, 0, 0), u'grade': u'A', u'score': 10}, {u'date': datetime.datetime(2014, 3, 13, 0, 0), u'grade': u'A', u'score': 7}, {u'date': datetime.datetime(2013, 2, 11, 0, 0), u'grade': u'A', u'score': 9}, {u'date': datetime.datetime(2012, 2, 8, 0, 0), u'grade': u'A', u'score': 12}, {u'date': datetime.datetime(2011, 10, 5, 0, 0), u'grade': u'A', u'score': 13}], u'address': {u'building': u'330', u'street': u'7 Avenue', u'zipcode': u'10001', u'coord': [-73.9933113, 40.7478417]}, u'_id': ObjectId('5a04ecc42a4a84fb563311fa')}\n",
      "{u'cuisine': u'Irish', u'borough': u'Manhattan', u'name': u\"O'Reilly'S Pub\", u'restaurant_id': u'40597588', u'grades': [{u'date': datetime.datetime(2014, 12, 29, 0, 0), u'grade': u'A', u'score': 12}, {u'date': datetime.datetime(2013, 12, 16, 0, 0), u'grade': u'A', u'score': 11}, {u'date': datetime.datetime(2012, 12, 17, 0, 0), u'grade': u'A', u'score': 9}, {u'date': datetime.datetime(2012, 1, 3, 0, 0), u'grade': u'A', u'score': 11}], u'address': {u'building': u'54', u'street': u'West   31 Street', u'zipcode': u'10001', u'coord': [-73.988839, 40.747559]}, u'_id': ObjectId('5a04ecc42a4a84fb56331540')}\n",
      "{u'cuisine': u'Irish', u'borough': u'Manhattan', u'name': u'Playwright Tavern', u'restaurant_id': u'40729264', u'grades': [{u'date': datetime.datetime(2014, 5, 5, 0, 0), u'grade': u'A', u'score': 12}, {u'date': datetime.datetime(2013, 11, 25, 0, 0), u'grade': u'A', u'score': 2}, {u'date': datetime.datetime(2013, 5, 31, 0, 0), u'grade': u'B', u'score': 18}, {u'date': datetime.datetime(2012, 10, 1, 0, 0), u'grade': u'B', u'score': 23}, {u'date': datetime.datetime(2012, 5, 4, 0, 0), u'grade': u'A', u'score': 4}], u'address': {u'building': u'27', u'street': u'West   35 Street', u'zipcode': u'10001', u'coord': [-73.98535629999999, 40.74986860000001]}, u'_id': ObjectId('5a04ecc42a4a84fb563317d6')}\n",
      "{u'cuisine': u'Irish', u'borough': u'Manhattan', u'name': u\"Jack Demsey'S Pub\", u'restaurant_id': u'40936610', u'grades': [{u'date': datetime.datetime(2014, 12, 12, 0, 0), u'grade': u'A', u'score': 12}, {u'date': datetime.datetime(2014, 7, 21, 0, 0), u'grade': u'A', u'score': 12}, {u'date': datetime.datetime(2013, 7, 22, 0, 0), u'grade': u'A', u'score': 11}, {u'date': datetime.datetime(2013, 1, 30, 0, 0), u'grade': u'A', u'score': 13}, {u'date': datetime.datetime(2011, 12, 13, 0, 0), u'grade': u'A', u'score': 10}], u'address': {u'building': u'36', u'street': u'West   33 Street', u'zipcode': u'10001', u'coord': [-73.986953, 40.74833]}, u'_id': ObjectId('5a04ecc52a4a84fb56331c94')}\n",
      "{u'cuisine': u'Irish', u'borough': u'Manhattan', u'name': u'Tempest Bar', u'restaurant_id': u'40959121', u'grades': [{u'date': datetime.datetime(2014, 3, 31, 0, 0), u'grade': u'A', u'score': 5}, {u'date': datetime.datetime(2013, 10, 29, 0, 0), u'grade': u'A', u'score': 12}, {u'date': datetime.datetime(2013, 3, 25, 0, 0), u'grade': u'A', u'score': 12}, {u'date': datetime.datetime(2012, 2, 7, 0, 0), u'grade': u'A', u'score': 12}, {u'date': datetime.datetime(2011, 10, 28, 0, 0), u'grade': u'P', u'score': 4}], u'address': {u'building': u'407', u'street': u'8 Avenue', u'zipcode': u'10001', u'coord': [-73.995452, 40.750028]}, u'_id': ObjectId('5a04ecc52a4a84fb56331d58')}\n",
      "{u'cuisine': u'Irish', u'borough': u'Manhattan', u'name': u'The Thirsty Fan', u'restaurant_id': u'41389562', u'grades': [{u'date': datetime.datetime(2014, 7, 18, 0, 0), u'grade': u'A', u'score': 9}, {u'date': datetime.datetime(2013, 6, 17, 0, 0), u'grade': u'A', u'score': 11}, {u'date': datetime.datetime(2012, 11, 14, 0, 0), u'grade': u'B', u'score': 25}, {u'date': datetime.datetime(2012, 6, 5, 0, 0), u'grade': u'A', u'score': 11}], u'address': {u'building': u'254', u'street': u'West   31 Street', u'zipcode': u'10001', u'coord': [-73.9944146, 40.7499006]}, u'_id': ObjectId('5a04ecc82a4a84fb563331d8')}\n",
      "{u'cuisine': u'Irish', u'borough': u'Manhattan', u'name': u'Jack Doyles Pub & Restaurant', u'restaurant_id': u'41687345', u'grades': [{u'date': datetime.datetime(2014, 12, 22, 0, 0), u'grade': u'Z', u'score': 26}, {u'date': datetime.datetime(2014, 6, 30, 0, 0), u'grade': u'A', u'score': 9}, {u'date': datetime.datetime(2014, 1, 17, 0, 0), u'grade': u'A', u'score': 2}, {u'date': datetime.datetime(2013, 7, 31, 0, 0), u'grade': u'B', u'score': 24}, {u'date': datetime.datetime(2012, 12, 21, 0, 0), u'grade': u'A', u'score': 12}], u'address': {u'building': u'240', u'street': u'West   35 Street', u'zipcode': u'10001', u'coord': [-73.9918752, 40.7521284]}, u'_id': ObjectId('5a04eccc2a4a84fb56334eab')}\n",
      "{u'cuisine': u'Irish', u'borough': u'Manhattan', u'name': u'Donnybrook', u'restaurant_id': u'41372918', u'grades': [{u'date': datetime.datetime(2014, 7, 1, 0, 0), u'grade': u'A', u'score': 6}, {u'date': datetime.datetime(2014, 1, 30, 0, 0), u'grade': u'A', u'score': 10}, {u'date': datetime.datetime(2013, 6, 14, 0, 0), u'grade': u'A', u'score': 4}, {u'date': datetime.datetime(2012, 5, 17, 0, 0), u'grade': u'A', u'score': 4}, {u'date': datetime.datetime(2011, 12, 6, 0, 0), u'grade': u'A', u'score': 12}], u'address': {u'building': u'3739', u'street': u'Clinton Street', u'zipcode': u'10002', u'coord': [-73.9847403, 40.72001540000001]}, u'_id': ObjectId('5a04ecc82a4a84fb56333058')}\n",
      "{u'cuisine': u'Irish', u'borough': u'Manhattan', u'name': u\"Mcsorley'S Old Ale House\", u'restaurant_id': u'40365075', u'grades': [{u'date': datetime.datetime(2014, 6, 7, 0, 0), u'grade': u'A', u'score': 8}, {u'date': datetime.datetime(2014, 1, 9, 0, 0), u'grade': u'A', u'score': 10}, {u'date': datetime.datetime(2013, 6, 12, 0, 0), u'grade': u'A', u'score': 8}, {u'date': datetime.datetime(2012, 5, 21, 0, 0), u'grade': u'A', u'score': 13}, {u'date': datetime.datetime(2012, 1, 11, 0, 0), u'grade': u'A', u'score': 9}, {u'date': datetime.datetime(2011, 8, 11, 0, 0), u'grade': u'B', u'score': 16}], u'address': {u'building': u'15', u'street': u'East    7 Street', u'zipcode': u'10003', u'coord': [-73.9896713, 40.7287978]}, u'_id': ObjectId('5a04ecc32a4a84fb56330d30')}\n",
      "{u'cuisine': u'Irish', u'borough': u'Manhattan', u'name': u\"Dempsey'S Pub\", u'restaurant_id': u'40395211', u'grades': [{u'date': datetime.datetime(2014, 8, 12, 0, 0), u'grade': u'A', u'score': 13}, {u'date': datetime.datetime(2013, 7, 22, 0, 0), u'grade': u'A', u'score': 4}, {u'date': datetime.datetime(2012, 8, 13, 0, 0), u'grade': u'A', u'score': 7}, {u'date': datetime.datetime(2012, 4, 2, 0, 0), u'grade': u'A', u'score': 5}, {u'date': datetime.datetime(2011, 11, 21, 0, 0), u'grade': u'A', u'score': 7}], u'address': {u'building': u'61', u'street': u'2 Avenue', u'zipcode': u'10003', u'coord': [-73.9898776, 40.7260157]}, u'_id': ObjectId('5a04ecc32a4a84fb5633108f')}\n",
      "{u'cuisine': u'Irish', u'borough': u'Manhattan', u'name': u'The Scratcher Cafe', u'restaurant_id': u'40400810', u'grades': [{u'date': datetime.datetime(2014, 2, 20, 0, 0), u'grade': u'A', u'score': 13}, {u'date': datetime.datetime(2013, 8, 6, 0, 0), u'grade': u'A', u'score': 13}, {u'date': datetime.datetime(2012, 11, 27, 0, 0), u'grade': u'B', u'score': 19}, {u'date': datetime.datetime(2011, 10, 18, 0, 0), u'grade': u'A', u'score': 5}, {u'date': datetime.datetime(2011, 7, 6, 0, 0), u'grade': u'B', u'score': 16}], u'address': {u'building': u'209', u'street': u'East    5 Street', u'zipcode': u'10003', u'coord': [-73.9905498, 40.7275824]}, u'_id': ObjectId('5a04ecc42a4a84fb563311a1')}\n",
      "{u'cuisine': u'Irish', u'borough': u'Manhattan', u'name': u'Bull Mccabes', u'restaurant_id': u'40537686', u'grades': [{u'date': datetime.datetime(2014, 8, 5, 0, 0), u'grade': u'A', u'score': 13}, {u'date': datetime.datetime(2014, 2, 3, 0, 0), u'grade': u'A', u'score': 12}, {u'date': datetime.datetime(2012, 4, 17, 0, 0), u'grade': u'A', u'score': 10}], u'address': {u'building': u'29', u'street': u'St Marks Place', u'zipcode': u'10003', u'coord': [-73.98830389999999, 40.7290695]}, u'_id': ObjectId('5a04ecc42a4a84fb5633134a')}\n",
      "{u'cuisine': u'Irish', u'borough': u'Manhattan', u'name': u\"O'Hanlon'S Bar\", u'restaurant_id': u'41125878', u'grades': [{u'date': datetime.datetime(2014, 11, 7, 0, 0), u'grade': u'A', u'score': 10}, {u'date': datetime.datetime(2013, 10, 10, 0, 0), u'grade': u'A', u'score': 10}, {u'date': datetime.datetime(2012, 10, 24, 0, 0), u'grade': u'A', u'score': 4}, {u'date': datetime.datetime(2012, 4, 17, 0, 0), u'grade': u'A', u'score': 12}, {u'date': datetime.datetime(2011, 12, 2, 0, 0), u'grade': u'A', u'score': 12}], u'address': {u'building': u'349', u'street': u'East 14 Street', u'zipcode': u'10003', u'coord': [-73.982858, 40.731722]}, u'_id': ObjectId('5a04ecc62a4a84fb5633232c')}\n",
      "{u'cuisine': u'Irish', u'borough': u'Manhattan', u'name': u\"Lillie'S Restaurant\", u'restaurant_id': u'41386625', u'grades': [{u'date': datetime.datetime(2014, 9, 22, 0, 0), u'grade': u'B', u'score': 21}, {u'date': datetime.datetime(2014, 1, 15, 0, 0), u'grade': u'A', u'score': 7}, {u'date': datetime.datetime(2013, 4, 17, 0, 0), u'grade': u'A', u'score': 12}, {u'date': datetime.datetime(2012, 9, 18, 0, 0), u'grade': u'A', u'score': 12}], u'address': {u'building': u'13', u'street': u'East   17 Street', u'zipcode': u'10003', u'coord': [-73.991114, 40.7376662]}, u'_id': ObjectId('5a04ecc82a4a84fb56333180')}\n",
      "{u'cuisine': u'Irish', u'borough': u'Manhattan', u'name': u\"Triona'S Bar Restaurant\", u'restaurant_id': u'41707087', u'grades': [{u'date': datetime.datetime(2014, 2, 3, 0, 0), u'grade': u'A', u'score': 11}, {u'date': datetime.datetime(2013, 1, 22, 0, 0), u'grade': u'A', u'score': 4}], u'address': {u'building': u'192', u'street': u'3 Avenue', u'zipcode': u'10003', u'coord': [-73.985956, 40.735544]}, u'_id': ObjectId('5a04eccd2a4a84fb56335281')}\n",
      "{u'cuisine': u'Irish', u'borough': u'Manhattan', u'name': u'The Copper Still', u'restaurant_id': u'50010993', u'grades': [{u'date': datetime.datetime(2014, 6, 24, 0, 0), u'grade': u'A', u'score': 12}], u'address': {u'building': u'151', u'street': u'2 Avenue', u'zipcode': u'10003', u'coord': [-73.9872437, 40.7295411]}, u'_id': ObjectId('5a04eccf2a4a84fb5633657b')}\n",
      "{u'cuisine': u'Irish', u'borough': u'Manhattan', u'name': u'The Dubliner', u'restaurant_id': u'41393099', u'grades': [{u'date': datetime.datetime(2014, 2, 24, 0, 0), u'grade': u'A', u'score': 12}, {u'date': datetime.datetime(2013, 6, 24, 0, 0), u'grade': u'A', u'score': 5}, {u'date': datetime.datetime(2012, 5, 17, 0, 0), u'grade': u'A', u'score': 10}, {u'date': datetime.datetime(2011, 11, 7, 0, 0), u'grade': u'A', u'score': 7}, {u'date': datetime.datetime(2011, 6, 23, 0, 0), u'grade': u'A', u'score': 13}], u'address': {u'building': u'45', u'street': u'Stone Street', u'zipcode': u'10004', u'coord': [-74.01041260000001, 40.7042965]}, u'_id': ObjectId('5a04ecc82a4a84fb5633321b')}\n",
      "{u'cuisine': u'Irish', u'borough': u'Manhattan', u'name': u'The Dead Rabbit', u'restaurant_id': u'41717852', u'grades': [{u'date': datetime.datetime(2014, 7, 14, 0, 0), u'grade': u'A', u'score': 9}, {u'date': datetime.datetime(2013, 11, 18, 0, 0), u'grade': u'A', u'score': 3}], u'address': {u'building': u'30', u'street': u'Water Street', u'zipcode': u'10004', u'coord': [-74.0110289, 40.7033]}, u'_id': ObjectId('5a04eccd2a4a84fb56335483')}\n",
      "{u'cuisine': u'Irish', u'borough': u'Manhattan', u'name': u'Killarney Rose', u'restaurant_id': u'40366222', u'grades': [{u'date': datetime.datetime(2014, 7, 29, 0, 0), u'grade': u'A', u'score': 11}, {u'date': datetime.datetime(2013, 8, 5, 0, 0), u'grade': u'A', u'score': 7}, {u'date': datetime.datetime(2013, 3, 14, 0, 0), u'grade': u'A', u'score': 2}, {u'date': datetime.datetime(2012, 7, 24, 0, 0), u'grade': u'A', u'score': 12}], u'address': {u'building': u'80', u'street': u'Beaver Street', u'zipcode': u'10005', u'coord': [-74.0086833, 40.7052024]}, u'_id': ObjectId('5a04ecc32a4a84fb56330d66')}\n",
      "{u'cuisine': u'Irish', u'borough': u'Manhattan', u'name': u'Irish Punt', u'restaurant_id': u'40400976', u'grades': [{u'date': datetime.datetime(2014, 12, 8, 0, 0), u'grade': u'A', u'score': 9}, {u'date': datetime.datetime(2014, 5, 21, 0, 0), u'grade': u'A', u'score': 13}, {u'date': datetime.datetime(2013, 11, 6, 0, 0), u'grade': u'A', u'score': 11}, {u'date': datetime.datetime(2013, 4, 8, 0, 0), u'grade': u'A', u'score': 11}, {u'date': datetime.datetime(2012, 9, 4, 0, 0), u'grade': u'A', u'score': 9}, {u'date': datetime.datetime(2012, 4, 6, 0, 0), u'grade': u'A', u'score': 13}], u'address': {u'building': u'40', u'street': u'Exchange Place', u'zipcode': u'10005', u'coord': [-74.0102663, 40.7057236]}, u'_id': ObjectId('5a04ecc42a4a84fb563311a9')}\n",
      "{u'cuisine': u'Irish', u'borough': u'Manhattan', u'name': u'The Full Shilling', u'restaurant_id': u'40727609', u'grades': [{u'date': datetime.datetime(2014, 10, 20, 0, 0), u'grade': u'A', u'score': 7}, {u'date': datetime.datetime(2013, 8, 19, 0, 0), u'grade': u'A', u'score': 2}, {u'date': datetime.datetime(2012, 7, 17, 0, 0), u'grade': u'A', u'score': 12}, {u'date': datetime.datetime(2012, 1, 9, 0, 0), u'grade': u'A', u'score': 10}], u'address': {u'building': u'160', u'street': u'Pearl Street', u'zipcode': u'10005', u'coord': [-74.0074941, 40.7057352]}, u'_id': ObjectId('5a04ecc42a4a84fb563317cb')}\n",
      "{u'cuisine': u'Irish', u'borough': u'Manhattan', u'name': u'Blarney Stone', u'restaurant_id': u'40366574', u'grades': [{u'date': datetime.datetime(2014, 9, 11, 0, 0), u'grade': u'A', u'score': 10}, {u'date': datetime.datetime(2014, 3, 24, 0, 0), u'grade': u'A', u'score': 10}, {u'date': datetime.datetime(2013, 9, 30, 0, 0), u'grade': u'A', u'score': 10}, {u'date': datetime.datetime(2013, 5, 3, 0, 0), u'grade': u'A', u'score': 10}, {u'date': datetime.datetime(2012, 10, 1, 0, 0), u'grade': u'C', u'score': 43}, {u'date': datetime.datetime(2012, 4, 2, 0, 0), u'grade': u'A', u'score': 10}, {u'date': datetime.datetime(2011, 11, 10, 0, 0), u'grade': u'A', u'score': 7}], u'address': {u'building': u'11', u'street': u'Trinity Place', u'zipcode': u'10006', u'coord': [-74.0137007, 40.7062029]}, u'_id': ObjectId('5a04ecc32a4a84fb56330d72')}\n",
      "{u'cuisine': u'Irish', u'borough': u'Manhattan', u'name': u'The Cricketers Arms', u'restaurant_id': u'41703544', u'grades': [{u'date': datetime.datetime(2014, 4, 3, 0, 0), u'grade': u'A', u'score': 9}, {u'date': datetime.datetime(2013, 9, 30, 0, 0), u'grade': u'A', u'score': 13}, {u'date': datetime.datetime(2013, 3, 29, 0, 0), u'grade': u'A', u'score': 9}], u'address': {u'building': u'57', u'street': u'Murray Street', u'zipcode': u'10007', u'coord': [-74.0096063, 40.714478]}, u'_id': ObjectId('5a04eccd2a4a84fb56335183')}\n",
      "{u'cuisine': u'Irish', u'borough': u'Manhattan', u'name': u\"St. Dymphna'S\", u'restaurant_id': u'40535409', u'grades': [{u'date': datetime.datetime(2014, 5, 21, 0, 0), u'grade': u'B', u'score': 14}, {u'date': datetime.datetime(2013, 8, 17, 0, 0), u'grade': u'A', u'score': 9}, {u'date': datetime.datetime(2013, 1, 16, 0, 0), u'grade': u'B', u'score': 26}, {u'date': datetime.datetime(2012, 4, 6, 0, 0), u'grade': u'B', u'score': 0}], u'address': {u'building': u'118', u'street': u'St Marks Place', u'zipcode': u'10009', u'coord': [-73.9840852, 40.7268832]}, u'_id': ObjectId('5a04ecc42a4a84fb56331345')}\n",
      "{u'cuisine': u'Irish', u'borough': u'Manhattan', u'name': u\"Kelly'S\", u'restaurant_id': u'41262775', u'grades': [{u'date': datetime.datetime(2014, 3, 5, 0, 0), u'grade': u'A', u'score': 11}, {u'date': datetime.datetime(2013, 10, 9, 0, 0), u'grade': u'B', u'score': 23}, {u'date': datetime.datetime(2013, 3, 11, 0, 0), u'grade': u'A', u'score': 12}, {u'date': datetime.datetime(2013, 2, 14, 0, 0), u'grade': u'P', u'score': 5}, {u'date': datetime.datetime(2012, 10, 22, 0, 0), u'grade': u'B', u'score': 23}, {u'date': datetime.datetime(2011, 10, 4, 0, 0), u'grade': u'A', u'score': 10}, {u'date': datetime.datetime(2011, 3, 24, 0, 0), u'grade': u'B', u'score': 15}], u'address': {u'building': u'12', u'street': u'Avenue A', u'zipcode': u'10009', u'coord': [-73.9858837, 40.722567]}, u'_id': ObjectId('5a04ecc72a4a84fb563329a8')}\n",
      "{u'cuisine': u'Irish', u'borough': u'Manhattan', u'name': u'One And One', u'restaurant_id': u'41470674', u'grades': [{u'date': datetime.datetime(2014, 10, 21, 0, 0), u'grade': u'A', u'score': 9}, {u'date': datetime.datetime(2013, 9, 17, 0, 0), u'grade': u'A', u'score': 12}, {u'date': datetime.datetime(2013, 3, 6, 0, 0), u'grade': u'A', u'score': 9}, {u'date': datetime.datetime(2012, 9, 4, 0, 0), u'grade': u'B', u'score': 26}, {u'date': datetime.datetime(2012, 3, 13, 0, 0), u'grade': u'B', u'score': 14}], u'address': {u'building': u'12', u'street': u'1 Avenue', u'zipcode': u'10009', u'coord': [-73.9881999, 40.7233026]}, u'_id': ObjectId('5a04ecc92a4a84fb5633386b')}\n",
      "{u'cuisine': u'Irish', u'borough': u'Manhattan', u'name': u\"Percy'S Tavern\", u'restaurant_id': u'41534162', u'grades': [{u'date': datetime.datetime(2014, 12, 3, 0, 0), u'grade': u'A', u'score': 9}, {u'date': datetime.datetime(2014, 6, 23, 0, 0), u'grade': u'A', u'score': 11}, {u'date': datetime.datetime(2013, 5, 10, 0, 0), u'grade': u'A', u'score': 5}, {u'date': datetime.datetime(2012, 11, 26, 0, 0), u'grade': u'A', u'score': 9}], u'address': {u'building': u'210', u'street': u'Avenue A', u'zipcode': u'10009', u'coord': [-73.9806069, 40.7297354]}, u'_id': ObjectId('5a04ecca2a4a84fb56333d28')}\n",
      "{u'cuisine': u'Irish', u'borough': u'Manhattan', u'name': u\"Molly'S\", u'restaurant_id': u'40392872', u'grades': [{u'date': datetime.datetime(2014, 3, 6, 0, 0), u'grade': u'A', u'score': 2}, {u'date': datetime.datetime(2013, 9, 10, 0, 0), u'grade': u'A', u'score': 6}, {u'date': datetime.datetime(2013, 4, 1, 0, 0), u'grade': u'A', u'score': 2}, {u'date': datetime.datetime(2012, 9, 20, 0, 0), u'grade': u'A', u'score': 2}, {u'date': datetime.datetime(2011, 10, 5, 0, 0), u'grade': u'A', u'score': 9}, {u'date': datetime.datetime(2011, 5, 5, 0, 0), u'grade': u'A', u'score': 4}], u'address': {u'building': u'287', u'street': u'3 Avenue', u'zipcode': u'10010', u'coord': [-73.9832361, 40.7382721]}, u'_id': ObjectId('5a04ecc32a4a84fb56331021')}\n",
      "{u'cuisine': u'Irish', u'borough': u'Manhattan', u'name': u'Mc Swiggans', u'restaurant_id': u'41204470', u'grades': [{u'date': datetime.datetime(2014, 12, 29, 0, 0), u'grade': u'A', u'score': 12}, {u'date': datetime.datetime(2014, 7, 21, 0, 0), u'grade': u'A', u'score': 13}, {u'date': datetime.datetime(2014, 1, 13, 0, 0), u'grade': u'A', u'score': 13}, {u'date': datetime.datetime(2013, 4, 16, 0, 0), u'grade': u'A', u'score': 10}, {u'date': datetime.datetime(2012, 10, 23, 0, 0), u'grade': u'A', u'score': 13}, {u'date': datetime.datetime(2012, 3, 19, 0, 0), u'grade': u'B', u'score': 17}], u'address': {u'building': u'393', u'street': u'2 Avenue', u'zipcode': u'10010', u'coord': [-73.9813233, 40.737749]}, u'_id': ObjectId('5a04ecc72a4a84fb56332680')}\n",
      "{u'cuisine': u'Irish', u'borough': u'Manhattan', u'name': u\"Moran'S Chelsea\", u'restaurant_id': u'40365526', u'grades': [{u'date': datetime.datetime(2014, 10, 2, 0, 0), u'grade': u'A', u'score': 10}, {u'date': datetime.datetime(2013, 9, 10, 0, 0), u'grade': u'A', u'score': 12}, {u'date': datetime.datetime(2013, 2, 5, 0, 0), u'grade': u'A', u'score': 12}, {u'date': datetime.datetime(2011, 11, 23, 0, 0), u'grade': u'A', u'score': 11}], u'address': {u'building': u'146', u'street': u'10 Avenue', u'zipcode': u'10011', u'coord': [-74.0056649, 40.7452371]}, u'_id': ObjectId('5a04ecc32a4a84fb56330d4c')}\n",
      "{u'cuisine': u'Irish', u'borough': u'Manhattan', u'name': u'Peter Mcmanus', u'restaurant_id': u'40755172', u'grades': [{u'date': datetime.datetime(2014, 11, 26, 0, 0), u'grade': u'A', u'score': 8}, {u'date': datetime.datetime(2014, 6, 20, 0, 0), u'grade': u'C', u'score': 11}, {u'date': datetime.datetime(2014, 5, 16, 0, 0), u'grade': u'P', u'score': 2}, {u'date': datetime.datetime(2013, 10, 31, 0, 0), u'grade': u'C', u'score': 46}, {u'date': datetime.datetime(2013, 3, 28, 0, 0), u'grade': u'B', u'score': 14}, {u'date': datetime.datetime(2012, 8, 27, 0, 0), u'grade': u'A', u'score': 7}, {u'date': datetime.datetime(2012, 3, 12, 0, 0), u'grade': u'B', u'score': 17}], u'address': {u'building': u'152', u'street': u'7 Avenue', u'zipcode': u'10011', u'coord': [-73.997653, 40.741859]}, u'_id': ObjectId('5a04ecc52a4a84fb5633189f')}\n",
      "{u'cuisine': u'Irish', u'borough': u'Manhattan', u'name': u\"Jake'S Saloon\", u'restaurant_id': u'41096461', u'grades': [{u'date': datetime.datetime(2014, 3, 5, 0, 0), u'grade': u'A', u'score': 12}, {u'date': datetime.datetime(2013, 1, 30, 0, 0), u'grade': u'A', u'score': 12}, {u'date': datetime.datetime(2012, 1, 19, 0, 0), u'grade': u'A', u'score': 9}], u'address': {u'building': u'206', u'street': u'West   23 Street', u'zipcode': u'10011', u'coord': [-73.9962038, 40.744116]}, u'_id': ObjectId('5a04ecc62a4a84fb56332217')}\n",
      "{u'cuisine': u'Irish', u'borough': u'Manhattan', u'name': u'Slainte', u'restaurant_id': u'41012338', u'grades': [{u'date': datetime.datetime(2014, 2, 19, 0, 0), u'grade': u'A', u'score': 8}, {u'date': datetime.datetime(2012, 12, 27, 0, 0), u'grade': u'A', u'score': 12}, {u'date': datetime.datetime(2012, 7, 19, 0, 0), u'grade': u'A', u'score': 9}, {u'date': datetime.datetime(2012, 2, 22, 0, 0), u'grade': u'A', u'score': 2}, {u'date': datetime.datetime(2011, 7, 27, 0, 0), u'grade': u'A', u'score': 12}], u'address': {u'building': u'304', u'street': u'Bowery', u'zipcode': u'10012', u'coord': [-73.99283199999999, 40.724811]}, u'_id': ObjectId('5a04ecc52a4a84fb56331f2d')}\n",
      "{u'cuisine': u'Irish', u'borough': u'Manhattan', u'name': u\"Triona'S\", u'restaurant_id': u'41444651', u'grades': [{u'date': datetime.datetime(2014, 12, 29, 0, 0), u'grade': u'A', u'score': 13}, {u'date': datetime.datetime(2014, 5, 13, 0, 0), u'grade': u'A', u'score': 11}, {u'date': datetime.datetime(2013, 10, 3, 0, 0), u'grade': u'A', u'score': 13}, {u'date': datetime.datetime(2012, 8, 29, 0, 0), u'grade': u'A', u'score': 13}], u'address': {u'building': u'237', u'street': u'Sullivan Street', u'zipcode': u'10012', u'coord': [-73.9993702, 40.72983019999999]}, u'_id': ObjectId('5a04ecc92a4a84fb56333609')}\n",
      "{u'cuisine': u'Irish', u'borough': u'Manhattan', u'name': u\"Barrow'S Pub\", u'restaurant_id': u'40554183', u'grades': [{u'date': datetime.datetime(2014, 9, 9, 0, 0), u'grade': u'B', u'score': 16}, {u'date': datetime.datetime(2014, 3, 24, 0, 0), u'grade': u'A', u'score': 11}, {u'date': datetime.datetime(2013, 8, 15, 0, 0), u'grade': u'B', u'score': 24}, {u'date': datetime.datetime(2012, 7, 31, 0, 0), u'grade': u'A', u'score': 12}], u'address': {u'building': u'463', u'street': u'Hudson Street', u'zipcode': u'10014', u'coord': [-74.00689899999999, 40.731578]}, u'_id': ObjectId('5a04ecc42a4a84fb563313ca')}\n",
      "{u'cuisine': u'Irish', u'borough': u'Manhattan', u'name': u'Wilfie & Nell', u'restaurant_id': u'41372275', u'grades': [{u'date': datetime.datetime(2014, 5, 10, 0, 0), u'grade': u'A', u'score': 9}, {u'date': datetime.datetime(2013, 4, 23, 0, 0), u'grade': u'A', u'score': 13}, {u'date': datetime.datetime(2012, 4, 17, 0, 0), u'grade': u'A', u'score': 9}], u'address': {u'building': u'228', u'street': u'West    4 Street', u'zipcode': u'10014', u'coord': [-74.00318, 40.734035]}, u'_id': ObjectId('5a04ecc82a4a84fb56333046')}\n",
      "{u'cuisine': u'Irish', u'borough': u'Manhattan', u'name': u'Downtown Galway Hooker', u'restaurant_id': u'41443815', u'grades': [{u'date': datetime.datetime(2014, 11, 15, 0, 0), u'grade': u'A', u'score': 12}, {u'date': datetime.datetime(2013, 5, 29, 0, 0), u'grade': u'A', u'score': 11}, {u'date': datetime.datetime(2012, 10, 18, 0, 0), u'grade': u'A', u'score': 11}, {u'date': datetime.datetime(2012, 5, 11, 0, 0), u'grade': u'A', u'score': 12}, {u'date': datetime.datetime(2011, 12, 16, 0, 0), u'grade': u'A', u'score': 13}], u'address': {u'building': u'133', u'street': u'7 Avenue South', u'zipcode': u'10014', u'coord': [-74.0019949, 40.73455999999999]}, u'_id': ObjectId('5a04ecc92a4a84fb563335fb')}\n",
      "{u'cuisine': u'Irish', u'borough': u'Manhattan', u'name': u\"Mulligan'S Pub\", u'restaurant_id': u'40400559', u'grades': [{u'date': datetime.datetime(2014, 10, 30, 0, 0), u'grade': u'A', u'score': 7}, {u'date': datetime.datetime(2014, 6, 4, 0, 0), u'grade': u'A', u'score': 10}, {u'date': datetime.datetime(2013, 12, 10, 0, 0), u'grade': u'A', u'score': 11}, {u'date': datetime.datetime(2013, 4, 30, 0, 0), u'grade': u'B', u'score': 17}, {u'date': datetime.datetime(2012, 4, 3, 0, 0), u'grade': u'A', u'score': 13}, {u'date': datetime.datetime(2011, 11, 17, 0, 0), u'grade': u'A', u'score': 9}], u'address': {u'building': u'267', u'street': u'Madison Avenue', u'zipcode': u'10016', u'coord': [-73.980271, 40.750972]}, u'_id': ObjectId('5a04ecc42a4a84fb56331192')}\n",
      "{u'cuisine': u'Irish', u'borough': u'Manhattan', u'name': u'Failte', u'restaurant_id': u'40672603', u'grades': [{u'date': datetime.datetime(2014, 11, 12, 0, 0), u'grade': u'A', u'score': 10}, {u'date': datetime.datetime(2014, 4, 7, 0, 0), u'grade': u'A', u'score': 12}, {u'date': datetime.datetime(2013, 3, 4, 0, 0), u'grade': u'A', u'score': 7}, {u'date': datetime.datetime(2012, 8, 27, 0, 0), u'grade': u'B', u'score': 19}, {u'date': datetime.datetime(2012, 2, 23, 0, 0), u'grade': u'A', u'score': 3}], u'address': {u'building': u'531', u'street': u'2 Avenue', u'zipcode': u'10016', u'coord': [-73.9782111, 40.74211100000001]}, u'_id': ObjectId('5a04ecc42a4a84fb5633169a')}\n",
      "{u'cuisine': u'Irish', u'borough': u'Manhattan', u'name': u'The Black Sheep', u'restaurant_id': u'40676550', u'grades': [{u'date': datetime.datetime(2014, 12, 15, 0, 0), u'grade': u'A', u'score': 10}, {u'date': datetime.datetime(2014, 6, 24, 0, 0), u'grade': u'A', u'score': 5}, {u'date': datetime.datetime(2013, 12, 12, 0, 0), u'grade': u'A', u'score': 13}, {u'date': datetime.datetime(2012, 10, 3, 0, 0), u'grade': u'A', u'score': 9}, {u'date': datetime.datetime(2012, 3, 13, 0, 0), u'grade': u'A', u'score': 12}], u'address': {u'building': u'583', u'street': u'3 Avenue', u'zipcode': u'10016', u'coord': [-73.9758372, 40.7482969]}, u'_id': ObjectId('5a04ecc42a4a84fb563316ac')}\n",
      "{u'cuisine': u'Irish', u'borough': u'Manhattan', u'name': u\"Peter Dillon'S Bar\", u'restaurant_id': u'40842393', u'grades': [{u'date': datetime.datetime(2014, 2, 18, 0, 0), u'grade': u'A', u'score': 11}, {u'date': datetime.datetime(2013, 6, 18, 0, 0), u'grade': u'A', u'score': 6}, {u'date': datetime.datetime(2012, 12, 18, 0, 0), u'grade': u'A', u'score': 4}, {u'date': datetime.datetime(2012, 5, 31, 0, 0), u'grade': u'A', u'score': 11}, {u'date': datetime.datetime(2011, 12, 14, 0, 0), u'grade': u'A', u'score': 8}, {u'date': datetime.datetime(2011, 6, 28, 0, 0), u'grade': u'A', u'score': 10}], u'address': {u'building': u'130', u'street': u'East   40 Street', u'zipcode': u'10016', u'coord': [-73.9767883, 40.749929]}, u'_id': ObjectId('5a04ecc52a4a84fb56331a24')}\n",
      "{u'cuisine': u'Irish', u'borough': u'Manhattan', u'name': u'Galway Pub', u'restaurant_id': u'41219092', u'grades': [{u'date': datetime.datetime(2014, 8, 27, 0, 0), u'grade': u'A', u'score': 9}, {u'date': datetime.datetime(2014, 1, 16, 0, 0), u'grade': u'A', u'score': 13}, {u'date': datetime.datetime(2013, 5, 14, 0, 0), u'grade': u'A', u'score': 11}, {u'date': datetime.datetime(2012, 9, 12, 0, 0), u'grade': u'A', u'score': 13}, {u'date': datetime.datetime(2011, 12, 12, 0, 0), u'grade': u'B', u'score': 19}], u'address': {u'building': u'7', u'street': u'East 36 Street', u'zipcode': u'10016', u'coord': [-73.9830132, 40.749605]}, u'_id': ObjectId('5a04ecc72a4a84fb56332729')}\n",
      "{u'cuisine': u'Irish', u'borough': u'Manhattan', u'name': u\"Peter Dillon'S\", u'restaurant_id': u'41706232', u'grades': [{u'date': datetime.datetime(2015, 1, 2, 0, 0), u'grade': u'Z', u'score': 21}, {u'date': datetime.datetime(2014, 5, 5, 0, 0), u'grade': u'B', u'score': 15}, {u'date': datetime.datetime(2013, 3, 21, 0, 0), u'grade': u'A', u'score': 12}], u'address': {u'building': u'385', u'street': u'5 Avenue', u'zipcode': u'10016', u'coord': [-73.98346260000001, 40.7494923]}, u'_id': ObjectId('5a04eccd2a4a84fb56335254')}\n",
      "{u'cuisine': u'Irish', u'borough': u'Manhattan', u'name': u'Bar Rua', u'restaurant_id': u'50001225', u'grades': [{u'date': datetime.datetime(2014, 10, 14, 0, 0), u'grade': u'A', u'score': 4}, {u'date': datetime.datetime(2013, 8, 19, 0, 0), u'grade': u'A', u'score': 3}], u'address': {u'building': u'497', u'street': u'3 Avenue', u'zipcode': u'10016', u'coord': [-73.978066, 40.745286]}, u'_id': ObjectId('5a04ecce2a4a84fb56335857')}\n",
      "{u'cuisine': u'Irish', u'borough': u'Manhattan', u'name': u'Turnmill', u'restaurant_id': u'50001588', u'grades': [{u'date': datetime.datetime(2014, 10, 9, 0, 0), u'grade': u'A', u'score': 8}, {u'date': datetime.datetime(2014, 1, 27, 0, 0), u'grade': u'A', u'score': 13}], u'address': {u'building': u'119', u'street': u'East 27 Street', u'zipcode': u'10016', u'coord': [-73.9835732, 40.7425511]}, u'_id': ObjectId('5a04ecce2a4a84fb56335924')}\n",
      "{u'cuisine': u'Irish', u'borough': u'Manhattan', u'name': u'Pj Morans', u'restaurant_id': u'40384222', u'grades': [{u'date': datetime.datetime(2014, 5, 13, 0, 0), u'grade': u'A', u'score': 9}, {u'date': datetime.datetime(2013, 10, 24, 0, 0), u'grade': u'A', u'score': 10}, {u'date': datetime.datetime(2013, 3, 8, 0, 0), u'grade': u'A', u'score': 7}, {u'date': datetime.datetime(2012, 6, 20, 0, 0), u'grade': u'B', u'score': 20}, {u'date': datetime.datetime(2011, 11, 3, 0, 0), u'grade': u'A', u'score': 13}, {u'date': datetime.datetime(2011, 5, 26, 0, 0), u'grade': u'A', u'score': 13}], u'address': {u'building': u'3', u'street': u'East   48 Street', u'zipcode': u'10017', u'coord': [-73.97746699999999, 40.757261]}, u'_id': ObjectId('5a04ecc32a4a84fb56330f0d')}\n",
      "{u'cuisine': u'Irish', u'borough': u'Manhattan', u'name': u'Muldoons Bar', u'restaurant_id': u'40393855', u'grades': [{u'date': datetime.datetime(2014, 6, 30, 0, 0), u'grade': u'B', u'score': 17}, {u'date': datetime.datetime(2013, 10, 24, 0, 0), u'grade': u'B', u'score': 16}, {u'date': datetime.datetime(2013, 5, 17, 0, 0), u'grade': u'B', u'score': 15}, {u'date': datetime.datetime(2012, 9, 18, 0, 0), u'grade': u'B', u'score': 23}, {u'date': datetime.datetime(2012, 4, 23, 0, 0), u'grade': u'A', u'score': 11}, {u'date': datetime.datetime(2011, 12, 2, 0, 0), u'grade': u'B', u'score': 17}], u'address': {u'building': u'692', u'street': u'3 Avenue', u'zipcode': u'10017', u'coord': [-73.9739876, 40.7518635]}, u'_id': ObjectId('5a04ecc32a4a84fb5633104c')}\n",
      "{u'cuisine': u'Irish', u'borough': u'Manhattan', u'name': u\"Annie Moore'S Restaurant\", u'restaurant_id': u'40400992', u'grades': [{u'date': datetime.datetime(2014, 4, 14, 0, 0), u'grade': u'A', u'score': 9}, {u'date': datetime.datetime(2013, 9, 10, 0, 0), u'grade': u'A', u'score': 13}, {u'date': datetime.datetime(2013, 1, 29, 0, 0), u'grade': u'A', u'score': 12}, {u'date': datetime.datetime(2012, 8, 16, 0, 0), u'grade': u'A', u'score': 10}, {u'date': datetime.datetime(2011, 8, 8, 0, 0), u'grade': u'A', u'score': 13}], u'address': {u'building': u'50', u'street': u'East   43 Street', u'zipcode': u'10017', u'coord': [-73.9782432, 40.7530749]}, u'_id': ObjectId('5a04ecc42a4a84fb563311ab')}\n",
      "{u'cuisine': u'Irish', u'borough': u'Manhattan', u'name': u\"Connolly'S Pub\", u'restaurant_id': u'40512865', u'grades': [{u'date': datetime.datetime(2014, 6, 30, 0, 0), u'grade': u'A', u'score': 12}, {u'date': datetime.datetime(2014, 1, 16, 0, 0), u'grade': u'A', u'score': 13}, {u'date': datetime.datetime(2012, 12, 10, 0, 0), u'grade': u'A', u'score': 7}, {u'date': datetime.datetime(2012, 7, 18, 0, 0), u'grade': u'A', u'score': 11}], u'address': {u'building': u'14', u'street': u'East   47 Street', u'zipcode': u'10017', u'coord': [-73.9778118, 40.7561728]}, u'_id': ObjectId('5a04ecc42a4a84fb563312b6')}\n",
      "{u'cuisine': u'Irish', u'borough': u'Manhattan', u'name': u\"Eamonn'S Bar And Grill\", u'restaurant_id': u'40950482', u'grades': [{u'date': datetime.datetime(2015, 1, 12, 0, 0), u'grade': u'A', u'score': 12}, {u'date': datetime.datetime(2014, 7, 24, 0, 0), u'grade': u'A', u'score': 9}, {u'date': datetime.datetime(2014, 1, 7, 0, 0), u'grade': u'A', u'score': 8}, {u'date': datetime.datetime(2012, 10, 1, 0, 0), u'grade': u'A', u'score': 13}], u'address': {u'building': u'9', u'street': u'East   45 Street', u'zipcode': u'10017', u'coord': [-73.97852, 40.755251]}, u'_id': ObjectId('5a04ecc52a4a84fb56331d22')}\n",
      "{u'cuisine': u'Irish', u'borough': u'Manhattan', u'name': u'The Perfect Pint', u'restaurant_id': u'41382830', u'grades': [{u'date': datetime.datetime(2014, 9, 9, 0, 0), u'grade': u'A', u'score': 12}, {u'date': datetime.datetime(2013, 9, 9, 0, 0), u'grade': u'A', u'score': 4}, {u'date': datetime.datetime(2012, 9, 10, 0, 0), u'grade': u'A', u'score': 11}, {u'date': datetime.datetime(2012, 4, 23, 0, 0), u'grade': u'A', u'score': 9}], u'address': {u'building': u'203', u'street': u'East   45 Street', u'zipcode': u'10017', u'coord': [-73.9726551, 40.7526659]}, u'_id': ObjectId('5a04ecc82a4a84fb56333129')}\n",
      "{u'cuisine': u'Irish', u'borough': u'Manhattan', u'name': u\"O'Casey'S\", u'restaurant_id': u'41504953', u'grades': [{u'date': datetime.datetime(2014, 6, 2, 0, 0), u'grade': u'A', u'score': 11}, {u'date': datetime.datetime(2013, 12, 17, 0, 0), u'grade': u'B', u'score': 19}, {u'date': datetime.datetime(2013, 5, 13, 0, 0), u'grade': u'B', u'score': 16}, {u'date': datetime.datetime(2012, 9, 7, 0, 0), u'grade': u'A', u'score': 13}, {u'date': datetime.datetime(2011, 8, 15, 0, 0), u'grade': u'A', u'score': 12}], u'address': {u'building': u'22', u'street': u'East   41 Street', u'zipcode': u'10017', u'coord': [-73.980414, 40.7520949]}, u'_id': ObjectId('5a04ecc92a4a84fb56333b41')}\n",
      "{u'cuisine': u'Irish', u'borough': u'Manhattan', u'name': u\"Mcfadden'S\", u'restaurant_id': u'50017444', u'grades': [{u'date': datetime.datetime(2015, 1, 12, 0, 0), u'grade': u'Z', u'score': 22}], u'address': {u'building': u'800', u'street': u'2 Avenue', u'zipcode': u'10017', u'coord': [-73.97172789999999, 40.749838]}, u'_id': ObjectId('5a04ecd02a4a84fb56336d63')}\n",
      "{u'cuisine': u'Irish', u'borough': u'Manhattan', u'name': u\"Mc Ann'S\", u'restaurant_id': u'40918543', u'grades': [{u'date': datetime.datetime(2014, 4, 16, 0, 0), u'grade': u'A', u'score': 4}, {u'date': datetime.datetime(2013, 4, 11, 0, 0), u'grade': u'A', u'score': 9}, {u'date': datetime.datetime(2012, 4, 9, 0, 0), u'grade': u'A', u'score': 12}, {u'date': datetime.datetime(2011, 10, 7, 0, 0), u'grade': u'A', u'score': 5}, {u'date': datetime.datetime(2011, 5, 14, 0, 0), u'grade': u'C', u'score': 45}], u'address': {u'building': u'625', u'street': u'8 Avenue', u'zipcode': u'10018', u'coord': [-73.990494, 40.7569545]}, u'_id': ObjectId('5a04ecc52a4a84fb56331bee')}\n",
      "{u'cuisine': u'Irish', u'borough': u'Manhattan', u'name': u\"Blaggard'S Pub\", u'restaurant_id': u'40944804', u'grades': [{u'date': datetime.datetime(2014, 8, 5, 0, 0), u'grade': u'A', u'score': 11}, {u'date': datetime.datetime(2014, 1, 21, 0, 0), u'grade': u'A', u'score': 12}, {u'date': datetime.datetime(2013, 4, 29, 0, 0), u'grade': u'A', u'score': 13}, {u'date': datetime.datetime(2012, 8, 15, 0, 0), u'grade': u'A', u'score': 12}, {u'date': datetime.datetime(2012, 3, 9, 0, 0), u'grade': u'A', u'score': 7}, {u'date': datetime.datetime(2011, 12, 7, 0, 0), u'grade': u'P', u'score': 2}], u'address': {u'building': u'8', u'street': u'West   38 Street', u'zipcode': u'10018', u'coord': [-73.98360219999999, 40.7510744]}, u'_id': ObjectId('5a04ecc52a4a84fb56331cde')}\n",
      "{u'cuisine': u'Irish', u'borough': u'Manhattan', u'name': u\"Gabby O'Haras\", u'restaurant_id': u'41242148', u'grades': [{u'date': datetime.datetime(2014, 10, 2, 0, 0), u'grade': u'A', u'score': 6}, {u'date': datetime.datetime(2013, 9, 23, 0, 0), u'grade': u'A', u'score': 10}, {u'date': datetime.datetime(2013, 4, 18, 0, 0), u'grade': u'A', u'score': 10}, {u'date': datetime.datetime(2012, 3, 28, 0, 0), u'grade': u'A', u'score': 12}, {u'date': datetime.datetime(2011, 11, 14, 0, 0), u'grade': u'A', u'score': 12}], u'address': {u'building': u'123', u'street': u'West   39 Street', u'zipcode': u'10018', u'coord': [-73.9863984, 40.7535778]}, u'_id': ObjectId('5a04ecc72a4a84fb56332880')}\n",
      "{u'cuisine': u'Irish', u'borough': u'Manhattan', u'name': u\"Scallywag'S Irish Pub & Rest\", u'restaurant_id': u'41696929', u'grades': [{u'date': datetime.datetime(2014, 9, 18, 0, 0), u'grade': u'B', u'score': 14}, {u'date': datetime.datetime(2013, 9, 6, 0, 0), u'grade': u'A', u'score': 12}, {u'date': datetime.datetime(2013, 2, 7, 0, 0), u'grade': u'A', u'score': 10}], u'address': {u'building': u'508', u'street': u'9 Avenue', u'zipcode': u'10018', u'coord': [-73.993948, 40.756057]}, u'_id': ObjectId('5a04eccd2a4a84fb56335042')}\n",
      "{u'cuisine': u'Irish', u'borough': u'Manhattan', u'name': u'The Keg Room', u'restaurant_id': u'41702685', u'grades': [{u'date': datetime.datetime(2014, 3, 13, 0, 0), u'grade': u'A', u'score': 10}, {u'date': datetime.datetime(2013, 9, 23, 0, 0), u'grade': u'A', u'score': 9}, {u'date': datetime.datetime(2013, 3, 28, 0, 0), u'grade': u'A', u'score': 10}], u'address': {u'building': u'53', u'street': u'West   36 Street', u'zipcode': u'10018', u'coord': [-73.985823, 40.750905]}, u'_id': ObjectId('5a04eccd2a4a84fb56335159')}\n",
      "{u'cuisine': u'Irish', u'borough': u'Manhattan', u'name': u'Dj Reynolds Pub And Restaurant', u'restaurant_id': u'30191841', u'grades': [{u'date': datetime.datetime(2014, 9, 6, 0, 0), u'grade': u'A', u'score': 2}, {u'date': datetime.datetime(2013, 7, 22, 0, 0), u'grade': u'A', u'score': 11}, {u'date': datetime.datetime(2012, 7, 31, 0, 0), u'grade': u'A', u'score': 12}, {u'date': datetime.datetime(2011, 12, 29, 0, 0), u'grade': u'A', u'score': 12}], u'address': {u'building': u'351', u'street': u'West   57 Street', u'zipcode': u'10019', u'coord': [-73.98513559999999, 40.7676919]}, u'_id': ObjectId('5a04ecc32a4a84fb56330cd8')}\n",
      "{u'cuisine': u'Irish', u'borough': u'Manhattan', u'name': u\"Rosie O'Grady Restaurant\", u'restaurant_id': u'40374711', u'grades': [{u'date': datetime.datetime(2014, 9, 26, 0, 0), u'grade': u'A', u'score': 3}, {u'date': datetime.datetime(2013, 9, 23, 0, 0), u'grade': u'A', u'score': 11}, {u'date': datetime.datetime(2012, 10, 3, 0, 0), u'grade': u'A', u'score': 9}, {u'date': datetime.datetime(2011, 10, 20, 0, 0), u'grade': u'A', u'score': 7}], u'address': {u'building': u'800', u'street': u'7 Avenue', u'zipcode': u'10019', u'coord': [-73.982506, 40.762621]}, u'_id': ObjectId('5a04ecc32a4a84fb56330e63')}\n",
      "{u'cuisine': u'Irish', u'borough': u'Manhattan', u'name': u\"Pj Carney'S\", u'restaurant_id': u'40376735', u'grades': [{u'date': datetime.datetime(2014, 9, 17, 0, 0), u'grade': u'A', u'score': 11}, {u'date': datetime.datetime(2014, 3, 20, 0, 0), u'grade': u'A', u'score': 11}, {u'date': datetime.datetime(2013, 8, 6, 0, 0), u'grade': u'A', u'score': 13}, {u'date': datetime.datetime(2012, 7, 23, 0, 0), u'grade': u'A', u'score': 9}, {u'date': datetime.datetime(2011, 12, 14, 0, 0), u'grade': u'A', u'score': 7}], u'address': {u'building': u'906', u'street': u'7 Avenue', u'zipcode': u'10019', u'coord': [-73.980002, 40.7659216]}, u'_id': ObjectId('5a04ecc32a4a84fb56330e89')}\n",
      "{u'cuisine': u'Irish', u'borough': u'Manhattan', u'name': u\"Mccoy'S Pub\", u'restaurant_id': u'40397359', u'grades': [{u'date': datetime.datetime(2014, 11, 14, 0, 0), u'grade': u'A', u'score': 12}, {u'date': datetime.datetime(2013, 11, 4, 0, 0), u'grade': u'A', u'score': 10}, {u'date': datetime.datetime(2012, 10, 18, 0, 0), u'grade': u'A', u'score': 8}, {u'date': datetime.datetime(2012, 5, 31, 0, 0), u'grade': u'A', u'score': 13}], u'address': {u'building': u'768', u'street': u'9 Avenue', u'zipcode': u'10019', u'coord': [-73.98796700000001, 40.764263]}, u'_id': ObjectId('5a04ecc42a4a84fb56331107')}\n",
      "{u'cuisine': u'Irish', u'borough': u'Manhattan', u'name': u'Playwright Celtic Pub', u'restaurant_id': u'40801855', u'grades': [{u'date': datetime.datetime(2014, 9, 12, 0, 0), u'grade': u'A', u'score': 10}, {u'date': datetime.datetime(2014, 3, 25, 0, 0), u'grade': u'B', u'score': 23}, {u'date': datetime.datetime(2013, 8, 6, 0, 0), u'grade': u'A', u'score': 13}, {u'date': datetime.datetime(2012, 12, 13, 0, 0), u'grade': u'B', u'score': 15}, {u'date': datetime.datetime(2012, 3, 12, 0, 0), u'grade': u'A', u'score': 9}, {u'date': datetime.datetime(2011, 11, 1, 0, 0), u'grade': u'A', u'score': 10}], u'address': {u'building': u'202', u'street': u'West   49 Street', u'zipcode': u'10019', u'coord': [-73.98416, 40.760478]}, u'_id': ObjectId('5a04ecc52a4a84fb5633195d')}\n",
      "{u'cuisine': u'Irish', u'borough': u'Manhattan', u'name': u'The Irish Pub', u'restaurant_id': u'40850417', u'grades': [{u'date': datetime.datetime(2014, 3, 14, 0, 0), u'grade': u'A', u'score': 3}, {u'date': datetime.datetime(2013, 3, 6, 0, 0), u'grade': u'A', u'score': 11}, {u'date': datetime.datetime(2012, 2, 17, 0, 0), u'grade': u'A', u'score': 7}], u'address': {u'building': u'837', u'street': u'7 Avenue', u'zipcode': u'10019', u'coord': [-73.9810937, 40.7631017]}, u'_id': ObjectId('5a04ecc52a4a84fb56331a4f')}\n",
      "{u'cuisine': u'Irish', u'borough': u'Manhattan', u'name': u\"Cassidy'S Pub\", u'restaurant_id': u'40942069', u'grades': [{u'date': datetime.datetime(2014, 5, 3, 0, 0), u'grade': u'A', u'score': 13}, {u'date': datetime.datetime(2013, 4, 22, 0, 0), u'grade': u'A', u'score': 12}, {u'date': datetime.datetime(2012, 3, 13, 0, 0), u'grade': u'A', u'score': 11}], u'address': {u'building': u'65', u'street': u'West   55 Street', u'zipcode': u'10019', u'coord': [-73.97721779999999, 40.7628745]}, u'_id': ObjectId('5a04ecc52a4a84fb56331cc5')}\n",
      "{u'cuisine': u'Irish', u'borough': u'Manhattan', u'name': u\"Emmett O'Lunney'S Irish Pub\", u'restaurant_id': u'41142467', u'grades': [{u'date': datetime.datetime(2014, 8, 13, 0, 0), u'grade': u'A', u'score': 10}, {u'date': datetime.datetime(2013, 8, 2, 0, 0), u'grade': u'A', u'score': 13}, {u'date': datetime.datetime(2012, 7, 31, 0, 0), u'grade': u'A', u'score': 10}, {u'date': datetime.datetime(2012, 3, 5, 0, 0), u'grade': u'A', u'score': 13}, {u'date': datetime.datetime(2011, 10, 19, 0, 0), u'grade': u'A', u'score': 13}], u'address': {u'building': u'210', u'street': u'West   50 Street', u'zipcode': u'10019', u'coord': [-73.9847763, 40.76143680000001]}, u'_id': ObjectId('5a04ecc62a4a84fb563323be')}\n",
      "{u'cuisine': u'Irish', u'borough': u'Manhattan', u'name': u\"Connolly'S Pub\", u'restaurant_id': u'41148931', u'grades': [{u'date': datetime.datetime(2014, 8, 13, 0, 0), u'grade': u'A', u'score': 9}, {u'date': datetime.datetime(2013, 8, 6, 0, 0), u'grade': u'A', u'score': 2}, {u'date': datetime.datetime(2013, 3, 14, 0, 0), u'grade': u'A', u'score': 13}, {u'date': datetime.datetime(2012, 9, 10, 0, 0), u'grade': u'A', u'score': 12}, {u'date': datetime.datetime(2012, 4, 16, 0, 0), u'grade': u'A', u'score': 11}, {u'date': datetime.datetime(2011, 11, 28, 0, 0), u'grade': u'A', u'score': 7}], u'address': {u'building': u'43', u'street': u'West   54 Street', u'zipcode': u'10019', u'coord': [-73.977502, 40.762192]}, u'_id': ObjectId('5a04ecc62a4a84fb56332402')}\n",
      "{u'cuisine': u'Irish', u'borough': u'Manhattan', u'name': u'Hibernia', u'restaurant_id': u'41347045', u'grades': [{u'date': datetime.datetime(2014, 7, 7, 0, 0), u'grade': u'A', u'score': 13}, {u'date': datetime.datetime(2013, 6, 25, 0, 0), u'grade': u'A', u'score': 10}, {u'date': datetime.datetime(2012, 7, 5, 0, 0), u'grade': u'A', u'score': 8}], u'address': {u'building': u'401', u'street': u'West   50 Street', u'zipcode': u'10019', u'coord': [-73.9891719, 40.7637188]}, u'_id': ObjectId('5a04ecc82a4a84fb56332eb2')}\n",
      "{u'cuisine': u'Irish', u'borough': u'Manhattan', u'name': u'Characters Nyc Bar & Grill', u'restaurant_id': u'41488442', u'grades': [{u'date': datetime.datetime(2014, 7, 22, 0, 0), u'grade': u'A', u'score': 9}, {u'date': datetime.datetime(2014, 1, 8, 0, 0), u'grade': u'A', u'score': 13}, {u'date': datetime.datetime(2013, 3, 25, 0, 0), u'grade': u'A', u'score': 8}, {u'date': datetime.datetime(2012, 1, 11, 0, 0), u'grade': u'A', u'score': 12}, {u'date': datetime.datetime(2011, 8, 17, 0, 0), u'grade': u'A', u'score': 10}], u'address': {u'building': u'243', u'street': u'West   54 Street', u'zipcode': u'10019', u'coord': [-73.9832376, 40.7645209]}, u'_id': ObjectId('5a04ecc92a4a84fb56333a07')}\n",
      "{u'cuisine': u'Irish', u'borough': u'Manhattan', u'name': u\"Molloy'S Irish Pub\", u'restaurant_id': u'41542642', u'grades': [{u'date': datetime.datetime(2014, 9, 17, 0, 0), u'grade': u'A', u'score': 12}, {u'date': datetime.datetime(2014, 1, 27, 0, 0), u'grade': u'C', u'score': 33}, {u'date': datetime.datetime(2012, 12, 17, 0, 0), u'grade': u'A', u'score': 10}, {u'date': datetime.datetime(2012, 6, 21, 0, 0), u'grade': u'A', u'score': 12}], u'address': {u'building': u'737', u'street': u'9 Avenue', u'zipcode': u'10019', u'coord': [-73.98939720000001, 40.7635119]}, u'_id': ObjectId('5a04ecca2a4a84fb56333dd0')}\n",
      "{u'cuisine': u'Irish', u'borough': u'Manhattan', u'name': u\"Alfie'S\", u'restaurant_id': u'41671103', u'grades': [{u'date': datetime.datetime(2014, 12, 30, 0, 0), u'grade': u'A', u'score': 5}, {u'date': datetime.datetime(2013, 12, 23, 0, 0), u'grade': u'A', u'score': 7}, {u'date': datetime.datetime(2012, 11, 30, 0, 0), u'grade': u'A', u'score': 5}], u'address': {u'building': u'800', u'street': u'9 Avenue', u'zipcode': u'10019', u'coord': [-73.9872409, 40.7654155]}, u'_id': ObjectId('5a04eccc2a4a84fb56334cb1')}\n",
      "{u'cuisine': u'Irish', u'borough': u'Manhattan', u'name': u\"Murphy'S Law\", u'restaurant_id': u'40564858', u'grades': [{u'date': datetime.datetime(2014, 12, 15, 0, 0), u'grade': u'Z', u'score': 16}, {u'date': datetime.datetime(2014, 7, 17, 0, 0), u'grade': u'B', u'score': 16}, {u'date': datetime.datetime(2013, 11, 20, 0, 0), u'grade': u'B', u'score': 22}, {u'date': datetime.datetime(2013, 4, 10, 0, 0), u'grade': u'A', u'score': 13}, {u'date': datetime.datetime(2012, 8, 23, 0, 0), u'grade': u'A', u'score': 7}, {u'date': datetime.datetime(2012, 1, 25, 0, 0), u'grade': u'A', u'score': 8}], u'address': {u'building': u'417', u'street': u'East 70 Street', u'zipcode': u'10021', u'coord': [-73.9557963, 40.7662241]}, u'_id': ObjectId('5a04ecc42a4a84fb56331430')}\n",
      "{u'cuisine': u'Irish', u'borough': u'Manhattan', u'name': u'Banshee Pub', u'restaurant_id': u'40819820', u'grades': [{u'date': datetime.datetime(2014, 4, 16, 0, 0), u'grade': u'A', u'score': 11}, {u'date': datetime.datetime(2013, 10, 10, 0, 0), u'grade': u'A', u'score': 10}, {u'date': datetime.datetime(2013, 1, 24, 0, 0), u'grade': u'A', u'score': 7}, {u'date': datetime.datetime(2011, 11, 2, 0, 0), u'grade': u'A', u'score': 0}, {u'date': datetime.datetime(2011, 6, 23, 0, 0), u'grade': u'B', u'score': 22}], u'address': {u'building': u'1373', u'street': u'First Avenue', u'zipcode': u'10021', u'coord': [-73.955399, 40.769063]}, u'_id': ObjectId('5a04ecc52a4a84fb563319be')}\n",
      "{u'cuisine': u'Irish', u'borough': u'Manhattan', u'name': u\"Mckeown'S\", u'restaurant_id': u'41034277', u'grades': [{u'date': datetime.datetime(2014, 10, 3, 0, 0), u'grade': u'A', u'score': 8}, {u'date': datetime.datetime(2013, 7, 23, 0, 0), u'grade': u'A', u'score': 6}, {u'date': datetime.datetime(2013, 2, 14, 0, 0), u'grade': u'A', u'score': 10}, {u'date': datetime.datetime(2011, 12, 6, 0, 0), u'grade': u'A', u'score': 8}], u'address': {u'building': u'1303', u'street': u'3 Avenue', u'zipcode': u'10021', u'coord': [-73.9590742, 40.7713507]}, u'_id': ObjectId('5a04ecc52a4a84fb56332010')}\n",
      "{u'cuisine': u'Irish', u'borough': u'Manhattan', u'name': u\"Murphy'S Pub & Restaurant\", u'restaurant_id': u'40831075', u'grades': [{u'date': datetime.datetime(2014, 3, 21, 0, 0), u'grade': u'A', u'score': 9}, {u'date': datetime.datetime(2013, 9, 13, 0, 0), u'grade': u'A', u'score': 12}, {u'date': datetime.datetime(2013, 4, 1, 0, 0), u'grade': u'A', u'score': 13}, {u'date': datetime.datetime(2012, 9, 7, 0, 0), u'grade': u'A', u'score': 13}, {u'date': datetime.datetime(2012, 4, 11, 0, 0), u'grade': u'A', u'score': 5}, {u'date': datetime.datetime(2011, 11, 16, 0, 0), u'grade': u'A', u'score': 12}, {u'date': datetime.datetime(2011, 4, 21, 0, 0), u'grade': u'A', u'score': 11}], u'address': {u'building': u'977', u'street': u'2 Avenue', u'zipcode': u'10022', u'coord': [-73.968015, 40.7560519]}, u'_id': ObjectId('5a04ecc52a4a84fb563319f4')}\n",
      "{u'cuisine': u'Irish', u'borough': u'Manhattan', u'name': u\"Niall'S On 52Nd\", u'restaurant_id': u'41304636', u'grades': [{u'date': datetime.datetime(2014, 10, 14, 0, 0), u'grade': u'Z', u'score': 33}, {u'date': datetime.datetime(2014, 3, 4, 0, 0), u'grade': u'A', u'score': 7}, {u'date': datetime.datetime(2013, 5, 23, 0, 0), u'grade': u'A', u'score': 12}, {u'date': datetime.datetime(2012, 10, 5, 0, 0), u'grade': u'C', u'score': 3}, {u'date': datetime.datetime(2012, 4, 10, 0, 0), u'grade': u'B', u'score': 16}], u'address': {u'building': u'218', u'street': u'East   52 Street', u'zipcode': u'10022', u'coord': [-73.969083, 40.7565359]}, u'_id': ObjectId('5a04ecc82a4a84fb56332c28')}\n",
      "{u'cuisine': u'Irish', u'borough': u'Manhattan', u'name': u\"Cornerstone Tavern/The Stag'S Head\", u'restaurant_id': u'41355345', u'grades': [{u'date': datetime.datetime(2014, 2, 12, 0, 0), u'grade': u'A', u'score': 9}, {u'date': datetime.datetime(2013, 6, 6, 0, 0), u'grade': u'A', u'score': 12}, {u'date': datetime.datetime(2012, 3, 22, 0, 0), u'grade': u'A', u'score': 10}, {u'date': datetime.datetime(2011, 3, 29, 0, 0), u'grade': u'A', u'score': 12}], u'address': {u'building': u'961', u'street': u'2 Avenue', u'zipcode': u'10022', u'coord': [-73.9684068, 40.7555193]}, u'_id': ObjectId('5a04ecc82a4a84fb56332f3b')}\n",
      "{u'cuisine': u'Irish', u'borough': u'Manhattan', u'name': u'The Irish Exit', u'restaurant_id': u'41582648', u'grades': [{u'date': datetime.datetime(2014, 10, 29, 0, 0), u'grade': u'A', u'score': 10}, {u'date': datetime.datetime(2014, 5, 27, 0, 0), u'grade': u'A', u'score': 13}, {u'date': datetime.datetime(2013, 4, 11, 0, 0), u'grade': u'A', u'score': 6}, {u'date': datetime.datetime(2012, 8, 29, 0, 0), u'grade': u'B', u'score': 20}, {u'date': datetime.datetime(2012, 3, 9, 0, 0), u'grade': u'C', u'score': 11}], u'address': {u'building': u'978', u'street': u'2 Avenue', u'zipcode': u'10022', u'coord': [-73.967457, 40.755774]}, u'_id': ObjectId('5a04eccb2a4a84fb563341b2')}\n",
      "{u'cuisine': u'Irish', u'borough': u'Manhattan', u'name': u'Session House', u'restaurant_id': u'41587557', u'grades': [{u'date': datetime.datetime(2014, 3, 7, 0, 0), u'grade': u'A', u'score': 4}, {u'date': datetime.datetime(2013, 9, 10, 0, 0), u'grade': u'A', u'score': 10}, {u'date': datetime.datetime(2013, 3, 13, 0, 0), u'grade': u'A', u'score': 9}, {u'date': datetime.datetime(2012, 1, 17, 0, 0), u'grade': u'A', u'score': 7}, {u'date': datetime.datetime(2011, 8, 25, 0, 0), u'grade': u'B', u'score': 14}], u'address': {u'building': u'1009', u'street': u'2 Avenue', u'zipcode': u'10022', u'coord': [-73.967164, 40.7571292]}, u'_id': ObjectId('5a04eccb2a4a84fb5633423e')}\n",
      "{u'cuisine': u'Irish', u'borough': u'Manhattan', u'name': u\"Malachy'S\", u'restaurant_id': u'40391154', u'grades': [{u'date': datetime.datetime(2014, 7, 28, 0, 0), u'grade': u'A', u'score': 13}, {u'date': datetime.datetime(2013, 12, 19, 0, 0), u'grade': u'A', u'score': 11}, {u'date': datetime.datetime(2013, 3, 6, 0, 0), u'grade': u'A', u'score': 13}, {u'date': datetime.datetime(2012, 9, 5, 0, 0), u'grade': u'A', u'score': 12}, {u'date': datetime.datetime(2012, 2, 29, 0, 0), u'grade': u'A', u'score': 7}, {u'date': datetime.datetime(2011, 9, 28, 0, 0), u'grade': u'A', u'score': 7}], u'address': {u'building': u'103', u'street': u'West   72 Street', u'zipcode': u'10023', u'coord': [-73.97894699999999, 40.777789]}, u'_id': ObjectId('5a04ecc32a4a84fb56330fe4')}\n",
      "{u'cuisine': u'Irish', u'borough': u'Manhattan', u'name': u\"Mcaleer'S Pub\", u'restaurant_id': u'40379355', u'grades': [{u'date': datetime.datetime(2014, 9, 29, 0, 0), u'grade': u'A', u'score': 9}, {u'date': datetime.datetime(2014, 3, 7, 0, 0), u'grade': u'B', u'score': 19}, {u'date': datetime.datetime(2013, 7, 10, 0, 0), u'grade': u'A', u'score': 9}, {u'date': datetime.datetime(2012, 12, 26, 0, 0), u'grade': u'B', u'score': 27}, {u'date': datetime.datetime(2012, 6, 21, 0, 0), u'grade': u'A', u'score': 13}, {u'date': datetime.datetime(2012, 1, 23, 0, 0), u'grade': u'B', u'score': 18}], u'address': {u'building': u'425', u'street': u'Amsterdam Avenue', u'zipcode': u'10024', u'coord': [-73.977372, 40.783934]}, u'_id': ObjectId('5a04ecc32a4a84fb56330eb2')}\n",
      "{u'cuisine': u'Irish', u'borough': u'Manhattan', u'name': u'The Dead Poet', u'restaurant_id': u'40783220', u'grades': [{u'date': datetime.datetime(2014, 7, 9, 0, 0), u'grade': u'A', u'score': 11}, {u'date': datetime.datetime(2014, 1, 9, 0, 0), u'grade': u'A', u'score': 11}, {u'date': datetime.datetime(2013, 4, 26, 0, 0), u'grade': u'B', u'score': 17}, {u'date': datetime.datetime(2012, 2, 13, 0, 0), u'grade': u'A', u'score': 12}, {u'date': datetime.datetime(2011, 9, 26, 0, 0), u'grade': u'A', u'score': 4}], u'address': {u'building': u'450', u'street': u'Amsterdam Avenue', u'zipcode': u'10024', u'coord': [-73.9773359, 40.78498]}, u'_id': ObjectId('5a04ecc52a4a84fb563318ed')}\n",
      "{u'cuisine': u'Irish', u'borough': u'Manhattan', u'name': u'Dublin House', u'restaurant_id': u'41159246', u'grades': [{u'date': datetime.datetime(2015, 1, 12, 0, 0), u'grade': u'A', u'score': 6}, {u'date': datetime.datetime(2014, 1, 15, 0, 0), u'grade': u'A', u'score': 3}, {u'date': datetime.datetime(2012, 12, 28, 0, 0), u'grade': u'A', u'score': 2}], u'address': {u'building': u'225', u'street': u'West 79 Street', u'zipcode': u'10024', u'coord': [-73.9792219, 40.783842]}, u'_id': ObjectId('5a04ecc72a4a84fb56332485')}\n",
      "{u'cuisine': u'Irish', u'borough': u'Manhattan', u'name': u'Soldier Mcgee Tavern', u'restaurant_id': u'41290351', u'grades': [{u'date': datetime.datetime(2014, 5, 21, 0, 0), u'grade': u'A', u'score': 12}, {u'date': datetime.datetime(2013, 8, 26, 0, 0), u'grade': u'B', u'score': 23}, {u'date': datetime.datetime(2013, 1, 16, 0, 0), u'grade': u'C', u'score': 51}, {u'date': datetime.datetime(2012, 7, 11, 0, 0), u'grade': u'A', u'score': 12}, {u'date': datetime.datetime(2011, 12, 7, 0, 0), u'grade': u'A', u'score': 12}, {u'date': datetime.datetime(2011, 7, 19, 0, 0), u'grade': u'A', u'score': 7}], u'address': {u'building': u'480', u'street': u'Amsterdam Avenue', u'zipcode': u'10024', u'coord': [-73.976669, 40.785962]}, u'_id': ObjectId('5a04ecc72a4a84fb56332b38')}\n",
      "{u'cuisine': u'Irish', u'borough': u'Manhattan', u'name': u'The Abbey Pub', u'restaurant_id': u'40394723', u'grades': [{u'date': datetime.datetime(2014, 2, 21, 0, 0), u'grade': u'A', u'score': 9}, {u'date': datetime.datetime(2013, 5, 2, 0, 0), u'grade': u'A', u'score': 12}, {u'date': datetime.datetime(2012, 8, 14, 0, 0), u'grade': u'A', u'score': 13}, {u'date': datetime.datetime(2012, 3, 14, 0, 0), u'grade': u'C', u'score': 9}, {u'date': datetime.datetime(2011, 10, 13, 0, 0), u'grade': u'A', u'score': 11}, {u'date': datetime.datetime(2011, 6, 28, 0, 0), u'grade': u'C', u'score': 37}], u'address': {u'building': u'237', u'street': u'West  105 Street', u'zipcode': u'10025', u'coord': [-73.96743500000001, 40.8005319]}, u'_id': ObjectId('5a04ecc32a4a84fb56331077')}\n",
      "{u'cuisine': u'Irish', u'borough': u'Manhattan', u'name': u\"Dorrian'S Red Hand Restaurant\", u'restaurant_id': u'40365239', u'grades': [{u'date': datetime.datetime(2014, 2, 28, 0, 0), u'grade': u'A', u'score': 2}, {u'date': datetime.datetime(2013, 8, 30, 0, 0), u'grade': u'A', u'score': 7}, {u'date': datetime.datetime(2012, 8, 27, 0, 0), u'grade': u'A', u'score': 7}, {u'date': datetime.datetime(2011, 9, 14, 0, 0), u'grade': u'A', u'score': 9}], u'address': {u'building': u'1616', u'street': u'2 Avenue', u'zipcode': u'10028', u'coord': [-73.952449, 40.776325]}, u'_id': ObjectId('5a04ecc32a4a84fb56330d34')}\n",
      "{u'cuisine': u'Irish', u'borough': u'Manhattan', u'name': u'Caeldonia', u'restaurant_id': u'41415005', u'grades': [{u'date': datetime.datetime(2014, 9, 18, 0, 0), u'grade': u'A', u'score': 12}, {u'date': datetime.datetime(2014, 2, 28, 0, 0), u'grade': u'A', u'score': 8}, {u'date': datetime.datetime(2013, 5, 1, 0, 0), u'grade': u'A', u'score': 11}, {u'date': datetime.datetime(2012, 10, 27, 0, 0), u'grade': u'A', u'score': 12}, {u'date': datetime.datetime(2011, 10, 29, 0, 0), u'grade': u'A', u'score': 10}], u'address': {u'building': u'1609', u'street': u'2 Avenue', u'zipcode': u'10028', u'coord': [-73.95317720000001, 40.7763038]}, u'_id': ObjectId('5a04ecc92a4a84fb563333f3')}\n",
      "{u'cuisine': u'Irish', u'borough': u'Manhattan', u'name': u\"Ryan'S Daughter Cafe\", u'restaurant_id': u'41604933', u'grades': [{u'date': datetime.datetime(2014, 7, 21, 0, 0), u'grade': u'B', u'score': 25}, {u'date': datetime.datetime(2014, 2, 11, 0, 0), u'grade': u'A', u'score': 13}, {u'date': datetime.datetime(2012, 12, 12, 0, 0), u'grade': u'A', u'score': 12}, {u'date': datetime.datetime(2011, 12, 29, 0, 0), u'grade': u'A', u'score': 12}], u'address': {u'building': u'350', u'street': u'East   85 Street', u'zipcode': u'10028', u'coord': [-73.9504927, 40.7762275]}, u'_id': ObjectId('5a04eccb2a4a84fb563343f0')}\n",
      "{u'cuisine': u'Irish', u'borough': u'Manhattan', u'name': u'Le Cheile', u'restaurant_id': u'41581905', u'grades': [{u'date': datetime.datetime(2014, 6, 25, 0, 0), u'grade': u'A', u'score': 5}, {u'date': datetime.datetime(2013, 12, 10, 0, 0), u'grade': u'A', u'score': 2}, {u'date': datetime.datetime(2013, 5, 30, 0, 0), u'grade': u'A', u'score': 13}, {u'date': datetime.datetime(2012, 3, 6, 0, 0), u'grade': u'A', u'score': 11}, {u'date': datetime.datetime(2011, 10, 12, 0, 0), u'grade': u'A', u'score': 12}], u'address': {u'building': u'839', u'street': u'West  181 Street', u'zipcode': u'10033', u'coord': [-73.9399876, 40.8514952]}, u'_id': ObjectId('5a04eccb2a4a84fb563341a7')}\n",
      "{u'cuisine': u'Irish', u'borough': u'Manhattan', u'name': u'Pipers Kilt', u'restaurant_id': u'40388348', u'grades': [{u'date': datetime.datetime(2014, 11, 17, 0, 0), u'grade': u'A', u'score': 9}, {u'date': datetime.datetime(2013, 11, 6, 0, 0), u'grade': u'A', u'score': 11}, {u'date': datetime.datetime(2013, 6, 3, 0, 0), u'grade': u'A', u'score': 11}, {u'date': datetime.datetime(2012, 4, 18, 0, 0), u'grade': u'A', u'score': 3}, {u'date': datetime.datetime(2011, 12, 7, 0, 0), u'grade': u'A', u'score': 9}], u'address': {u'building': u'4946', u'street': u'Broadway', u'zipcode': u'10034', u'coord': [-73.9206715, 40.8677164]}, u'_id': ObjectId('5a04ecc32a4a84fb56330f8a')}\n",
      "{u'cuisine': u'Irish', u'borough': u'Manhattan', u'name': u'Irish Eye Bar', u'restaurant_id': u'40396543', u'grades': [{u'date': datetime.datetime(2015, 1, 13, 0, 0), u'grade': u'A', u'score': 9}, {u'date': datetime.datetime(2014, 8, 30, 0, 0), u'grade': u'A', u'score': 7}, {u'date': datetime.datetime(2013, 8, 19, 0, 0), u'grade': u'A', u'score': 13}, {u'date': datetime.datetime(2012, 9, 13, 0, 0), u'grade': u'A', u'score': 10}, {u'date': datetime.datetime(2012, 4, 16, 0, 0), u'grade': u'A', u'score': 10}], u'address': {u'building': u'5008', u'street': u'Broadway', u'zipcode': u'10034', u'coord': [-73.917582, 40.868597]}, u'_id': ObjectId('5a04ecc42a4a84fb563310d9')}\n",
      "{u'cuisine': u'Irish', u'borough': u'Manhattan', u'name': u'Liffy Ii Bar', u'restaurant_id': u'40716479', u'grades': [{u'date': datetime.datetime(2014, 9, 22, 0, 0), u'grade': u'A', u'score': 9}, {u'date': datetime.datetime(2013, 9, 24, 0, 0), u'grade': u'A', u'score': 10}, {u'date': datetime.datetime(2013, 5, 13, 0, 0), u'grade': u'A', u'score': 10}, {u'date': datetime.datetime(2012, 5, 1, 0, 0), u'grade': u'A', u'score': 8}, {u'date': datetime.datetime(2011, 12, 23, 0, 0), u'grade': u'A', u'score': 10}], u'address': {u'building': u'5009', u'street': u'Broadway', u'zipcode': u'10034', u'coord': [-73.9172255, 40.86929170000001]}, u'_id': ObjectId('5a04ecc42a4a84fb56331773')}\n",
      "{u'cuisine': u'Irish', u'borough': u'Manhattan', u'name': u'Langans Bar & Restaurant', u'restaurant_id': u'40396246', u'grades': [{u'date': datetime.datetime(2014, 9, 16, 0, 0), u'grade': u'A', u'score': 9}, {u'date': datetime.datetime(2014, 2, 3, 0, 0), u'grade': u'A', u'score': 11}, {u'date': datetime.datetime(2013, 5, 28, 0, 0), u'grade': u'A', u'score': 10}, {u'date': datetime.datetime(2012, 3, 22, 0, 0), u'grade': u'A', u'score': 13}], u'address': {u'building': u'150', u'street': u'West   47 Street', u'zipcode': u'10036', u'coord': [-73.9838036, 40.7587108]}, u'_id': ObjectId('5a04ecc42a4a84fb563310c8')}\n",
      "{u'cuisine': u'Irish', u'borough': u'Manhattan', u'name': u'Playwright Celtic Pub', u'restaurant_id': u'40615672', u'grades': [{u'date': datetime.datetime(2015, 1, 9, 0, 0), u'grade': u'A', u'score': 11}, {u'date': datetime.datetime(2013, 12, 23, 0, 0), u'grade': u'A', u'score': 13}, {u'date': datetime.datetime(2013, 7, 17, 0, 0), u'grade': u'A', u'score': 6}, {u'date': datetime.datetime(2013, 2, 5, 0, 0), u'grade': u'A', u'score': 13}], u'address': {u'building': u'732', u'street': u'8 Avenue', u'zipcode': u'10036', u'coord': [-73.987849, 40.759298]}, u'_id': ObjectId('5a04ecc42a4a84fb563315a1')}\n",
      "{u'cuisine': u'Irish', u'borough': u'Manhattan', u'name': u\"Hurley'S Saloon\", u'restaurant_id': u'40747820', u'grades': [{u'date': datetime.datetime(2014, 6, 30, 0, 0), u'grade': u'A', u'score': 11}, {u'date': datetime.datetime(2013, 4, 25, 0, 0), u'grade': u'A', u'score': 2}, {u'date': datetime.datetime(2012, 5, 7, 0, 0), u'grade': u'A', u'score': 12}], u'address': {u'building': u'232', u'street': u'West   48 Street', u'zipcode': u'10036', u'coord': [-73.9861966, 40.7604451]}, u'_id': ObjectId('5a04ecc42a4a84fb5633186a')}\n",
      "{u'cuisine': u'Irish', u'borough': u'Manhattan', u'name': u\"Deacon Brodie'S\", u'restaurant_id': u'40836364', u'grades': [{u'date': datetime.datetime(2014, 6, 12, 0, 0), u'grade': u'A', u'score': 10}, {u'date': datetime.datetime(2013, 6, 19, 0, 0), u'grade': u'A', u'score': 8}, {u'date': datetime.datetime(2013, 1, 10, 0, 0), u'grade': u'A', u'score': 10}, {u'date': datetime.datetime(2012, 5, 10, 0, 0), u'grade': u'A', u'score': 9}, {u'date': datetime.datetime(2011, 8, 17, 0, 0), u'grade': u'A', u'score': 12}], u'address': {u'building': u'370', u'street': u'West 46 Street', u'zipcode': u'10036', u'coord': [-73.990428, 40.760652]}, u'_id': ObjectId('5a04ecc52a4a84fb56331a01')}\n",
      "{u'cuisine': u'Irish', u'borough': u'Manhattan', u'name': u\"Connolly'S\", u'restaurant_id': u'40836801', u'grades': [{u'date': datetime.datetime(2014, 3, 3, 0, 0), u'grade': u'A', u'score': 4}, {u'date': datetime.datetime(2013, 9, 16, 0, 0), u'grade': u'A', u'score': 10}, {u'date': datetime.datetime(2013, 2, 21, 0, 0), u'grade': u'A', u'score': 12}], u'address': {u'building': u'121', u'street': u'West   45 Street', u'zipcode': u'10036', u'coord': [-73.9835994, 40.7573439]}, u'_id': ObjectId('5a04ecc52a4a84fb56331a04')}\n",
      "{u'cuisine': u'Irish', u'borough': u'Manhattan', u'name': u'Blarney Stone Pub', u'restaurant_id': u'40939572', u'grades': [{u'date': datetime.datetime(2014, 7, 17, 0, 0), u'grade': u'A', u'score': 10}, {u'date': datetime.datetime(2014, 2, 6, 0, 0), u'grade': u'A', u'score': 7}, {u'date': datetime.datetime(2013, 5, 21, 0, 0), u'grade': u'B', u'score': 25}, {u'date': datetime.datetime(2012, 10, 2, 0, 0), u'grade': u'B', u'score': 18}, {u'date': datetime.datetime(2012, 3, 9, 0, 0), u'grade': u'B', u'score': 18}, {u'date': datetime.datetime(2011, 10, 12, 0, 0), u'grade': u'A', u'score': 13}], u'address': {u'building': u'307', u'street': u'West 47 Street', u'zipcode': u'10036', u'coord': [-73.987848, 40.760824]}, u'_id': ObjectId('5a04ecc52a4a84fb56331cac')}\n",
      "{u'cuisine': u'Irish', u'borough': u'Manhattan', u'name': u\"O'Lunney'S Times Square Pub\", u'restaurant_id': u'41091216', u'grades': [{u'date': datetime.datetime(2014, 12, 23, 0, 0), u'grade': u'A', u'score': 8}, {u'date': datetime.datetime(2014, 1, 6, 0, 0), u'grade': u'A', u'score': 9}, {u'date': datetime.datetime(2012, 12, 27, 0, 0), u'grade': u'A', u'score': 5}], u'address': {u'building': u'145', u'street': u'West 45 Street', u'zipcode': u'10036', u'coord': [-73.984262, 40.7576226]}, u'_id': ObjectId('5a04ecc62a4a84fb563321eb')}\n",
      "{u'cuisine': u'Irish', u'borough': u'Manhattan', u'name': u'Landmark Tavern', u'restaurant_id': u'41122841', u'grades': [{u'date': datetime.datetime(2014, 6, 9, 0, 0), u'grade': u'A', u'score': 7}, {u'date': datetime.datetime(2013, 10, 23, 0, 0), u'grade': u'A', u'score': 12}, {u'date': datetime.datetime(2012, 8, 31, 0, 0), u'grade': u'A', u'score': 10}, {u'date': datetime.datetime(2012, 3, 6, 0, 0), u'grade': u'A', u'score': 13}], u'address': {u'building': u'626', u'street': u'11 Avenue', u'zipcode': u'10036', u'coord': [-73.99624899999999, 40.763153]}, u'_id': ObjectId('5a04ecc62a4a84fb56332311')}\n",
      "{u'cuisine': u'Irish', u'borough': u'Manhattan', u'name': u\"O'Briens\", u'restaurant_id': u'41149653', u'grades': [{u'date': datetime.datetime(2014, 12, 1, 0, 0), u'grade': u'Z', u'score': 26}, {u'date': datetime.datetime(2014, 6, 4, 0, 0), u'grade': u'A', u'score': 10}, {u'date': datetime.datetime(2013, 11, 4, 0, 0), u'grade': u'A', u'score': 12}, {u'date': datetime.datetime(2013, 5, 13, 0, 0), u'grade': u'A', u'score': 12}, {u'date': datetime.datetime(2012, 10, 2, 0, 0), u'grade': u'A', u'score': 7}], u'address': {u'building': u'134', u'street': u'West   46 Street', u'zipcode': u'10036', u'coord': [-73.983953, 40.75785]}, u'_id': ObjectId('5a04ecc62a4a84fb5633240c')}\n",
      "{u'cuisine': u'Irish', u'borough': u'Manhattan', u'name': u'Landsdowne Road', u'restaurant_id': u'41213055', u'grades': [{u'date': datetime.datetime(2014, 9, 18, 0, 0), u'grade': u'A', u'score': 2}, {u'date': datetime.datetime(2014, 3, 11, 0, 0), u'grade': u'A', u'score': 12}, {u'date': datetime.datetime(2013, 1, 18, 0, 0), u'grade': u'A', u'score': 12}, {u'date': datetime.datetime(2012, 5, 2, 0, 0), u'grade': u'B', u'score': 16}], u'address': {u'building': u'599', u'street': u'10 Avenue', u'zipcode': u'10036', u'coord': [-73.9950889, 40.760717]}, u'_id': ObjectId('5a04ecc72a4a84fb563326d9')}\n",
      "{u'cuisine': u'Irish', u'borough': u'Manhattan', u'name': u'The Perfect Pint', u'restaurant_id': u'41223492', u'grades': [{u'date': datetime.datetime(2014, 5, 9, 0, 0), u'grade': u'A', u'score': 12}, {u'date': datetime.datetime(2013, 5, 1, 0, 0), u'grade': u'A', u'score': 7}, {u'date': datetime.datetime(2012, 4, 23, 0, 0), u'grade': u'A', u'score': 2}], u'address': {u'building': u'123', u'street': u'West   45 Street', u'zipcode': u'10036', u'coord': [-73.9836904, 40.7573863]}, u'_id': ObjectId('5a04ecc72a4a84fb56332753')}\n",
      "{u'cuisine': u'Irish', u'borough': u'Manhattan', u'name': u\"Pig 'N' Whistle\", u'restaurant_id': u'41242943', u'grades': [{u'date': datetime.datetime(2014, 3, 21, 0, 0), u'grade': u'A', u'score': 10}, {u'date': datetime.datetime(2013, 9, 18, 0, 0), u'grade': u'A', u'score': 9}, {u'date': datetime.datetime(2013, 3, 26, 0, 0), u'grade': u'A', u'score': 11}, {u'date': datetime.datetime(2012, 9, 10, 0, 0), u'grade': u'A', u'score': 7}, {u'date': datetime.datetime(2012, 3, 26, 0, 0), u'grade': u'B', u'score': 15}, {u'date': datetime.datetime(2011, 10, 25, 0, 0), u'grade': u'A', u'score': 12}, {u'date': datetime.datetime(2011, 5, 19, 0, 0), u'grade': u'B', u'score': 15}], u'address': {u'building': u'58', u'street': u'West 48 Street', u'zipcode': u'10036', u'coord': [-73.980583, 40.758071]}, u'_id': ObjectId('5a04ecc72a4a84fb56332891')}\n",
      "{u'cuisine': u'Irish', u'borough': u'Manhattan', u'name': u'The Long Room', u'restaurant_id': u'41451247', u'grades': [{u'date': datetime.datetime(2014, 8, 6, 0, 0), u'grade': u'A', u'score': 3}, {u'date': datetime.datetime(2014, 3, 3, 0, 0), u'grade': u'A', u'score': 9}, {u'date': datetime.datetime(2013, 6, 27, 0, 0), u'grade': u'A', u'score': 12}, {u'date': datetime.datetime(2012, 5, 29, 0, 0), u'grade': u'A', u'score': 13}], u'address': {u'building': u'120', u'street': u'West   44 Street', u'zipcode': u'10036', u'coord': [-73.98428679999999, 40.7564316]}, u'_id': ObjectId('5a04ecc92a4a84fb563336a7')}\n",
      "{u'cuisine': u'Irish', u'borough': u'Manhattan', u'name': u\"Mchale'S Bar & Grill\", u'restaurant_id': u'41665255', u'grades': [{u'date': datetime.datetime(2014, 1, 27, 0, 0), u'grade': u'A', u'score': 9}, {u'date': datetime.datetime(2013, 7, 29, 0, 0), u'grade': u'A', u'score': 10}, {u'date': datetime.datetime(2013, 2, 6, 0, 0), u'grade': u'A', u'score': 12}, {u'date': datetime.datetime(2012, 7, 30, 0, 0), u'grade': u'A', u'score': 13}], u'address': {u'building': u'', u'street': u'Attn: Allied Management', u'zipcode': u'10036', u'coord': [-73.9932872, 40.7602619]}, u'_id': ObjectId('5a04eccc2a4a84fb56334c2b')}\n",
      "{u'cuisine': u'Irish', u'borough': u'Manhattan', u'name': u\"Jim Brady'S Restaurant\", u'restaurant_id': u'40369869', u'grades': [{u'date': datetime.datetime(2014, 1, 30, 0, 0), u'grade': u'A', u'score': 2}, {u'date': datetime.datetime(2013, 8, 16, 0, 0), u'grade': u'A', u'score': 11}, {u'date': datetime.datetime(2012, 8, 15, 0, 0), u'grade': u'A', u'score': 8}, {u'date': datetime.datetime(2012, 3, 21, 0, 0), u'grade': u'A', u'score': 13}, {u'date': datetime.datetime(2011, 10, 19, 0, 0), u'grade': u'A', u'score': 8}], u'address': {u'building': u'75', u'street': u'Maiden Lane', u'zipcode': u'10038', u'coord': [-74.0075542, 40.7077614]}, u'_id': ObjectId('5a04ecc32a4a84fb56330df2')}\n",
      "{u'cuisine': u'Irish', u'borough': u'Manhattan', u'name': u'The Beekman', u'restaurant_id': u'40391417', u'grades': [{u'date': datetime.datetime(2014, 9, 15, 0, 0), u'grade': u'A', u'score': 12}, {u'date': datetime.datetime(2014, 4, 16, 0, 0), u'grade': u'A', u'score': 9}, {u'date': datetime.datetime(2013, 10, 18, 0, 0), u'grade': u'A', u'score': 7}, {u'date': datetime.datetime(2012, 9, 20, 0, 0), u'grade': u'A', u'score': 4}, {u'date': datetime.datetime(2012, 5, 8, 0, 0), u'grade': u'A', u'score': 13}], u'address': {u'building': u'15', u'street': u'Beekman Street', u'zipcode': u'10038', u'coord': [-74.0063787, 40.7108898]}, u'_id': ObjectId('5a04ecc32a4a84fb56330ff3')}\n",
      "{u'cuisine': u'Irish', u'borough': u'Manhattan', u'name': u'The Irish American', u'restaurant_id': u'41612393', u'grades': [{u'date': datetime.datetime(2015, 1, 12, 0, 0), u'grade': u'Z', u'score': 33}, {u'date': datetime.datetime(2014, 5, 14, 0, 0), u'grade': u'A', u'score': 13}, {u'date': datetime.datetime(2013, 9, 24, 0, 0), u'grade': u'B', u'score': 20}, {u'date': datetime.datetime(2013, 2, 21, 0, 0), u'grade': u'A', u'score': 12}, {u'date': datetime.datetime(2012, 5, 3, 0, 0), u'grade': u'A', u'score': 11}], u'address': {u'building': u'17', u'street': u'John Street', u'zipcode': u'10038', u'coord': [-74.008657, 40.710034]}, u'_id': ObjectId('5a04eccb2a4a84fb563344c6')}\n",
      "{u'cuisine': u'Irish', u'borough': u'Manhattan', u'name': u'Irish Brigade', u'restaurant_id': u'40390820', u'grades': [{u'date': datetime.datetime(2014, 5, 29, 0, 0), u'grade': u'A', u'score': 3}, {u'date': datetime.datetime(2013, 5, 18, 0, 0), u'grade': u'A', u'score': 11}, {u'date': datetime.datetime(2012, 5, 9, 0, 0), u'grade': u'A', u'score': 7}, {u'date': datetime.datetime(2011, 10, 31, 0, 0), u'grade': u'A', u'score': 7}], u'address': {u'building': u'4716', u'street': u'Broadway', u'zipcode': u'10040', u'coord': [-73.9288969, 40.8644501]}, u'_id': ObjectId('5a04ecc32a4a84fb56330fd7')}\n",
      "{u'cuisine': u'Irish', u'borough': u'Manhattan', u'name': u\"Marty O'Brien'S\", u'restaurant_id': u'40783170', u'grades': [{u'date': datetime.datetime(2014, 6, 25, 0, 0), u'grade': u'B', u'score': 19}, {u'date': datetime.datetime(2013, 10, 29, 0, 0), u'grade': u'B', u'score': 19}, {u'date': datetime.datetime(2013, 2, 28, 0, 0), u'grade': u'A', u'score': 8}, {u'date': datetime.datetime(2012, 5, 9, 0, 0), u'grade': u'A', u'score': 12}, {u'date': datetime.datetime(2011, 10, 25, 0, 0), u'grade': u'A', u'score': 5}], u'address': {u'building': u'1696', u'street': u'Second Avenue', u'zipcode': u'10128', u'coord': [-73.9506864, 40.778924]}, u'_id': ObjectId('5a04ecc52a4a84fb563318ec')}\n",
      "{u'cuisine': u'Irish', u'borough': u'Manhattan', u'name': u'Genesis Bar & Restaurant', u'restaurant_id': u'41161009', u'grades': [{u'date': datetime.datetime(2014, 3, 11, 0, 0), u'grade': u'A', u'score': 12}, {u'date': datetime.datetime(2013, 10, 1, 0, 0), u'grade': u'A', u'score': 13}, {u'date': datetime.datetime(2013, 4, 22, 0, 0), u'grade': u'A', u'score': 13}, {u'date': datetime.datetime(2012, 8, 16, 0, 0), u'grade': u'B', u'score': 26}, {u'date': datetime.datetime(2011, 7, 21, 0, 0), u'grade': u'A', u'score': 12}], u'address': {u'building': u'1708', u'street': u'2 Avenue', u'zipcode': u'10128', u'coord': [-73.9502289, 40.77939]}, u'_id': ObjectId('5a04ecc72a4a84fb5633249b')}\n"
     ]
    }
   ],
   "source": [
    "import pymongo\n",
    "cursor = db.restaurants.find({'borough': 'Manhattan', 'cuisine': 'Irish'}).sort([\n",
    "    ('address.zipcode', pymongo.ASCENDING),\n",
    "    ('address.coord[0]', pymongo.DESCENDING)\n",
    "])\n",
    "for document in cursor:\n",
    "    print(document)"
   ]
  },
  {
   "cell_type": "markdown",
   "metadata": {},
   "source": [
    "Some exercise query and sort"
   ]
  },
  {
   "cell_type": "markdown",
   "metadata": {},
   "source": [
    "# Manipulations of documents in the collection"
   ]
  },
  {
   "cell_type": "markdown",
   "metadata": {},
   "source": [
    "Insert a new document with an artificial restaurant."
   ]
  },
  {
   "cell_type": "code",
   "execution_count": 33,
   "metadata": {
    "collapsed": false
   },
   "outputs": [
    {
     "name": "stdout",
     "output_type": "stream",
     "text": [
      "<pymongo.results.InsertOneResult object at 0x0000000006CC46C8>\n",
      "5a04ed1881318b19b44f0e06\n",
      "{u'cuisine': u'Cypermeals', u'borough': u'Manhattan', u'name': u'Space Cookie', u'restaurant_id': u'87654321', u'grades': [{u'date': datetime.datetime(2017, 11, 10, 0, 0), u'grade': u'A', u'score': 11}], u'address': {u'building': u'4711', u'street': u'Broadway', u'zipcode': u'07087', u'coord': [-74.017212, 40.779185]}, u'_id': ObjectId('5a04ed1881318b19b44f0e06')}\n"
     ]
    }
   ],
   "source": [
    "cursor = db.restaurants.find({'name': 'Space Cookie'})\n",
    "for documents in cursor:\n",
    "    print(documents)\n",
    "\n",
    "from datetime import datetime\n",
    "new_restaurant = {\n",
    "        \"address\": {\n",
    "            \"street\": \"Broadway\",\n",
    "            \"zipcode\": \"07087\",\n",
    "            \"building\": \"4711\",\n",
    "            \"coord\": [-74.017212, 40.779185]\n",
    "        },\n",
    "        \"borough\": \"Manhattan\",\n",
    "        \"cuisine\": \"Cypermeals\",\n",
    "        \"grades\": [\n",
    "            {\n",
    "                \"date\": datetime.strptime(\"2017-11-10\", \"%Y-%m-%d\"),\n",
    "                \"grade\": \"A\",\n",
    "                \"score\": 11\n",
    "            }\n",
    "        ],\n",
    "        \"name\": \"Space Cookie\",\n",
    "        \"restaurant_id\": \"87654321\"\n",
    "    }\n",
    "new_one = db.restaurants.insert_one(new_restaurant)\n",
    "print(new_one)\n",
    "print(new_one.inserted_id)\n",
    "cursor = db.restaurants.find({'name': 'Space Cookie'})\n",
    "for documents in cursor:\n",
    "    print(documents)"
   ]
  },
  {
   "cell_type": "markdown",
   "metadata": {},
   "source": [
    "Update a document, here: change Panchito's meal style from Mexican to Spanish"
   ]
  },
  {
   "cell_type": "code",
   "execution_count": 13,
   "metadata": {
    "collapsed": true
   },
   "outputs": [
    {
     "name": "stdout",
     "output_type": "stream",
     "text": [
      "{'_id': ObjectId('59f9db73212f48e386d88272'), 'address': {'building': '103', 'coord': [-74.001043, 40.729795], 'street': 'Macdougal Street', 'zipcode': '10012'}, 'borough': 'Manhattan', 'cuisine': 'Mexican', 'grades': [{'date': datetime.datetime(2014, 5, 22, 0, 0), 'grade': 'A', 'score': 10}, {'date': datetime.datetime(2013, 10, 10, 0, 0), 'grade': 'A', 'score': 9}, {'date': datetime.datetime(2013, 3, 20, 0, 0), 'grade': 'A', 'score': 13}, {'date': datetime.datetime(2012, 5, 17, 0, 0), 'grade': 'B', 'score': 20}], 'name': \"Panchito'S\", 'restaurant_id': '40365348'}\n",
      "after the update\n",
      "{'_id': ObjectId('59f9db73212f48e386d88272'), 'address': {'building': '103', 'coord': [-74.001043, 40.729795], 'street': 'Macdougal Street', 'zipcode': '10012'}, 'borough': 'Manhattan', 'cuisine': 'Spanish', 'grades': [{'date': datetime.datetime(2014, 5, 22, 0, 0), 'grade': 'A', 'score': 10}, {'date': datetime.datetime(2013, 10, 10, 0, 0), 'grade': 'A', 'score': 9}, {'date': datetime.datetime(2013, 3, 20, 0, 0), 'grade': 'A', 'score': 13}, {'date': datetime.datetime(2012, 5, 17, 0, 0), 'grade': 'B', 'score': 20}], 'name': \"Panchito'S\", 'restaurant_id': '40365348'}\n"
     ]
    }
   ],
   "source": [
    "cursor = db.restaurants.find({'name': 'Panchito\\'S'})\n",
    "for documents in cursor:\n",
    "    print(documents)\n",
    "result = db.restaurants.update_one({'name': 'Panchito\\'S'}, {'$set': {'cuisine': 'Spanish'}})\n",
    "print('after the update')\n",
    "cursor = db.restaurants.find({'name': 'Panchito\\'S'})\n",
    "for documents in cursor:\n",
    "    print(documents)"
   ]
  },
  {
   "cell_type": "markdown",
   "metadata": {},
   "source": [
    "We can also update multiple documents at once."
   ]
  },
  {
   "cell_type": "code",
   "execution_count": 14,
   "metadata": {
    "collapsed": true
   },
   "outputs": [
    {
     "name": "stdout",
     "output_type": "stream",
     "text": [
      "20\n",
      "20\n"
     ]
    }
   ],
   "source": [
    "result = db.restaurants.update_many(\n",
    "    {\"address.zipcode\": \"10016\", \"cuisine\": \"Other\"},\n",
    "    {\n",
    "        \"$set\": {\"cuisine\": \"Category To Be Determined\"},\n",
    "        \"$currentDate\": {\"lastModified\": True}\n",
    "    }\n",
    ")\n",
    "print(result.matched_count)\n",
    "print(result.modified_count)"
   ]
  },
  {
   "cell_type": "markdown",
   "metadata": {},
   "source": [
    "Note: MongoDB has a build-in functionality to update if the document exists or to create a new one with the flag {upsert:True}."
   ]
  },
  {
   "cell_type": "markdown",
   "metadata": {},
   "source": [
    "Remove a document (here we do the process in single steps, could also use find_one_and_delete to combine the action)."
   ]
  },
  {
   "cell_type": "code",
   "execution_count": 15,
   "metadata": {
    "collapsed": true
   },
   "outputs": [
    {
     "name": "stdout",
     "output_type": "stream",
     "text": [
      "{'_id': ObjectId('59f9db73212f48e386d883d3'), 'address': {'building': '552', 'coord': [-73.9070012, 40.7090773], 'street': 'Grandview Avenue', 'zipcode': '11385'}, 'borough': 'Queens', 'cuisine': 'American', 'grades': [{'date': datetime.datetime(2014, 9, 9, 0, 0), 'grade': 'B', 'score': 14}, {'date': datetime.datetime(2014, 1, 7, 0, 0), 'grade': 'B', 'score': 18}, {'date': datetime.datetime(2012, 11, 29, 0, 0), 'grade': 'A', 'score': 10}, {'date': datetime.datetime(2011, 12, 14, 0, 0), 'grade': 'A', 'score': 10}], 'name': 'Windjammers Bar', 'restaurant_id': '40377908'}\n"
     ]
    }
   ],
   "source": [
    "cursor = db.restaurants.find({'name': 'Windjammers Bar'})\n",
    "for documents in cursor:\n",
    "    print(documents)"
   ]
  },
  {
   "cell_type": "code",
   "execution_count": 16,
   "metadata": {
    "collapsed": true
   },
   "outputs": [
    {
     "name": "stdout",
     "output_type": "stream",
     "text": [
      "None\n"
     ]
    }
   ],
   "source": [
    "db.restaurants.delete_one({'name': 'Windjammers Bar'})\n",
    "cursor = db.restaurants.find_one({'name': 'Windjammers Bar'})\n",
    "print(cursor)"
   ]
  },
  {
   "cell_type": "markdown",
   "metadata": {},
   "source": [
    "# Data aggregation"
   ]
  },
  {
   "cell_type": "markdown",
   "metadata": {},
   "source": [
    "If we are interested in the number of restaurants in the single borough we can aggregate them."
   ]
  },
  {
   "cell_type": "code",
   "execution_count": 34,
   "metadata": {
    "collapsed": false
   },
   "outputs": [
    {
     "name": "stdout",
     "output_type": "stream",
     "text": [
      "{u'count': 51, u'_id': u'Missing'}\n",
      "{u'count': 969, u'_id': u'Staten Island'}\n",
      "{u'count': 2, u'_id': None}\n",
      "{u'count': 10260, u'_id': u'Manhattan'}\n",
      "{u'count': 6086, u'_id': u'Brooklyn'}\n",
      "{u'count': 2338, u'_id': u'Bronx'}\n",
      "{u'count': 5656, u'_id': u'Queens'}\n"
     ]
    }
   ],
   "source": [
    "cursor = db.restaurants.aggregate([\n",
    "    {'$group': {'_id': '$borough', 'count': {'$sum': 1}}}])\n",
    "for document in cursor:\n",
    "    print(document)"
   ]
  },
  {
   "cell_type": "markdown",
   "metadata": {},
   "source": [
    "exersise: group by cuisine"
   ]
  },
  {
   "cell_type": "code",
   "execution_count": 35,
   "metadata": {
    "collapsed": false
   },
   "outputs": [
    {
     "name": "stdout",
     "output_type": "stream",
     "text": [
      "{u'count': 1, u'_id': u'Chilean'}\n",
      "{u'count': 3, u'_id': u'Hawaiian'}\n",
      "{u'count': 9, u'_id': u'Southwestern'}\n",
      "{u'count': 16, u'_id': u'Hotdogs/Pretzels'}\n",
      "{u'count': 16, u'_id': u'Australian'}\n",
      "{u'count': 45, u'_id': u'Salads'}\n",
      "{u'count': 6, u'_id': u'Czech'}\n",
      "{u'count': 36, u'_id': u'Bangladeshi'}\n",
      "{u'count': 31, u'_id': u'Pakistani'}\n",
      "{u'count': 68, u'_id': u'Peruvian'}\n",
      "{u'count': 51, u'_id': u'Soups & Sandwiches'}\n",
      "{u'count': 6, u'_id': u'Nuts/Confectionary'}\n",
      "{u'count': 2, u'_id': u'Caf\\xc3\\xa9/Coffee/Tea'}\n",
      "{u'count': 66, u'_id': u'Vietnamese/Cambodian/Malaysia'}\n",
      "{u'count': 14, u'_id': u'Afghan'}\n",
      "{u'count': 26, u'_id': u'Brazilian'}\n",
      "{u'count': 273, u'_id': u'Juice, Smoothies, Fruit Salads'}\n",
      "{u'count': 26, u'_id': u'Filipino'}\n",
      "{u'count': 28, u'_id': u'Tapas'}\n",
      "{u'count': 59, u'_id': u'Chinese/Japanese'}\n",
      "{u'count': 7, u'_id': u'Fruits/Vegetables'}\n",
      "{u'count': 24, u'_id': u'Creole'}\n",
      "{u'count': 8, u'_id': u'Indonesian'}\n",
      "{u'count': 8, u'_id': u'Portuguese'}\n",
      "{u'count': 459, u'_id': u'Sandwiches'}\n",
      "{u'count': 14, u'_id': u'Egyptian'}\n",
      "{u'count': 52, u'_id': u'Barbecue'}\n",
      "{u'count': 15, u'_id': u'Moroccan'}\n",
      "{u'count': 102, u'_id': u'Vegetarian'}\n",
      "{u'count': 18, u'_id': u'Ethiopian'}\n",
      "{u'count': 309, u'_id': u'Asian'}\n",
      "{u'count': 1011, u'_id': u'Other'}\n",
      "{u'count': 4, u'_id': u'Soups'}\n",
      "{u'count': 479, u'_id': u'Donuts'}\n",
      "{u'count': 1, u'_id': u'Californian'}\n",
      "{u'count': 850, u'_id': u'Latin (Cuban, Dominican, Puerto Rican, South & Central American)'}\n",
      "{u'count': 1069, u'_id': u'Italian'}\n",
      "{u'count': 255, u'_id': u'Sandwiches/Salads/Mixed Buffet'}\n",
      "{u'count': 348, u'_id': u'Ice Cream, Gelato, Yogurt, Ices'}\n",
      "{u'count': 262, u'_id': u'Korean'}\n",
      "{u'count': 1163, u'_id': u'Pizza'}\n",
      "{u'count': 168, u'_id': u'Bagels/Pretzels'}\n",
      "{u'count': 7, u'_id': u'Cajun'}\n",
      "{u'count': 68, u'_id': u'African'}\n",
      "{u'count': 31, u'_id': u'German'}\n",
      "{u'count': 657, u'_id': u'Caribbean'}\n",
      "{u'count': 6183, u'_id': u'American'}\n",
      "{u'count': 70, u'_id': u'Turkish'}\n",
      "{u'count': 190, u'_id': u'Irish'}\n",
      "{u'count': 637, u'_id': u'Spanish'}\n",
      "{u'count': 25, u'_id': u'Polish'}\n",
      "{u'count': 691, u'_id': u'Bakery'}\n",
      "{u'count': 147, u'_id': u'Seafood'}\n",
      "{u'count': 316, u'_id': u'Jewish/Kosher'}\n",
      "{u'count': 88, u'_id': u'Steak'}\n",
      "{u'count': 7, u'_id': u'Scandinavian'}\n",
      "{u'count': 433, u'_id': u'Hamburgers'}\n",
      "{u'count': 1, u'_id': u'Polynesian'}\n",
      "{u'count': 2418, u'_id': u'Chinese'}\n",
      "{u'count': 1214, u'_id': u'Caf\\xe9/Coffee/Tea'}\n",
      "{u'count': 16, u'_id': u'Chinese/Cuban'}\n",
      "{u'count': 321, u'_id': u'Delicatessen'}\n",
      "{u'count': 58, u'_id': u'Continental'}\n",
      "{u'count': 16, u'_id': u'Pancakes/Waffles'}\n",
      "{u'count': 2, u'_id': u'Iranian'}\n",
      "{u'count': 410, u'_id': u'Chicken'}\n",
      "{u'count': 468, u'_id': u'Pizza/Italian'}\n",
      "{u'count': 111, u'_id': u'Greek'}\n",
      "{u'count': 760, u'_id': u'Japanese'}\n",
      "{u'count': 344, u'_id': u'French'}\n",
      "{u'count': 754, u'_id': u'Mexican'}\n",
      "{u'count': 65, u'_id': u'Eastern European'}\n",
      "{u'count': 143, u'_id': u'Tex-Mex'}\n",
      "{u'count': 316, u'_id': u'Indian'}\n",
      "{u'count': 16, u'_id': u'English'}\n",
      "{u'count': 40, u'_id': u'Armenian'}\n",
      "{u'count': 44, u'_id': u'Soul Food'}\n",
      "{u'count': 285, u'_id': u'Thai'}\n",
      "{u'count': 34, u'_id': u'Hotdogs'}\n",
      "{u'count': 1, u'_id': u'Cypermeals'}\n",
      "{u'count': 219, u'_id': u'Mediterranean'}\n",
      "{u'count': 72, u'_id': u'Bottled beverages, including water, sodas, juices, etc.'}\n",
      "{u'count': 1, u'_id': u'Creole/Cajun'}\n",
      "{u'count': 19, u'_id': u'Not Listed/Not Applicable'}\n",
      "{u'count': 88, u'_id': u'Russian'}\n",
      "{u'count': 168, u'_id': u'Middle Eastern'}\n"
     ]
    }
   ],
   "source": [
    "cursor = db.restaurants.aggregate([\n",
    "    {'$group': {'_id': '$cuisine', 'count': {'$sum': 1}}}])\n",
    "for document in cursor:\n",
    "    print(document)"
   ]
  },
  {
   "cell_type": "markdown",
   "metadata": {},
   "source": [
    "Delete documents, here all the entries that are listed with 'Missing' for the borough key."
   ]
  },
  {
   "cell_type": "code",
   "execution_count": 22,
   "metadata": {
    "collapsed": true
   },
   "outputs": [
    {
     "data": {
      "text/plain": [
       "0"
      ]
     },
     "execution_count": 22,
     "metadata": {},
     "output_type": "execute_result"
    }
   ],
   "source": [
    "result = db.restaurants.delete_many({\"borough\": \"Missing\"})\n",
    "result.deleted_count"
   ]
  }
 ],
 "metadata": {
  "kernelspec": {
   "display_name": "Python [conda root]",
   "language": "python",
   "name": "conda-root-py"
  },
  "language_info": {
   "codemirror_mode": {
    "name": "ipython",
    "version": 3
   },
   "file_extension": ".py",
   "mimetype": "text/x-python",
   "name": "python",
   "nbconvert_exporter": "python",
   "pygments_lexer": "ipython3",
   "version": "3.5.2"
  }
 },
 "nbformat": 4,
 "nbformat_minor": 2
}
