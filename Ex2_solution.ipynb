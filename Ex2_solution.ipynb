{
 "cells": [
  {
   "cell_type": "code",
   "execution_count": 1,
   "metadata": {
    "collapsed": false
   },
   "outputs": [
    {
     "ename": "SyntaxError",
     "evalue": "invalid syntax (<ipython-input-1-a854b7eef465>, line 7)",
     "output_type": "error",
     "traceback": [
      "\u001b[0;36m  File \u001b[0;32m\"<ipython-input-1-a854b7eef465>\"\u001b[0;36m, line \u001b[0;32m7\u001b[0m\n\u001b[0;31m    print  \"result : \", op.get_tweet_sentiment(\"I'm an example\")\u001b[0m\n\u001b[0m                     ^\u001b[0m\n\u001b[0;31mSyntaxError\u001b[0m\u001b[0;31m:\u001b[0m invalid syntax\n"
     ]
    }
   ],
   "source": [
    "from Twittes import TwitterClient\n",
    "import pymongo \n",
    "import pprint\n",
    "\n",
    "\n",
    "op=TwitterClient()\n",
    "print  \"result : \", op.get_tweet_sentiment(\"I'm an example\")\n",
    "# will return positive, negative or neutral \n",
    "   \n",
    "    #connection to the database#########\" \n",
    "connection = pymongo.MongoClient('ds237475.mlab.com',37475)\n",
    "db = connection['']\n",
    "db.authenticate('', '')\n",
    "     ################################\n",
    "# get the total number of tweets, language : en  \n",
    "total_en_tweets=db.us.count({'lang':'en'})+1\n",
    "\n",
    "cursor=db.us.find({'lang':'en'})\n",
    "\n",
    "# save postive tweets\n",
    "ptweets=[]\n",
    "ptweets=[document['text'] for document in cursor if op.get_tweet_sentiment(document['text'])=='positive'] \n",
    "cursor.rewind()\n",
    "# save negative tweets\n",
    "ntweets=[] \n",
    "ntweets=[document['text'] for document in cursor if op.get_tweet_sentiment(document['text'])=='negative'] \n",
    "cursor.rewind()\n",
    "# save neutral tweets\n",
    "neutweets=[] \n",
    "neutweets=[document['text'] for document in cursor if op.get_tweet_sentiment(document['text'])=='neutral'] \n",
    "\n",
    "print \"Positive : \", (len (ptweets))*100/total_en_tweets , \" % \"\n",
    "print \"negative : \", (len (ntweets))*100/total_en_tweets , \" % \"\n",
    "print \"Neutral : \", (len (neutweets))*100/total_en_tweets , \" % \"\n",
    "\n",
    "\n",
    "\n",
    "print (\"Some negative tweets \")\n",
    "for single_n_tweets in ntweets[:7] :\n",
    "  print single_n_tweets\n",
    "\n",
    "print (\"Some neutral tweets \")\n",
    "for single_neu_tweets in neutweets[:7] :\n",
    "  print single_neu_tweets\n"
   ]
  },
  {
   "cell_type": "code",
   "execution_count": null,
   "metadata": {
    "collapsed": true
   },
   "outputs": [],
   "source": []
  },
  {
   "cell_type": "code",
   "execution_count": null,
   "metadata": {
    "collapsed": true
   },
   "outputs": [],
   "source": []
  }
 ],
 "metadata": {
  "anaconda-cloud": {},
  "kernelspec": {
   "display_name": "Python [default]",
   "language": "python",
   "name": "python3"
  },
  "language_info": {
   "codemirror_mode": {
    "name": "ipython",
    "version": 3
   },
   "file_extension": ".py",
   "mimetype": "text/x-python",
   "name": "python",
   "nbconvert_exporter": "python",
   "pygments_lexer": "ipython3",
   "version": "3.5.2"
  }
 },
 "nbformat": 4,
 "nbformat_minor": 2
}
