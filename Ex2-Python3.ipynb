{
 "cells": [
  {
   "cell_type": "code",
   "execution_count": 3,
   "metadata": {
    "collapsed": false
   },
   "outputs": [
    {
     "name": "stdout",
     "output_type": "stream",
     "text": [
      "result : neutral\n",
      "Positive : 0.0 % \n",
      "negative : 0.0 % \n",
      "Neutral : 0.0 % \n",
      "Some negative tweets \n",
      "Some neutral tweets \n"
     ]
    }
   ],
   "source": [
    "from Twittes import TwitterClient\n",
    "import pymongo \n",
    "import pprint\n",
    "\n",
    "\n",
    "op=TwitterClient()\n",
    "print  (\"result : \"+ op.get_tweet_sentiment(\"I'm an example\"))\n",
    "# will return positive, negative or neutral \n",
    "   \n",
    "    #connection to the database#########\" \n",
    "connection = pymongo.MongoClient('ds237475.mlab.com',37475)\n",
    "db = connection['']\n",
    "db.authenticate('', '')\n",
    "     ###########################\n",
    "# get the total number of tweets, language : en  \n",
    "total_en_tweets=1\n",
    "\n",
    "\n",
    "\n",
    "# save postive tweets\n",
    "ptweets=[]\n",
    "\n",
    "#cursor.rewind()\n",
    "# save negative tweets\n",
    "ntweets=[] \n",
    "\n",
    "#cursor.rewind()\n",
    "# save neutral tweets\n",
    "neutweets=[] \n",
    "\n",
    "print (\"Positive : \"+ str( (len (ptweets))*100/total_en_tweets) + \" % \")\n",
    "print (\"negative : \"+ str((len (ntweets))*100/total_en_tweets) + \" % \")\n",
    "print (\"Neutral : \"+ str((len (neutweets))*100/total_en_tweets) + \" % \")\n",
    "\n",
    "\n",
    "\n",
    "print (\"Some negative tweets \")\n",
    "for single_n_tweets in ntweets[:7] :\n",
    "  print (single_n_tweets)\n",
    "\n",
    "print (\"Some neutral tweets \")\n",
    "for single_neu_tweets in neutweets[:7] :\n",
    "  print (single_neu_tweets)\n"
   ]
  },
  {
   "cell_type": "code",
   "execution_count": null,
   "metadata": {
    "collapsed": true
   },
   "outputs": [],
   "source": []
  }
 ],
 "metadata": {
  "anaconda-cloud": {},
  "kernelspec": {
   "display_name": "Python [conda root]",
   "language": "python",
   "name": "conda-root-py"
  },
  "language_info": {
   "codemirror_mode": {
    "name": "ipython",
    "version": 3
   },
   "file_extension": ".py",
   "mimetype": "text/x-python",
   "name": "python",
   "nbconvert_exporter": "python",
   "pygments_lexer": "ipython3",
   "version": "3.5.2"
  }
 },
 "nbformat": 4,
 "nbformat_minor": 2
}
