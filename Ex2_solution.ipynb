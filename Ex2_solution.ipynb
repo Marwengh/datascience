{
 "cells": [
  {
   "cell_type": "code",
   "execution_count": 26,
   "metadata": {},
   "outputs": [
    {
     "name": "stdout",
     "output_type": "stream",
     "text": [
      "result :  neutral\n",
      "Positive :  25  % \n",
      "negative :  32  % \n",
      "Neutral :  41  % \n",
      "Some negative tweets \n",
      "RT  EdKrassen  I m sick and tired of everyone making fun of the size of Trump s hands  We should all be bigger than that  So should Donald \n",
      "RT  cyberspacedork  FUCK DONALD TRUMP FUCK DONALD TRUMP FUCK DONALD TRUMP FUCK DONALD TRUMP FUCK DONALD TRUMP FUCK DONALD TRUMP FUCK DONALD \n",
      "RT  eazyonme  fuck sharia law fuck donald trump fuck black lives matter fuck justin trudeau fuck intersectional feminism fuck modern social \n",
      "RT  PalmerReport  Donald Trump s secret CIA plot to sabotage the Trump Russia probe has been exposed  and it s laughably inept https   t co \n",
      "RT  NBCNews  If Trump is blaming the mass shooting in Texas on  a mental health problem   why did he end this gun check rule  https   t co  \n",
      "RT  AP  BREAKING  President Donald Trump has scrapped a surprise visit to the Korean demilitarized zone due to poor weather \n",
      "RT  RichardTBurnett  Donald Trump has exposed the real Democratic Party  It is stunning to see the corruption  lies  cover ups  hate  viole \n",
      "Some neutral tweets \n",
      "RT  Hoosiers1986   TuesdayThoughts I m prouder TODAY of Donald Trump  amp  Mike Pence than I was on  ElectionDay 2016    RT if you are too   MA \n",
      " jefferiesshow  jimjefferies  mcuban  realDonaldTrump  ComedyCentral Jim  watching from Britain  I know we don t ha  https   t co WhCP6gmpXF\n",
      "Donald Trump accused of obstructing satellite research into climate change https   t co hVU3hfuMYK\n",
      " ClintonHousekn2  DianePeace420  dschusf  PradaMD  Broadway_Gaming  SaysHummingbird An if u read the background of  https   t co a4J0phhc9z\n",
      "RT  GarrettHaake  Dem Voter in Burke  VA just encapsulated what I m hearing in Fairfax   A vote for the Republican ticket is a vote for Don \n",
      "RT  krassenstein  Mark This Tweet     Donald Trump will make Benedict Arnold Seem like a Saint\n",
      "RT  DaShanneStokes  Donald Trump used his account to attack people s careers  to incite violence  and threaten war  His account should have \n"
     ]
    }
   ],
   "source": [
    "from Twittes import TwitterClient\n",
    "import pymongo \n",
    "import pprint\n",
    "\n",
    "\n",
    "op=TwitterClient()\n",
    "print  \"result : \", op.get_tweet_sentiment(\"I'm an example\")\n",
    "# will return positive, negative or neutral \n",
    "   \n",
    "    #connection to the database#########\" \n",
    "connection = pymongo.MongoClient('ds237475.mlab.com',37475)\n",
    "db = connection['test2']\n",
    "db.authenticate('aaaaa', 'aaaaa')\n",
    "     ###########################\n",
    "# get the total number of tweets, language : en  \n",
    "total_en_tweets=db.us.count({'lang':'en'})\n",
    "\n",
    "cursor=db.us.find({'lang':'en'})\n",
    "\n",
    "# save postive tweets\n",
    "ptweets=[]\n",
    "ptweets=[document['text'] for document in cursor if op.get_tweet_sentiment(document['text'])=='positive'] \n",
    "cursor.rewind()\n",
    "# save negative tweets\n",
    "ntweets=[] \n",
    "ntweets=[document['text'] for document in cursor if op.get_tweet_sentiment(document['text'])=='negative'] \n",
    "cursor.rewind()\n",
    "# save neutral tweets\n",
    "neutweets=[] \n",
    "neutweets=[document['text'] for document in cursor if op.get_tweet_sentiment(document['text'])=='neutral'] \n",
    "\n",
    "print \"Positive : \", (len (ptweets))*100/total_en_tweets , \" % \"\n",
    "print \"negative : \", (len (ntweets))*100/total_en_tweets , \" % \"\n",
    "print \"Neutral : \", (len (neutweets))*100/total_en_tweets , \" % \"\n",
    "\n",
    "\n",
    "\n",
    "print (\"Some negative tweets \")\n",
    "for single_n_tweets in ntweets[:7] :\n",
    "  print single_n_tweets\n",
    "\n",
    "print (\"Some neutral tweets \")\n",
    "for single_neu_tweets in neutweets[:7] :\n",
    "  print single_neu_tweets\n"
   ]
  },
  {
   "cell_type": "code",
   "execution_count": null,
   "metadata": {
    "collapsed": true
   },
   "outputs": [],
   "source": []
  },
  {
   "cell_type": "code",
   "execution_count": null,
   "metadata": {
    "collapsed": true
   },
   "outputs": [],
   "source": []
  }
 ],
 "metadata": {
  "kernelspec": {
   "display_name": "Python 2",
   "language": "python",
   "name": "python2"
  },
  "language_info": {
   "codemirror_mode": {
    "name": "ipython",
    "version": 2
   },
   "file_extension": ".py",
   "mimetype": "text/x-python",
   "name": "python",
   "nbconvert_exporter": "python",
   "pygments_lexer": "ipython2",
   "version": "2.7.13"
  }
 },
 "nbformat": 4,
 "nbformat_minor": 2
}
