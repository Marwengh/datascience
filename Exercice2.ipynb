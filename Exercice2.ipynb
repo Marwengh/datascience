{
 "cells": [
  {
   "cell_type": "code",
   "execution_count": 7,
   "metadata": {},
   "outputs": [
    {
     "name": "stdout",
     "output_type": "stream",
     "text": [
      "result :  positive\n",
      "Positive :  28  % \n",
      "negative :  23  % \n",
      "Neutral :  47  % \n",
      "Samsung Galaxy Note9 project is codenamed Crown  After the Galaxy Note7 debacle  the Galaxy Note8 was one of the   https   t co HA1uTUHc9G  \n",
      " \n",
      " eshoppersdeals Samsung Galaxy Note9 project is codenamed Crown  After the Galaxy Note7  https   t co elIWxyz9T7  \n",
      " \n",
      " Ammenetic Being a Samsung panel  I expect the brightness to be similar to this  https   t co EFqIVEtngj  \n",
      " \n",
      "A joke Samsung GALAXY  Boss say to SSG members if you win the game  you will get 10 Note8 If lost the game  10 Note7     \n",
      " \n",
      "RT  GonzaloCorreal  Samsung Galaxy Note7  Change Starts with Thinking Big v a  YouTube  \n",
      " \n",
      " Note7 had heating issues  and now  Note8 has  freezing  issues  Samsung is struggling with the  GalaxyNote line up https   t co 4hWINmOI4P  \n",
      " \n",
      "Samsung Galaxy Note7R will come in the same colors as Note7  uxnerd  UX  UI  uxnerd com  \n",
      " \n"
     ]
    }
   ],
   "source": [
    "\n",
    "from Twittes import TwitterClient\n",
    "import pymongo \n",
    "import pprint\n",
    "op=TwitterClient()\n",
    "print  \"result : \", op.get_tweet_sentiment(\"I love you\")\n",
    "\n",
    "     #connection to the database#########\" \n",
    "connection = pymongo.MongoClient('ds237475.mlab.com',37475)\n",
    "db = connection['test2']\n",
    "db.authenticate('aaaaa', 'aaaaa')\n",
    "     ###########################\n",
    "ptweets={}   \n",
    "total= db.us.count({'lang' : 'en'})  \n",
    "cursor=db.us.find({'lang' : 'en'})\n",
    "ptweets=[document['text'] for document in cursor if op.get_tweet_sentiment(document['text'])=='positive']\n",
    "cursor.rewind()\n",
    "ntweets=[document['text'] for document in cursor if op.get_tweet_sentiment(document['text'])=='negative']\n",
    "cursor.rewind()\n",
    "neutweets=[document['text'] for document in cursor if op.get_tweet_sentiment(document['text'])=='neutral']\n",
    "\n",
    "print \"Positive : \", (len (ptweets))*100/total , \" % \"\n",
    "print \"negative : \", (len (ntweets))*100/total , \" % \"\n",
    "print \"Neutral : \", (len (neutweets))*100/total , \" % \"\n",
    "for single_tweet in neutweets[:7]:\n",
    " print single_tweet ,\" \\n \"\n"
   ]
  },
  {
   "cell_type": "code",
   "execution_count": null,
   "metadata": {
    "collapsed": true
   },
   "outputs": [],
   "source": []
  }
 ],
 "metadata": {
  "kernelspec": {
   "display_name": "Python 2",
   "language": "python",
   "name": "python2"
  },
  "language_info": {
   "codemirror_mode": {
    "name": "ipython",
    "version": 2
   },
   "file_extension": ".py",
   "mimetype": "text/x-python",
   "name": "python",
   "nbconvert_exporter": "python",
   "pygments_lexer": "ipython2",
   "version": "2.7.13"
  }
 },
 "nbformat": 4,
 "nbformat_minor": 2
}
