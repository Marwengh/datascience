{
 "cells": [
  {
   "cell_type": "code",
   "execution_count": 1,
   "metadata": {},
   "outputs": [
    {
     "name": "stdout",
     "output_type": "stream",
     "text": [
      "True\n",
      "None\n"
     ]
    }
   ],
   "source": [
    "from write_twets import Write_Tweest\n",
    "from Twittes import TwitterClient    \n",
    "\n",
    "\n",
    "te=Write_Tweest()\n",
    "\n",
    "    # creating object of TwitterClient Class\n",
    "api = TwitterClient()\n",
    "    # DELETE THE OLD VERSION \n",
    "te.deletetweets()\n",
    " \n",
    "    # calling function to get tweets\n",
    "tweets = api.get_tweets('Tunisia',5000)\n",
    "    \n",
    "print(te.savetodb(tweets))\n",
    "    \n",
    "#te.showtweets()\n",
    "    \n",
    "    \n",
    "\n"
   ]
  },
  {
   "cell_type": "code",
   "execution_count": null,
   "metadata": {
    "collapsed": true
   },
   "outputs": [],
   "source": []
  },
  {
   "cell_type": "code",
   "execution_count": null,
   "metadata": {
    "collapsed": true
   },
   "outputs": [],
   "source": []
  }
 ],
 "metadata": {
  "kernelspec": {
   "display_name": "Python 2",
   "language": "python",
   "name": "python2"
  },
  "language_info": {
   "codemirror_mode": {
    "name": "ipython",
    "version": 2
   },
   "file_extension": ".py",
   "mimetype": "text/x-python",
   "name": "python",
   "nbconvert_exporter": "python",
   "pygments_lexer": "ipython2",
   "version": "2.7.13"
  }
 },
 "nbformat": 4,
 "nbformat_minor": 2
}
