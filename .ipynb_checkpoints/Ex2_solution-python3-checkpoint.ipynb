{
 "cells": [
  {
   "cell_type": "code",
   "execution_count": 5,
   "metadata": {
    "collapsed": false
   },
   "outputs": [
    {
     "name": "stdout",
     "output_type": "stream",
     "text": [
      "result : neutral\n",
      "Positive : 27.906976744186046 % \n",
      "negative : 13.953488372093023 % \n",
      "Neutral : 55.81395348837209 % \n",
      "Some negative tweets \n",
      "RT @NickJFuentes: The Least Ethnically Diverse Countries in the World:\n",
      "1. Comoros\n",
      "2. Timor Leste\n",
      "3. Sao Tome &amp; Principe\n",
      "4. Yemen\n",
      "5. North K…\n",
      "The Least Ethnically Diverse Countries in the World:\n",
      "1. Comoros\n",
      "2. Timor Leste\n",
      "3. Sao Tome &amp; Principe\n",
      "4. Yemen\n",
      "5. N… https://t.co/ORpVUGRcRl\n",
      "RT @UKInfidel: #IslamExposed: #SuddenJihadSyndrome in #Tunis, Idiot Knifes Cops Near #Parliament: https://t.co/suKRueFaJV\n",
      "\n",
      "#Tunisia🇹🇳\n",
      "\n",
      ".\n",
      "\n",
      "#…\n",
      "😊 #Bloggers Train Other Bloggers in Tunisia via @USAID https://t.co/t11i9y88qW #networking #collaboration #blogging… https://t.co/ACiE8iuqn1\n",
      "Did you know about the OTHER Roman coliseum in #Tunisia? @oneweirdglobe https://t.co/mU7WBSeNHW https://t.co/fnctXFSbma\n",
      "Peru on the brink\n",
      "Tunisia and Senegal not far away\n",
      "The International Break  Lowdown \n",
      "https://t.co/sKbzjRwy7n\n",
      "Some neutral tweets \n",
      "RT @dejavousagain: @NewLabourLives Labour hired a guy twice who refused to share a platform with ex labour leaders in support EU but has no…\n",
      "@wtfdva Parsley or garden parsley (Petroselinum crispum) is a species of flowering plant in the family Apiaceae, na… https://t.co/TU2GtEWGW1\n",
      "RT @HammametConf: #HammametConf fellows are meeting with @ICTJ Tunisia team and photographers to talk about the Marginalisation exhibition.…\n",
      "RT @AfricaFactsZone: Countries With The Highest Paid Doctors In Africa\n",
      "\n",
      "1. South Africa\n",
      "\n",
      "2. Egypt\n",
      "\n",
      "3. Tunisia\n",
      "Defusing the Ticking 'Jihadist' Timebomb: Can Transitional Justice Help Counter the Trend of R… https://t.co/Td3J5avjYE via @EyeOnISIS_Libya\n",
      "RT @FDIMagnet: Tunisia Invesment Forum #TIF2017 kicked-off today w/ @FIPATunisia @Ministere_TCEN cc @BF_Tunisia #FDI https://t.co/Mdo0Ie8xdk\n",
      "After the #IDC event ,we went to @IFTunisie where @SultanWalid gave a motivational speech and some recommendation t… https://t.co/QiVmXA1HNf\n"
     ]
    }
   ],
   "source": [
    "from Twittes import TwitterClient\n",
    "import pymongo \n",
    "import pprint\n",
    "\n",
    "\n",
    "op=TwitterClient()\n",
    "print  (\"result : \"+ op.get_tweet_sentiment(\"I'm an example\"))\n",
    "# will return positive, negative or neutral \n",
    "   \n",
    "    #connection to the database#########\" \n",
    "connection = pymongo.MongoClient('ds237475.mlab.com',37475)\n",
    "db = connection['']\n",
    "db.authenticate('', '')\n",
    "     ################################\n",
    "# get the total number of tweets, language : en  \n",
    "total_en_tweets=db.us.count({'lang':'en'})+1\n",
    "\n",
    "cursor=db.us.find({'lang':'en'})\n",
    "\n",
    "# save postive tweets\n",
    "ptweets=[]\n",
    "ptweets=[document['text'] for document in cursor if op.get_tweet_sentiment(document['text'])=='positive'] \n",
    "cursor.rewind()\n",
    "# save negative tweets\n",
    "ntweets=[] \n",
    "ntweets=[document['text'] for document in cursor if op.get_tweet_sentiment(document['text'])=='negative'] \n",
    "cursor.rewind()\n",
    "# save neutral tweets\n",
    "neutweets=[] \n",
    "neutweets=[document['text'] for document in cursor if op.get_tweet_sentiment(document['text'])=='neutral'] \n",
    "\n",
    "print (\"Positive : \"+ str( (len (ptweets))*100/total_en_tweets) + \" % \")\n",
    "print (\"negative : \"+ str((len (ntweets))*100/total_en_tweets) + \" % \")\n",
    "print (\"Neutral : \"+ str((len (neutweets))*100/total_en_tweets) + \" % \")\n",
    "\n",
    "\n",
    "\n",
    "print (\"Some negative tweets \")\n",
    "for single_n_tweets in ntweets[:7] :\n",
    "  print (single_n_tweets)\n",
    "\n",
    "print (\"Some neutral tweets \")\n",
    "for single_neu_tweets in neutweets[:7] :\n",
    "  print (single_neu_tweets)\n"
   ]
  },
  {
   "cell_type": "code",
   "execution_count": null,
   "metadata": {
    "collapsed": true
   },
   "outputs": [],
   "source": [
    "print (\"sss\")"
   ]
  },
  {
   "cell_type": "code",
   "execution_count": null,
   "metadata": {
    "collapsed": true
   },
   "outputs": [],
   "source": []
  }
 ],
 "metadata": {
  "anaconda-cloud": {},
  "kernelspec": {
   "display_name": "Python [default]",
   "language": "python",
   "name": "python3"
  },
  "language_info": {
   "codemirror_mode": {
    "name": "ipython",
    "version": 3
   },
   "file_extension": ".py",
   "mimetype": "text/x-python",
   "name": "python",
   "nbconvert_exporter": "python",
   "pygments_lexer": "ipython3",
   "version": "3.5.2"
  }
 },
 "nbformat": 4,
 "nbformat_minor": 2
}
