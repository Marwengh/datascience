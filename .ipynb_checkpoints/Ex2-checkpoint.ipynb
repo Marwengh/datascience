{
 "cells": [
  {
   "cell_type": "code",
   "execution_count": 21,
   "metadata": {},
   "outputs": [
    {
     "name": "stdout",
     "output_type": "stream",
     "text": [
      "result :  neutral\n",
      "Positive :  28  % \n",
      "negative :  23  % \n",
      "Neutral :  47  % \n",
      "Some negative tweets \n",
      "RT  xtacy8one  Samsung Killed the Galaxy Note7 Entirely and Just Lost  18 Billion https   t co bdTzJMsohG\n",
      "Samsung Killed the Galaxy Note7 Entirely and Just Lost  18 Billion https   t co bdTzJMsohG\n",
      "Check out Samsung LED Wallet Cover Case New Samsung Galaxy Note7 Black EF NN930PBEGUS  Samsung via  eBay\n",
      "Samsung Galaxy  Note7 was too hot to handle  amp  Samsung Galaxy  Note8 is prone to freeze in cold    or competition     https   t co RzJGssPZJ0\n",
      "Some owners of Samsung Galaxy Note7 smartphones learned the hard way last year that  https   t co zwpqpUUiGm\n",
      "Some neutral tweets \n",
      "Samsung Galaxy Note9 project is codenamed Crown  After the Galaxy Note7 debacle  the Galaxy Note8 was one of the   https   t co HA1uTUHc9G\n",
      " eshoppersdeals Samsung Galaxy Note9 project is codenamed Crown  After the Galaxy Note7  https   t co elIWxyz9T7\n",
      " Ammenetic Being a Samsung panel  I expect the brightness to be similar to this  https   t co EFqIVEtngj\n",
      "A joke Samsung GALAXY  Boss say to SSG members if you win the game  you will get 10 Note8 If lost the game  10 Note7   \n",
      "RT  GonzaloCorreal  Samsung Galaxy Note7  Change Starts with Thinking Big v a  YouTube\n",
      " Note7 had heating issues  and now  Note8 has  freezing  issues  Samsung is struggling with the  GalaxyNote line up https   t co 4hWINmOI4P\n",
      "Samsung Galaxy Note7R will come in the same colors as Note7  uxnerd  UX  UI  uxnerd com\n"
     ]
    }
   ],
   "source": [
    "from Twittes import TwitterClient\n",
    "import pymongo \n",
    "import pprint\n",
    "\n",
    "\n",
    "op=TwitterClient()\n",
    "print  \"result : \", op.get_tweet_sentiment(\"I'm an example\")\n",
    "# will return positive, negative or neutral \n",
    "   \n",
    "    #connection to the database#########\" \n",
    "connection = pymongo.MongoClient('ds237475.mlab.com',37475)\n",
    "db = connection['databasename']\n",
    "db.authenticate('user', 'password')\n",
    "     ###########################\n",
    "# get the total number of tweets, language : en  \n",
    "total_en_tweets=\n",
    "\n",
    "\n",
    "\n",
    "# save postive tweets\n",
    "ptweets=[]\n",
    "\n",
    "cursor.rewind()\n",
    "# save negative tweets\n",
    "ntweets=[] \n",
    "\n",
    "cursor.rewind()\n",
    "# save neutral tweets\n",
    "neutweets=[] \n",
    "\n",
    "print \"Positive : \", (len (ptweets))*100/total_en_tweets , \" % \"\n",
    "print \"negative : \", (len (ntweets))*100/total_en_tweets , \" % \"\n",
    "print \"Neutral : \", (len (neutweets))*100/total_en_tweets , \" % \"\n",
    "\n",
    "\n",
    "\n",
    "print (\"Some negative tweets \")\n",
    "for single_n_tweets in ntweets[:7] :\n",
    "  print single_n_tweets\n",
    "\n",
    "print (\"Some neutral tweets \")\n",
    "for single_neu_tweets in neutweets[:7] :\n",
    "  print single_neu_tweets\n"
   ]
  },
  {
   "cell_type": "code",
   "execution_count": null,
   "metadata": {
    "collapsed": true
   },
   "outputs": [],
   "source": []
  }
 ],
 "metadata": {
  "kernelspec": {
   "display_name": "Python 2",
   "language": "python",
   "name": "python2"
  },
  "language_info": {
   "codemirror_mode": {
    "name": "ipython",
    "version": 2
   },
   "file_extension": ".py",
   "mimetype": "text/x-python",
   "name": "python",
   "nbconvert_exporter": "python",
   "pygments_lexer": "ipython2",
   "version": "2.7.13"
  }
 },
 "nbformat": 4,
 "nbformat_minor": 2
}
