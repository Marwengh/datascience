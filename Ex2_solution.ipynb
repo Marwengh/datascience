{
 "cells": [
  {
   "cell_type": "code",
   "execution_count": 1,
   "metadata": {},
   "outputs": [
    {
     "ename": "IndentationError",
     "evalue": "expected an indented block (<ipython-input-1-155877973dd0>, line 42)",
     "output_type": "error",
     "traceback": [
      "\u001b[1;36m  File \u001b[1;32m\"<ipython-input-1-155877973dd0>\"\u001b[1;36m, line \u001b[1;32m42\u001b[0m\n\u001b[1;33m    print (\"Some neutral tweets \")\u001b[0m\n\u001b[1;37m        ^\u001b[0m\n\u001b[1;31mIndentationError\u001b[0m\u001b[1;31m:\u001b[0m expected an indented block\n"
     ]
    }
   ],
   "source": [
    "from Twittes import TwitterClient\n",
    "import pymongo \n",
    "import pprint\n",
    "\n",
    "\n",
    "op=TwitterClient()\n",
    "print  \"result : \", op.get_tweet_sentiment(\"I'm an example\")\n",
    "# will return positive, negative or neutral \n",
    "   \n",
    "    #connection to the database#########\" \n",
    "connection = pymongo.MongoClient('ds237475.mlab.com',37475)\n",

    "db = connection['test2']\n",
    "db.authenticate('aaaaa', 'aaaaa')\n",
    "     ################################\n",

    "# get the total number of tweets, language : en  \n",
    "total_en_tweets=db.us.count({'lang':'en'})\n",
    "\n",
    "cursor=db.us.find({'lang':'en'})\n",
    "\n",
    "# save postive tweets\n",
    "ptweets=[]\n",
    "ptweets=[document['text'] for document in cursor if op.get_tweet_sentiment(document['text'])=='positive'] \n",
    "cursor.rewind()\n",
    "# save negative tweets\n",
    "ntweets=[] \n",
    "ntweets=[document['text'] for document in cursor if op.get_tweet_sentiment(document['text'])=='negative'] \n",
    "cursor.rewind()\n",
    "# save neutral tweets\n",
    "neutweets=[] \n",
    "neutweets=[document['text'] for document in cursor if op.get_tweet_sentiment(document['text'])=='neutral'] \n",
    "\n",
    "print \"Positive : \", (len (ptweets))*100/total_en_tweets , \" % \"\n",
    "print \"negative : \", (len (ntweets))*100/total_en_tweets , \" % \"\n",
    "print \"Neutral : \", (len (neutweets))*100/total_en_tweets , \" % \"\n",
    "\n",
    "\n",
    "\n",
    "print (\"Some negative tweets \")\n",
    "for single_n_tweets in ntweets[:7] :\n",
    "  #print single_n_tweets\n",
    "\n",
    "print (\"Some neutral tweets \")\n",
    "for single_neu_tweets in neutweets[:7] :\n",
    "  #print single_neu_tweets\n"
   ]
  },
  {
   "cell_type": "code",
   "execution_count": null,
   "metadata": {
    "collapsed": true
   },
   "outputs": [],
   "source": []
  },
  {
   "cell_type": "code",
   "execution_count": null,
   "metadata": {
    "collapsed": true
   },
   "outputs": [],
   "source": []
  }
 ],
 "metadata": {
  "kernelspec": {
   "display_name": "Python 2",
   "language": "python",
   "name": "python2"
  },
  "language_info": {
   "codemirror_mode": {
    "name": "ipython",
    "version": 2
   },
   "file_extension": ".py",
   "mimetype": "text/x-python",
   "name": "python",
   "nbconvert_exporter": "python",
   "pygments_lexer": "ipython2",
   "version": "2.7.13"
  }
 },
 "nbformat": 4,
 "nbformat_minor": 2
}
