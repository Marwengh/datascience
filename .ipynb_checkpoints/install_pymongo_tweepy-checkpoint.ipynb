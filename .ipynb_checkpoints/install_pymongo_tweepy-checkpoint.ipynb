{
 "cells": [
  {
   "cell_type": "code",
   "execution_count": 2,
   "metadata": {},
   "outputs": [
    {
     "name": "stdout",
     "output_type": "stream",
     "text": [
      "Requirement already satisfied: pymongo in c:\\users\\ff\\anaconda2\\lib\\site-packages\n",
      "Requirement already satisfied: tweepy in c:\\users\\ff\\anaconda2\\lib\\site-packages\n",
      "Requirement already satisfied: six>=1.7.3 in c:\\users\\ff\\anaconda2\\lib\\site-packages (from tweepy)\n",
      "Requirement already satisfied: requests>=2.4.3 in c:\\users\\ff\\anaconda2\\lib\\site-packages (from tweepy)\n",
      "Requirement already satisfied: requests-oauthlib>=0.4.1 in c:\\users\\ff\\anaconda2\\lib\\site-packages (from tweepy)\n",
      "Requirement already satisfied: chardet<3.1.0,>=3.0.2 in c:\\users\\ff\\anaconda2\\lib\\site-packages (from requests>=2.4.3->tweepy)\n",
      "Requirement already satisfied: idna<2.7,>=2.5 in c:\\users\\ff\\anaconda2\\lib\\site-packages (from requests>=2.4.3->tweepy)\n",
      "Requirement already satisfied: urllib3<1.23,>=1.21.1 in c:\\users\\ff\\anaconda2\\lib\\site-packages (from requests>=2.4.3->tweepy)\n",
      "Requirement already satisfied: certifi>=2017.4.17 in c:\\users\\ff\\anaconda2\\lib\\site-packages (from requests>=2.4.3->tweepy)\n",
      "Requirement already satisfied: oauthlib>=0.6.2 in c:\\users\\ff\\anaconda2\\lib\\site-packages (from requests-oauthlib>=0.4.1->tweepy)\n",
      "Collecting textblob\n",
      "  Downloading textblob-0.13.0-py2.py3-none-any.whl (631kB)\n",
      "Requirement already satisfied: nltk>=3.1 in c:\\users\\ff\\anaconda2\\lib\\site-packages (from textblob)\n",
      "Requirement already satisfied: six in c:\\users\\ff\\anaconda2\\lib\\site-packages (from nltk>=3.1->textblob)\n",
      "Installing collected packages: textblob\n",
      "Successfully installed textblob-0.13.0\n"
     ]
    },
    {
     "data": {
      "text/plain": [
       "0"
      ]
     },
     "execution_count": 2,
     "metadata": {},
     "output_type": "execute_result"
    }
   ],
   "source": [
    "import pip \n",
    "pip.main(['install','pymongo'])\n",
    "pip.main(['install','tweepy'])\n",
    "pip.main(['install','textblob'])\n"
   ]
  },
  {
   "cell_type": "code",
   "execution_count": null,
   "metadata": {
    "collapsed": true
   },
   "outputs": [],
   "source": []
  }
 ],
 "metadata": {
  "kernelspec": {
   "display_name": "Python 2",
   "language": "python",
   "name": "python2"
  },
  "language_info": {
   "codemirror_mode": {
    "name": "ipython",
    "version": 2
   },
   "file_extension": ".py",
   "mimetype": "text/x-python",
   "name": "python",
   "nbconvert_exporter": "python",
   "pygments_lexer": "ipython2",
   "version": "2.7.13"
  }
 },
 "nbformat": 4,
 "nbformat_minor": 2
}
