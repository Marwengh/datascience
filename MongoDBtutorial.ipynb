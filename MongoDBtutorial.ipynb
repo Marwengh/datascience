{
 "cells": [
  {
   "cell_type": "markdown",
   "metadata": {},
   "source": [
    "# MongoDB with pymongo -- primer"
   ]
  },
  {
   "cell_type": "markdown",
   "metadata": {},
   "source": [
    "The following introduction in several basic commands are highly influenced by the guide found on the official documentary webpage https://docs.mongodb.com/getting-started/python/introduction/"
   ]
  },
  {
   "cell_type": "markdown",
   "metadata": {},
   "source": [
    "After loading the module we connect to a client. Here we use the default local one, localhost:27017. Of course it could be a remote server as well."
   ]
  },
  {
   "cell_type": "code",
   "execution_count": 1,
   "metadata": {
    "collapsed": true
   },
   "outputs": [
    {
     "name": "stdout",
     "output_type": "stream",
     "text": [
      "MongoClient(host=['localhost:27017'], document_class=dict, tz_aware=False, connect=True)\n"
     ]
    }
   ],
   "source": [
    "from pymongo import MongoClient\n",
    "client = MongoClient()\n",
    "print(client)"
   ]
  },
  {
   "cell_type": "markdown",
   "metadata": {},
   "source": [
    "Next we use pymongo to assign a database (groups of collections) called 'tutorial'."
   ]
  },
  {
   "cell_type": "code",
   "execution_count": 2,
   "metadata": {
    "collapsed": true
   },
   "outputs": [
    {
     "name": "stdout",
     "output_type": "stream",
     "text": [
      "Database(MongoClient(host=['localhost:27017'], document_class=dict, tz_aware=False, connect=True), 'tutorial')\n"
     ]
    }
   ],
   "source": [
    "#db = client.test # attribute style\n",
    "db = client['tutorial'] # dictionary style\n",
    "print(db)"
   ]
  },
  {
   "cell_type": "markdown",
   "metadata": {},
   "source": [
    "Next we construct a collection (which corresponds to tables in relational databases, groups of documents) in the database."
   ]
  },
  {
   "cell_type": "code",
   "execution_count": 3,
   "metadata": {
    "collapsed": true
   },
   "outputs": [
    {
     "name": "stdout",
     "output_type": "stream",
     "text": [
      "Collection(Database(MongoClient(host=['localhost:27017'], document_class=dict, tz_aware=False, connect=True), 'tutorial'), 'dataset')\n"
     ]
    }
   ],
   "source": [
    "#coll = db.dataset # attribute style\n",
    "coll = db['dataset'] # dictionary style\n",
    "print(coll)"
   ]
  },
  {
   "cell_type": "markdown",
   "metadata": {},
   "source": [
    "Remark: if the database doesn't exist already, MongoDB creates it automatically."
   ]
  },
  {
   "cell_type": "markdown",
   "metadata": {},
   "source": [
    "# Queries"
   ]
  },
  {
   "cell_type": "markdown",
   "metadata": {},
   "source": [
    "Now we have the collection with specifier restaurants in our database. We can send some queries using pymongo and the method find(). It returns results in a cursor. find() without arguments returns all documents in the collection. We can specify some argument if we are interested in just particular documents/restaurants. Let's say we want to have all steak houses in NYC"
   ]
  },
  {
   "cell_type": "code",
   "execution_count": 4,
   "metadata": {
    "collapsed": true
   },
   "outputs": [
    {
     "name": "stdout",
     "output_type": "stream",
     "text": [
      "{'_id': ObjectId('59f9db72212f48e386d88248'), 'address': {'building': '178', 'coord': [-73.96252129999999, 40.7098035], 'street': 'Broadway', 'zipcode': '11211'}, 'borough': 'Brooklyn', 'cuisine': 'Steak', 'grades': [{'date': datetime.datetime(2014, 3, 8, 0, 0), 'grade': 'A', 'score': 12}, {'date': datetime.datetime(2013, 9, 28, 0, 0), 'grade': 'A', 'score': 10}, {'date': datetime.datetime(2013, 3, 26, 0, 0), 'grade': 'A', 'score': 3}, {'date': datetime.datetime(2012, 9, 10, 0, 0), 'grade': 'A', 'score': 12}, {'date': datetime.datetime(2011, 8, 15, 0, 0), 'grade': 'A', 'score': 13}], 'name': 'Peter Luger Steakhouse', 'restaurant_id': '40364335'}\n",
      "{'_id': ObjectId('59f9db73212f48e386d88255'), 'address': {'building': '845', 'coord': [-73.965531, 40.765431], 'street': 'Lexington Avenue', 'zipcode': '10065'}, 'borough': 'Manhattan', 'cuisine': 'Steak', 'grades': [{'date': datetime.datetime(2014, 3, 26, 0, 0), 'grade': 'A', 'score': 12}, {'date': datetime.datetime(2013, 3, 21, 0, 0), 'grade': 'A', 'score': 8}, {'date': datetime.datetime(2012, 10, 18, 0, 0), 'grade': 'A', 'score': 9}, {'date': datetime.datetime(2012, 5, 7, 0, 0), 'grade': 'A', 'score': 3}, {'date': datetime.datetime(2011, 5, 17, 0, 0), 'grade': 'A', 'score': 5}], 'name': \"Donohue'S Steak House\", 'restaurant_id': '40364572'}\n",
      "{'_id': ObjectId('59f9db73212f48e386d882f8'), 'address': {'building': '155157', 'coord': [153.1628795, -28.0168595], 'street': 'Christie St.', 'zipcode': '10002'}, 'borough': 'Manhattan', 'cuisine': 'Steak', 'grades': [{'date': datetime.datetime(2014, 11, 12, 0, 0), 'grade': 'A', 'score': 12}, {'date': datetime.datetime(2013, 9, 24, 0, 0), 'grade': 'A', 'score': 7}, {'date': datetime.datetime(2013, 4, 12, 0, 0), 'grade': 'B', 'score': 26}, {'date': datetime.datetime(2012, 9, 21, 0, 0), 'grade': 'A', 'score': 5}, {'date': datetime.datetime(2012, 4, 10, 0, 0), 'grade': 'A', 'score': 2}], 'name': \"Sammy'S Steakhouse\", 'restaurant_id': '40368552'}\n",
      "{'_id': ObjectId('59f9db73212f48e386d88334'), 'address': {'building': '210', 'coord': [-73.97212999999999, 40.7528838], 'street': 'East   46 Street', 'zipcode': '10017'}, 'borough': 'Manhattan', 'cuisine': 'Steak', 'grades': [{'date': datetime.datetime(2014, 3, 17, 0, 0), 'grade': 'A', 'score': 9}, {'date': datetime.datetime(2013, 9, 26, 0, 0), 'grade': 'A', 'score': 12}, {'date': datetime.datetime(2013, 4, 1, 0, 0), 'grade': 'A', 'score': 12}, {'date': datetime.datetime(2011, 12, 29, 0, 0), 'grade': 'A', 'score': 10}], 'name': 'Sparks Steak House', 'restaurant_id': '40369958'}\n",
      "{'_id': ObjectId('59f9db73212f48e386d88381'), 'address': {'building': '72', 'coord': [-73.98646339999999, 40.7507174], 'street': 'West   36 Street', 'zipcode': '10018'}, 'borough': 'Manhattan', 'cuisine': 'Steak', 'grades': [{'date': datetime.datetime(2015, 1, 15, 0, 0), 'grade': 'Z', 'score': 19}, {'date': datetime.datetime(2014, 7, 31, 0, 0), 'grade': 'A', 'score': 10}, {'date': datetime.datetime(2013, 6, 10, 0, 0), 'grade': 'A', 'score': 12}, {'date': datetime.datetime(2012, 6, 21, 0, 0), 'grade': 'A', 'score': 13}], 'name': 'Keens Steakhouse', 'restaurant_id': '40373656'}\n",
      "{'_id': ObjectId('59f9db73212f48e386d88449'), 'address': {'building': '269', 'coord': [-73.9880305, 40.7591348], 'street': 'West 45 Street', 'zipcode': '10036'}, 'borough': 'Manhattan', 'cuisine': 'Steak', 'grades': [{'date': datetime.datetime(2014, 6, 28, 0, 0), 'grade': 'A', 'score': 12}, {'date': datetime.datetime(2014, 1, 11, 0, 0), 'grade': 'A', 'score': 10}, {'date': datetime.datetime(2013, 6, 8, 0, 0), 'grade': 'A', 'score': 8}, {'date': datetime.datetime(2012, 4, 3, 0, 0), 'grade': 'A', 'score': 9}, {'date': datetime.datetime(2011, 9, 29, 0, 0), 'grade': 'A', 'score': 12}], 'name': 'Frankie & Johnnies Steakhouse', 'restaurant_id': '40384421'}\n",
      "{'_id': ObjectId('59f9db73212f48e386d8846f'), 'address': {'building': '9404', 'coord': [-74.031194, 40.616655], 'street': 'Fourth Avenue', 'zipcode': '11209'}, 'borough': 'Brooklyn', 'cuisine': 'Steak', 'grades': [{'date': datetime.datetime(2014, 11, 6, 0, 0), 'grade': 'A', 'score': 11}, {'date': datetime.datetime(2014, 4, 16, 0, 0), 'grade': 'A', 'score': 7}, {'date': datetime.datetime(2013, 8, 22, 0, 0), 'grade': 'A', 'score': 9}, {'date': datetime.datetime(2013, 2, 12, 0, 0), 'grade': 'A', 'score': 13}, {'date': datetime.datetime(2012, 6, 29, 0, 0), 'grade': 'A', 'score': 9}, {'date': datetime.datetime(2012, 1, 10, 0, 0), 'grade': 'A', 'score': 10}], 'name': \"Hunter'S Steak & Ale House\", 'restaurant_id': '40385885'}\n",
      "{'_id': ObjectId('59f9db73212f48e386d884f2'), 'address': {'building': '47-02', 'coord': [-73.9177601, 40.7423593], 'street': 'Greenpoint Avenue', 'zipcode': '11104'}, 'borough': 'Queens', 'cuisine': 'Steak', 'grades': [{'date': datetime.datetime(2014, 8, 27, 0, 0), 'grade': 'A', 'score': 12}, {'date': datetime.datetime(2013, 12, 14, 0, 0), 'grade': 'A', 'score': 12}, {'date': datetime.datetime(2013, 5, 15, 0, 0), 'grade': 'A', 'score': 12}, {'date': datetime.datetime(2012, 4, 10, 0, 0), 'grade': 'A', 'score': 11}, {'date': datetime.datetime(2011, 11, 30, 0, 0), 'grade': 'A', 'score': 10}], 'name': 'Bliss Street Station Restaurant', 'restaurant_id': '40389601'}\n",
      "{'_id': ObjectId('59f9db73212f48e386d8862a'), 'address': {'building': '8812', 'coord': [-74.029381, 40.621086], 'street': '4 Avenue', 'zipcode': '11209'}, 'borough': 'Brooklyn', 'cuisine': 'Steak', 'grades': [{'date': datetime.datetime(2014, 4, 23, 0, 0), 'grade': 'A', 'score': 12}, {'date': datetime.datetime(2013, 9, 6, 0, 0), 'grade': 'A', 'score': 12}, {'date': datetime.datetime(2013, 4, 11, 0, 0), 'grade': 'C', 'score': 4}, {'date': datetime.datetime(2011, 10, 27, 0, 0), 'grade': 'A', 'score': 7}, {'date': datetime.datetime(2011, 5, 6, 0, 0), 'grade': 'A', 'score': 7}], 'name': 'Arirang Hibachi Steakhouse', 'restaurant_id': '40397335'}\n",
      "{'_id': ObjectId('59f9db73212f48e386d886d1'), 'address': {'building': '1278', 'coord': [-73.9600923, 40.7707731], 'street': '3 Avenue', 'zipcode': '10021'}, 'borough': 'Manhattan', 'cuisine': 'Steak', 'grades': [{'date': datetime.datetime(2014, 5, 21, 0, 0), 'grade': 'A', 'score': 12}, {'date': datetime.datetime(2013, 12, 10, 0, 0), 'grade': 'A', 'score': 8}, {'date': datetime.datetime(2013, 5, 16, 0, 0), 'grade': 'A', 'score': 9}, {'date': datetime.datetime(2012, 8, 16, 0, 0), 'grade': 'A', 'score': 12}, {'date': datetime.datetime(2012, 1, 26, 0, 0), 'grade': 'A', 'score': 5}, {'date': datetime.datetime(2011, 8, 30, 0, 0), 'grade': 'A', 'score': 9}], 'name': 'T-Bar Steak & Lounge', 'restaurant_id': '40400657'}\n",
      "{'_id': ObjectId('59f9db73212f48e386d88844'), 'address': {'building': '230', 'coord': [-73.9758568, 40.7544956], 'street': 'Park Avenue', 'zipcode': '10017'}, 'borough': 'Manhattan', 'cuisine': 'Steak', 'grades': [{'date': datetime.datetime(2015, 1, 6, 0, 0), 'grade': 'A', 'score': 8}, {'date': datetime.datetime(2014, 7, 28, 0, 0), 'grade': 'A', 'score': 9}, {'date': datetime.datetime(2013, 7, 1, 0, 0), 'grade': 'A', 'score': 9}, {'date': datetime.datetime(2012, 7, 17, 0, 0), 'grade': 'A', 'score': 3}, {'date': datetime.datetime(2012, 3, 12, 0, 0), 'grade': 'A', 'score': 5}], 'name': \"Bobby Van'S\", 'restaurant_id': '40528180'}\n",
      "{'_id': ObjectId('59f9db73212f48e386d88923'), 'address': {'building': '57', 'coord': [-73.9761815, 40.7649625], 'street': 'West   58 Street', 'zipcode': '10019'}, 'borough': 'Manhattan', 'cuisine': 'Steak', 'grades': [{'date': datetime.datetime(2014, 7, 22, 0, 0), 'grade': 'A', 'score': 13}, {'date': datetime.datetime(2014, 2, 19, 0, 0), 'grade': 'A', 'score': 4}, {'date': datetime.datetime(2013, 8, 19, 0, 0), 'grade': 'A', 'score': 6}, {'date': datetime.datetime(2012, 7, 17, 0, 0), 'grade': 'A', 'score': 8}, {'date': datetime.datetime(2011, 8, 9, 0, 0), 'grade': 'A', 'score': 13}], 'name': 'Quality Meats', 'restaurant_id': '40559892'}\n",
      "{'_id': ObjectId('59f9db73212f48e386d88ac8'), 'address': {'building': '23', 'coord': [-73.9778412, 40.7531292], 'street': 'Vanderbilt Avenue', 'zipcode': '10017'}, 'borough': 'Manhattan', 'cuisine': 'Steak', 'grades': [{'date': datetime.datetime(2014, 6, 2, 0, 0), 'grade': 'A', 'score': 11}, {'date': datetime.datetime(2013, 6, 3, 0, 0), 'grade': 'A', 'score': 12}, {'date': datetime.datetime(2012, 10, 24, 0, 0), 'grade': 'A', 'score': 13}, {'date': datetime.datetime(2012, 4, 12, 0, 0), 'grade': 'A', 'score': 8}], 'name': \"Michael Jordan'S Steak House - In Grand Central\", 'restaurant_id': '40610326'}\n",
      "{'_id': ObjectId('59f9db73212f48e386d88b7a'), 'address': {'building': '5700', 'coord': [-73.9038784, 40.9067255], 'street': 'Riverdale Avenue', 'zipcode': '10471'}, 'borough': 'Bronx', 'cuisine': 'Steak', 'grades': [{'date': datetime.datetime(2014, 4, 15, 0, 0), 'grade': 'A', 'score': 10}, {'date': datetime.datetime(2013, 8, 22, 0, 0), 'grade': 'B', 'score': 15}, {'date': datetime.datetime(2012, 8, 8, 0, 0), 'grade': 'A', 'score': 13}, {'date': datetime.datetime(2012, 3, 29, 0, 0), 'grade': 'A', 'score': 10}, {'date': datetime.datetime(2011, 11, 9, 0, 0), 'grade': 'A', 'score': 12}, {'date': datetime.datetime(2011, 7, 2, 0, 0), 'grade': 'B', 'score': 22}], 'name': 'Riverdale Steak House', 'restaurant_id': '40656594'}\n",
      "{'_id': ObjectId('59f9db73212f48e386d88bb7'), 'address': {'building': '89-08', 'coord': [-73.8746279, 40.7343944], 'street': 'Queens Boulevard', 'zipcode': '11373'}, 'borough': 'Queens', 'cuisine': 'Steak', 'grades': [{'date': datetime.datetime(2014, 12, 10, 0, 0), 'grade': 'A', 'score': 13}, {'date': datetime.datetime(2014, 6, 15, 0, 0), 'grade': 'A', 'score': 12}, {'date': datetime.datetime(2013, 12, 23, 0, 0), 'grade': 'A', 'score': 10}, {'date': datetime.datetime(2013, 6, 27, 0, 0), 'grade': 'A', 'score': 12}, {'date': datetime.datetime(2012, 8, 29, 0, 0), 'grade': 'B', 'score': 16}], 'name': \"My Uncle'S Steak Restaurant\", 'restaurant_id': '40666626'}\n",
      "{'_id': ObjectId('59f9db73212f48e386d88bc0'), 'address': {'building': '10', 'coord': [-73.9773755, 40.7568284], 'street': 'East   48 Street', 'zipcode': '10017'}, 'borough': 'Manhattan', 'cuisine': 'Steak', 'grades': [{'date': datetime.datetime(2014, 12, 16, 0, 0), 'grade': 'A', 'score': 12}, {'date': datetime.datetime(2014, 6, 16, 0, 0), 'grade': 'B', 'score': 18}, {'date': datetime.datetime(2013, 10, 8, 0, 0), 'grade': 'A', 'score': 13}, {'date': datetime.datetime(2013, 2, 20, 0, 0), 'grade': 'A', 'score': 11}, {'date': datetime.datetime(2012, 4, 30, 0, 0), 'grade': 'A', 'score': 12}], 'name': 'Wolf And Lamb', 'restaurant_id': '40668380'}\n",
      "{'_id': ObjectId('59f9db73212f48e386d88c0a'), 'address': {'building': '1221', 'coord': [-73.98173, 40.7592574], 'street': 'Avenue Of The Americas', 'zipcode': '10020'}, 'borough': 'Manhattan', 'cuisine': 'Steak', 'grades': [{'date': datetime.datetime(2014, 2, 7, 0, 0), 'grade': 'A', 'score': 12}, {'date': datetime.datetime(2013, 6, 17, 0, 0), 'grade': 'A', 'score': 2}, {'date': datetime.datetime(2012, 11, 29, 0, 0), 'grade': 'A', 'score': 11}, {'date': datetime.datetime(2012, 4, 25, 0, 0), 'grade': 'A', 'score': 2}, {'date': datetime.datetime(2011, 11, 28, 0, 0), 'grade': 'A', 'score': 7}], 'name': \"Del Frisco'S\", 'restaurant_id': '40685858'}\n",
      "{'_id': ObjectId('59f9db73212f48e386d88c5d'), 'address': {'building': '250', 'coord': [-73.985676, 40.7619857], 'street': 'West   50 Street', 'zipcode': '10019'}, 'borough': 'Manhattan', 'cuisine': 'Steak', 'grades': [{'date': datetime.datetime(2014, 6, 4, 0, 0), 'grade': 'A', 'score': 9}, {'date': datetime.datetime(2013, 6, 6, 0, 0), 'grade': 'A', 'score': 12}, {'date': datetime.datetime(2013, 1, 9, 0, 0), 'grade': 'A', 'score': 7}, {'date': datetime.datetime(2012, 6, 18, 0, 0), 'grade': 'A', 'score': 8}, {'date': datetime.datetime(2012, 1, 26, 0, 0), 'grade': 'A', 'score': 9}], 'name': 'Palm Restaurant', 'restaurant_id': '40703714'}\n",
      "{'_id': ObjectId('59f9db73212f48e386d88d00'), 'address': {'building': '378', 'coord': [-73.9848365, 40.742659], 'street': 'Park Avenue South', 'zipcode': '10010'}, 'borough': 'Manhattan', 'cuisine': 'Steak', 'grades': [{'date': datetime.datetime(2014, 1, 21, 0, 0), 'grade': 'A', 'score': 7}, {'date': datetime.datetime(2013, 7, 8, 0, 0), 'grade': 'A', 'score': 13}, {'date': datetime.datetime(2012, 5, 7, 0, 0), 'grade': 'A', 'score': 12}, {'date': datetime.datetime(2011, 12, 21, 0, 0), 'grade': 'A', 'score': 9}], 'name': 'Hillstone Manhattan', 'restaurant_id': '40726517'}\n",
      "{'_id': ObjectId('59f9db73212f48e386d88ef4'), 'address': {'building': '6031', 'coord': [-73.8976916, 40.8916991], 'street': 'Broadway', 'zipcode': '10471'}, 'borough': 'Bronx', 'cuisine': 'Steak', 'grades': [{'date': datetime.datetime(2014, 12, 16, 0, 0), 'grade': 'A', 'score': 11}, {'date': datetime.datetime(2013, 10, 24, 0, 0), 'grade': 'A', 'score': 12}, {'date': datetime.datetime(2013, 5, 29, 0, 0), 'grade': 'A', 'score': 12}, {'date': datetime.datetime(2012, 10, 16, 0, 0), 'grade': 'A', 'score': 10}], 'name': \"Jake'S Steakhouse\", 'restaurant_id': '40819558'}\n",
      "{'_id': ObjectId('59f9db73212f48e386d890bc'), 'address': {'building': '148', 'coord': [-73.9822418, 40.7612824], 'street': 'West   51 Street', 'zipcode': '10019'}, 'borough': 'Manhattan', 'cuisine': 'Steak', 'grades': [{'date': datetime.datetime(2014, 11, 26, 0, 0), 'grade': 'A', 'score': 5}, {'date': datetime.datetime(2013, 11, 18, 0, 0), 'grade': 'A', 'score': 5}, {'date': datetime.datetime(2013, 6, 5, 0, 0), 'grade': 'A', 'score': 2}, {'date': datetime.datetime(2012, 4, 5, 0, 0), 'grade': 'A', 'score': 12}], 'name': \"Ruth'S Chris Steak House\", 'restaurant_id': '40894838'}\n",
      "{'_id': ObjectId('59f9db73212f48e386d8919b'), 'address': {'building': '32', 'coord': [-73.984917, 40.7508297], 'street': 'West   37 Street', 'zipcode': '10018'}, 'borough': 'Manhattan', 'cuisine': 'Steak', 'grades': [{'date': datetime.datetime(2014, 11, 20, 0, 0), 'grade': 'A', 'score': 9}, {'date': datetime.datetime(2013, 11, 26, 0, 0), 'grade': 'A', 'score': 5}, {'date': datetime.datetime(2012, 11, 15, 0, 0), 'grade': 'A', 'score': 6}, {'date': datetime.datetime(2012, 3, 12, 0, 0), 'grade': 'A', 'score': 9}], 'name': \"Frankie & Johnnie'S Steakhouse\", 'restaurant_id': '40931929'}\n",
      "{'_id': ObjectId('59f9db73212f48e386d8922a'), 'address': {'building': '9', 'coord': [-73.9932303, 40.75105970000001], 'street': 'Penn Plaza', 'zipcode': '10001'}, 'borough': 'Manhattan', 'cuisine': 'Steak', 'grades': [{'date': datetime.datetime(2014, 5, 13, 0, 0), 'grade': 'A', 'score': 9}, {'date': datetime.datetime(2013, 5, 6, 0, 0), 'grade': 'A', 'score': 11}, {'date': datetime.datetime(2011, 11, 7, 0, 0), 'grade': 'A', 'score': 9}], 'name': \"Nick & Stef'S Steakhouse\", 'restaurant_id': '40946369'}\n",
      "{'_id': ObjectId('59f9db73212f48e386d89313'), 'address': {'building': '131', 'coord': [-73.97094899999999, 40.759345], 'street': 'East 54 Street', 'zipcode': '10022'}, 'borough': 'Manhattan', 'cuisine': 'Steak', 'grades': [{'date': datetime.datetime(2014, 8, 6, 0, 0), 'grade': 'A', 'score': 12}, {'date': datetime.datetime(2013, 11, 12, 0, 0), 'grade': 'C', 'score': 49}, {'date': datetime.datetime(2012, 10, 22, 0, 0), 'grade': 'A', 'score': 12}], 'name': \"Bobby Van'S Steakhouse\", 'restaurant_id': '40977865'}\n",
      "{'_id': ObjectId('59f9db73212f48e386d89316'), 'address': {'building': '668', 'coord': [-73.9721594, 40.7920758], 'street': 'Amsterdam Avenue', 'zipcode': '10025'}, 'borough': 'Manhattan', 'cuisine': 'Steak', 'grades': [{'date': datetime.datetime(2014, 11, 26, 0, 0), 'grade': 'A', 'score': 12}, {'date': datetime.datetime(2014, 4, 9, 0, 0), 'grade': 'A', 'score': 8}, {'date': datetime.datetime(2013, 6, 11, 0, 0), 'grade': 'B', 'score': 16}, {'date': datetime.datetime(2012, 5, 14, 0, 0), 'grade': 'A', 'score': 10}, {'date': datetime.datetime(2011, 12, 8, 0, 0), 'grade': 'A', 'score': 9}], 'name': \"Talia'S Steakhouse\", 'restaurant_id': '40978252'}\n",
      "{'_id': ObjectId('59f9db73212f48e386d8937d'), 'address': {'building': '440', 'coord': [-73.99548290000001, 40.753666], 'street': '9 Avenue', 'zipcode': '10001'}, 'borough': 'Manhattan', 'cuisine': 'Steak', 'grades': [{'date': datetime.datetime(2014, 7, 22, 0, 0), 'grade': 'A', 'score': 11}, {'date': datetime.datetime(2013, 7, 30, 0, 0), 'grade': 'A', 'score': 13}, {'date': datetime.datetime(2013, 2, 13, 0, 0), 'grade': 'A', 'score': 2}, {'date': datetime.datetime(2011, 12, 12, 0, 0), 'grade': 'A', 'score': 8}], 'name': \"Uncle Jack'S Steakhouse\", 'restaurant_id': '40991835'}\n",
      "{'_id': ObjectId('59f9db73212f48e386d893da'), 'address': {'building': '4', 'coord': [-73.9820939, 40.7467444], 'street': 'Park Avenue', 'zipcode': '10016'}, 'borough': 'Manhattan', 'cuisine': 'Steak', 'grades': [{'date': datetime.datetime(2014, 6, 5, 0, 0), 'grade': 'A', 'score': 7}, {'date': datetime.datetime(2013, 6, 10, 0, 0), 'grade': 'A', 'score': 2}, {'date': datetime.datetime(2012, 6, 27, 0, 0), 'grade': 'A', 'score': 9}, {'date': datetime.datetime(2012, 2, 8, 0, 0), 'grade': 'A', 'score': 10}, {'date': datetime.datetime(2011, 6, 16, 0, 0), 'grade': 'B', 'score': 16}], 'name': \"Wolfgang'S Steak House\", 'restaurant_id': '41001087'}\n",
      "{'_id': ObjectId('59f9db73212f48e386d894ce'), 'address': {'building': '1285', 'coord': [-73.9802208, 40.760996], 'street': 'Avenue Of The Americas', 'zipcode': '10019'}, 'borough': 'Manhattan', 'cuisine': 'Steak', 'grades': [{'date': datetime.datetime(2015, 1, 16, 0, 0), 'grade': 'A', 'score': 11}, {'date': datetime.datetime(2014, 1, 14, 0, 0), 'grade': 'A', 'score': 13}, {'date': datetime.datetime(2013, 6, 11, 0, 0), 'grade': 'A', 'score': 10}, {'date': datetime.datetime(2012, 10, 2, 0, 0), 'grade': 'B', 'score': 23}, {'date': datetime.datetime(2012, 3, 9, 0, 0), 'grade': 'A', 'score': 12}], 'name': \"Mastro'S Steakhouse\", 'restaurant_id': '41022144'}\n",
      "{'_id': ObjectId('59f9db73212f48e386d894f7'), 'address': {'building': '2145', 'coord': [-73.940676, 40.793522], 'street': '2 Avenue', 'zipcode': '10029'}, 'borough': 'Manhattan', 'cuisine': 'Steak', 'grades': [{'date': datetime.datetime(2014, 9, 9, 0, 0), 'grade': 'A', 'score': 10}, {'date': datetime.datetime(2014, 3, 12, 0, 0), 'grade': 'A', 'score': 11}, {'date': datetime.datetime(2013, 8, 2, 0, 0), 'grade': 'A', 'score': 12}, {'date': datetime.datetime(2013, 6, 21, 0, 0), 'grade': 'P', 'score': 2}, {'date': datetime.datetime(2013, 1, 3, 0, 0), 'grade': 'A', 'score': 12}, {'date': datetime.datetime(2012, 2, 28, 0, 0), 'grade': 'A', 'score': 12}], 'name': 'Ricardo Steak House', 'restaurant_id': '41026458'}\n",
      "{'_id': ObjectId('59f9db73212f48e386d8959c'), 'address': {'building': '155', 'coord': [-73.9747229, 40.751244], 'street': 'East   42 Street', 'zipcode': '10017'}, 'borough': 'Manhattan', 'cuisine': 'Steak', 'grades': [{'date': datetime.datetime(2014, 4, 21, 0, 0), 'grade': 'A', 'score': 6}, {'date': datetime.datetime(2013, 9, 5, 0, 0), 'grade': 'A', 'score': 11}, {'date': datetime.datetime(2013, 1, 29, 0, 0), 'grade': 'A', 'score': 10}, {'date': datetime.datetime(2012, 6, 25, 0, 0), 'grade': 'A', 'score': 4}, {'date': datetime.datetime(2011, 10, 20, 0, 0), 'grade': 'A', 'score': 11}], 'name': 'Capital Grille', 'restaurant_id': '41046726'}\n",
      "{'_id': ObjectId('59f9db73212f48e386d895b2'), 'address': {'building': '268', 'coord': [-73.8376928, 40.581304], 'street': 'Beach  116 Street', 'zipcode': '11694'}, 'borough': 'Queens', 'cuisine': 'Steak', 'grades': [{'date': datetime.datetime(2014, 8, 26, 0, 0), 'grade': 'A', 'score': 12}, {'date': datetime.datetime(2014, 1, 21, 0, 0), 'grade': 'A', 'score': 13}, {'date': datetime.datetime(2013, 5, 16, 0, 0), 'grade': 'A', 'score': 7}, {'date': datetime.datetime(2012, 3, 17, 0, 0), 'grade': 'A', 'score': 9}, {'date': datetime.datetime(2011, 11, 9, 0, 0), 'grade': 'A', 'score': 9}], 'name': 'Belle Harbor Steakhouse', 'restaurant_id': '41049500'}\n",
      "{'_id': ObjectId('59f9db73212f48e386d895c9'), 'address': {'building': '154', 'coord': [-73.9847446, 40.7575195], 'street': 'West   45 Street', 'zipcode': '10036'}, 'borough': 'Manhattan', 'cuisine': 'Steak', 'grades': [{'date': datetime.datetime(2014, 11, 21, 0, 0), 'grade': 'A', 'score': 5}, {'date': datetime.datetime(2013, 10, 17, 0, 0), 'grade': 'A', 'score': 6}, {'date': datetime.datetime(2013, 5, 24, 0, 0), 'grade': 'A', 'score': 5}, {'date': datetime.datetime(2012, 5, 16, 0, 0), 'grade': 'A', 'score': 12}, {'date': datetime.datetime(2012, 1, 10, 0, 0), 'grade': 'A', 'score': 7}], 'name': 'Bond 45 Italian Kitchen Steak & Seafood', 'restaurant_id': '41053879'}\n",
      "{'_id': ObjectId('59f9db73212f48e386d8985c'), 'address': {'building': '15', 'coord': [-74.01209399999999, 40.704208], 'street': 'Stone Street', 'zipcode': '10004'}, 'borough': 'Manhattan', 'cuisine': 'Steak', 'grades': [{'date': datetime.datetime(2014, 6, 11, 0, 0), 'grade': 'A', 'score': 11}, {'date': datetime.datetime(2013, 11, 21, 0, 0), 'grade': 'A', 'score': 7}, {'date': datetime.datetime(2013, 4, 25, 0, 0), 'grade': 'A', 'score': 12}, {'date': datetime.datetime(2012, 10, 25, 0, 0), 'grade': 'A', 'score': 10}, {'date': datetime.datetime(2012, 3, 7, 0, 0), 'grade': 'B', 'score': 19}, {'date': datetime.datetime(2011, 8, 10, 0, 0), 'grade': 'A', 'score': 0}, {'date': datetime.datetime(2011, 6, 17, 0, 0), 'grade': 'P', 'score': 5}], 'name': 'Nebraska Steakhouse', 'restaurant_id': '41124964'}\n",
      "{'_id': ObjectId('59f9db73212f48e386d89900'), 'address': {'building': '25', 'coord': [-74.0111372, 40.7060887], 'street': 'Broad Street', 'zipcode': '10004'}, 'borough': 'Manhattan', 'cuisine': 'Steak', 'grades': [{'date': datetime.datetime(2014, 8, 18, 0, 0), 'grade': 'A', 'score': 12}, {'date': datetime.datetime(2014, 3, 21, 0, 0), 'grade': 'B', 'score': 22}, {'date': datetime.datetime(2013, 8, 5, 0, 0), 'grade': 'B', 'score': 17}, {'date': datetime.datetime(2012, 6, 5, 0, 0), 'grade': 'A', 'score': 12}, {'date': datetime.datetime(2011, 11, 21, 0, 0), 'grade': 'A', 'score': 9}], 'name': \"Bobby Van'S Steakhouse\", 'restaurant_id': '41143605'}\n",
      "{'_id': ObjectId('59f9db73212f48e386d89a07'), 'address': {'building': '104', 'coord': [-73.9706034, 40.7613519], 'street': 'East   57 Street', 'zipcode': '10022'}, 'borough': 'Manhattan', 'cuisine': 'Steak', 'grades': [{'date': datetime.datetime(2014, 11, 22, 0, 0), 'grade': 'A', 'score': 11}, {'date': datetime.datetime(2014, 6, 17, 0, 0), 'grade': 'A', 'score': 7}, {'date': datetime.datetime(2013, 9, 12, 0, 0), 'grade': 'A', 'score': 4}, {'date': datetime.datetime(2012, 8, 7, 0, 0), 'grade': 'A', 'score': 11}], 'name': 'Blt Steak', 'restaurant_id': '41165361'}\n",
      "{'_id': ObjectId('59f9db73212f48e386d89ac8'), 'address': {'building': '409', 'coord': [-74.0096645, 40.72125190000001], 'street': 'Greenwich Street', 'zipcode': '10013'}, 'borough': 'Manhattan', 'cuisine': 'Steak', 'grades': [{'date': datetime.datetime(2014, 6, 11, 0, 0), 'grade': 'A', 'score': 2}, {'date': datetime.datetime(2013, 12, 18, 0, 0), 'grade': 'A', 'score': 13}, {'date': datetime.datetime(2013, 5, 29, 0, 0), 'grade': 'A', 'score': 13}, {'date': datetime.datetime(2011, 12, 27, 0, 0), 'grade': 'A', 'score': 7}, {'date': datetime.datetime(2011, 9, 19, 0, 0), 'grade': 'A', 'score': 2}], 'name': \"Wolfgang'S Steakhouse\", 'restaurant_id': '41180080'}\n",
      "{'_id': ObjectId('59f9db73212f48e386d89b1b'), 'address': {'building': '315', 'coord': [-73.9934102, 40.75405809999999], 'street': 'West 36 Street', 'zipcode': '10018'}, 'borough': 'Manhattan', 'cuisine': 'Steak', 'grades': [{'date': datetime.datetime(2014, 3, 15, 0, 0), 'grade': 'A', 'score': 9}, {'date': datetime.datetime(2013, 9, 23, 0, 0), 'grade': 'A', 'score': 5}, {'date': datetime.datetime(2013, 3, 11, 0, 0), 'grade': 'A', 'score': 7}, {'date': datetime.datetime(2012, 1, 17, 0, 0), 'grade': 'A', 'score': 7}], 'name': 'Staghorn Steakhouse', 'restaurant_id': '41187546'}\n",
      "{'_id': ObjectId('59f9db73212f48e386d89bc2'), 'address': {'building': '2402', 'coord': [-73.9892847, 40.5988445], 'street': '86 Street', 'zipcode': '11214'}, 'borough': 'Brooklyn', 'cuisine': 'Steak', 'grades': [{'date': datetime.datetime(2014, 10, 20, 0, 0), 'grade': 'A', 'score': 7}, {'date': datetime.datetime(2014, 3, 26, 0, 0), 'grade': 'B', 'score': 15}, {'date': datetime.datetime(2013, 9, 26, 0, 0), 'grade': 'A', 'score': 10}, {'date': datetime.datetime(2013, 3, 29, 0, 0), 'grade': 'A', 'score': 5}, {'date': datetime.datetime(2012, 4, 9, 0, 0), 'grade': 'A', 'score': 13}, {'date': datetime.datetime(2011, 11, 1, 0, 0), 'grade': 'B', 'score': 25}], 'name': 'The Living Room Steak House', 'restaurant_id': '41204684'}\n",
      "{'_id': ObjectId('59f9db73212f48e386d89c91'), 'address': {'building': '3940', 'coord': [-73.77159999999999, 40.764184], 'street': 'Bell Boulevard', 'zipcode': '11361'}, 'borough': 'Queens', 'cuisine': 'Steak', 'grades': [{'date': datetime.datetime(2014, 5, 30, 0, 0), 'grade': 'A', 'score': 12}, {'date': datetime.datetime(2013, 12, 2, 0, 0), 'grade': 'A', 'score': 11}, {'date': datetime.datetime(2012, 9, 13, 0, 0), 'grade': 'A', 'score': 9}, {'date': datetime.datetime(2011, 10, 4, 0, 0), 'grade': 'A', 'score': 12}], 'name': 'Uncle Jacks Steakhouse', 'restaurant_id': '41223838'}\n",
      "{'_id': ObjectId('59f9db73212f48e386d89ca9'), 'address': {'building': '52', 'coord': [-73.9790474, 40.7517244], 'street': 'East   41 Street', 'zipcode': '10017'}, 'borough': 'Manhattan', 'cuisine': 'Steak', 'grades': [{'date': datetime.datetime(2014, 12, 24, 0, 0), 'grade': 'A', 'score': 9}, {'date': datetime.datetime(2014, 8, 21, 0, 0), 'grade': 'A', 'score': 5}, {'date': datetime.datetime(2014, 2, 10, 0, 0), 'grade': 'A', 'score': 13}, {'date': datetime.datetime(2013, 5, 3, 0, 0), 'grade': 'A', 'score': 5}, {'date': datetime.datetime(2012, 11, 26, 0, 0), 'grade': 'A', 'score': 12}], 'name': 'Benjamin Steak House', 'restaurant_id': '41224985'}\n",
      "{'_id': ObjectId('59f9db73212f48e386d89d63'), 'address': {'building': '135', 'coord': [-73.9823413, 40.761032], 'street': 'West   50 Street', 'zipcode': '10020'}, 'borough': 'Manhattan', 'cuisine': 'Steak', 'grades': [{'date': datetime.datetime(2014, 11, 6, 0, 0), 'grade': 'A', 'score': 2}, {'date': datetime.datetime(2013, 8, 20, 0, 0), 'grade': 'A', 'score': 13}, {'date': datetime.datetime(2013, 3, 21, 0, 0), 'grade': 'A', 'score': 9}, {'date': datetime.datetime(2012, 8, 28, 0, 0), 'grade': 'A', 'score': 4}, {'date': datetime.datetime(2012, 1, 23, 0, 0), 'grade': 'B', 'score': 26}], 'name': \"Bobby Van'S Grill\", 'restaurant_id': '41236763'}\n",
      "{'_id': ObjectId('59f9db73212f48e386d89e0d'), 'address': {'building': '89', 'coord': [-73.9476379, 40.7150599], 'street': 'Conselyea St', 'zipcode': '11211'}, 'borough': 'Brooklyn', 'cuisine': 'Steak', 'grades': [{'date': datetime.datetime(2014, 5, 30, 0, 0), 'grade': 'A', 'score': 8}, {'date': datetime.datetime(2013, 6, 5, 0, 0), 'grade': 'A', 'score': 4}, {'date': datetime.datetime(2012, 6, 2, 0, 0), 'grade': 'A', 'score': 8}, {'date': datetime.datetime(2011, 6, 9, 0, 0), 'grade': 'A', 'score': 12}], 'name': \"Destefano'S Steakhouse\", 'restaurant_id': '41246958'}\n",
      "{'_id': ObjectId('59f9db73212f48e386d8a0ba'), 'address': {'building': '44', 'coord': [-73.97669499999999, 40.762982], 'street': 'West   56 Street', 'zipcode': '10019'}, 'borough': 'Manhattan', 'cuisine': 'Steak', 'grades': [{'date': datetime.datetime(2014, 1, 28, 0, 0), 'grade': 'A', 'score': 11}, {'date': datetime.datetime(2013, 10, 2, 0, 0), 'grade': 'C', 'score': 32}, {'date': datetime.datetime(2012, 12, 27, 0, 0), 'grade': 'A', 'score': 9}, {'date': datetime.datetime(2012, 4, 12, 0, 0), 'grade': 'A', 'score': 10}, {'date': datetime.datetime(2011, 10, 26, 0, 0), 'grade': 'A', 'score': 11}], 'name': \"Uncle Jack'S Steakhouse\", 'restaurant_id': '41294786'}\n",
      "{'_id': ObjectId('59f9db73212f48e386d8a2de'), 'address': {'building': '1600', 'coord': [-73.9524536, 40.7813671], 'street': '3 Avenue', 'zipcode': '10128'}, 'borough': 'Manhattan', 'cuisine': 'Steak', 'grades': [{'date': datetime.datetime(2014, 3, 6, 0, 0), 'grade': 'A', 'score': 10}, {'date': datetime.datetime(2013, 1, 24, 0, 0), 'grade': 'A', 'score': 8}, {'date': datetime.datetime(2012, 8, 20, 0, 0), 'grade': 'A', 'score': 9}, {'date': datetime.datetime(2012, 2, 2, 0, 0), 'grade': 'A', 'score': 12}], 'name': 'Parlor Steakhouse', 'restaurant_id': '41326866'}\n",
      "{'_id': ObjectId('59f9db73212f48e386d8a43b'), 'address': {'building': '240', 'coord': [-73.96557299999999, 40.760051], 'street': 'East 58 Street', 'zipcode': '10022'}, 'borough': 'Manhattan', 'cuisine': 'Steak', 'grades': [{'date': datetime.datetime(2014, 11, 25, 0, 0), 'grade': 'A', 'score': 12}, {'date': datetime.datetime(2014, 4, 10, 0, 0), 'grade': 'B', 'score': 17}, {'date': datetime.datetime(2013, 7, 10, 0, 0), 'grade': 'C', 'score': 32}, {'date': datetime.datetime(2012, 10, 23, 0, 0), 'grade': 'A', 'score': 13}, {'date': datetime.datetime(2012, 4, 26, 0, 0), 'grade': 'A', 'score': 9}], 'name': 'Club A Steakhouse', 'restaurant_id': '41351524'}\n",
      "{'_id': ObjectId('59f9db73212f48e386d8a4d5'), 'address': {'building': '0', 'coord': [-73.7889689, 40.6433507], 'street': 'John F. Kennedy Intl Air', 'zipcode': '11430'}, 'borough': 'Queens', 'cuisine': 'Steak', 'grades': [{'date': datetime.datetime(2014, 8, 13, 0, 0), 'grade': 'A', 'score': 13}, {'date': datetime.datetime(2013, 8, 29, 0, 0), 'grade': 'A', 'score': 11}, {'date': datetime.datetime(2013, 4, 11, 0, 0), 'grade': 'A', 'score': 0}, {'date': datetime.datetime(2012, 3, 14, 0, 0), 'grade': 'A', 'score': 12}], 'name': '5Ive Steak', 'restaurant_id': '41362513'}\n",
      "{'_id': ObjectId('59f9db73212f48e386d8a592'), 'address': {'building': '200', 'coord': [-74.0122865, 40.7166708], 'street': 'Chambers Street', 'zipcode': '10007'}, 'borough': 'Manhattan', 'cuisine': 'Steak', 'grades': [{'date': datetime.datetime(2014, 5, 6, 0, 0), 'grade': 'A', 'score': 11}, {'date': datetime.datetime(2013, 5, 6, 0, 0), 'grade': 'A', 'score': 9}, {'date': datetime.datetime(2012, 12, 6, 0, 0), 'grade': 'A', 'score': 11}, {'date': datetime.datetime(2012, 6, 4, 0, 0), 'grade': 'B', 'score': 18}, {'date': datetime.datetime(2011, 12, 19, 0, 0), 'grade': 'A', 'score': 11}], 'name': 'Palm Restaurant', 'restaurant_id': '41372589'}\n",
      "{'_id': ObjectId('59f9db73212f48e386d8a725'), 'address': {'building': '255', 'coord': [-73.9817071, 40.6746579], 'street': '5 Avenue', 'zipcode': '11215'}, 'borough': 'Manhattan', 'cuisine': 'Steak', 'grades': [{'date': datetime.datetime(2014, 2, 11, 0, 0), 'grade': 'A', 'score': 12}, {'date': datetime.datetime(2013, 7, 11, 0, 0), 'grade': 'B', 'score': 23}, {'date': datetime.datetime(2012, 12, 27, 0, 0), 'grade': 'C', 'score': 33}, {'date': datetime.datetime(2012, 5, 24, 0, 0), 'grade': 'B', 'score': 20}, {'date': datetime.datetime(2011, 12, 23, 0, 0), 'grade': 'A', 'score': 11}, {'date': datetime.datetime(2011, 6, 28, 0, 0), 'grade': 'A', 'score': 12}], 'name': 'Ben & Jacks Steakhouse', 'restaurant_id': '41390370'}\n",
      "{'_id': ObjectId('59f9db73212f48e386d8a744'), 'address': {'building': '0', 'coord': [-73.9259201, 40.8278293], 'street': '161 Street & River Avenue', 'zipcode': '10451'}, 'borough': 'Bronx', 'cuisine': 'Steak', 'grades': [{'date': datetime.datetime(2014, 4, 10, 0, 0), 'grade': 'A', 'score': 7}, {'date': datetime.datetime(2013, 5, 15, 0, 0), 'grade': 'A', 'score': 2}, {'date': datetime.datetime(2012, 5, 21, 0, 0), 'grade': 'A', 'score': 12}, {'date': datetime.datetime(2011, 5, 20, 0, 0), 'grade': 'A', 'score': 9}], 'name': 'Nyy Steak', 'restaurant_id': '41391840'}\n",
      "{'_id': ObjectId('59f9db73212f48e386d8a7be'), 'address': {'building': '142', 'coord': [-73.984122, 40.757922], 'street': 'West   46 Street', 'zipcode': '10036'}, 'borough': 'Manhattan', 'cuisine': 'Steak', 'grades': [{'date': datetime.datetime(2014, 7, 2, 0, 0), 'grade': 'A', 'score': 7}, {'date': datetime.datetime(2013, 5, 14, 0, 0), 'grade': 'A', 'score': 12}, {'date': datetime.datetime(2012, 11, 27, 0, 0), 'grade': 'A', 'score': 13}, {'date': datetime.datetime(2012, 6, 18, 0, 0), 'grade': 'A', 'score': 5}, {'date': datetime.datetime(2011, 10, 17, 0, 0), 'grade': 'A', 'score': 13}], 'name': 'St. Andrews Restaurant', 'restaurant_id': '41395775'}\n",
      "{'_id': ObjectId('59f9db73212f48e386d8a88f'), 'address': {'building': '210-35', 'coord': [-73.7796956, 40.77767], 'street': '26 Avenue', 'zipcode': '11360'}, 'borough': 'Queens', 'cuisine': 'Steak', 'grades': [{'date': datetime.datetime(2014, 12, 16, 0, 0), 'grade': 'A', 'score': 10}, {'date': datetime.datetime(2014, 6, 26, 0, 0), 'grade': 'A', 'score': 9}, {'date': datetime.datetime(2013, 6, 12, 0, 0), 'grade': 'A', 'score': 7}, {'date': datetime.datetime(2013, 2, 8, 0, 0), 'grade': 'A', 'score': 5}], 'name': \"Tony Roma'S\", 'restaurant_id': '41405150'}\n",
      "{'_id': ObjectId('59f9db74212f48e386d8ad3d'), 'address': {'building': '200', 'coord': [-73.9685741, 40.7579569], 'street': 'East   54 Street', 'zipcode': '10022'}, 'borough': 'Manhattan', 'cuisine': 'Steak', 'grades': [{'date': datetime.datetime(2014, 12, 10, 0, 0), 'grade': 'A', 'score': 11}, {'date': datetime.datetime(2014, 6, 30, 0, 0), 'grade': 'A', 'score': 13}, {'date': datetime.datetime(2014, 1, 15, 0, 0), 'grade': 'C', 'score': 40}, {'date': datetime.datetime(2013, 5, 23, 0, 0), 'grade': 'A', 'score': 13}, {'date': datetime.datetime(2012, 4, 19, 0, 0), 'grade': 'A', 'score': 13}], 'name': \"Wolfgang'S Steakhouse\", 'restaurant_id': '41466358'}\n",
      "{'_id': ObjectId('59f9db74212f48e386d8ae50'), 'address': {'building': '152', 'coord': [-73.993724, 40.7455179], 'street': 'West   26 Street', 'zipcode': '10001'}, 'borough': 'Manhattan', 'cuisine': 'Steak', 'grades': [{'date': datetime.datetime(2014, 3, 31, 0, 0), 'grade': 'A', 'score': 8}, {'date': datetime.datetime(2013, 3, 25, 0, 0), 'grade': 'A', 'score': 8}, {'date': datetime.datetime(2012, 9, 27, 0, 0), 'grade': 'A', 'score': 9}, {'date': datetime.datetime(2011, 9, 19, 0, 0), 'grade': 'A', 'score': 12}, {'date': datetime.datetime(2011, 6, 14, 0, 0), 'grade': 'B', 'score': 21}], 'name': 'Rare Bar  And  Grill', 'restaurant_id': '41477944'}\n",
      "{'_id': ObjectId('59f9db74212f48e386d8ae62'), 'address': {'building': '3379', 'coord': [-73.9544847, 40.8214312], 'street': 'Broadway', 'zipcode': '10031'}, 'borough': 'Manhattan', 'cuisine': 'Steak', 'grades': [{'date': datetime.datetime(2014, 9, 30, 0, 0), 'grade': 'A', 'score': 11}, {'date': datetime.datetime(2014, 4, 3, 0, 0), 'grade': 'A', 'score': 12}, {'date': datetime.datetime(2013, 1, 25, 0, 0), 'grade': 'A', 'score': 2}, {'date': datetime.datetime(2012, 9, 11, 0, 0), 'grade': 'C', 'score': 0}], 'name': '137 Bar & Grill', 'restaurant_id': '41478576'}\n",
      "{'_id': ObjectId('59f9db74212f48e386d8aef5'), 'address': {'building': '23-48', 'coord': [-73.7757357, 40.7812788], 'street': 'Bell Boulevard', 'zipcode': '11360'}, 'borough': 'Queens', 'cuisine': 'Steak', 'grades': [{'date': datetime.datetime(2015, 1, 5, 0, 0), 'grade': 'A', 'score': 12}, {'date': datetime.datetime(2014, 6, 28, 0, 0), 'grade': 'A', 'score': 12}, {'date': datetime.datetime(2013, 12, 11, 0, 0), 'grade': 'A', 'score': 12}, {'date': datetime.datetime(2013, 7, 3, 0, 0), 'grade': 'A', 'score': 6}, {'date': datetime.datetime(2012, 4, 12, 0, 0), 'grade': 'A', 'score': 2}], 'name': 'Outback Steakhouse 3330', 'restaurant_id': '41485123'}\n",
      "{'_id': ObjectId('59f9db74212f48e386d8aef6'), 'address': {'building': '88-01', 'coord': [-73.8747611, 40.7353074], 'street': 'Queens Boulevard', 'zipcode': '11373'}, 'borough': 'Queens', 'cuisine': 'Steak', 'grades': [{'date': datetime.datetime(2014, 5, 7, 0, 0), 'grade': 'A', 'score': 9}, {'date': datetime.datetime(2013, 5, 8, 0, 0), 'grade': 'A', 'score': 7}, {'date': datetime.datetime(2012, 12, 15, 0, 0), 'grade': 'C', 'score': 29}, {'date': datetime.datetime(2011, 12, 19, 0, 0), 'grade': 'A', 'score': 7}, {'date': datetime.datetime(2011, 8, 9, 0, 0), 'grade': 'A', 'score': 8}], 'name': 'Outback Steakhouse 3332', 'restaurant_id': '41485145'}\n",
      "{'_id': ObjectId('59f9db74212f48e386d8aef7'), 'address': {'building': '280', 'coord': [-74.16403500000001, 40.5781824], 'street': 'Marsh Avenue', 'zipcode': '10314'}, 'borough': 'Staten Island', 'cuisine': 'Steak', 'grades': [{'date': datetime.datetime(2014, 6, 16, 0, 0), 'grade': 'B', 'score': 22}, {'date': datetime.datetime(2013, 10, 16, 0, 0), 'grade': 'A', 'score': 11}, {'date': datetime.datetime(2013, 2, 25, 0, 0), 'grade': 'A', 'score': 13}, {'date': datetime.datetime(2012, 6, 16, 0, 0), 'grade': 'A', 'score': 11}, {'date': datetime.datetime(2011, 10, 20, 0, 0), 'grade': 'A', 'score': 10}], 'name': 'Outback Steakhouse', 'restaurant_id': '41485154'}\n",
      "{'_id': ObjectId('59f9db74212f48e386d8af0a'), 'address': {'building': '119', 'coord': [-73.9490979, 40.7245344], 'street': 'Nassau Avenue', 'zipcode': '11222'}, 'borough': 'Brooklyn', 'cuisine': 'Steak', 'grades': [{'date': datetime.datetime(2014, 3, 19, 0, 0), 'grade': 'A', 'score': 9}, {'date': datetime.datetime(2013, 10, 8, 0, 0), 'grade': 'B', 'score': 17}, {'date': datetime.datetime(2013, 4, 24, 0, 0), 'grade': 'A', 'score': 5}, {'date': datetime.datetime(2012, 3, 21, 0, 0), 'grade': 'A', 'score': 8}], 'name': 'Amber Steak House', 'restaurant_id': '41486145'}\n",
      "{'_id': ObjectId('59f9db74212f48e386d8af8a'), 'address': {'building': '597', 'coord': [-73.9951153, 40.7606442], 'street': '10 Avenue', 'zipcode': '10036'}, 'borough': 'Manhattan', 'cuisine': 'Steak', 'grades': [{'date': datetime.datetime(2014, 12, 31, 0, 0), 'grade': 'A', 'score': 11}, {'date': datetime.datetime(2013, 12, 5, 0, 0), 'grade': 'A', 'score': 8}, {'date': datetime.datetime(2012, 10, 18, 0, 0), 'grade': 'A', 'score': 9}], 'name': 'West Side Steakhouse', 'restaurant_id': '41491955'}\n",
      "{'_id': ObjectId('59f9db74212f48e386d8b080'), 'address': {'building': '120', 'coord': [-73.983873, 40.7570432], 'street': 'West   45 Street', 'zipcode': '10036'}, 'borough': 'Manhattan', 'cuisine': 'Steak', 'grades': [{'date': datetime.datetime(2014, 12, 22, 0, 0), 'grade': 'A', 'score': 11}, {'date': datetime.datetime(2014, 6, 26, 0, 0), 'grade': 'B', 'score': 26}, {'date': datetime.datetime(2013, 4, 23, 0, 0), 'grade': 'A', 'score': 10}, {'date': datetime.datetime(2012, 4, 19, 0, 0), 'grade': 'A', 'score': 4}], 'name': \"Bobby Van'S Grill\", 'restaurant_id': '41505885'}\n",
      "{'_id': ObjectId('59f9db74212f48e386d8b0cd'), 'address': {'building': '60', 'coord': [-73.99256439999999, 40.7425062], 'street': 'West   23 Street', 'zipcode': '10010'}, 'borough': 'Manhattan', 'cuisine': 'Steak', 'grades': [{'date': datetime.datetime(2014, 5, 17, 0, 0), 'grade': 'A', 'score': 12}, {'date': datetime.datetime(2013, 4, 5, 0, 0), 'grade': 'A', 'score': 13}, {'date': datetime.datetime(2012, 9, 13, 0, 0), 'grade': 'A', 'score': 13}, {'date': datetime.datetime(2011, 9, 6, 0, 0), 'grade': 'A', 'score': 9}], 'name': 'Outback Steakhouse', 'restaurant_id': '41510816'}\n",
      "{'_id': ObjectId('59f9db74212f48e386d8b124'), 'address': {'building': '43', 'coord': [-73.92699499999999, 40.806903], 'street': 'Bruckner Boulevard', 'zipcode': '10454'}, 'borough': 'Bronx', 'cuisine': 'Steak', 'grades': [{'date': datetime.datetime(2014, 11, 17, 0, 0), 'grade': 'A', 'score': 7}, {'date': datetime.datetime(2013, 9, 18, 0, 0), 'grade': 'A', 'score': 5}, {'date': datetime.datetime(2012, 10, 1, 0, 0), 'grade': 'A', 'score': 12}, {'date': datetime.datetime(2012, 5, 2, 0, 0), 'grade': 'A', 'score': 13}], 'name': 'El Pancho Steak House', 'restaurant_id': '41514880'}\n",
      "{'_id': ObjectId('59f9db74212f48e386d8b216'), 'address': {'building': '36', 'coord': [-73.977887, 40.7602918], 'street': 'West   52 Street', 'zipcode': '10019'}, 'borough': 'Manhattan', 'cuisine': 'Steak', 'grades': [{'date': datetime.datetime(2014, 6, 19, 0, 0), 'grade': 'A', 'score': 10}, {'date': datetime.datetime(2013, 4, 29, 0, 0), 'grade': 'A', 'score': 13}, {'date': datetime.datetime(2012, 10, 15, 0, 0), 'grade': 'A', 'score': 9}, {'date': datetime.datetime(2012, 3, 5, 0, 0), 'grade': 'B', 'score': 19}, {'date': datetime.datetime(2011, 8, 29, 0, 0), 'grade': 'A', 'score': 12}], 'name': 'Empire Steak House', 'restaurant_id': '41530711'}\n",
      "{'_id': ObjectId('59f9db74212f48e386d8b2a9'), 'address': {'building': '2006', 'coord': [-73.94293979999999, 40.7943967], 'street': '3 Avenue', 'zipcode': '10029'}, 'borough': 'Manhattan', 'cuisine': 'Steak', 'grades': [{'date': datetime.datetime(2014, 10, 15, 0, 0), 'grade': 'A', 'score': 10}, {'date': datetime.datetime(2013, 9, 18, 0, 0), 'grade': 'A', 'score': 9}, {'date': datetime.datetime(2012, 9, 25, 0, 0), 'grade': 'A', 'score': 10}, {'date': datetime.datetime(2012, 3, 12, 0, 0), 'grade': 'A', 'score': 13}], 'name': 'Pee Dee Steak', 'restaurant_id': '41538850'}\n",
      "{'_id': ObjectId('59f9db74212f48e386d8b7d2'), 'address': {'building': '110-00', 'coord': [-73.8328389, 40.6729864], 'street': 'Rockaway Boulevard', 'zipcode': '11420'}, 'borough': 'Queens', 'cuisine': 'Steak', 'grades': [{'date': datetime.datetime(2015, 1, 14, 0, 0), 'grade': 'A', 'score': 9}, {'date': datetime.datetime(2013, 11, 15, 0, 0), 'grade': 'A', 'score': 10}, {'date': datetime.datetime(2013, 5, 24, 0, 0), 'grade': 'A', 'score': 11}, {'date': datetime.datetime(2012, 5, 12, 0, 0), 'grade': 'A', 'score': 9}], 'name': 'Rw Prime', 'restaurant_id': '41591264'}\n",
      "{'_id': ObjectId('59f9db74212f48e386d8bbc1'), 'address': {'building': '1114', 'coord': [-73.9830621, 40.7547222], 'street': 'Avenue Of The Americas', 'zipcode': '10036'}, 'borough': 'Manhattan', 'cuisine': 'Steak', 'grades': [{'date': datetime.datetime(2014, 5, 15, 0, 0), 'grade': 'A', 'score': 9}, {'date': datetime.datetime(2013, 11, 25, 0, 0), 'grade': 'A', 'score': 3}, {'date': datetime.datetime(2013, 3, 26, 0, 0), 'grade': 'B', 'score': 21}, {'date': datetime.datetime(2012, 9, 5, 0, 0), 'grade': 'A', 'score': 10}, {'date': datetime.datetime(2012, 2, 9, 0, 0), 'grade': 'B', 'score': 26}], 'name': 'Stk', 'restaurant_id': '41626556'}\n",
      "{'_id': ObjectId('59f9db74212f48e386d8bc5b'), 'address': {'building': '13', 'coord': [-73.9933511, 40.7344577], 'street': 'East   12 Street', 'zipcode': '10003'}, 'borough': 'Manhattan', 'cuisine': 'Steak', 'grades': [{'date': datetime.datetime(2014, 8, 19, 0, 0), 'grade': 'A', 'score': 10}, {'date': datetime.datetime(2013, 7, 23, 0, 0), 'grade': 'A', 'score': 13}, {'date': datetime.datetime(2012, 8, 14, 0, 0), 'grade': 'A', 'score': 2}, {'date': datetime.datetime(2012, 2, 14, 0, 0), 'grade': 'A', 'score': 5}], 'name': 'Strip House', 'restaurant_id': '41629811'}\n",
      "{'_id': ObjectId('59f9db74212f48e386d8bcca'), 'address': {'building': '81-08', 'coord': [-73.88209069999999, 40.7372978], 'street': 'Queens Boulevard', 'zipcode': '11373'}, 'borough': 'Queens', 'cuisine': 'Steak', 'grades': [{'date': datetime.datetime(2014, 12, 18, 0, 0), 'grade': 'A', 'score': 5}, {'date': datetime.datetime(2014, 7, 23, 0, 0), 'grade': 'A', 'score': 5}, {'date': datetime.datetime(2013, 11, 25, 0, 0), 'grade': 'A', 'score': 8}, {'date': datetime.datetime(2013, 4, 13, 0, 0), 'grade': 'A', 'score': 13}, {'date': datetime.datetime(2012, 8, 29, 0, 0), 'grade': 'A', 'score': 7}, {'date': datetime.datetime(2012, 1, 17, 0, 0), 'grade': 'A', 'score': 10}], 'name': 'Boca Juniors Steakhouse', 'restaurant_id': '41632272'}\n",
      "{'_id': ObjectId('59f9db74212f48e386d8c25d'), 'address': {'building': '1032', 'coord': [-73.9617109, 40.771567], 'street': 'Lexington Avenue', 'zipcode': '10021'}, 'borough': 'Manhattan', 'cuisine': 'Steak', 'grades': [{'date': datetime.datetime(2014, 6, 24, 0, 0), 'grade': 'A', 'score': 10}, {'date': datetime.datetime(2013, 4, 2, 0, 0), 'grade': 'A', 'score': 9}], 'name': 'Arlington Club', 'restaurant_id': '41675034'}\n",
      "{'_id': ObjectId('59f9db74212f48e386d8c40a'), 'address': {'building': '620', 'coord': [-73.97523029999999, 40.6831182], 'street': 'Atlantic Avenue', 'zipcode': '11217'}, 'borough': 'Brooklyn', 'cuisine': 'Steak', 'grades': [{'date': datetime.datetime(2014, 1, 10, 0, 0), 'grade': 'A', 'score': 10}, {'date': datetime.datetime(2013, 1, 30, 0, 0), 'grade': 'A', 'score': 2}], 'name': \"Paisano'S Butcher Shop\", 'restaurant_id': '41688146'}\n",
      "{'_id': ObjectId('59f9db74212f48e386d8c4b9'), 'address': {'building': '15', 'coord': [-73.98073169999999, 40.7552417], 'street': 'West 44 Street', 'zipcode': '10036'}, 'borough': 'Manhattan', 'cuisine': 'Steak', 'grades': [{'date': datetime.datetime(2014, 9, 17, 0, 0), 'grade': 'A', 'score': 10}, {'date': datetime.datetime(2014, 3, 13, 0, 0), 'grade': 'A', 'score': 7}, {'date': datetime.datetime(2012, 12, 28, 0, 0), 'grade': 'A', 'score': 7}], 'name': 'Strip House', 'restaurant_id': '41692902'}\n",
      "{'_id': ObjectId('59f9db74212f48e386d8c7d0'), 'address': {'building': '4311', 'coord': [-73.9351848, 40.8520738], 'street': 'Broadway', 'zipcode': '10033'}, 'borough': 'Manhattan', 'cuisine': 'Steak', 'grades': [{'date': datetime.datetime(2014, 9, 20, 0, 0), 'grade': 'A', 'score': 13}, {'date': datetime.datetime(2014, 4, 9, 0, 0), 'grade': 'A', 'score': 12}, {'date': datetime.datetime(2013, 9, 23, 0, 0), 'grade': 'A', 'score': 8}, {'date': datetime.datetime(2013, 1, 24, 0, 0), 'grade': 'A', 'score': 11}], 'name': 'Alex Steak House Bar & Cafe', 'restaurant_id': '41707486'}\n",
      "{'_id': ObjectId('59f9db74212f48e386d8c938'), 'address': {'building': '136', 'coord': [-74.0139508, 40.7097089], 'street': 'Washington Street', 'zipcode': '10006'}, 'borough': 'Manhattan', 'cuisine': 'Steak', 'grades': [{'date': datetime.datetime(2014, 4, 7, 0, 0), 'grade': 'A', 'score': 12}, {'date': datetime.datetime(2013, 8, 29, 0, 0), 'grade': 'A', 'score': 12}], 'name': \"Morton'S The Steakhouse\", 'restaurant_id': '41714424'}\n",
      "{'_id': ObjectId('59f9db74212f48e386d8c977'), 'address': {'building': '261', 'coord': [-74.0015335, 40.7083453], 'street': 'Water Street', 'zipcode': '10038'}, 'borough': 'Manhattan', 'cuisine': 'Steak', 'grades': [{'date': datetime.datetime(2014, 7, 7, 0, 0), 'grade': 'A', 'score': 10}, {'date': datetime.datetime(2013, 12, 31, 0, 0), 'grade': 'A', 'score': 4}, {'date': datetime.datetime(2013, 4, 30, 0, 0), 'grade': 'A', 'score': 9}], 'name': 'Mark Joseph Steakhouse', 'restaurant_id': '41716286'}\n",
      "{'_id': ObjectId('59f9db74212f48e386d8ca8e'), 'address': {'building': '2257', 'coord': [-73.93578099999999, 40.795966], 'street': 'First Avenue', 'zipcode': '10029'}, 'borough': 'Manhattan', 'cuisine': 'Steak', 'grades': [{'date': datetime.datetime(2014, 6, 19, 0, 0), 'grade': 'A', 'score': 12}, {'date': datetime.datetime(2013, 8, 21, 0, 0), 'grade': 'A', 'score': 10}], 'name': 'Prime One 16', 'restaurant_id': '41721716'}\n",
      "{'_id': ObjectId('59f9db74212f48e386d8caa9'), 'address': {'building': '206', 'coord': [-74.0037766, 40.7252214], 'street': 'Spring Street', 'zipcode': '10012'}, 'borough': 'Manhattan', 'cuisine': 'Steak', 'grades': [{'date': datetime.datetime(2014, 6, 6, 0, 0), 'grade': 'A', 'score': 5}, {'date': datetime.datetime(2013, 10, 22, 0, 0), 'grade': 'A', 'score': 8}], 'name': 'Costata', 'restaurant_id': '41722204'}\n",
      "{'_id': ObjectId('59f9db74212f48e386d8cc49'), 'address': {'building': '363', 'coord': [-74.0099017, 40.7191049], 'street': 'Greenwich Street', 'zipcode': '10013'}, 'borough': 'Manhattan', 'cuisine': 'Steak', 'grades': [{'date': datetime.datetime(2013, 10, 11, 0, 0), 'grade': 'A', 'score': 12}], 'name': 'American Cut', 'restaurant_id': '50000641'}\n",
      "{'_id': ObjectId('59f9db74212f48e386d8cdae'), 'address': {'building': '35-15', 'coord': [-73.9246641, 40.7557546], 'street': '36 Street', 'zipcode': '11106'}, 'borough': 'Queens', 'cuisine': 'Steak', 'grades': [{'date': datetime.datetime(2014, 10, 3, 0, 0), 'grade': 'A', 'score': 10}, {'date': datetime.datetime(2013, 8, 21, 0, 0), 'grade': 'A', 'score': 13}], 'name': 'S Prime', 'restaurant_id': '50001268'}\n",
      "{'_id': ObjectId('59f9db74212f48e386d8cdb4'), 'address': {'building': '25', 'coord': [-73.975807, 40.7631166], 'street': 'West 56 Street', 'zipcode': '10019'}, 'borough': 'Manhattan', 'cuisine': 'Steak', 'grades': [{'date': datetime.datetime(2014, 9, 17, 0, 0), 'grade': 'A', 'score': 10}, {'date': datetime.datetime(2014, 2, 26, 0, 0), 'grade': 'A', 'score': 9}], 'name': 'The Prime Grill', 'restaurant_id': '50001289'}\n",
      "{'_id': ObjectId('59f9db74212f48e386d8cf87'), 'address': {'building': '420', 'coord': [-73.91957529999999, 40.86144850000001], 'street': 'West  203 Street', 'zipcode': '10034'}, 'borough': 'Manhattan', 'cuisine': 'Steak', 'grades': [{'date': datetime.datetime(2014, 6, 20, 0, 0), 'grade': 'A', 'score': 9}, {'date': datetime.datetime(2013, 12, 4, 0, 0), 'grade': 'B', 'score': 23}], 'name': 'Vacca Grill & Lounge', 'restaurant_id': '50002065'}\n",
      "{'_id': ObjectId('59f9db74212f48e386d8d417'), 'address': {'building': '237', 'coord': [-73.9830465, 40.7645155], 'street': 'West   54 Street', 'zipcode': '10019'}, 'borough': 'Manhattan', 'cuisine': 'Steak', 'grades': [{'date': datetime.datetime(2014, 3, 24, 0, 0), 'grade': 'A', 'score': 7}], 'name': 'Empire Steakhouse', 'restaurant_id': '50005142'}\n",
      "{'_id': ObjectId('59f9db74212f48e386d8d816'), 'address': {'building': '13-46', 'coord': [-73.841449, 40.785407], 'street': '127 Street', 'zipcode': '11356'}, 'borough': 'Queens', 'cuisine': 'Steak', 'grades': [{'date': datetime.datetime(2014, 8, 29, 0, 0), 'grade': 'A', 'score': 13}], 'name': \"Danny'S Steakhouse\", 'restaurant_id': '50008517'}\n",
      "{'_id': ObjectId('59f9db74212f48e386d8da63'), 'address': {'building': '316', 'coord': [-73.9665309, 40.7562752], 'street': 'East   53 Street', 'zipcode': '10022'}, 'borough': 'Manhattan', 'cuisine': 'Steak', 'grades': [{'date': datetime.datetime(2014, 8, 22, 0, 0), 'grade': 'A', 'score': 12}], 'name': '212 Steakhouse', 'restaurant_id': '50010711'}\n",
      "{'_id': ObjectId('59f9db74212f48e386d8de96'), 'address': {'building': '919', 'coord': [-73.967623, 40.75892289999999], 'street': '3 Avenue', 'zipcode': '10022'}, 'borough': 'Manhattan', 'cuisine': 'Steak', 'grades': [{'date': datetime.datetime(2014, 10, 7, 0, 0), 'grade': 'A', 'score': 8}], 'name': \"Bv'S Grill\", 'restaurant_id': '50014598'}\n",
      "{'_id': ObjectId('59f9db74212f48e386d8deb1'), 'address': {'building': '9230', 'coord': [-73.86930509999999, 40.7340782], 'street': '59Th Ave', 'zipcode': '11373'}, 'borough': 'Queens', 'cuisine': 'Steak', 'grades': [{'date': datetime.datetime(2014, 11, 18, 0, 0), 'grade': 'A', 'score': 13}], 'name': 'Longhorn Steakhouse #5453', 'restaurant_id': '50014682'}\n",
      "{'_id': ObjectId('59f9db74212f48e386d8e032'), 'address': {'building': '212', 'coord': [-73.9723831, 40.7522366], 'street': 'East 45 Street', 'zipcode': '10017'}, 'borough': 'Manhattan', 'cuisine': 'Steak', 'grades': [{'date': datetime.datetime(2014, 11, 25, 0, 0), 'grade': 'A', 'score': 13}], 'name': '99 Miles To Philly', 'restaurant_id': '50015844'}\n"
     ]
    }
   ],
   "source": [
    "cursor = db.restaurants.find({'cuisine': 'Steak'})\n",
    "for documents in cursor:\n",
    "    print(documents)"
   ]
  },
  {
   "cell_type": "markdown",
   "metadata": {},
   "source": [
    "That is probably a little bit two much though. So let's search for steak houses in the Lexington Avenue only (logically AND). Note the dot notation for the embedded property street."
   ]
  },
  {
   "cell_type": "code",
   "execution_count": 5,
   "metadata": {
    "collapsed": true
   },
   "outputs": [
    {
     "name": "stdout",
     "output_type": "stream",
     "text": [
      "{'_id': ObjectId('59f9db73212f48e386d88255'), 'address': {'building': '845', 'coord': [-73.965531, 40.765431], 'street': 'Lexington Avenue', 'zipcode': '10065'}, 'borough': 'Manhattan', 'cuisine': 'Steak', 'grades': [{'date': datetime.datetime(2014, 3, 26, 0, 0), 'grade': 'A', 'score': 12}, {'date': datetime.datetime(2013, 3, 21, 0, 0), 'grade': 'A', 'score': 8}, {'date': datetime.datetime(2012, 10, 18, 0, 0), 'grade': 'A', 'score': 9}, {'date': datetime.datetime(2012, 5, 7, 0, 0), 'grade': 'A', 'score': 3}, {'date': datetime.datetime(2011, 5, 17, 0, 0), 'grade': 'A', 'score': 5}], 'name': \"Donohue'S Steak House\", 'restaurant_id': '40364572'}\n",
      "{'_id': ObjectId('59f9db74212f48e386d8c25d'), 'address': {'building': '1032', 'coord': [-73.9617109, 40.771567], 'street': 'Lexington Avenue', 'zipcode': '10021'}, 'borough': 'Manhattan', 'cuisine': 'Steak', 'grades': [{'date': datetime.datetime(2014, 6, 24, 0, 0), 'grade': 'A', 'score': 10}, {'date': datetime.datetime(2013, 4, 2, 0, 0), 'grade': 'A', 'score': 9}], 'name': 'Arlington Club', 'restaurant_id': '41675034'}\n"
     ]
    }
   ],
   "source": [
    "cursor = db.restaurants.find({'cuisine': 'Steak', 'address.street': 'Lexington Avenue'})\n",
    "for documents in cursor:\n",
    "    print(documents)"
   ]
  },
  {
   "cell_type": "markdown",
   "metadata": {},
   "source": [
    "We can use a comparison operator in queries as well, here we want one pizza place with a score > 30"
   ]
  },
  {
   "cell_type": "code",
   "execution_count": 6,
   "metadata": {
    "collapsed": true
   },
   "outputs": [
    {
     "name": "stdout",
     "output_type": "stream",
     "text": [
      "{'_id': ObjectId('59f9db73212f48e386d8826e'), 'address': {'building': '4035', 'coord': [-73.9395182, 40.8422945], 'street': 'Broadway', 'zipcode': '10032'}, 'borough': 'Manhattan', 'cuisine': 'Pizza', 'grades': [{'date': datetime.datetime(2014, 2, 10, 0, 0), 'grade': 'A', 'score': 10}, {'date': datetime.datetime(2013, 2, 4, 0, 0), 'grade': 'A', 'score': 10}, {'date': datetime.datetime(2012, 1, 4, 0, 0), 'grade': 'A', 'score': 6}, {'date': datetime.datetime(2011, 9, 15, 0, 0), 'grade': 'C', 'score': 60}], 'name': 'Como Pizza', 'restaurant_id': '40365280'}\n"
     ]
    }
   ],
   "source": [
    "cursor = db.restaurants.find_one({'grades.score': {'$gt': 30}, 'cuisine': 'Pizza'})\n",
    "print(cursor)"
   ]
  },
  {
   "cell_type": "markdown",
   "metadata": {},
   "source": [
    "Exercise: search for crappy (with a score less than 5) italian or french restaurants in Queens."
   ]
  },
  {
   "cell_type": "code",
   "execution_count": null,
   "metadata": {
    "collapsed": true
   },
   "outputs": [],
   "source": [
    "cursor = db.restaurants.find({'$and':[{'$or': [{'cuisine': 'Italian'}, {'cuisine': 'French'}]} \\\n",
    "                                      ,{'borough': 'Queens'}, {'grades.score': {'$lt': 5}}]})\n",
    "for documents in cursor:\n",
    "    print(documents)"
   ]
  },
  {
   "cell_type": "markdown",
   "metadata": {},
   "source": [
    "We can sort the output using the following pymongo routines"
   ]
  },
  {
   "cell_type": "code",
   "execution_count": 8,
   "metadata": {
    "collapsed": true
   },
   "outputs": [
    {
     "name": "stdout",
     "output_type": "stream",
     "text": [
      "{'_id': ObjectId('59f9db73212f48e386d8829f'), 'address': {'building': '137', 'coord': [-73.98926, 40.7509054], 'street': 'West   33 Street', 'zipcode': '10001'}, 'borough': 'Manhattan', 'cuisine': 'Irish', 'grades': [{'date': datetime.datetime(2014, 8, 15, 0, 0), 'grade': 'A', 'score': 12}, {'date': datetime.datetime(2014, 1, 21, 0, 0), 'grade': 'A', 'score': 5}, {'date': datetime.datetime(2013, 7, 24, 0, 0), 'grade': 'A', 'score': 9}, {'date': datetime.datetime(2012, 5, 31, 0, 0), 'grade': 'A', 'score': 8}, {'date': datetime.datetime(2012, 1, 26, 0, 0), 'grade': 'A', 'score': 13}, {'date': datetime.datetime(2011, 10, 11, 0, 0), 'grade': 'A', 'score': 5}], 'name': 'Blarney Rock', 'restaurant_id': '40366379'}\n",
      "{'_id': ObjectId('59f9db73212f48e386d882c1'), 'address': {'building': '421', 'coord': [-73.99682299999999, 40.753182], 'street': '9 Avenue', 'zipcode': '10001'}, 'borough': 'Manhattan', 'cuisine': 'Irish', 'grades': [{'date': datetime.datetime(2014, 7, 1, 0, 0), 'grade': 'A', 'score': 10}, {'date': datetime.datetime(2014, 1, 28, 0, 0), 'grade': 'A', 'score': 8}, {'date': datetime.datetime(2012, 12, 12, 0, 0), 'grade': 'A', 'score': 12}, {'date': datetime.datetime(2011, 12, 28, 0, 0), 'grade': 'A', 'score': 12}, {'date': datetime.datetime(2011, 9, 2, 0, 0), 'grade': 'A', 'score': 12}], 'name': 'Twins Pub', 'restaurant_id': '40367179'}\n",
      "{'_id': ObjectId('59f9db73212f48e386d88395'), 'address': {'building': '402', 'coord': [-73.9949622, 40.7496446], 'street': '8 Avenue', 'zipcode': '10001'}, 'borough': 'Manhattan', 'cuisine': 'Irish', 'grades': [{'date': datetime.datetime(2014, 12, 30, 0, 0), 'grade': 'Z', 'score': 17}, {'date': datetime.datetime(2014, 7, 14, 0, 0), 'grade': 'A', 'score': 10}, {'date': datetime.datetime(2014, 1, 24, 0, 0), 'grade': 'A', 'score': 3}, {'date': datetime.datetime(2013, 8, 20, 0, 0), 'grade': 'A', 'score': 13}, {'date': datetime.datetime(2013, 2, 4, 0, 0), 'grade': 'A', 'score': 9}, {'date': datetime.datetime(2012, 1, 5, 0, 0), 'grade': 'A', 'score': 13}], 'name': 'Molly Wee Pub', 'restaurant_id': '40374277'}\n",
      "{'_id': ObjectId('59f9db73212f48e386d8868c'), 'address': {'building': '18', 'coord': [-73.9862593, 40.7481711], 'street': 'West   33 Street', 'zipcode': '10001'}, 'borough': 'Manhattan', 'cuisine': 'Irish', 'grades': [{'date': datetime.datetime(2014, 12, 9, 0, 0), 'grade': 'A', 'score': 13}, {'date': datetime.datetime(2013, 12, 6, 0, 0), 'grade': 'A', 'score': 12}, {'date': datetime.datetime(2012, 12, 11, 0, 0), 'grade': 'A', 'score': 10}, {'date': datetime.datetime(2012, 6, 26, 0, 0), 'grade': 'A', 'score': 11}, {'date': datetime.datetime(2012, 1, 30, 0, 0), 'grade': 'A', 'score': 12}], 'name': \"Foley'S N.Y. Pub And Restaurant\", 'restaurant_id': '40399523'}\n",
      "{'_id': ObjectId('59f9db73212f48e386d88734'), 'address': {'building': '330', 'coord': [-73.9933113, 40.7478417], 'street': '7 Avenue', 'zipcode': '10001'}, 'borough': 'Manhattan', 'cuisine': 'Irish', 'grades': [{'date': datetime.datetime(2014, 9, 3, 0, 0), 'grade': 'A', 'score': 10}, {'date': datetime.datetime(2014, 3, 13, 0, 0), 'grade': 'A', 'score': 7}, {'date': datetime.datetime(2013, 2, 11, 0, 0), 'grade': 'A', 'score': 9}, {'date': datetime.datetime(2012, 2, 8, 0, 0), 'grade': 'A', 'score': 12}, {'date': datetime.datetime(2011, 10, 5, 0, 0), 'grade': 'A', 'score': 13}], 'name': 'The Triple Crown', 'restaurant_id': '40402231'}\n",
      "{'_id': ObjectId('59f9db73212f48e386d88a67'), 'address': {'building': '54', 'coord': [-73.988839, 40.747559], 'street': 'West   31 Street', 'zipcode': '10001'}, 'borough': 'Manhattan', 'cuisine': 'Irish', 'grades': [{'date': datetime.datetime(2014, 12, 29, 0, 0), 'grade': 'A', 'score': 12}, {'date': datetime.datetime(2013, 12, 16, 0, 0), 'grade': 'A', 'score': 11}, {'date': datetime.datetime(2012, 12, 17, 0, 0), 'grade': 'A', 'score': 9}, {'date': datetime.datetime(2012, 1, 3, 0, 0), 'grade': 'A', 'score': 11}], 'name': \"O'Reilly'S Pub\", 'restaurant_id': '40597588'}\n",
      "{'_id': ObjectId('59f9db73212f48e386d88d12'), 'address': {'building': '27', 'coord': [-73.98535629999999, 40.74986860000001], 'street': 'West   35 Street', 'zipcode': '10001'}, 'borough': 'Manhattan', 'cuisine': 'Irish', 'grades': [{'date': datetime.datetime(2014, 5, 5, 0, 0), 'grade': 'A', 'score': 12}, {'date': datetime.datetime(2013, 11, 25, 0, 0), 'grade': 'A', 'score': 2}, {'date': datetime.datetime(2013, 5, 31, 0, 0), 'grade': 'B', 'score': 18}, {'date': datetime.datetime(2012, 10, 1, 0, 0), 'grade': 'B', 'score': 23}, {'date': datetime.datetime(2012, 5, 4, 0, 0), 'grade': 'A', 'score': 4}], 'name': 'Playwright Tavern', 'restaurant_id': '40729264'}\n",
      "{'_id': ObjectId('59f9db73212f48e386d891ce'), 'address': {'building': '36', 'coord': [-73.986953, 40.74833], 'street': 'West   33 Street', 'zipcode': '10001'}, 'borough': 'Manhattan', 'cuisine': 'Irish', 'grades': [{'date': datetime.datetime(2014, 12, 12, 0, 0), 'grade': 'A', 'score': 12}, {'date': datetime.datetime(2014, 7, 21, 0, 0), 'grade': 'A', 'score': 12}, {'date': datetime.datetime(2013, 7, 22, 0, 0), 'grade': 'A', 'score': 11}, {'date': datetime.datetime(2013, 1, 30, 0, 0), 'grade': 'A', 'score': 13}, {'date': datetime.datetime(2011, 12, 13, 0, 0), 'grade': 'A', 'score': 10}], 'name': \"Jack Demsey'S Pub\", 'restaurant_id': '40936610'}\n",
      "{'_id': ObjectId('59f9db73212f48e386d89294'), 'address': {'building': '407', 'coord': [-73.995452, 40.750028], 'street': '8 Avenue', 'zipcode': '10001'}, 'borough': 'Manhattan', 'cuisine': 'Irish', 'grades': [{'date': datetime.datetime(2014, 3, 31, 0, 0), 'grade': 'A', 'score': 5}, {'date': datetime.datetime(2013, 10, 29, 0, 0), 'grade': 'A', 'score': 12}, {'date': datetime.datetime(2013, 3, 25, 0, 0), 'grade': 'A', 'score': 12}, {'date': datetime.datetime(2012, 2, 7, 0, 0), 'grade': 'A', 'score': 12}, {'date': datetime.datetime(2011, 10, 28, 0, 0), 'grade': 'P', 'score': 4}], 'name': 'Tempest Bar', 'restaurant_id': '40959121'}\n",
      "{'_id': ObjectId('59f9db73212f48e386d8a715'), 'address': {'building': '254', 'coord': [-73.9944146, 40.7499006], 'street': 'West   31 Street', 'zipcode': '10001'}, 'borough': 'Manhattan', 'cuisine': 'Irish', 'grades': [{'date': datetime.datetime(2014, 7, 18, 0, 0), 'grade': 'A', 'score': 9}, {'date': datetime.datetime(2013, 6, 17, 0, 0), 'grade': 'A', 'score': 11}, {'date': datetime.datetime(2012, 11, 14, 0, 0), 'grade': 'B', 'score': 25}, {'date': datetime.datetime(2012, 6, 5, 0, 0), 'grade': 'A', 'score': 11}], 'name': 'The Thirsty Fan', 'restaurant_id': '41389562'}\n",
      "{'_id': ObjectId('59f9db74212f48e386d8c3d9'), 'address': {'building': '240', 'coord': [-73.9918752, 40.7521284], 'street': 'West   35 Street', 'zipcode': '10001'}, 'borough': 'Manhattan', 'cuisine': 'Irish', 'grades': [{'date': datetime.datetime(2014, 12, 22, 0, 0), 'grade': 'Z', 'score': 26}, {'date': datetime.datetime(2014, 6, 30, 0, 0), 'grade': 'A', 'score': 9}, {'date': datetime.datetime(2014, 1, 17, 0, 0), 'grade': 'A', 'score': 2}, {'date': datetime.datetime(2013, 7, 31, 0, 0), 'grade': 'B', 'score': 24}, {'date': datetime.datetime(2012, 12, 21, 0, 0), 'grade': 'A', 'score': 12}], 'name': 'Jack Doyles Pub & Restaurant', 'restaurant_id': '41687345'}\n",
      "{'_id': ObjectId('59f9db73212f48e386d8a595'), 'address': {'building': '3739', 'coord': [-73.9847403, 40.72001540000001], 'street': 'Clinton Street', 'zipcode': '10002'}, 'borough': 'Manhattan', 'cuisine': 'Irish', 'grades': [{'date': datetime.datetime(2014, 7, 1, 0, 0), 'grade': 'A', 'score': 6}, {'date': datetime.datetime(2014, 1, 30, 0, 0), 'grade': 'A', 'score': 10}, {'date': datetime.datetime(2013, 6, 14, 0, 0), 'grade': 'A', 'score': 4}, {'date': datetime.datetime(2012, 5, 17, 0, 0), 'grade': 'A', 'score': 4}, {'date': datetime.datetime(2011, 12, 6, 0, 0), 'grade': 'A', 'score': 12}], 'name': 'Donnybrook', 'restaurant_id': '41372918'}\n",
      "{'_id': ObjectId('59f9db73212f48e386d88267'), 'address': {'building': '15', 'coord': [-73.9896713, 40.7287978], 'street': 'East    7 Street', 'zipcode': '10003'}, 'borough': 'Manhattan', 'cuisine': 'Irish', 'grades': [{'date': datetime.datetime(2014, 6, 7, 0, 0), 'grade': 'A', 'score': 8}, {'date': datetime.datetime(2014, 1, 9, 0, 0), 'grade': 'A', 'score': 10}, {'date': datetime.datetime(2013, 6, 12, 0, 0), 'grade': 'A', 'score': 8}, {'date': datetime.datetime(2012, 5, 21, 0, 0), 'grade': 'A', 'score': 13}, {'date': datetime.datetime(2012, 1, 11, 0, 0), 'grade': 'A', 'score': 9}, {'date': datetime.datetime(2011, 8, 11, 0, 0), 'grade': 'B', 'score': 16}], 'name': \"Mcsorley'S Old Ale House\", 'restaurant_id': '40365075'}\n",
      "{'_id': ObjectId('59f9db73212f48e386d885c8'), 'address': {'building': '61', 'coord': [-73.9898776, 40.7260157], 'street': '2 Avenue', 'zipcode': '10003'}, 'borough': 'Manhattan', 'cuisine': 'Irish', 'grades': [{'date': datetime.datetime(2014, 8, 12, 0, 0), 'grade': 'A', 'score': 13}, {'date': datetime.datetime(2013, 7, 22, 0, 0), 'grade': 'A', 'score': 4}, {'date': datetime.datetime(2012, 8, 13, 0, 0), 'grade': 'A', 'score': 7}, {'date': datetime.datetime(2012, 4, 2, 0, 0), 'grade': 'A', 'score': 5}, {'date': datetime.datetime(2011, 11, 21, 0, 0), 'grade': 'A', 'score': 7}], 'name': \"Dempsey'S Pub\", 'restaurant_id': '40395211'}\n",
      "{'_id': ObjectId('59f9db73212f48e386d886d9'), 'address': {'building': '209', 'coord': [-73.9905498, 40.7275824], 'street': 'East    5 Street', 'zipcode': '10003'}, 'borough': 'Manhattan', 'cuisine': 'Irish', 'grades': [{'date': datetime.datetime(2014, 2, 20, 0, 0), 'grade': 'A', 'score': 13}, {'date': datetime.datetime(2013, 8, 6, 0, 0), 'grade': 'A', 'score': 13}, {'date': datetime.datetime(2012, 11, 27, 0, 0), 'grade': 'B', 'score': 19}, {'date': datetime.datetime(2011, 10, 18, 0, 0), 'grade': 'A', 'score': 5}, {'date': datetime.datetime(2011, 7, 6, 0, 0), 'grade': 'B', 'score': 16}], 'name': 'The Scratcher Cafe', 'restaurant_id': '40400810'}\n",
      "{'_id': ObjectId('59f9db73212f48e386d88882'), 'address': {'building': '29', 'coord': [-73.98830389999999, 40.7290695], 'street': 'St Marks Place', 'zipcode': '10003'}, 'borough': 'Manhattan', 'cuisine': 'Irish', 'grades': [{'date': datetime.datetime(2014, 8, 5, 0, 0), 'grade': 'A', 'score': 13}, {'date': datetime.datetime(2014, 2, 3, 0, 0), 'grade': 'A', 'score': 12}, {'date': datetime.datetime(2012, 4, 17, 0, 0), 'grade': 'A', 'score': 10}], 'name': 'Bull Mccabes', 'restaurant_id': '40537686'}\n",
      "{'_id': ObjectId('59f9db73212f48e386d89863'), 'address': {'building': '349', 'coord': [-73.982858, 40.731722], 'street': 'East 14 Street', 'zipcode': '10003'}, 'borough': 'Manhattan', 'cuisine': 'Irish', 'grades': [{'date': datetime.datetime(2014, 11, 7, 0, 0), 'grade': 'A', 'score': 10}, {'date': datetime.datetime(2013, 10, 10, 0, 0), 'grade': 'A', 'score': 10}, {'date': datetime.datetime(2012, 10, 24, 0, 0), 'grade': 'A', 'score': 4}, {'date': datetime.datetime(2012, 4, 17, 0, 0), 'grade': 'A', 'score': 12}, {'date': datetime.datetime(2011, 12, 2, 0, 0), 'grade': 'A', 'score': 12}], 'name': \"O'Hanlon'S Bar\", 'restaurant_id': '41125878'}\n",
      "{'_id': ObjectId('59f9db73212f48e386d8a6ca'), 'address': {'building': '13', 'coord': [-73.991114, 40.7376662], 'street': 'East   17 Street', 'zipcode': '10003'}, 'borough': 'Manhattan', 'cuisine': 'Irish', 'grades': [{'date': datetime.datetime(2014, 9, 22, 0, 0), 'grade': 'B', 'score': 21}, {'date': datetime.datetime(2014, 1, 15, 0, 0), 'grade': 'A', 'score': 7}, {'date': datetime.datetime(2013, 4, 17, 0, 0), 'grade': 'A', 'score': 12}, {'date': datetime.datetime(2012, 9, 18, 0, 0), 'grade': 'A', 'score': 12}], 'name': \"Lillie'S Restaurant\", 'restaurant_id': '41386625'}\n",
      "{'_id': ObjectId('59f9db74212f48e386d8c7b9'), 'address': {'building': '192', 'coord': [-73.985956, 40.735544], 'street': '3 Avenue', 'zipcode': '10003'}, 'borough': 'Manhattan', 'cuisine': 'Irish', 'grades': [{'date': datetime.datetime(2014, 2, 3, 0, 0), 'grade': 'A', 'score': 11}, {'date': datetime.datetime(2013, 1, 22, 0, 0), 'grade': 'A', 'score': 4}], 'name': \"Triona'S Bar Restaurant\", 'restaurant_id': '41707087'}\n",
      "{'_id': ObjectId('59f9db74212f48e386d8dab3'), 'address': {'building': '151', 'coord': [-73.9872437, 40.7295411], 'street': '2 Avenue', 'zipcode': '10003'}, 'borough': 'Manhattan', 'cuisine': 'Irish', 'grades': [{'date': datetime.datetime(2014, 6, 24, 0, 0), 'grade': 'A', 'score': 12}], 'name': 'The Copper Still', 'restaurant_id': '50010993'}\n",
      "{'_id': ObjectId('59f9db73212f48e386d8a757'), 'address': {'building': '45', 'coord': [-74.01041260000001, 40.7042965], 'street': 'Stone Street', 'zipcode': '10004'}, 'borough': 'Manhattan', 'cuisine': 'Irish', 'grades': [{'date': datetime.datetime(2014, 2, 24, 0, 0), 'grade': 'A', 'score': 12}, {'date': datetime.datetime(2013, 6, 24, 0, 0), 'grade': 'A', 'score': 5}, {'date': datetime.datetime(2012, 5, 17, 0, 0), 'grade': 'A', 'score': 10}, {'date': datetime.datetime(2011, 11, 7, 0, 0), 'grade': 'A', 'score': 7}, {'date': datetime.datetime(2011, 6, 23, 0, 0), 'grade': 'A', 'score': 13}], 'name': 'The Dubliner', 'restaurant_id': '41393099'}\n",
      "{'_id': ObjectId('59f9db74212f48e386d8c9bc'), 'address': {'building': '30', 'coord': [-74.0110289, 40.7033], 'street': 'Water Street', 'zipcode': '10004'}, 'borough': 'Manhattan', 'cuisine': 'Irish', 'grades': [{'date': datetime.datetime(2014, 7, 14, 0, 0), 'grade': 'A', 'score': 9}, {'date': datetime.datetime(2013, 11, 18, 0, 0), 'grade': 'A', 'score': 3}], 'name': 'The Dead Rabbit', 'restaurant_id': '41717852'}\n",
      "{'_id': ObjectId('59f9db73212f48e386d8829c'), 'address': {'building': '80', 'coord': [-74.0086833, 40.7052024], 'street': 'Beaver Street', 'zipcode': '10005'}, 'borough': 'Manhattan', 'cuisine': 'Irish', 'grades': [{'date': datetime.datetime(2014, 7, 29, 0, 0), 'grade': 'A', 'score': 11}, {'date': datetime.datetime(2013, 8, 5, 0, 0), 'grade': 'A', 'score': 7}, {'date': datetime.datetime(2013, 3, 14, 0, 0), 'grade': 'A', 'score': 2}, {'date': datetime.datetime(2012, 7, 24, 0, 0), 'grade': 'A', 'score': 12}], 'name': 'Killarney Rose', 'restaurant_id': '40366222'}\n",
      "{'_id': ObjectId('59f9db73212f48e386d886e4'), 'address': {'building': '40', 'coord': [-74.0102663, 40.7057236], 'street': 'Exchange Place', 'zipcode': '10005'}, 'borough': 'Manhattan', 'cuisine': 'Irish', 'grades': [{'date': datetime.datetime(2014, 12, 8, 0, 0), 'grade': 'A', 'score': 9}, {'date': datetime.datetime(2014, 5, 21, 0, 0), 'grade': 'A', 'score': 13}, {'date': datetime.datetime(2013, 11, 6, 0, 0), 'grade': 'A', 'score': 11}, {'date': datetime.datetime(2013, 4, 8, 0, 0), 'grade': 'A', 'score': 11}, {'date': datetime.datetime(2012, 9, 4, 0, 0), 'grade': 'A', 'score': 9}, {'date': datetime.datetime(2012, 4, 6, 0, 0), 'grade': 'A', 'score': 13}], 'name': 'Irish Punt', 'restaurant_id': '40400976'}\n",
      "{'_id': ObjectId('59f9db73212f48e386d88d06'), 'address': {'building': '160', 'coord': [-74.0074941, 40.7057352], 'street': 'Pearl Street', 'zipcode': '10005'}, 'borough': 'Manhattan', 'cuisine': 'Irish', 'grades': [{'date': datetime.datetime(2014, 10, 20, 0, 0), 'grade': 'A', 'score': 7}, {'date': datetime.datetime(2013, 8, 19, 0, 0), 'grade': 'A', 'score': 2}, {'date': datetime.datetime(2012, 7, 17, 0, 0), 'grade': 'A', 'score': 12}, {'date': datetime.datetime(2012, 1, 9, 0, 0), 'grade': 'A', 'score': 10}], 'name': 'The Full Shilling', 'restaurant_id': '40727609'}\n",
      "{'_id': ObjectId('59f9db73212f48e386d882aa'), 'address': {'building': '11', 'coord': [-74.0137007, 40.7062029], 'street': 'Trinity Place', 'zipcode': '10006'}, 'borough': 'Manhattan', 'cuisine': 'Irish', 'grades': [{'date': datetime.datetime(2014, 9, 11, 0, 0), 'grade': 'A', 'score': 10}, {'date': datetime.datetime(2014, 3, 24, 0, 0), 'grade': 'A', 'score': 10}, {'date': datetime.datetime(2013, 9, 30, 0, 0), 'grade': 'A', 'score': 10}, {'date': datetime.datetime(2013, 5, 3, 0, 0), 'grade': 'A', 'score': 10}, {'date': datetime.datetime(2012, 10, 1, 0, 0), 'grade': 'C', 'score': 43}, {'date': datetime.datetime(2012, 4, 2, 0, 0), 'grade': 'A', 'score': 10}, {'date': datetime.datetime(2011, 11, 10, 0, 0), 'grade': 'A', 'score': 7}], 'name': 'Blarney Stone', 'restaurant_id': '40366574'}\n",
      "{'_id': ObjectId('59f9db74212f48e386d8c6be'), 'address': {'building': '57', 'coord': [-74.0096063, 40.714478], 'street': 'Murray Street', 'zipcode': '10007'}, 'borough': 'Manhattan', 'cuisine': 'Irish', 'grades': [{'date': datetime.datetime(2014, 4, 3, 0, 0), 'grade': 'A', 'score': 9}, {'date': datetime.datetime(2013, 9, 30, 0, 0), 'grade': 'A', 'score': 13}, {'date': datetime.datetime(2013, 3, 29, 0, 0), 'grade': 'A', 'score': 9}], 'name': 'The Cricketers Arms', 'restaurant_id': '41703544'}\n",
      "{'_id': ObjectId('59f9db73212f48e386d8886b'), 'address': {'building': '118', 'coord': [-73.9840852, 40.7268832], 'street': 'St Marks Place', 'zipcode': '10009'}, 'borough': 'Manhattan', 'cuisine': 'Irish', 'grades': [{'date': datetime.datetime(2014, 5, 21, 0, 0), 'grade': 'B', 'score': 14}, {'date': datetime.datetime(2013, 8, 17, 0, 0), 'grade': 'A', 'score': 9}, {'date': datetime.datetime(2013, 1, 16, 0, 0), 'grade': 'B', 'score': 26}, {'date': datetime.datetime(2012, 4, 6, 0, 0), 'grade': 'B', 'score': 0}], 'name': \"St. Dymphna'S\", 'restaurant_id': '40535409'}\n",
      "{'_id': ObjectId('59f9db73212f48e386d89ee4'), 'address': {'building': '12', 'coord': [-73.9858837, 40.722567], 'street': 'Avenue A', 'zipcode': '10009'}, 'borough': 'Manhattan', 'cuisine': 'Irish', 'grades': [{'date': datetime.datetime(2014, 3, 5, 0, 0), 'grade': 'A', 'score': 11}, {'date': datetime.datetime(2013, 10, 9, 0, 0), 'grade': 'B', 'score': 23}, {'date': datetime.datetime(2013, 3, 11, 0, 0), 'grade': 'A', 'score': 12}, {'date': datetime.datetime(2013, 2, 14, 0, 0), 'grade': 'P', 'score': 5}, {'date': datetime.datetime(2012, 10, 22, 0, 0), 'grade': 'B', 'score': 23}, {'date': datetime.datetime(2011, 10, 4, 0, 0), 'grade': 'A', 'score': 10}, {'date': datetime.datetime(2011, 3, 24, 0, 0), 'grade': 'B', 'score': 15}], 'name': \"Kelly'S\", 'restaurant_id': '41262775'}\n",
      "{'_id': ObjectId('59f9db74212f48e386d8ad92'), 'address': {'building': '12', 'coord': [-73.9881999, 40.7233026], 'street': '1 Avenue', 'zipcode': '10009'}, 'borough': 'Manhattan', 'cuisine': 'Irish', 'grades': [{'date': datetime.datetime(2014, 10, 21, 0, 0), 'grade': 'A', 'score': 9}, {'date': datetime.datetime(2013, 9, 17, 0, 0), 'grade': 'A', 'score': 12}, {'date': datetime.datetime(2013, 3, 6, 0, 0), 'grade': 'A', 'score': 9}, {'date': datetime.datetime(2012, 9, 4, 0, 0), 'grade': 'B', 'score': 26}, {'date': datetime.datetime(2012, 3, 13, 0, 0), 'grade': 'B', 'score': 14}], 'name': 'One And One', 'restaurant_id': '41470674'}\n",
      "{'_id': ObjectId('59f9db74212f48e386d8b25b'), 'address': {'building': '210', 'coord': [-73.9806069, 40.7297354], 'street': 'Avenue A', 'zipcode': '10009'}, 'borough': 'Manhattan', 'cuisine': 'Irish', 'grades': [{'date': datetime.datetime(2014, 12, 3, 0, 0), 'grade': 'A', 'score': 9}, {'date': datetime.datetime(2014, 6, 23, 0, 0), 'grade': 'A', 'score': 11}, {'date': datetime.datetime(2013, 5, 10, 0, 0), 'grade': 'A', 'score': 5}, {'date': datetime.datetime(2012, 11, 26, 0, 0), 'grade': 'A', 'score': 9}], 'name': \"Percy'S Tavern\", 'restaurant_id': '41534162'}\n",
      "{'_id': ObjectId('59f9db73212f48e386d8855b'), 'address': {'building': '287', 'coord': [-73.9832361, 40.7382721], 'street': '3 Avenue', 'zipcode': '10010'}, 'borough': 'Manhattan', 'cuisine': 'Irish', 'grades': [{'date': datetime.datetime(2014, 3, 6, 0, 0), 'grade': 'A', 'score': 2}, {'date': datetime.datetime(2013, 9, 10, 0, 0), 'grade': 'A', 'score': 6}, {'date': datetime.datetime(2013, 4, 1, 0, 0), 'grade': 'A', 'score': 2}, {'date': datetime.datetime(2012, 9, 20, 0, 0), 'grade': 'A', 'score': 2}, {'date': datetime.datetime(2011, 10, 5, 0, 0), 'grade': 'A', 'score': 9}, {'date': datetime.datetime(2011, 5, 5, 0, 0), 'grade': 'A', 'score': 4}], 'name': \"Molly'S\", 'restaurant_id': '40392872'}\n",
      "{'_id': ObjectId('59f9db73212f48e386d89bbb'), 'address': {'building': '393', 'coord': [-73.9813233, 40.737749], 'street': '2 Avenue', 'zipcode': '10010'}, 'borough': 'Manhattan', 'cuisine': 'Irish', 'grades': [{'date': datetime.datetime(2014, 12, 29, 0, 0), 'grade': 'A', 'score': 12}, {'date': datetime.datetime(2014, 7, 21, 0, 0), 'grade': 'A', 'score': 13}, {'date': datetime.datetime(2014, 1, 13, 0, 0), 'grade': 'A', 'score': 13}, {'date': datetime.datetime(2013, 4, 16, 0, 0), 'grade': 'A', 'score': 10}, {'date': datetime.datetime(2012, 10, 23, 0, 0), 'grade': 'A', 'score': 13}, {'date': datetime.datetime(2012, 3, 19, 0, 0), 'grade': 'B', 'score': 17}], 'name': 'Mc Swiggans', 'restaurant_id': '41204470'}\n",
      "{'_id': ObjectId('59f9db73212f48e386d8827c'), 'address': {'building': '146', 'coord': [-74.0056649, 40.7452371], 'street': '10 Avenue', 'zipcode': '10011'}, 'borough': 'Manhattan', 'cuisine': 'Irish', 'grades': [{'date': datetime.datetime(2014, 10, 2, 0, 0), 'grade': 'A', 'score': 10}, {'date': datetime.datetime(2013, 9, 10, 0, 0), 'grade': 'A', 'score': 12}, {'date': datetime.datetime(2013, 2, 5, 0, 0), 'grade': 'A', 'score': 12}, {'date': datetime.datetime(2011, 11, 23, 0, 0), 'grade': 'A', 'score': 11}], 'name': \"Moran'S Chelsea\", 'restaurant_id': '40365526'}\n",
      "{'_id': ObjectId('59f9db73212f48e386d88de0'), 'address': {'building': '152', 'coord': [-73.997653, 40.741859], 'street': '7 Avenue', 'zipcode': '10011'}, 'borough': 'Manhattan', 'cuisine': 'Irish', 'grades': [{'date': datetime.datetime(2014, 11, 26, 0, 0), 'grade': 'A', 'score': 8}, {'date': datetime.datetime(2014, 6, 20, 0, 0), 'grade': 'C', 'score': 11}, {'date': datetime.datetime(2014, 5, 16, 0, 0), 'grade': 'P', 'score': 2}, {'date': datetime.datetime(2013, 10, 31, 0, 0), 'grade': 'C', 'score': 46}, {'date': datetime.datetime(2013, 3, 28, 0, 0), 'grade': 'B', 'score': 14}, {'date': datetime.datetime(2012, 8, 27, 0, 0), 'grade': 'A', 'score': 7}, {'date': datetime.datetime(2012, 3, 12, 0, 0), 'grade': 'B', 'score': 17}], 'name': 'Peter Mcmanus', 'restaurant_id': '40755172'}\n",
      "{'_id': ObjectId('59f9db73212f48e386d89751'), 'address': {'building': '206', 'coord': [-73.9962038, 40.744116], 'street': 'West   23 Street', 'zipcode': '10011'}, 'borough': 'Manhattan', 'cuisine': 'Irish', 'grades': [{'date': datetime.datetime(2014, 3, 5, 0, 0), 'grade': 'A', 'score': 12}, {'date': datetime.datetime(2013, 1, 30, 0, 0), 'grade': 'A', 'score': 12}, {'date': datetime.datetime(2012, 1, 19, 0, 0), 'grade': 'A', 'score': 9}], 'name': \"Jake'S Saloon\", 'restaurant_id': '41096461'}\n",
      "{'_id': ObjectId('59f9db73212f48e386d89464'), 'address': {'building': '304', 'coord': [-73.99283199999999, 40.724811], 'street': 'Bowery', 'zipcode': '10012'}, 'borough': 'Manhattan', 'cuisine': 'Irish', 'grades': [{'date': datetime.datetime(2014, 2, 19, 0, 0), 'grade': 'A', 'score': 8}, {'date': datetime.datetime(2012, 12, 27, 0, 0), 'grade': 'A', 'score': 12}, {'date': datetime.datetime(2012, 7, 19, 0, 0), 'grade': 'A', 'score': 9}, {'date': datetime.datetime(2012, 2, 22, 0, 0), 'grade': 'A', 'score': 2}, {'date': datetime.datetime(2011, 7, 27, 0, 0), 'grade': 'A', 'score': 12}], 'name': 'Slainte', 'restaurant_id': '41012338'}\n",
      "{'_id': ObjectId('59f9db74212f48e386d8ab44'), 'address': {'building': '237', 'coord': [-73.9993702, 40.72983019999999], 'street': 'Sullivan Street', 'zipcode': '10012'}, 'borough': 'Manhattan', 'cuisine': 'Irish', 'grades': [{'date': datetime.datetime(2014, 12, 29, 0, 0), 'grade': 'A', 'score': 13}, {'date': datetime.datetime(2014, 5, 13, 0, 0), 'grade': 'A', 'score': 11}, {'date': datetime.datetime(2013, 10, 3, 0, 0), 'grade': 'A', 'score': 13}, {'date': datetime.datetime(2012, 8, 29, 0, 0), 'grade': 'A', 'score': 13}], 'name': \"Triona'S\", 'restaurant_id': '41444651'}\n",
      "{'_id': ObjectId('59f9db73212f48e386d88906'), 'address': {'building': '463', 'coord': [-74.00689899999999, 40.731578], 'street': 'Hudson Street', 'zipcode': '10014'}, 'borough': 'Manhattan', 'cuisine': 'Irish', 'grades': [{'date': datetime.datetime(2014, 9, 9, 0, 0), 'grade': 'B', 'score': 16}, {'date': datetime.datetime(2014, 3, 24, 0, 0), 'grade': 'A', 'score': 11}, {'date': datetime.datetime(2013, 8, 15, 0, 0), 'grade': 'B', 'score': 24}, {'date': datetime.datetime(2012, 7, 31, 0, 0), 'grade': 'A', 'score': 12}], 'name': \"Barrow'S Pub\", 'restaurant_id': '40554183'}\n",
      "{'_id': ObjectId('59f9db73212f48e386d8a589'), 'address': {'building': '228', 'coord': [-74.00318, 40.734035], 'street': 'West    4 Street', 'zipcode': '10014'}, 'borough': 'Manhattan', 'cuisine': 'Irish', 'grades': [{'date': datetime.datetime(2014, 5, 10, 0, 0), 'grade': 'A', 'score': 9}, {'date': datetime.datetime(2013, 4, 23, 0, 0), 'grade': 'A', 'score': 13}, {'date': datetime.datetime(2012, 4, 17, 0, 0), 'grade': 'A', 'score': 9}], 'name': 'Wilfie & Nell', 'restaurant_id': '41372275'}\n",
      "{'_id': ObjectId('59f9db74212f48e386d8ab37'), 'address': {'building': '133', 'coord': [-74.0019949, 40.73455999999999], 'street': '7 Avenue South', 'zipcode': '10014'}, 'borough': 'Manhattan', 'cuisine': 'Irish', 'grades': [{'date': datetime.datetime(2014, 11, 15, 0, 0), 'grade': 'A', 'score': 12}, {'date': datetime.datetime(2013, 5, 29, 0, 0), 'grade': 'A', 'score': 11}, {'date': datetime.datetime(2012, 10, 18, 0, 0), 'grade': 'A', 'score': 11}, {'date': datetime.datetime(2012, 5, 11, 0, 0), 'grade': 'A', 'score': 12}, {'date': datetime.datetime(2011, 12, 16, 0, 0), 'grade': 'A', 'score': 13}], 'name': 'Downtown Galway Hooker', 'restaurant_id': '41443815'}\n",
      "{'_id': ObjectId('59f9db73212f48e386d886df'), 'address': {'building': '267', 'coord': [-73.980271, 40.750972], 'street': 'Madison Avenue', 'zipcode': '10016'}, 'borough': 'Manhattan', 'cuisine': 'Irish', 'grades': [{'date': datetime.datetime(2014, 10, 30, 0, 0), 'grade': 'A', 'score': 7}, {'date': datetime.datetime(2014, 6, 4, 0, 0), 'grade': 'A', 'score': 10}, {'date': datetime.datetime(2013, 12, 10, 0, 0), 'grade': 'A', 'score': 11}, {'date': datetime.datetime(2013, 4, 30, 0, 0), 'grade': 'B', 'score': 17}, {'date': datetime.datetime(2012, 4, 3, 0, 0), 'grade': 'A', 'score': 13}, {'date': datetime.datetime(2011, 11, 17, 0, 0), 'grade': 'A', 'score': 9}], 'name': \"Mulligan'S Pub\", 'restaurant_id': '40400559'}\n",
      "{'_id': ObjectId('59f9db73212f48e386d88bd5'), 'address': {'building': '531', 'coord': [-73.9782111, 40.74211100000001], 'street': '2 Avenue', 'zipcode': '10016'}, 'borough': 'Manhattan', 'cuisine': 'Irish', 'grades': [{'date': datetime.datetime(2014, 11, 12, 0, 0), 'grade': 'A', 'score': 10}, {'date': datetime.datetime(2014, 4, 7, 0, 0), 'grade': 'A', 'score': 12}, {'date': datetime.datetime(2013, 3, 4, 0, 0), 'grade': 'A', 'score': 7}, {'date': datetime.datetime(2012, 8, 27, 0, 0), 'grade': 'B', 'score': 19}, {'date': datetime.datetime(2012, 2, 23, 0, 0), 'grade': 'A', 'score': 3}], 'name': 'Failte', 'restaurant_id': '40672603'}\n",
      "{'_id': ObjectId('59f9db73212f48e386d88be8'), 'address': {'building': '583', 'coord': [-73.9758372, 40.7482969], 'street': '3 Avenue', 'zipcode': '10016'}, 'borough': 'Manhattan', 'cuisine': 'Irish', 'grades': [{'date': datetime.datetime(2014, 12, 15, 0, 0), 'grade': 'A', 'score': 10}, {'date': datetime.datetime(2014, 6, 24, 0, 0), 'grade': 'A', 'score': 5}, {'date': datetime.datetime(2013, 12, 12, 0, 0), 'grade': 'A', 'score': 13}, {'date': datetime.datetime(2012, 10, 3, 0, 0), 'grade': 'A', 'score': 9}, {'date': datetime.datetime(2012, 3, 13, 0, 0), 'grade': 'A', 'score': 12}], 'name': 'The Black Sheep', 'restaurant_id': '40676550'}\n",
      "{'_id': ObjectId('59f9db73212f48e386d88f5f'), 'address': {'building': '130', 'coord': [-73.9767883, 40.749929], 'street': 'East   40 Street', 'zipcode': '10016'}, 'borough': 'Manhattan', 'cuisine': 'Irish', 'grades': [{'date': datetime.datetime(2014, 2, 18, 0, 0), 'grade': 'A', 'score': 11}, {'date': datetime.datetime(2013, 6, 18, 0, 0), 'grade': 'A', 'score': 6}, {'date': datetime.datetime(2012, 12, 18, 0, 0), 'grade': 'A', 'score': 4}, {'date': datetime.datetime(2012, 5, 31, 0, 0), 'grade': 'A', 'score': 11}, {'date': datetime.datetime(2011, 12, 14, 0, 0), 'grade': 'A', 'score': 8}, {'date': datetime.datetime(2011, 6, 28, 0, 0), 'grade': 'A', 'score': 10}], 'name': \"Peter Dillon'S Bar\", 'restaurant_id': '40842393'}\n",
      "{'_id': ObjectId('59f9db73212f48e386d89c5f'), 'address': {'building': '7', 'coord': [-73.9830132, 40.749605], 'street': 'East 36 Street', 'zipcode': '10016'}, 'borough': 'Manhattan', 'cuisine': 'Irish', 'grades': [{'date': datetime.datetime(2014, 8, 27, 0, 0), 'grade': 'A', 'score': 9}, {'date': datetime.datetime(2014, 1, 16, 0, 0), 'grade': 'A', 'score': 13}, {'date': datetime.datetime(2013, 5, 14, 0, 0), 'grade': 'A', 'score': 11}, {'date': datetime.datetime(2012, 9, 12, 0, 0), 'grade': 'A', 'score': 13}, {'date': datetime.datetime(2011, 12, 12, 0, 0), 'grade': 'B', 'score': 19}], 'name': 'Galway Pub', 'restaurant_id': '41219092'}\n",
      "{'_id': ObjectId('59f9db74212f48e386d8c79c'), 'address': {'building': '385', 'coord': [-73.98346260000001, 40.7494923], 'street': '5 Avenue', 'zipcode': '10016'}, 'borough': 'Manhattan', 'cuisine': 'Irish', 'grades': [{'date': datetime.datetime(2015, 1, 2, 0, 0), 'grade': 'Z', 'score': 21}, {'date': datetime.datetime(2014, 5, 5, 0, 0), 'grade': 'B', 'score': 15}, {'date': datetime.datetime(2013, 3, 21, 0, 0), 'grade': 'A', 'score': 12}], 'name': \"Peter Dillon'S\", 'restaurant_id': '41706232'}\n",
      "{'_id': ObjectId('59f9db74212f48e386d8cd8c'), 'address': {'building': '497', 'coord': [-73.978066, 40.745286], 'street': '3 Avenue', 'zipcode': '10016'}, 'borough': 'Manhattan', 'cuisine': 'Irish', 'grades': [{'date': datetime.datetime(2014, 10, 14, 0, 0), 'grade': 'A', 'score': 4}, {'date': datetime.datetime(2013, 8, 19, 0, 0), 'grade': 'A', 'score': 3}], 'name': 'Bar Rua', 'restaurant_id': '50001225'}\n",
      "{'_id': ObjectId('59f9db74212f48e386d8ce5c'), 'address': {'building': '119', 'coord': [-73.9835732, 40.7425511], 'street': 'East 27 Street', 'zipcode': '10016'}, 'borough': 'Manhattan', 'cuisine': 'Irish', 'grades': [{'date': datetime.datetime(2014, 10, 9, 0, 0), 'grade': 'A', 'score': 8}, {'date': datetime.datetime(2014, 1, 27, 0, 0), 'grade': 'A', 'score': 13}], 'name': 'Turnmill', 'restaurant_id': '50001588'}\n",
      "{'_id': ObjectId('59f9db73212f48e386d88446'), 'address': {'building': '3', 'coord': [-73.97746699999999, 40.757261], 'street': 'East   48 Street', 'zipcode': '10017'}, 'borough': 'Manhattan', 'cuisine': 'Irish', 'grades': [{'date': datetime.datetime(2014, 5, 13, 0, 0), 'grade': 'A', 'score': 9}, {'date': datetime.datetime(2013, 10, 24, 0, 0), 'grade': 'A', 'score': 10}, {'date': datetime.datetime(2013, 3, 8, 0, 0), 'grade': 'A', 'score': 7}, {'date': datetime.datetime(2012, 6, 20, 0, 0), 'grade': 'B', 'score': 20}, {'date': datetime.datetime(2011, 11, 3, 0, 0), 'grade': 'A', 'score': 13}, {'date': datetime.datetime(2011, 5, 26, 0, 0), 'grade': 'A', 'score': 13}], 'name': 'Pj Morans', 'restaurant_id': '40384222'}\n",
      "{'_id': ObjectId('59f9db73212f48e386d88584'), 'address': {'building': '692', 'coord': [-73.9739876, 40.7518635], 'street': '3 Avenue', 'zipcode': '10017'}, 'borough': 'Manhattan', 'cuisine': 'Irish', 'grades': [{'date': datetime.datetime(2014, 6, 30, 0, 0), 'grade': 'B', 'score': 17}, {'date': datetime.datetime(2013, 10, 24, 0, 0), 'grade': 'B', 'score': 16}, {'date': datetime.datetime(2013, 5, 17, 0, 0), 'grade': 'B', 'score': 15}, {'date': datetime.datetime(2012, 9, 18, 0, 0), 'grade': 'B', 'score': 23}, {'date': datetime.datetime(2012, 4, 23, 0, 0), 'grade': 'A', 'score': 11}, {'date': datetime.datetime(2011, 12, 2, 0, 0), 'grade': 'B', 'score': 17}], 'name': 'Muldoons Bar', 'restaurant_id': '40393855'}\n",
      "{'_id': ObjectId('59f9db73212f48e386d886e6'), 'address': {'building': '50', 'coord': [-73.9782432, 40.7530749], 'street': 'East   43 Street', 'zipcode': '10017'}, 'borough': 'Manhattan', 'cuisine': 'Irish', 'grades': [{'date': datetime.datetime(2014, 4, 14, 0, 0), 'grade': 'A', 'score': 9}, {'date': datetime.datetime(2013, 9, 10, 0, 0), 'grade': 'A', 'score': 13}, {'date': datetime.datetime(2013, 1, 29, 0, 0), 'grade': 'A', 'score': 12}, {'date': datetime.datetime(2012, 8, 16, 0, 0), 'grade': 'A', 'score': 10}, {'date': datetime.datetime(2011, 8, 8, 0, 0), 'grade': 'A', 'score': 13}], 'name': \"Annie Moore'S Restaurant\", 'restaurant_id': '40400992'}\n",
      "{'_id': ObjectId('59f9db73212f48e386d887f0'), 'address': {'building': '14', 'coord': [-73.9778118, 40.7561728], 'street': 'East   47 Street', 'zipcode': '10017'}, 'borough': 'Manhattan', 'cuisine': 'Irish', 'grades': [{'date': datetime.datetime(2014, 6, 30, 0, 0), 'grade': 'A', 'score': 12}, {'date': datetime.datetime(2014, 1, 16, 0, 0), 'grade': 'A', 'score': 13}, {'date': datetime.datetime(2012, 12, 10, 0, 0), 'grade': 'A', 'score': 7}, {'date': datetime.datetime(2012, 7, 18, 0, 0), 'grade': 'A', 'score': 11}], 'name': \"Connolly'S Pub\", 'restaurant_id': '40512865'}\n",
      "{'_id': ObjectId('59f9db73212f48e386d8925d'), 'address': {'building': '9', 'coord': [-73.97852, 40.755251], 'street': 'East   45 Street', 'zipcode': '10017'}, 'borough': 'Manhattan', 'cuisine': 'Irish', 'grades': [{'date': datetime.datetime(2015, 1, 12, 0, 0), 'grade': 'A', 'score': 12}, {'date': datetime.datetime(2014, 7, 24, 0, 0), 'grade': 'A', 'score': 9}, {'date': datetime.datetime(2014, 1, 7, 0, 0), 'grade': 'A', 'score': 8}, {'date': datetime.datetime(2012, 10, 1, 0, 0), 'grade': 'A', 'score': 13}], 'name': \"Eamonn'S Bar And Grill\", 'restaurant_id': '40950482'}\n",
      "{'_id': ObjectId('59f9db73212f48e386d8a665'), 'address': {'building': '203', 'coord': [-73.9726551, 40.7526659], 'street': 'East   45 Street', 'zipcode': '10017'}, 'borough': 'Manhattan', 'cuisine': 'Irish', 'grades': [{'date': datetime.datetime(2014, 9, 9, 0, 0), 'grade': 'A', 'score': 12}, {'date': datetime.datetime(2013, 9, 9, 0, 0), 'grade': 'A', 'score': 4}, {'date': datetime.datetime(2012, 9, 10, 0, 0), 'grade': 'A', 'score': 11}, {'date': datetime.datetime(2012, 4, 23, 0, 0), 'grade': 'A', 'score': 9}], 'name': 'The Perfect Pint', 'restaurant_id': '41382830'}\n",
      "{'_id': ObjectId('59f9db74212f48e386d8b068'), 'address': {'building': '22', 'coord': [-73.980414, 40.7520949], 'street': 'East   41 Street', 'zipcode': '10017'}, 'borough': 'Manhattan', 'cuisine': 'Irish', 'grades': [{'date': datetime.datetime(2014, 6, 2, 0, 0), 'grade': 'A', 'score': 11}, {'date': datetime.datetime(2013, 12, 17, 0, 0), 'grade': 'B', 'score': 19}, {'date': datetime.datetime(2013, 5, 13, 0, 0), 'grade': 'B', 'score': 16}, {'date': datetime.datetime(2012, 9, 7, 0, 0), 'grade': 'A', 'score': 13}, {'date': datetime.datetime(2011, 8, 15, 0, 0), 'grade': 'A', 'score': 12}], 'name': \"O'Casey'S\", 'restaurant_id': '41504953'}\n",
      "{'_id': ObjectId('59f9db74212f48e386d8e299'), 'address': {'building': '800', 'coord': [-73.97172789999999, 40.749838], 'street': '2 Avenue', 'zipcode': '10017'}, 'borough': 'Manhattan', 'cuisine': 'Irish', 'grades': [{'date': datetime.datetime(2015, 1, 12, 0, 0), 'grade': 'Z', 'score': 22}], 'name': \"Mcfadden'S\", 'restaurant_id': '50017444'}\n",
      "{'_id': ObjectId('59f9db73212f48e386d89127'), 'address': {'building': '625', 'coord': [-73.990494, 40.7569545], 'street': '8 Avenue', 'zipcode': '10018'}, 'borough': 'Manhattan', 'cuisine': 'Irish', 'grades': [{'date': datetime.datetime(2014, 4, 16, 0, 0), 'grade': 'A', 'score': 4}, {'date': datetime.datetime(2013, 4, 11, 0, 0), 'grade': 'A', 'score': 9}, {'date': datetime.datetime(2012, 4, 9, 0, 0), 'grade': 'A', 'score': 12}, {'date': datetime.datetime(2011, 10, 7, 0, 0), 'grade': 'A', 'score': 5}, {'date': datetime.datetime(2011, 5, 14, 0, 0), 'grade': 'C', 'score': 45}], 'name': \"Mc Ann'S\", 'restaurant_id': '40918543'}\n",
      "{'_id': ObjectId('59f9db73212f48e386d8921b'), 'address': {'building': '8', 'coord': [-73.98360219999999, 40.7510744], 'street': 'West   38 Street', 'zipcode': '10018'}, 'borough': 'Manhattan', 'cuisine': 'Irish', 'grades': [{'date': datetime.datetime(2014, 8, 5, 0, 0), 'grade': 'A', 'score': 11}, {'date': datetime.datetime(2014, 1, 21, 0, 0), 'grade': 'A', 'score': 12}, {'date': datetime.datetime(2013, 4, 29, 0, 0), 'grade': 'A', 'score': 13}, {'date': datetime.datetime(2012, 8, 15, 0, 0), 'grade': 'A', 'score': 12}, {'date': datetime.datetime(2012, 3, 9, 0, 0), 'grade': 'A', 'score': 7}, {'date': datetime.datetime(2011, 12, 7, 0, 0), 'grade': 'P', 'score': 2}], 'name': \"Blaggard'S Pub\", 'restaurant_id': '40944804'}\n",
      "{'_id': ObjectId('59f9db73212f48e386d89dbc'), 'address': {'building': '123', 'coord': [-73.9863984, 40.7535778], 'street': 'West   39 Street', 'zipcode': '10018'}, 'borough': 'Manhattan', 'cuisine': 'Irish', 'grades': [{'date': datetime.datetime(2014, 10, 2, 0, 0), 'grade': 'A', 'score': 6}, {'date': datetime.datetime(2013, 9, 23, 0, 0), 'grade': 'A', 'score': 10}, {'date': datetime.datetime(2013, 4, 18, 0, 0), 'grade': 'A', 'score': 10}, {'date': datetime.datetime(2012, 3, 28, 0, 0), 'grade': 'A', 'score': 12}, {'date': datetime.datetime(2011, 11, 14, 0, 0), 'grade': 'A', 'score': 12}], 'name': \"Gabby O'Haras\", 'restaurant_id': '41242148'}\n",
      "{'_id': ObjectId('59f9db74212f48e386d8c579'), 'address': {'building': '508', 'coord': [-73.993948, 40.756057], 'street': '9 Avenue', 'zipcode': '10018'}, 'borough': 'Manhattan', 'cuisine': 'Irish', 'grades': [{'date': datetime.datetime(2014, 9, 18, 0, 0), 'grade': 'B', 'score': 14}, {'date': datetime.datetime(2013, 9, 6, 0, 0), 'grade': 'A', 'score': 12}, {'date': datetime.datetime(2013, 2, 7, 0, 0), 'grade': 'A', 'score': 10}], 'name': \"Scallywag'S Irish Pub & Rest\", 'restaurant_id': '41696929'}\n",
      "{'_id': ObjectId('59f9db74212f48e386d8c692'), 'address': {'building': '53', 'coord': [-73.985823, 40.750905], 'street': 'West   36 Street', 'zipcode': '10018'}, 'borough': 'Manhattan', 'cuisine': 'Irish', 'grades': [{'date': datetime.datetime(2014, 3, 13, 0, 0), 'grade': 'A', 'score': 10}, {'date': datetime.datetime(2013, 9, 23, 0, 0), 'grade': 'A', 'score': 9}, {'date': datetime.datetime(2013, 3, 28, 0, 0), 'grade': 'A', 'score': 10}], 'name': 'The Keg Room', 'restaurant_id': '41702685'}\n",
      "{'_id': ObjectId('59f9db72212f48e386d88210'), 'address': {'building': '351', 'coord': [-73.98513559999999, 40.7676919], 'street': 'West   57 Street', 'zipcode': '10019'}, 'borough': 'Manhattan', 'cuisine': 'Irish', 'grades': [{'date': datetime.datetime(2014, 9, 6, 0, 0), 'grade': 'A', 'score': 2}, {'date': datetime.datetime(2013, 7, 22, 0, 0), 'grade': 'A', 'score': 11}, {'date': datetime.datetime(2012, 7, 31, 0, 0), 'grade': 'A', 'score': 12}, {'date': datetime.datetime(2011, 12, 29, 0, 0), 'grade': 'A', 'score': 12}], 'name': 'Dj Reynolds Pub And Restaurant', 'restaurant_id': '30191841'}\n",
      "{'_id': ObjectId('59f9db73212f48e386d8839b'), 'address': {'building': '800', 'coord': [-73.982506, 40.762621], 'street': '7 Avenue', 'zipcode': '10019'}, 'borough': 'Manhattan', 'cuisine': 'Irish', 'grades': [{'date': datetime.datetime(2014, 9, 26, 0, 0), 'grade': 'A', 'score': 3}, {'date': datetime.datetime(2013, 9, 23, 0, 0), 'grade': 'A', 'score': 11}, {'date': datetime.datetime(2012, 10, 3, 0, 0), 'grade': 'A', 'score': 9}, {'date': datetime.datetime(2011, 10, 20, 0, 0), 'grade': 'A', 'score': 7}], 'name': \"Rosie O'Grady Restaurant\", 'restaurant_id': '40374711'}\n",
      "{'_id': ObjectId('59f9db73212f48e386d883c0'), 'address': {'building': '906', 'coord': [-73.980002, 40.7659216], 'street': '7 Avenue', 'zipcode': '10019'}, 'borough': 'Manhattan', 'cuisine': 'Irish', 'grades': [{'date': datetime.datetime(2014, 9, 17, 0, 0), 'grade': 'A', 'score': 11}, {'date': datetime.datetime(2014, 3, 20, 0, 0), 'grade': 'A', 'score': 11}, {'date': datetime.datetime(2013, 8, 6, 0, 0), 'grade': 'A', 'score': 13}, {'date': datetime.datetime(2012, 7, 23, 0, 0), 'grade': 'A', 'score': 9}, {'date': datetime.datetime(2011, 12, 14, 0, 0), 'grade': 'A', 'score': 7}], 'name': \"Pj Carney'S\", 'restaurant_id': '40376735'}\n",
      "{'_id': ObjectId('59f9db73212f48e386d8862f'), 'address': {'building': '768', 'coord': [-73.98796700000001, 40.764263], 'street': '9 Avenue', 'zipcode': '10019'}, 'borough': 'Manhattan', 'cuisine': 'Irish', 'grades': [{'date': datetime.datetime(2014, 11, 14, 0, 0), 'grade': 'A', 'score': 12}, {'date': datetime.datetime(2013, 11, 4, 0, 0), 'grade': 'A', 'score': 10}, {'date': datetime.datetime(2012, 10, 18, 0, 0), 'grade': 'A', 'score': 8}, {'date': datetime.datetime(2012, 5, 31, 0, 0), 'grade': 'A', 'score': 13}], 'name': \"Mccoy'S Pub\", 'restaurant_id': '40397359'}\n",
      "{'_id': ObjectId('59f9db73212f48e386d88e9a'), 'address': {'building': '202', 'coord': [-73.98416, 40.760478], 'street': 'West   49 Street', 'zipcode': '10019'}, 'borough': 'Manhattan', 'cuisine': 'Irish', 'grades': [{'date': datetime.datetime(2014, 9, 12, 0, 0), 'grade': 'A', 'score': 10}, {'date': datetime.datetime(2014, 3, 25, 0, 0), 'grade': 'B', 'score': 23}, {'date': datetime.datetime(2013, 8, 6, 0, 0), 'grade': 'A', 'score': 13}, {'date': datetime.datetime(2012, 12, 13, 0, 0), 'grade': 'B', 'score': 15}, {'date': datetime.datetime(2012, 3, 12, 0, 0), 'grade': 'A', 'score': 9}, {'date': datetime.datetime(2011, 11, 1, 0, 0), 'grade': 'A', 'score': 10}], 'name': 'Playwright Celtic Pub', 'restaurant_id': '40801855'}\n",
      "{'_id': ObjectId('59f9db73212f48e386d88f8a'), 'address': {'building': '837', 'coord': [-73.9810937, 40.7631017], 'street': '7 Avenue', 'zipcode': '10019'}, 'borough': 'Manhattan', 'cuisine': 'Irish', 'grades': [{'date': datetime.datetime(2014, 3, 14, 0, 0), 'grade': 'A', 'score': 3}, {'date': datetime.datetime(2013, 3, 6, 0, 0), 'grade': 'A', 'score': 11}, {'date': datetime.datetime(2012, 2, 17, 0, 0), 'grade': 'A', 'score': 7}], 'name': 'The Irish Pub', 'restaurant_id': '40850417'}\n",
      "{'_id': ObjectId('59f9db73212f48e386d891fd'), 'address': {'building': '65', 'coord': [-73.97721779999999, 40.7628745], 'street': 'West   55 Street', 'zipcode': '10019'}, 'borough': 'Manhattan', 'cuisine': 'Irish', 'grades': [{'date': datetime.datetime(2014, 5, 3, 0, 0), 'grade': 'A', 'score': 13}, {'date': datetime.datetime(2013, 4, 22, 0, 0), 'grade': 'A', 'score': 12}, {'date': datetime.datetime(2012, 3, 13, 0, 0), 'grade': 'A', 'score': 11}], 'name': \"Cassidy'S Pub\", 'restaurant_id': '40942069'}\n",
      "{'_id': ObjectId('59f9db73212f48e386d898f4'), 'address': {'building': '210', 'coord': [-73.9847763, 40.76143680000001], 'street': 'West   50 Street', 'zipcode': '10019'}, 'borough': 'Manhattan', 'cuisine': 'Irish', 'grades': [{'date': datetime.datetime(2014, 8, 13, 0, 0), 'grade': 'A', 'score': 10}, {'date': datetime.datetime(2013, 8, 2, 0, 0), 'grade': 'A', 'score': 13}, {'date': datetime.datetime(2012, 7, 31, 0, 0), 'grade': 'A', 'score': 10}, {'date': datetime.datetime(2012, 3, 5, 0, 0), 'grade': 'A', 'score': 13}, {'date': datetime.datetime(2011, 10, 19, 0, 0), 'grade': 'A', 'score': 13}], 'name': \"Emmett O'Lunney'S Irish Pub\", 'restaurant_id': '41142467'}\n",
      "{'_id': ObjectId('59f9db73212f48e386d8993d'), 'address': {'building': '43', 'coord': [-73.977502, 40.762192], 'street': 'West   54 Street', 'zipcode': '10019'}, 'borough': 'Manhattan', 'cuisine': 'Irish', 'grades': [{'date': datetime.datetime(2014, 8, 13, 0, 0), 'grade': 'A', 'score': 9}, {'date': datetime.datetime(2013, 8, 6, 0, 0), 'grade': 'A', 'score': 2}, {'date': datetime.datetime(2013, 3, 14, 0, 0), 'grade': 'A', 'score': 13}, {'date': datetime.datetime(2012, 9, 10, 0, 0), 'grade': 'A', 'score': 12}, {'date': datetime.datetime(2012, 4, 16, 0, 0), 'grade': 'A', 'score': 11}, {'date': datetime.datetime(2011, 11, 28, 0, 0), 'grade': 'A', 'score': 7}], 'name': \"Connolly'S Pub\", 'restaurant_id': '41148931'}\n",
      "{'_id': ObjectId('59f9db73212f48e386d8a3ee'), 'address': {'building': '401', 'coord': [-73.9891719, 40.7637188], 'street': 'West   50 Street', 'zipcode': '10019'}, 'borough': 'Manhattan', 'cuisine': 'Irish', 'grades': [{'date': datetime.datetime(2014, 7, 7, 0, 0), 'grade': 'A', 'score': 13}, {'date': datetime.datetime(2013, 6, 25, 0, 0), 'grade': 'A', 'score': 10}, {'date': datetime.datetime(2012, 7, 5, 0, 0), 'grade': 'A', 'score': 8}], 'name': 'Hibernia', 'restaurant_id': '41347045'}\n",
      "{'_id': ObjectId('59f9db74212f48e386d8af3f'), 'address': {'building': '243', 'coord': [-73.9832376, 40.7645209], 'street': 'West   54 Street', 'zipcode': '10019'}, 'borough': 'Manhattan', 'cuisine': 'Irish', 'grades': [{'date': datetime.datetime(2014, 7, 22, 0, 0), 'grade': 'A', 'score': 9}, {'date': datetime.datetime(2014, 1, 8, 0, 0), 'grade': 'A', 'score': 13}, {'date': datetime.datetime(2013, 3, 25, 0, 0), 'grade': 'A', 'score': 8}, {'date': datetime.datetime(2012, 1, 11, 0, 0), 'grade': 'A', 'score': 12}, {'date': datetime.datetime(2011, 8, 17, 0, 0), 'grade': 'A', 'score': 10}], 'name': 'Characters Nyc Bar & Grill', 'restaurant_id': '41488442'}\n",
      "{'_id': ObjectId('59f9db74212f48e386d8b30b'), 'address': {'building': '737', 'coord': [-73.98939720000001, 40.7635119], 'street': '9 Avenue', 'zipcode': '10019'}, 'borough': 'Manhattan', 'cuisine': 'Irish', 'grades': [{'date': datetime.datetime(2014, 9, 17, 0, 0), 'grade': 'A', 'score': 12}, {'date': datetime.datetime(2014, 1, 27, 0, 0), 'grade': 'C', 'score': 33}, {'date': datetime.datetime(2012, 12, 17, 0, 0), 'grade': 'A', 'score': 10}, {'date': datetime.datetime(2012, 6, 21, 0, 0), 'grade': 'A', 'score': 12}], 'name': \"Molloy'S Irish Pub\", 'restaurant_id': '41542642'}\n",
      "{'_id': ObjectId('59f9db74212f48e386d8c1e9'), 'address': {'building': '800', 'coord': [-73.9872409, 40.7654155], 'street': '9 Avenue', 'zipcode': '10019'}, 'borough': 'Manhattan', 'cuisine': 'Irish', 'grades': [{'date': datetime.datetime(2014, 12, 30, 0, 0), 'grade': 'A', 'score': 5}, {'date': datetime.datetime(2013, 12, 23, 0, 0), 'grade': 'A', 'score': 7}, {'date': datetime.datetime(2012, 11, 30, 0, 0), 'grade': 'A', 'score': 5}], 'name': \"Alfie'S\", 'restaurant_id': '41671103'}\n",
      "{'_id': ObjectId('59f9db73212f48e386d88956'), 'address': {'building': '417', 'coord': [-73.9557963, 40.7662241], 'street': 'East 70 Street', 'zipcode': '10021'}, 'borough': 'Manhattan', 'cuisine': 'Irish', 'grades': [{'date': datetime.datetime(2014, 12, 15, 0, 0), 'grade': 'Z', 'score': 16}, {'date': datetime.datetime(2014, 7, 17, 0, 0), 'grade': 'B', 'score': 16}, {'date': datetime.datetime(2013, 11, 20, 0, 0), 'grade': 'B', 'score': 22}, {'date': datetime.datetime(2013, 4, 10, 0, 0), 'grade': 'A', 'score': 13}, {'date': datetime.datetime(2012, 8, 23, 0, 0), 'grade': 'A', 'score': 7}, {'date': datetime.datetime(2012, 1, 25, 0, 0), 'grade': 'A', 'score': 8}], 'name': \"Murphy'S Law\", 'restaurant_id': '40564858'}\n",
      "{'_id': ObjectId('59f9db73212f48e386d88ef6'), 'address': {'building': '1373', 'coord': [-73.955399, 40.769063], 'street': 'First Avenue', 'zipcode': '10021'}, 'borough': 'Manhattan', 'cuisine': 'Irish', 'grades': [{'date': datetime.datetime(2014, 4, 16, 0, 0), 'grade': 'A', 'score': 11}, {'date': datetime.datetime(2013, 10, 10, 0, 0), 'grade': 'A', 'score': 10}, {'date': datetime.datetime(2013, 1, 24, 0, 0), 'grade': 'A', 'score': 7}, {'date': datetime.datetime(2011, 11, 2, 0, 0), 'grade': 'A', 'score': 0}, {'date': datetime.datetime(2011, 6, 23, 0, 0), 'grade': 'B', 'score': 22}], 'name': 'Banshee Pub', 'restaurant_id': '40819820'}\n",
      "{'_id': ObjectId('59f9db73212f48e386d89534'), 'address': {'building': '1303', 'coord': [-73.9590742, 40.7713507], 'street': '3 Avenue', 'zipcode': '10021'}, 'borough': 'Manhattan', 'cuisine': 'Irish', 'grades': [{'date': datetime.datetime(2014, 10, 3, 0, 0), 'grade': 'A', 'score': 8}, {'date': datetime.datetime(2013, 7, 23, 0, 0), 'grade': 'A', 'score': 6}, {'date': datetime.datetime(2013, 2, 14, 0, 0), 'grade': 'A', 'score': 10}, {'date': datetime.datetime(2011, 12, 6, 0, 0), 'grade': 'A', 'score': 8}], 'name': \"Mckeown'S\", 'restaurant_id': '41034277'}\n",
      "{'_id': ObjectId('59f9db73212f48e386d88f2c'), 'address': {'building': '977', 'coord': [-73.968015, 40.7560519], 'street': '2 Avenue', 'zipcode': '10022'}, 'borough': 'Manhattan', 'cuisine': 'Irish', 'grades': [{'date': datetime.datetime(2014, 3, 21, 0, 0), 'grade': 'A', 'score': 9}, {'date': datetime.datetime(2013, 9, 13, 0, 0), 'grade': 'A', 'score': 12}, {'date': datetime.datetime(2013, 4, 1, 0, 0), 'grade': 'A', 'score': 13}, {'date': datetime.datetime(2012, 9, 7, 0, 0), 'grade': 'A', 'score': 13}, {'date': datetime.datetime(2012, 4, 11, 0, 0), 'grade': 'A', 'score': 5}, {'date': datetime.datetime(2011, 11, 16, 0, 0), 'grade': 'A', 'score': 12}, {'date': datetime.datetime(2011, 4, 21, 0, 0), 'grade': 'A', 'score': 11}], 'name': \"Murphy'S Pub & Restaurant\", 'restaurant_id': '40831075'}\n",
      "{'_id': ObjectId('59f9db73212f48e386d8a163'), 'address': {'building': '218', 'coord': [-73.969083, 40.7565359], 'street': 'East   52 Street', 'zipcode': '10022'}, 'borough': 'Manhattan', 'cuisine': 'Irish', 'grades': [{'date': datetime.datetime(2014, 10, 14, 0, 0), 'grade': 'Z', 'score': 33}, {'date': datetime.datetime(2014, 3, 4, 0, 0), 'grade': 'A', 'score': 7}, {'date': datetime.datetime(2013, 5, 23, 0, 0), 'grade': 'A', 'score': 12}, {'date': datetime.datetime(2012, 10, 5, 0, 0), 'grade': 'C', 'score': 3}, {'date': datetime.datetime(2012, 4, 10, 0, 0), 'grade': 'B', 'score': 16}], 'name': \"Niall'S On 52Nd\", 'restaurant_id': '41304636'}\n",
      "{'_id': ObjectId('59f9db73212f48e386d8a46d'), 'address': {'building': '961', 'coord': [-73.9684068, 40.7555193], 'street': '2 Avenue', 'zipcode': '10022'}, 'borough': 'Manhattan', 'cuisine': 'Irish', 'grades': [{'date': datetime.datetime(2014, 2, 12, 0, 0), 'grade': 'A', 'score': 9}, {'date': datetime.datetime(2013, 6, 6, 0, 0), 'grade': 'A', 'score': 12}, {'date': datetime.datetime(2012, 3, 22, 0, 0), 'grade': 'A', 'score': 10}, {'date': datetime.datetime(2011, 3, 29, 0, 0), 'grade': 'A', 'score': 12}], 'name': \"Cornerstone Tavern/The Stag'S Head\", 'restaurant_id': '41355345'}\n",
      "{'_id': ObjectId('59f9db74212f48e386d8b6ee'), 'address': {'building': '978', 'coord': [-73.967457, 40.755774], 'street': '2 Avenue', 'zipcode': '10022'}, 'borough': 'Manhattan', 'cuisine': 'Irish', 'grades': [{'date': datetime.datetime(2014, 10, 29, 0, 0), 'grade': 'A', 'score': 10}, {'date': datetime.datetime(2014, 5, 27, 0, 0), 'grade': 'A', 'score': 13}, {'date': datetime.datetime(2013, 4, 11, 0, 0), 'grade': 'A', 'score': 6}, {'date': datetime.datetime(2012, 8, 29, 0, 0), 'grade': 'B', 'score': 20}, {'date': datetime.datetime(2012, 3, 9, 0, 0), 'grade': 'C', 'score': 11}], 'name': 'The Irish Exit', 'restaurant_id': '41582648'}\n",
      "{'_id': ObjectId('59f9db74212f48e386d8b778'), 'address': {'building': '1009', 'coord': [-73.967164, 40.7571292], 'street': '2 Avenue', 'zipcode': '10022'}, 'borough': 'Manhattan', 'cuisine': 'Irish', 'grades': [{'date': datetime.datetime(2014, 3, 7, 0, 0), 'grade': 'A', 'score': 4}, {'date': datetime.datetime(2013, 9, 10, 0, 0), 'grade': 'A', 'score': 10}, {'date': datetime.datetime(2013, 3, 13, 0, 0), 'grade': 'A', 'score': 9}, {'date': datetime.datetime(2012, 1, 17, 0, 0), 'grade': 'A', 'score': 7}, {'date': datetime.datetime(2011, 8, 25, 0, 0), 'grade': 'B', 'score': 14}], 'name': 'Session House', 'restaurant_id': '41587557'}\n",
      "{'_id': ObjectId('59f9db73212f48e386d88524'), 'address': {'building': '103', 'coord': [-73.97894699999999, 40.777789], 'street': 'West   72 Street', 'zipcode': '10023'}, 'borough': 'Manhattan', 'cuisine': 'Irish', 'grades': [{'date': datetime.datetime(2014, 7, 28, 0, 0), 'grade': 'A', 'score': 13}, {'date': datetime.datetime(2013, 12, 19, 0, 0), 'grade': 'A', 'score': 11}, {'date': datetime.datetime(2013, 3, 6, 0, 0), 'grade': 'A', 'score': 13}, {'date': datetime.datetime(2012, 9, 5, 0, 0), 'grade': 'A', 'score': 12}, {'date': datetime.datetime(2012, 2, 29, 0, 0), 'grade': 'A', 'score': 7}, {'date': datetime.datetime(2011, 9, 28, 0, 0), 'grade': 'A', 'score': 7}], 'name': \"Malachy'S\", 'restaurant_id': '40391154'}\n",
      "{'_id': ObjectId('59f9db73212f48e386d883eb'), 'address': {'building': '425', 'coord': [-73.977372, 40.783934], 'street': 'Amsterdam Avenue', 'zipcode': '10024'}, 'borough': 'Manhattan', 'cuisine': 'Irish', 'grades': [{'date': datetime.datetime(2014, 9, 29, 0, 0), 'grade': 'A', 'score': 9}, {'date': datetime.datetime(2014, 3, 7, 0, 0), 'grade': 'B', 'score': 19}, {'date': datetime.datetime(2013, 7, 10, 0, 0), 'grade': 'A', 'score': 9}, {'date': datetime.datetime(2012, 12, 26, 0, 0), 'grade': 'B', 'score': 27}, {'date': datetime.datetime(2012, 6, 21, 0, 0), 'grade': 'A', 'score': 13}, {'date': datetime.datetime(2012, 1, 23, 0, 0), 'grade': 'B', 'score': 18}], 'name': \"Mcaleer'S Pub\", 'restaurant_id': '40379355'}\n",
      "{'_id': ObjectId('59f9db73212f48e386d88e28'), 'address': {'building': '450', 'coord': [-73.9773359, 40.78498], 'street': 'Amsterdam Avenue', 'zipcode': '10024'}, 'borough': 'Manhattan', 'cuisine': 'Irish', 'grades': [{'date': datetime.datetime(2014, 7, 9, 0, 0), 'grade': 'A', 'score': 11}, {'date': datetime.datetime(2014, 1, 9, 0, 0), 'grade': 'A', 'score': 11}, {'date': datetime.datetime(2013, 4, 26, 0, 0), 'grade': 'B', 'score': 17}, {'date': datetime.datetime(2012, 2, 13, 0, 0), 'grade': 'A', 'score': 12}, {'date': datetime.datetime(2011, 9, 26, 0, 0), 'grade': 'A', 'score': 4}], 'name': 'The Dead Poet', 'restaurant_id': '40783220'}\n",
      "{'_id': ObjectId('59f9db73212f48e386d899c6'), 'address': {'building': '225', 'coord': [-73.9792219, 40.783842], 'street': 'West 79 Street', 'zipcode': '10024'}, 'borough': 'Manhattan', 'cuisine': 'Irish', 'grades': [{'date': datetime.datetime(2015, 1, 12, 0, 0), 'grade': 'A', 'score': 6}, {'date': datetime.datetime(2014, 1, 15, 0, 0), 'grade': 'A', 'score': 3}, {'date': datetime.datetime(2012, 12, 28, 0, 0), 'grade': 'A', 'score': 2}], 'name': 'Dublin House', 'restaurant_id': '41159246'}\n",
      "{'_id': ObjectId('59f9db73212f48e386d8a06b'), 'address': {'building': '480', 'coord': [-73.976669, 40.785962], 'street': 'Amsterdam Avenue', 'zipcode': '10024'}, 'borough': 'Manhattan', 'cuisine': 'Irish', 'grades': [{'date': datetime.datetime(2014, 5, 21, 0, 0), 'grade': 'A', 'score': 12}, {'date': datetime.datetime(2013, 8, 26, 0, 0), 'grade': 'B', 'score': 23}, {'date': datetime.datetime(2013, 1, 16, 0, 0), 'grade': 'C', 'score': 51}, {'date': datetime.datetime(2012, 7, 11, 0, 0), 'grade': 'A', 'score': 12}, {'date': datetime.datetime(2011, 12, 7, 0, 0), 'grade': 'A', 'score': 12}, {'date': datetime.datetime(2011, 7, 19, 0, 0), 'grade': 'A', 'score': 7}], 'name': 'Soldier Mcgee Tavern', 'restaurant_id': '41290351'}\n",
      "{'_id': ObjectId('59f9db73212f48e386d885b0'), 'address': {'building': '237', 'coord': [-73.96743500000001, 40.8005319], 'street': 'West  105 Street', 'zipcode': '10025'}, 'borough': 'Manhattan', 'cuisine': 'Irish', 'grades': [{'date': datetime.datetime(2014, 2, 21, 0, 0), 'grade': 'A', 'score': 9}, {'date': datetime.datetime(2013, 5, 2, 0, 0), 'grade': 'A', 'score': 12}, {'date': datetime.datetime(2012, 8, 14, 0, 0), 'grade': 'A', 'score': 13}, {'date': datetime.datetime(2012, 3, 14, 0, 0), 'grade': 'C', 'score': 9}, {'date': datetime.datetime(2011, 10, 13, 0, 0), 'grade': 'A', 'score': 11}, {'date': datetime.datetime(2011, 6, 28, 0, 0), 'grade': 'C', 'score': 37}], 'name': 'The Abbey Pub', 'restaurant_id': '40394723'}\n",
      "{'_id': ObjectId('59f9db73212f48e386d8826c'), 'address': {'building': '1616', 'coord': [-73.952449, 40.776325], 'street': '2 Avenue', 'zipcode': '10028'}, 'borough': 'Manhattan', 'cuisine': 'Irish', 'grades': [{'date': datetime.datetime(2014, 2, 28, 0, 0), 'grade': 'A', 'score': 2}, {'date': datetime.datetime(2013, 8, 30, 0, 0), 'grade': 'A', 'score': 7}, {'date': datetime.datetime(2012, 8, 27, 0, 0), 'grade': 'A', 'score': 7}, {'date': datetime.datetime(2011, 9, 14, 0, 0), 'grade': 'A', 'score': 9}], 'name': \"Dorrian'S Red Hand Restaurant\", 'restaurant_id': '40365239'}\n",
      "{'_id': ObjectId('59f9db74212f48e386d8a92f'), 'address': {'building': '1609', 'coord': [-73.95317720000001, 40.7763038], 'street': '2 Avenue', 'zipcode': '10028'}, 'borough': 'Manhattan', 'cuisine': 'Irish', 'grades': [{'date': datetime.datetime(2014, 9, 18, 0, 0), 'grade': 'A', 'score': 12}, {'date': datetime.datetime(2014, 2, 28, 0, 0), 'grade': 'A', 'score': 8}, {'date': datetime.datetime(2013, 5, 1, 0, 0), 'grade': 'A', 'score': 11}, {'date': datetime.datetime(2012, 10, 27, 0, 0), 'grade': 'A', 'score': 12}, {'date': datetime.datetime(2011, 10, 29, 0, 0), 'grade': 'A', 'score': 10}], 'name': 'Caeldonia', 'restaurant_id': '41415005'}\n",
      "{'_id': ObjectId('59f9db74212f48e386d8b92c'), 'address': {'building': '350', 'coord': [-73.9504927, 40.7762275], 'street': 'East   85 Street', 'zipcode': '10028'}, 'borough': 'Manhattan', 'cuisine': 'Irish', 'grades': [{'date': datetime.datetime(2014, 7, 21, 0, 0), 'grade': 'B', 'score': 25}, {'date': datetime.datetime(2014, 2, 11, 0, 0), 'grade': 'A', 'score': 13}, {'date': datetime.datetime(2012, 12, 12, 0, 0), 'grade': 'A', 'score': 12}, {'date': datetime.datetime(2011, 12, 29, 0, 0), 'grade': 'A', 'score': 12}], 'name': \"Ryan'S Daughter Cafe\", 'restaurant_id': '41604933'}\n",
      "{'_id': ObjectId('59f9db74212f48e386d8b6e2'), 'address': {'building': '839', 'coord': [-73.9399876, 40.8514952], 'street': 'West  181 Street', 'zipcode': '10033'}, 'borough': 'Manhattan', 'cuisine': 'Irish', 'grades': [{'date': datetime.datetime(2014, 6, 25, 0, 0), 'grade': 'A', 'score': 5}, {'date': datetime.datetime(2013, 12, 10, 0, 0), 'grade': 'A', 'score': 2}, {'date': datetime.datetime(2013, 5, 30, 0, 0), 'grade': 'A', 'score': 13}, {'date': datetime.datetime(2012, 3, 6, 0, 0), 'grade': 'A', 'score': 11}, {'date': datetime.datetime(2011, 10, 12, 0, 0), 'grade': 'A', 'score': 12}], 'name': 'Le Cheile', 'restaurant_id': '41581905'}\n",
      "{'_id': ObjectId('59f9db73212f48e386d884c0'), 'address': {'building': '4946', 'coord': [-73.9206715, 40.8677164], 'street': 'Broadway', 'zipcode': '10034'}, 'borough': 'Manhattan', 'cuisine': 'Irish', 'grades': [{'date': datetime.datetime(2014, 11, 17, 0, 0), 'grade': 'A', 'score': 9}, {'date': datetime.datetime(2013, 11, 6, 0, 0), 'grade': 'A', 'score': 11}, {'date': datetime.datetime(2013, 6, 3, 0, 0), 'grade': 'A', 'score': 11}, {'date': datetime.datetime(2012, 4, 18, 0, 0), 'grade': 'A', 'score': 3}, {'date': datetime.datetime(2011, 12, 7, 0, 0), 'grade': 'A', 'score': 9}], 'name': 'Pipers Kilt', 'restaurant_id': '40388348'}\n",
      "{'_id': ObjectId('59f9db73212f48e386d88611'), 'address': {'building': '5008', 'coord': [-73.917582, 40.868597], 'street': 'Broadway', 'zipcode': '10034'}, 'borough': 'Manhattan', 'cuisine': 'Irish', 'grades': [{'date': datetime.datetime(2015, 1, 13, 0, 0), 'grade': 'A', 'score': 9}, {'date': datetime.datetime(2014, 8, 30, 0, 0), 'grade': 'A', 'score': 7}, {'date': datetime.datetime(2013, 8, 19, 0, 0), 'grade': 'A', 'score': 13}, {'date': datetime.datetime(2012, 9, 13, 0, 0), 'grade': 'A', 'score': 10}, {'date': datetime.datetime(2012, 4, 16, 0, 0), 'grade': 'A', 'score': 10}], 'name': 'Irish Eye Bar', 'restaurant_id': '40396543'}\n",
      "{'_id': ObjectId('59f9db73212f48e386d88cac'), 'address': {'building': '5009', 'coord': [-73.9172255, 40.86929170000001], 'street': 'Broadway', 'zipcode': '10034'}, 'borough': 'Manhattan', 'cuisine': 'Irish', 'grades': [{'date': datetime.datetime(2014, 9, 22, 0, 0), 'grade': 'A', 'score': 9}, {'date': datetime.datetime(2013, 9, 24, 0, 0), 'grade': 'A', 'score': 10}, {'date': datetime.datetime(2013, 5, 13, 0, 0), 'grade': 'A', 'score': 10}, {'date': datetime.datetime(2012, 5, 1, 0, 0), 'grade': 'A', 'score': 8}, {'date': datetime.datetime(2011, 12, 23, 0, 0), 'grade': 'A', 'score': 10}], 'name': 'Liffy Ii Bar', 'restaurant_id': '40716479'}\n",
      "{'_id': ObjectId('59f9db73212f48e386d88600'), 'address': {'building': '150', 'coord': [-73.9838036, 40.7587108], 'street': 'West   47 Street', 'zipcode': '10036'}, 'borough': 'Manhattan', 'cuisine': 'Irish', 'grades': [{'date': datetime.datetime(2014, 9, 16, 0, 0), 'grade': 'A', 'score': 9}, {'date': datetime.datetime(2014, 2, 3, 0, 0), 'grade': 'A', 'score': 11}, {'date': datetime.datetime(2013, 5, 28, 0, 0), 'grade': 'A', 'score': 10}, {'date': datetime.datetime(2012, 3, 22, 0, 0), 'grade': 'A', 'score': 13}], 'name': 'Langans Bar & Restaurant', 'restaurant_id': '40396246'}\n",
      "{'_id': ObjectId('59f9db73212f48e386d88adb'), 'address': {'building': '732', 'coord': [-73.987849, 40.759298], 'street': '8 Avenue', 'zipcode': '10036'}, 'borough': 'Manhattan', 'cuisine': 'Irish', 'grades': [{'date': datetime.datetime(2015, 1, 9, 0, 0), 'grade': 'A', 'score': 11}, {'date': datetime.datetime(2013, 12, 23, 0, 0), 'grade': 'A', 'score': 13}, {'date': datetime.datetime(2013, 7, 17, 0, 0), 'grade': 'A', 'score': 6}, {'date': datetime.datetime(2013, 2, 5, 0, 0), 'grade': 'A', 'score': 13}], 'name': 'Playwright Celtic Pub', 'restaurant_id': '40615672'}\n",
      "{'_id': ObjectId('59f9db73212f48e386d88da4'), 'address': {'building': '232', 'coord': [-73.9861966, 40.7604451], 'street': 'West   48 Street', 'zipcode': '10036'}, 'borough': 'Manhattan', 'cuisine': 'Irish', 'grades': [{'date': datetime.datetime(2014, 6, 30, 0, 0), 'grade': 'A', 'score': 11}, {'date': datetime.datetime(2013, 4, 25, 0, 0), 'grade': 'A', 'score': 2}, {'date': datetime.datetime(2012, 5, 7, 0, 0), 'grade': 'A', 'score': 12}], 'name': \"Hurley'S Saloon\", 'restaurant_id': '40747820'}\n",
      "{'_id': ObjectId('59f9db73212f48e386d88f3b'), 'address': {'building': '370', 'coord': [-73.990428, 40.760652], 'street': 'West 46 Street', 'zipcode': '10036'}, 'borough': 'Manhattan', 'cuisine': 'Irish', 'grades': [{'date': datetime.datetime(2014, 6, 12, 0, 0), 'grade': 'A', 'score': 10}, {'date': datetime.datetime(2013, 6, 19, 0, 0), 'grade': 'A', 'score': 8}, {'date': datetime.datetime(2013, 1, 10, 0, 0), 'grade': 'A', 'score': 10}, {'date': datetime.datetime(2012, 5, 10, 0, 0), 'grade': 'A', 'score': 9}, {'date': datetime.datetime(2011, 8, 17, 0, 0), 'grade': 'A', 'score': 12}], 'name': \"Deacon Brodie'S\", 'restaurant_id': '40836364'}\n",
      "{'_id': ObjectId('59f9db73212f48e386d88f3e'), 'address': {'building': '121', 'coord': [-73.9835994, 40.7573439], 'street': 'West   45 Street', 'zipcode': '10036'}, 'borough': 'Manhattan', 'cuisine': 'Irish', 'grades': [{'date': datetime.datetime(2014, 3, 3, 0, 0), 'grade': 'A', 'score': 4}, {'date': datetime.datetime(2013, 9, 16, 0, 0), 'grade': 'A', 'score': 10}, {'date': datetime.datetime(2013, 2, 21, 0, 0), 'grade': 'A', 'score': 12}], 'name': \"Connolly'S\", 'restaurant_id': '40836801'}\n",
      "{'_id': ObjectId('59f9db73212f48e386d891e7'), 'address': {'building': '307', 'coord': [-73.987848, 40.760824], 'street': 'West 47 Street', 'zipcode': '10036'}, 'borough': 'Manhattan', 'cuisine': 'Irish', 'grades': [{'date': datetime.datetime(2014, 7, 17, 0, 0), 'grade': 'A', 'score': 10}, {'date': datetime.datetime(2014, 2, 6, 0, 0), 'grade': 'A', 'score': 7}, {'date': datetime.datetime(2013, 5, 21, 0, 0), 'grade': 'B', 'score': 25}, {'date': datetime.datetime(2012, 10, 2, 0, 0), 'grade': 'B', 'score': 18}, {'date': datetime.datetime(2012, 3, 9, 0, 0), 'grade': 'B', 'score': 18}, {'date': datetime.datetime(2011, 10, 12, 0, 0), 'grade': 'A', 'score': 13}], 'name': 'Blarney Stone Pub', 'restaurant_id': '40939572'}\n",
      "{'_id': ObjectId('59f9db73212f48e386d89725'), 'address': {'building': '145', 'coord': [-73.984262, 40.7576226], 'street': 'West 45 Street', 'zipcode': '10036'}, 'borough': 'Manhattan', 'cuisine': 'Irish', 'grades': [{'date': datetime.datetime(2014, 12, 23, 0, 0), 'grade': 'A', 'score': 8}, {'date': datetime.datetime(2014, 1, 6, 0, 0), 'grade': 'A', 'score': 9}, {'date': datetime.datetime(2012, 12, 27, 0, 0), 'grade': 'A', 'score': 5}], 'name': \"O'Lunney'S Times Square Pub\", 'restaurant_id': '41091216'}\n",
      "{'_id': ObjectId('59f9db73212f48e386d89849'), 'address': {'building': '626', 'coord': [-73.99624899999999, 40.763153], 'street': '11 Avenue', 'zipcode': '10036'}, 'borough': 'Manhattan', 'cuisine': 'Irish', 'grades': [{'date': datetime.datetime(2014, 6, 9, 0, 0), 'grade': 'A', 'score': 7}, {'date': datetime.datetime(2013, 10, 23, 0, 0), 'grade': 'A', 'score': 12}, {'date': datetime.datetime(2012, 8, 31, 0, 0), 'grade': 'A', 'score': 10}, {'date': datetime.datetime(2012, 3, 6, 0, 0), 'grade': 'A', 'score': 13}], 'name': 'Landmark Tavern', 'restaurant_id': '41122841'}\n",
      "{'_id': ObjectId('59f9db73212f48e386d89945'), 'address': {'building': '134', 'coord': [-73.983953, 40.75785], 'street': 'West   46 Street', 'zipcode': '10036'}, 'borough': 'Manhattan', 'cuisine': 'Irish', 'grades': [{'date': datetime.datetime(2014, 12, 1, 0, 0), 'grade': 'Z', 'score': 26}, {'date': datetime.datetime(2014, 6, 4, 0, 0), 'grade': 'A', 'score': 10}, {'date': datetime.datetime(2013, 11, 4, 0, 0), 'grade': 'A', 'score': 12}, {'date': datetime.datetime(2013, 5, 13, 0, 0), 'grade': 'A', 'score': 12}, {'date': datetime.datetime(2012, 10, 2, 0, 0), 'grade': 'A', 'score': 7}], 'name': \"O'Briens\", 'restaurant_id': '41149653'}\n",
      "{'_id': ObjectId('59f9db73212f48e386d89c16'), 'address': {'building': '599', 'coord': [-73.9950889, 40.760717], 'street': '10 Avenue', 'zipcode': '10036'}, 'borough': 'Manhattan', 'cuisine': 'Irish', 'grades': [{'date': datetime.datetime(2014, 9, 18, 0, 0), 'grade': 'A', 'score': 2}, {'date': datetime.datetime(2014, 3, 11, 0, 0), 'grade': 'A', 'score': 12}, {'date': datetime.datetime(2013, 1, 18, 0, 0), 'grade': 'A', 'score': 12}, {'date': datetime.datetime(2012, 5, 2, 0, 0), 'grade': 'B', 'score': 16}], 'name': 'Landsdowne Road', 'restaurant_id': '41213055'}\n",
      "{'_id': ObjectId('59f9db73212f48e386d89c8e'), 'address': {'building': '123', 'coord': [-73.9836904, 40.7573863], 'street': 'West   45 Street', 'zipcode': '10036'}, 'borough': 'Manhattan', 'cuisine': 'Irish', 'grades': [{'date': datetime.datetime(2014, 5, 9, 0, 0), 'grade': 'A', 'score': 12}, {'date': datetime.datetime(2013, 5, 1, 0, 0), 'grade': 'A', 'score': 7}, {'date': datetime.datetime(2012, 4, 23, 0, 0), 'grade': 'A', 'score': 2}], 'name': 'The Perfect Pint', 'restaurant_id': '41223492'}\n",
      "{'_id': ObjectId('59f9db73212f48e386d89dcc'), 'address': {'building': '58', 'coord': [-73.980583, 40.758071], 'street': 'West 48 Street', 'zipcode': '10036'}, 'borough': 'Manhattan', 'cuisine': 'Irish', 'grades': [{'date': datetime.datetime(2014, 3, 21, 0, 0), 'grade': 'A', 'score': 10}, {'date': datetime.datetime(2013, 9, 18, 0, 0), 'grade': 'A', 'score': 9}, {'date': datetime.datetime(2013, 3, 26, 0, 0), 'grade': 'A', 'score': 11}, {'date': datetime.datetime(2012, 9, 10, 0, 0), 'grade': 'A', 'score': 7}, {'date': datetime.datetime(2012, 3, 26, 0, 0), 'grade': 'B', 'score': 15}, {'date': datetime.datetime(2011, 10, 25, 0, 0), 'grade': 'A', 'score': 12}, {'date': datetime.datetime(2011, 5, 19, 0, 0), 'grade': 'B', 'score': 15}], 'name': \"Pig 'N' Whistle\", 'restaurant_id': '41242943'}\n",
      "{'_id': ObjectId('59f9db74212f48e386d8abd2'), 'address': {'building': '120', 'coord': [-73.98428679999999, 40.7564316], 'street': 'West   44 Street', 'zipcode': '10036'}, 'borough': 'Manhattan', 'cuisine': 'Irish', 'grades': [{'date': datetime.datetime(2014, 8, 6, 0, 0), 'grade': 'A', 'score': 3}, {'date': datetime.datetime(2014, 3, 3, 0, 0), 'grade': 'A', 'score': 9}, {'date': datetime.datetime(2013, 6, 27, 0, 0), 'grade': 'A', 'score': 12}, {'date': datetime.datetime(2012, 5, 29, 0, 0), 'grade': 'A', 'score': 13}], 'name': 'The Long Room', 'restaurant_id': '41451247'}\n",
      "{'_id': ObjectId('59f9db74212f48e386d8c165'), 'address': {'building': '', 'coord': [-73.9932872, 40.7602619], 'street': 'Attn: Allied Management', 'zipcode': '10036'}, 'borough': 'Manhattan', 'cuisine': 'Irish', 'grades': [{'date': datetime.datetime(2014, 1, 27, 0, 0), 'grade': 'A', 'score': 9}, {'date': datetime.datetime(2013, 7, 29, 0, 0), 'grade': 'A', 'score': 10}, {'date': datetime.datetime(2013, 2, 6, 0, 0), 'grade': 'A', 'score': 12}, {'date': datetime.datetime(2012, 7, 30, 0, 0), 'grade': 'A', 'score': 13}], 'name': \"Mchale'S Bar & Grill\", 'restaurant_id': '41665255'}\n",
      "{'_id': ObjectId('59f9db73212f48e386d8832c'), 'address': {'building': '75', 'coord': [-74.0075542, 40.7077614], 'street': 'Maiden Lane', 'zipcode': '10038'}, 'borough': 'Manhattan', 'cuisine': 'Irish', 'grades': [{'date': datetime.datetime(2014, 1, 30, 0, 0), 'grade': 'A', 'score': 2}, {'date': datetime.datetime(2013, 8, 16, 0, 0), 'grade': 'A', 'score': 11}, {'date': datetime.datetime(2012, 8, 15, 0, 0), 'grade': 'A', 'score': 8}, {'date': datetime.datetime(2012, 3, 21, 0, 0), 'grade': 'A', 'score': 13}, {'date': datetime.datetime(2011, 10, 19, 0, 0), 'grade': 'A', 'score': 8}], 'name': \"Jim Brady'S Restaurant\", 'restaurant_id': '40369869'}\n",
      "{'_id': ObjectId('59f9db73212f48e386d8852d'), 'address': {'building': '15', 'coord': [-74.0063787, 40.7108898], 'street': 'Beekman Street', 'zipcode': '10038'}, 'borough': 'Manhattan', 'cuisine': 'Irish', 'grades': [{'date': datetime.datetime(2014, 9, 15, 0, 0), 'grade': 'A', 'score': 12}, {'date': datetime.datetime(2014, 4, 16, 0, 0), 'grade': 'A', 'score': 9}, {'date': datetime.datetime(2013, 10, 18, 0, 0), 'grade': 'A', 'score': 7}, {'date': datetime.datetime(2012, 9, 20, 0, 0), 'grade': 'A', 'score': 4}, {'date': datetime.datetime(2012, 5, 8, 0, 0), 'grade': 'A', 'score': 13}], 'name': 'The Beekman', 'restaurant_id': '40391417'}\n",
      "{'_id': ObjectId('59f9db74212f48e386d8b9fe'), 'address': {'building': '17', 'coord': [-74.008657, 40.710034], 'street': 'John Street', 'zipcode': '10038'}, 'borough': 'Manhattan', 'cuisine': 'Irish', 'grades': [{'date': datetime.datetime(2015, 1, 12, 0, 0), 'grade': 'Z', 'score': 33}, {'date': datetime.datetime(2014, 5, 14, 0, 0), 'grade': 'A', 'score': 13}, {'date': datetime.datetime(2013, 9, 24, 0, 0), 'grade': 'B', 'score': 20}, {'date': datetime.datetime(2013, 2, 21, 0, 0), 'grade': 'A', 'score': 12}, {'date': datetime.datetime(2012, 5, 3, 0, 0), 'grade': 'A', 'score': 11}], 'name': 'The Irish American', 'restaurant_id': '41612393'}\n",
      "{'_id': ObjectId('59f9db73212f48e386d8850f'), 'address': {'building': '4716', 'coord': [-73.9288969, 40.8644501], 'street': 'Broadway', 'zipcode': '10040'}, 'borough': 'Manhattan', 'cuisine': 'Irish', 'grades': [{'date': datetime.datetime(2014, 5, 29, 0, 0), 'grade': 'A', 'score': 3}, {'date': datetime.datetime(2013, 5, 18, 0, 0), 'grade': 'A', 'score': 11}, {'date': datetime.datetime(2012, 5, 9, 0, 0), 'grade': 'A', 'score': 7}, {'date': datetime.datetime(2011, 10, 31, 0, 0), 'grade': 'A', 'score': 7}], 'name': 'Irish Brigade', 'restaurant_id': '40390820'}\n",
      "{'_id': ObjectId('59f9db73212f48e386d88e29'), 'address': {'building': '1696', 'coord': [-73.9506864, 40.778924], 'street': 'Second Avenue', 'zipcode': '10128'}, 'borough': 'Manhattan', 'cuisine': 'Irish', 'grades': [{'date': datetime.datetime(2014, 6, 25, 0, 0), 'grade': 'B', 'score': 19}, {'date': datetime.datetime(2013, 10, 29, 0, 0), 'grade': 'B', 'score': 19}, {'date': datetime.datetime(2013, 2, 28, 0, 0), 'grade': 'A', 'score': 8}, {'date': datetime.datetime(2012, 5, 9, 0, 0), 'grade': 'A', 'score': 12}, {'date': datetime.datetime(2011, 10, 25, 0, 0), 'grade': 'A', 'score': 5}], 'name': \"Marty O'Brien'S\", 'restaurant_id': '40783170'}\n",
      "{'_id': ObjectId('59f9db73212f48e386d899db'), 'address': {'building': '1708', 'coord': [-73.9502289, 40.77939], 'street': '2 Avenue', 'zipcode': '10128'}, 'borough': 'Manhattan', 'cuisine': 'Irish', 'grades': [{'date': datetime.datetime(2014, 3, 11, 0, 0), 'grade': 'A', 'score': 12}, {'date': datetime.datetime(2013, 10, 1, 0, 0), 'grade': 'A', 'score': 13}, {'date': datetime.datetime(2013, 4, 22, 0, 0), 'grade': 'A', 'score': 13}, {'date': datetime.datetime(2012, 8, 16, 0, 0), 'grade': 'B', 'score': 26}, {'date': datetime.datetime(2011, 7, 21, 0, 0), 'grade': 'A', 'score': 12}], 'name': 'Genesis Bar & Restaurant', 'restaurant_id': '41161009'}\n"
     ]
    }
   ],
   "source": [
    "import pymongo\n",
    "cursor = db.restaurants.find({'borough': 'Manhattan', 'cuisine': 'Irish'}).sort([\n",
    "    ('address.zipcode', pymongo.ASCENDING),\n",
    "    ('address.coord[0]', pymongo.DESCENDING)\n",
    "])\n",
    "for document in cursor:\n",
    "    print(document)"
   ]
  },
  {
   "cell_type": "markdown",
   "metadata": {},
   "source": [
    "Some exercise query and sort"
   ]
  },
  {
   "cell_type": "markdown",
   "metadata": {},
   "source": [
    "# Manipulations of documents in the collection"
   ]
  },
  {
   "cell_type": "markdown",
   "metadata": {},
   "source": [
    "Insert a new document with an artificial restaurant."
   ]
  },
  {
   "cell_type": "code",
   "execution_count": 12,
   "metadata": {
    "collapsed": true
   },
   "outputs": [
    {
     "name": "stdout",
     "output_type": "stream",
     "text": [
      "{'_id': ObjectId('59f9e0ab4c174922618035d5'), 'address': {'street': 'Broadway', 'zipcode': '07087', 'building': '4711', 'coord': [-74.017212, 40.779185]}, 'borough': 'Manhattan', 'cuisine': 'Cypermeals', 'grades': [{'date': datetime.datetime(2017, 11, 10, 0, 0), 'grade': 'A', 'score': 11}], 'name': 'Space Cookie', 'restaurant_id': '87654321'}\n",
      "<pymongo.results.InsertOneResult object at 0x7f0865bb27c8>\n",
      "59f9e0b74c174922618035d6\n",
      "{'_id': ObjectId('59f9e0ab4c174922618035d5'), 'address': {'street': 'Broadway', 'zipcode': '07087', 'building': '4711', 'coord': [-74.017212, 40.779185]}, 'borough': 'Manhattan', 'cuisine': 'Cypermeals', 'grades': [{'date': datetime.datetime(2017, 11, 10, 0, 0), 'grade': 'A', 'score': 11}], 'name': 'Space Cookie', 'restaurant_id': '87654321'}\n",
      "{'_id': ObjectId('59f9e0b74c174922618035d6'), 'address': {'street': 'Broadway', 'zipcode': '07087', 'building': '4711', 'coord': [-74.017212, 40.779185]}, 'borough': 'Manhattan', 'cuisine': 'Cypermeals', 'grades': [{'date': datetime.datetime(2017, 11, 10, 0, 0), 'grade': 'A', 'score': 11}], 'name': 'Space Cookie', 'restaurant_id': '87654321'}\n"
     ]
    }
   ],
   "source": [
    "cursor = db.restaurants.find({'name': 'Space Cookie'})\n",
    "for documents in cursor:\n",
    "    print(documents)\n",
    "\n",
    "from datetime import datetime\n",
    "new_restaurant = {\n",
    "        \"address\": {\n",
    "            \"street\": \"Broadway\",\n",
    "            \"zipcode\": \"07087\",\n",
    "            \"building\": \"4711\",\n",
    "            \"coord\": [-74.017212, 40.779185]\n",
    "        },\n",
    "        \"borough\": \"Manhattan\",\n",
    "        \"cuisine\": \"Cypermeals\",\n",
    "        \"grades\": [\n",
    "            {\n",
    "                \"date\": datetime.strptime(\"2017-11-10\", \"%Y-%m-%d\"),\n",
    "                \"grade\": \"A\",\n",
    "                \"score\": 11\n",
    "            }\n",
    "        ],\n",
    "        \"name\": \"Space Cookie\",\n",
    "        \"restaurant_id\": \"87654321\"\n",
    "    }\n",
    "new_one = db.restaurants.insert_one(new_restaurant)\n",
    "print(new_one)\n",
    "print(new_one.inserted_id)\n",
    "cursor = db.restaurants.find({'name': 'Space Cookie'})\n",
    "for documents in cursor:\n",
    "    print(documents)"
   ]
  },
  {
   "cell_type": "markdown",
   "metadata": {},
   "source": [
    "Update a document, here: change Panchito's meal style from Mexican to Spanish"
   ]
  },
  {
   "cell_type": "code",
   "execution_count": 13,
   "metadata": {
    "collapsed": true
   },
   "outputs": [
    {
     "name": "stdout",
     "output_type": "stream",
     "text": [
      "{'_id': ObjectId('59f9db73212f48e386d88272'), 'address': {'building': '103', 'coord': [-74.001043, 40.729795], 'street': 'Macdougal Street', 'zipcode': '10012'}, 'borough': 'Manhattan', 'cuisine': 'Mexican', 'grades': [{'date': datetime.datetime(2014, 5, 22, 0, 0), 'grade': 'A', 'score': 10}, {'date': datetime.datetime(2013, 10, 10, 0, 0), 'grade': 'A', 'score': 9}, {'date': datetime.datetime(2013, 3, 20, 0, 0), 'grade': 'A', 'score': 13}, {'date': datetime.datetime(2012, 5, 17, 0, 0), 'grade': 'B', 'score': 20}], 'name': \"Panchito'S\", 'restaurant_id': '40365348'}\n",
      "after the update\n",
      "{'_id': ObjectId('59f9db73212f48e386d88272'), 'address': {'building': '103', 'coord': [-74.001043, 40.729795], 'street': 'Macdougal Street', 'zipcode': '10012'}, 'borough': 'Manhattan', 'cuisine': 'Spanish', 'grades': [{'date': datetime.datetime(2014, 5, 22, 0, 0), 'grade': 'A', 'score': 10}, {'date': datetime.datetime(2013, 10, 10, 0, 0), 'grade': 'A', 'score': 9}, {'date': datetime.datetime(2013, 3, 20, 0, 0), 'grade': 'A', 'score': 13}, {'date': datetime.datetime(2012, 5, 17, 0, 0), 'grade': 'B', 'score': 20}], 'name': \"Panchito'S\", 'restaurant_id': '40365348'}\n"
     ]
    }
   ],
   "source": [
    "cursor = db.restaurants.find({'name': 'Panchito\\'S'})\n",
    "for documents in cursor:\n",
    "    print(documents)\n",
    "result = db.restaurants.update_one({'name': 'Panchito\\'S'}, {'$set': {'cuisine': 'Spanish'}})\n",
    "print('after the update')\n",
    "cursor = db.restaurants.find({'name': 'Panchito\\'S'})\n",
    "for documents in cursor:\n",
    "    print(documents)"
   ]
  },
  {
   "cell_type": "markdown",
   "metadata": {},
   "source": [
    "We can also update multiple documents at once."
   ]
  },
  {
   "cell_type": "code",
   "execution_count": 14,
   "metadata": {
    "collapsed": true
   },
   "outputs": [
    {
     "name": "stdout",
     "output_type": "stream",
     "text": [
      "20\n",
      "20\n"
     ]
    }
   ],
   "source": [
    "result = db.restaurants.update_many(\n",
    "    {\"address.zipcode\": \"10016\", \"cuisine\": \"Other\"},\n",
    "    {\n",
    "        \"$set\": {\"cuisine\": \"Category To Be Determined\"},\n",
    "        \"$currentDate\": {\"lastModified\": True}\n",
    "    }\n",
    ")\n",
    "print(result.matched_count)\n",
    "print(result.modified_count)"
   ]
  },
  {
   "cell_type": "markdown",
   "metadata": {},
   "source": [
    "Note: MongoDB has a build-in functionality to update if the document exists or to create a new one with the flag {upsert:True}."
   ]
  },
  {
   "cell_type": "markdown",
   "metadata": {},
   "source": [
    "Remove a document (here we do the process in single steps, could also use find_one_and_delete to combine the action)."
   ]
  },
  {
   "cell_type": "code",
   "execution_count": 15,
   "metadata": {
    "collapsed": true
   },
   "outputs": [
    {
     "name": "stdout",
     "output_type": "stream",
     "text": [
      "{'_id': ObjectId('59f9db73212f48e386d883d3'), 'address': {'building': '552', 'coord': [-73.9070012, 40.7090773], 'street': 'Grandview Avenue', 'zipcode': '11385'}, 'borough': 'Queens', 'cuisine': 'American', 'grades': [{'date': datetime.datetime(2014, 9, 9, 0, 0), 'grade': 'B', 'score': 14}, {'date': datetime.datetime(2014, 1, 7, 0, 0), 'grade': 'B', 'score': 18}, {'date': datetime.datetime(2012, 11, 29, 0, 0), 'grade': 'A', 'score': 10}, {'date': datetime.datetime(2011, 12, 14, 0, 0), 'grade': 'A', 'score': 10}], 'name': 'Windjammers Bar', 'restaurant_id': '40377908'}\n"
     ]
    }
   ],
   "source": [
    "cursor = db.restaurants.find({'name': 'Windjammers Bar'})\n",
    "for documents in cursor:\n",
    "    print(documents)"
   ]
  },
  {
   "cell_type": "code",
   "execution_count": 16,
   "metadata": {
    "collapsed": true
   },
   "outputs": [
    {
     "name": "stdout",
     "output_type": "stream",
     "text": [
      "None\n"
     ]
    }
   ],
   "source": [
    "db.restaurants.delete_one({'name': 'Windjammers Bar'})\n",
    "cursor = db.restaurants.find_one({'name': 'Windjammers Bar'})\n",
    "print(cursor)"
   ]
  },
  {
   "cell_type": "markdown",
   "metadata": {},
   "source": [
    "# Data aggregation"
   ]
  },
  {
   "cell_type": "markdown",
   "metadata": {},
   "source": [
    "If we are interested in the number of restaurants in the single borough we can aggregate them."
   ]
  },
  {
   "cell_type": "code",
   "execution_count": 23,
   "metadata": {
    "collapsed": true
   },
   "outputs": [
    {
     "name": "stdout",
     "output_type": "stream",
     "text": [
      "{'_id': 'Staten Island', 'count': 969}\n",
      "{'_id': 'Brooklyn', 'count': 6086}\n",
      "{'_id': 'Queens', 'count': 5655}\n",
      "{'_id': 'Bronx', 'count': 2338}\n"
     ]
    }
   ],
   "source": [
    "cursor = db.restaurants.aggregate([\n",
    "    {'$group': {'_id': '$borough', 'count': {'$sum': 1}}}])\n",
    "for document in cursor:\n",
    "    print(document)"
   ]
  },
  {
   "cell_type": "markdown",
   "metadata": {},
   "source": [
    "exersise: group by cuisine"
   ]
  },
  {
   "cell_type": "code",
   "execution_count": 18,
   "metadata": {
    "collapsed": true
   },
   "outputs": [
    {
     "name": "stdout",
     "output_type": "stream",
     "text": [
      "{'_id': 'Chilean', 'count': 1}\n",
      "{'_id': 'Hawaiian', 'count': 3}\n",
      "{'_id': 'Southwestern', 'count': 9}\n",
      "{'_id': 'Hotdogs/Pretzels', 'count': 16}\n",
      "{'_id': 'Australian', 'count': 16}\n",
      "{'_id': 'Salads', 'count': 45}\n",
      "{'_id': 'Czech', 'count': 6}\n",
      "{'_id': 'Bangladeshi', 'count': 36}\n",
      "{'_id': 'Category To Be Determined', 'count': 20}\n",
      "{'_id': 'Pakistani', 'count': 31}\n",
      "{'_id': 'Peruvian', 'count': 68}\n",
      "{'_id': 'Soups & Sandwiches', 'count': 51}\n",
      "{'_id': 'Nuts/Confectionary', 'count': 6}\n",
      "{'_id': 'CafÃ©/Coffee/Tea', 'count': 2}\n",
      "{'_id': 'Vietnamese/Cambodian/Malaysia', 'count': 66}\n",
      "{'_id': 'Afghan', 'count': 14}\n",
      "{'_id': 'Brazilian', 'count': 26}\n",
      "{'_id': 'Juice, Smoothies, Fruit Salads', 'count': 273}\n",
      "{'_id': 'Filipino', 'count': 26}\n",
      "{'_id': 'Tapas', 'count': 28}\n",
      "{'_id': 'Chinese/Japanese', 'count': 59}\n",
      "{'_id': 'Fruits/Vegetables', 'count': 7}\n",
      "{'_id': 'Creole', 'count': 24}\n",
      "{'_id': 'Indonesian', 'count': 8}\n",
      "{'_id': 'Portuguese', 'count': 8}\n",
      "{'_id': 'Sandwiches', 'count': 459}\n",
      "{'_id': 'Other', 'count': 991}\n",
      "{'_id': 'Egyptian', 'count': 14}\n",
      "{'_id': 'Barbecue', 'count': 52}\n",
      "{'_id': 'Moroccan', 'count': 15}\n",
      "{'_id': 'Vegetarian', 'count': 102}\n",
      "{'_id': 'Ethiopian', 'count': 18}\n",
      "{'_id': 'Californian', 'count': 1}\n",
      "{'_id': 'Latin (Cuban, Dominican, Puerto Rican, South & Central American)', 'count': 850}\n",
      "{'_id': 'Italian', 'count': 1071}\n",
      "{'_id': 'Sandwiches/Salads/Mixed Buffet', 'count': 255}\n",
      "{'_id': 'Ice Cream, Gelato, Yogurt, Ices', 'count': 348}\n",
      "{'_id': 'Korean', 'count': 262}\n",
      "{'_id': 'Pizza', 'count': 1163}\n",
      "{'_id': 'Bagels/Pretzels', 'count': 168}\n",
      "{'_id': 'Cajun', 'count': 7}\n",
      "{'_id': 'African', 'count': 68}\n",
      "{'_id': 'German', 'count': 31}\n",
      "{'_id': 'Soups', 'count': 4}\n",
      "{'_id': 'Donuts', 'count': 479}\n",
      "{'_id': 'Caribbean', 'count': 657}\n",
      "{'_id': 'American', 'count': 6182}\n",
      "{'_id': 'Polish', 'count': 25}\n",
      "{'_id': 'Bakery', 'count': 691}\n",
      "{'_id': 'Seafood', 'count': 147}\n",
      "{'_id': 'Jewish/Kosher', 'count': 316}\n",
      "{'_id': 'Steak', 'count': 86}\n",
      "{'_id': 'Irish', 'count': 190}\n",
      "{'_id': 'Spanish', 'count': 638}\n",
      "{'_id': 'Turkish', 'count': 70}\n",
      "{'_id': 'Delicatessen', 'count': 321}\n",
      "{'_id': 'Scandinavian', 'count': 7}\n",
      "{'_id': 'Hamburgers', 'count': 433}\n",
      "{'_id': 'Polynesian', 'count': 1}\n",
      "{'_id': 'Chinese', 'count': 2418}\n",
      "{'_id': 'Café/Coffee/Tea', 'count': 1214}\n",
      "{'_id': 'Chinese/Cuban', 'count': 16}\n",
      "{'_id': 'Continental', 'count': 58}\n",
      "{'_id': 'Pancakes/Waffles', 'count': 16}\n",
      "{'_id': 'Iranian', 'count': 2}\n",
      "{'_id': 'Chicken', 'count': 410}\n",
      "{'_id': 'Pizza/Italian', 'count': 468}\n",
      "{'_id': 'Tex-Mex', 'count': 143}\n",
      "{'_id': 'Indian', 'count': 316}\n",
      "{'_id': 'English', 'count': 16}\n",
      "{'_id': 'Armenian', 'count': 40}\n",
      "{'_id': 'Soul Food', 'count': 44}\n",
      "{'_id': 'Thai', 'count': 285}\n",
      "{'_id': 'Greek', 'count': 111}\n",
      "{'_id': 'Japanese', 'count': 760}\n",
      "{'_id': 'French', 'count': 344}\n",
      "{'_id': 'Mexican', 'count': 753}\n",
      "{'_id': 'Eastern European', 'count': 65}\n",
      "{'_id': 'Hotdogs', 'count': 34}\n",
      "{'_id': 'Cypermeals', 'count': 2}\n",
      "{'_id': 'Mediterranean', 'count': 219}\n",
      "{'_id': 'Bottled beverages, including water, sodas, juices, etc.', 'count': 72}\n",
      "{'_id': 'Creole/Cajun', 'count': 1}\n",
      "{'_id': 'Not Listed/Not Applicable', 'count': 19}\n",
      "{'_id': 'Russian', 'count': 88}\n",
      "{'_id': 'Middle Eastern', 'count': 168}\n",
      "{'_id': 'Asian', 'count': 309}\n"
     ]
    }
   ],
   "source": [
    "cursor = db.restaurants.aggregate([\n",
    "    {'$group': {'_id': '$cuisine', 'count': {'$sum': 1}}}])\n",
    "for document in cursor:\n",
    "    print(document)"
   ]
  },
  {
   "cell_type": "markdown",
   "metadata": {},
   "source": [
    "Delete documents, here all the entries that are listed with 'Missing' for the borough key."
   ]
  },
  {
   "cell_type": "code",
   "execution_count": 22,
   "metadata": {
    "collapsed": true
   },
   "outputs": [
    {
     "data": {
      "text/plain": [
       "0"
      ]
     },
     "execution_count": 22,
     "metadata": {},
     "output_type": "execute_result"
    }
   ],
   "source": [
    "result = db.restaurants.delete_many({\"borough\": \"Missing\"})\n",
    "result.deleted_count"
   ]
  }
 ],
 "metadata": {
  "kernelspec": {
   "display_name": "Python 3",
   "language": "python",
   "name": "python3"
  },
  "language_info": {
   "codemirror_mode": {
    "name": "ipython",
    "version": 3
   },
   "file_extension": ".py",
   "mimetype": "text/x-python",
   "name": "python",
   "nbconvert_exporter": "python",
   "pygments_lexer": "ipython3",
   "version": "3.6.2"
  }
 },
 "nbformat": 4,
 "nbformat_minor": 2
}
