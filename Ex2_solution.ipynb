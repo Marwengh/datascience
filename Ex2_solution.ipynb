{
 "cells": [
  {
   "cell_type": "code",
   "execution_count": 2,
   "metadata": {},
   "outputs": [
    {
     "name": "stdout",
     "output_type": "stream",
     "text": [
      "result :  neutral\n",
      "Positive :  45  % \n",
      "negative :  14  % \n",
      "Neutral :  38  % \n",
      "Some negative tweets \n",
      "Xi is up, Trump is down, but it may not matter https://t.co/LWJb81jrIH\n",
      "RT @GeorgeTakei: Who knew Trump’s “wall” would start in Virginia? It’s a human barrier, a formidable wall of mobilized, passionate voters,…\n",
      "RT @ParkerMolloy: There's seriously nothing Trump could do that would turn off a solid 30 percent of the country. Some people are just awfu…\n",
      "RT @todayng: Democratic election sweep is lousy anniversary gift for Donald Trump https://t.co/Xcr5tZSm8M https://t.co/VTD5r26Cag\n",
      "RT @andreeww_b: fuck harvey weinstein\n",
      "fuck andy signore\n",
      "fuck kevin spacey\n",
      "fuck brett ratner \n",
      "fuck ed westwick \n",
      "fuck chris brown \n",
      "fuck xxxte…\n",
      "RT @PhilMcCrackin44: @charliesheen  I hate to rain on your parade you drunken, drug abusing HIV victim....but Donald J. Trump is going to o…\n",
      "After One Year, Less confidence, Less trust in Donald Trump https://t.co/3dKI4SbXBj\n",
      "Some neutral tweets \n",
      "RT @EdKrassen: The federal judge in the case against former Donald Trump campaign aides Paul Manafort and Rick Gates has issues a gag order…\n",
      "RT @mitchellvii: I'll never forget the moment when Bret Baier on FoxNews sat stone-faced and said, \"Folks, Donald J Trump has just won the…\n",
      "RT @gotspeed2burn: One year ago today, Donald J Trump was elected @POTUS. Thank you to all who voted to #MAGA &amp; thank you @realDonaldTrump…\n",
      "RT @EdKrassen: Former Donald Trump adviser, Carl Icahn, has been subpoenaed by the U.S. Attorney's Office for info related to his dealing w…\n",
      "RT @rafalhill: Schmidt: In Nov 2018 \"there's one question on the ballot which is: Do you want to have a check on Donald Trump? Because the…\n",
      "RT @SocialistVoice: Democrats mark anniversary of Donald Trump's election with night of sweeping victories https://t.co/rfmduNhBmE\n",
      "RT @TRTWorldNow: One year after Donald Trump was elected US president, poll shows 85 percent of people who voted for him would do so again…\n"
     ]
    }
   ],
   "source": [
    "from Twittes import TwitterClient\n",
    "import pymongo \n",
    "import pprint\n",
    "\n",
    "\n",
    "op=TwitterClient()\n",
    "print  \"result : \", op.get_tweet_sentiment(\"I'm an example\")\n",
    "# will return positive, negative or neutral \n",
    "   \n",
    "    #connection to the database#########\" \n",
    "connection = pymongo.MongoClient('ds237475.mlab.com',37475)\n",
    "db = connection['']\n",
    "db.authenticate('', '')\n",
    "     ################################\n",
    "# get the total number of tweets, language : en  \n",
    "total_en_tweets=db.us.count({'lang':'en'})+1\n",
    "\n",
    "cursor=db.us.find({'lang':'en'})\n",
    "\n",
    "# save postive tweets\n",
    "ptweets=[]\n",
    "ptweets=[document['text'] for document in cursor if op.get_tweet_sentiment(document['text'])=='positive'] \n",
    "cursor.rewind()\n",
    "# save negative tweets\n",
    "ntweets=[] \n",
    "ntweets=[document['text'] for document in cursor if op.get_tweet_sentiment(document['text'])=='negative'] \n",
    "cursor.rewind()\n",
    "# save neutral tweets\n",
    "neutweets=[] \n",
    "neutweets=[document['text'] for document in cursor if op.get_tweet_sentiment(document['text'])=='neutral'] \n",
    "\n",
    "print \"Positive : \", (len (ptweets))*100/total_en_tweets , \" % \"\n",
    "print \"negative : \", (len (ntweets))*100/total_en_tweets , \" % \"\n",
    "print \"Neutral : \", (len (neutweets))*100/total_en_tweets , \" % \"\n",
    "\n",
    "\n",
    "\n",
    "print (\"Some negative tweets \")\n",
    "for single_n_tweets in ntweets[:7] :\n",
    "  print single_n_tweets\n",
    "\n",
    "print (\"Some neutral tweets \")\n",
    "for single_neu_tweets in neutweets[:7] :\n",
    "  print single_neu_tweets\n"
   ]
  },
  {
   "cell_type": "code",
   "execution_count": null,
   "metadata": {
    "collapsed": true
   },
   "outputs": [],
   "source": []
  },
  {
   "cell_type": "code",
   "execution_count": null,
   "metadata": {
    "collapsed": true
   },
   "outputs": [],
   "source": []
  }
 ],
 "metadata": {
  "kernelspec": {
   "display_name": "Python 2",
   "language": "python",
   "name": "python2"
  },
  "language_info": {
   "codemirror_mode": {
    "name": "ipython",
    "version": 2
   },
   "file_extension": ".py",
   "mimetype": "text/x-python",
   "name": "python",
   "nbconvert_exporter": "python",
   "pygments_lexer": "ipython2",
   "version": "2.7.13"
  }
 },
 "nbformat": 4,
 "nbformat_minor": 2
}
